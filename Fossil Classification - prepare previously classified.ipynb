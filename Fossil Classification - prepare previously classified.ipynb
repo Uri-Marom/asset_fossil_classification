{
 "cells": [
  {
   "cell_type": "markdown",
   "metadata": {},
   "source": [
    "# Prepare and merge previously classified files"
   ]
  },
  {
   "cell_type": "code",
   "execution_count": 1,
   "metadata": {},
   "outputs": [],
   "source": [
    "import os\n",
    "import sys\n",
    "import numpy as np\n",
    "import pandas as pd\n",
    "\n",
    "# sys.path.append(os.path.abspath(\"/Users/urimarom/PycharmProjects/fossil_classification\"))\n",
    "# from fossil_classification import id_clean_col"
   ]
  },
  {
   "cell_type": "code",
   "execution_count": 2,
   "metadata": {},
   "outputs": [
    {
     "data": {
      "text/html": [
       "<div>\n",
       "<style scoped>\n",
       "    .dataframe tbody tr th:only-of-type {\n",
       "        vertical-align: middle;\n",
       "    }\n",
       "\n",
       "    .dataframe tbody tr th {\n",
       "        vertical-align: top;\n",
       "    }\n",
       "\n",
       "    .dataframe thead th {\n",
       "        text-align: right;\n",
       "    }\n",
       "</style>\n",
       "<table border=\"1\" class=\"dataframe\">\n",
       "  <thead>\n",
       "    <tr style=\"text-align: right;\">\n",
       "      <th></th>\n",
       "      <th>Name</th>\n",
       "      <th>security_num</th>\n",
       "      <th>issuer_or_corp_num</th>\n",
       "      <th>is_fossil</th>\n",
       "    </tr>\n",
       "  </thead>\n",
       "  <tbody>\n",
       "    <tr>\n",
       "      <th>0</th>\n",
       "      <td>מץד'טפ_ למט_</td>\n",
       "      <td>1123355</td>\n",
       "      <td>513901371</td>\n",
       "      <td>0.0</td>\n",
       "    </tr>\n",
       "    <tr>\n",
       "      <th>1</th>\n",
       "      <td>. אנלייט אנרגיה מתחדשת בעמ</td>\n",
       "      <td>720011</td>\n",
       "      <td>520041146</td>\n",
       "      <td>0.0</td>\n",
       "    </tr>\n",
       "    <tr>\n",
       "      <th>2</th>\n",
       "      <td>. אנרג'יקס-אנרגיות מתחדשות</td>\n",
       "      <td>1123355</td>\n",
       "      <td>513901371</td>\n",
       "      <td>0.0</td>\n",
       "    </tr>\n",
       "    <tr>\n",
       "      <th>3</th>\n",
       "      <td>. ויקטורי רשת סופרמרקטים בעמ</td>\n",
       "      <td>1123777</td>\n",
       "      <td>514068980</td>\n",
       "      <td>0.0</td>\n",
       "    </tr>\n",
       "    <tr>\n",
       "      <th>4</th>\n",
       "      <td>. פטרוכימים אגח ב</td>\n",
       "      <td>7560048</td>\n",
       "      <td>520029315</td>\n",
       "      <td>1.0</td>\n",
       "    </tr>\n",
       "  </tbody>\n",
       "</table>\n",
       "</div>"
      ],
      "text/plain": [
       "                           Name security_num issuer_or_corp_num  is_fossil\n",
       "0                  מץד'טפ_ למט_      1123355          513901371        0.0\n",
       "1    . אנלייט אנרגיה מתחדשת בעמ       720011          520041146        0.0\n",
       "2    . אנרג'יקס-אנרגיות מתחדשות      1123355          513901371        0.0\n",
       "3  . ויקטורי רשת סופרמרקטים בעמ      1123777          514068980        0.0\n",
       "4             . פטרוכימים אגח ב      7560048          520029315        1.0"
      ]
     },
     "execution_count": 2,
     "metadata": {},
     "output_type": "execute_result"
    }
   ],
   "source": [
    "prev_class_path = \"/Users/urimarom/Downloads/חשיפה לפוסיליים - סיווגי רבעונים קודמים - up to 2020Q4.csv\"\n",
    "prev_fossil_classification = pd.read_csv(prev_class_path)\n",
    "prev_fossil_classification.head()"
   ]
  },
  {
   "cell_type": "code",
   "execution_count": 3,
   "metadata": {},
   "outputs": [],
   "source": [
    "pd.set_option('display.max_rows', None)"
   ]
  },
  {
   "cell_type": "code",
   "execution_count": 4,
   "metadata": {},
   "outputs": [
    {
     "name": "stdout",
     "output_type": "stream",
     "text": [
      "\n",
      "** Previously classified ISINs and corps **\n",
      "is_fossil in previously classified\n",
      "0.0    16413\n",
      "1.0     1665\n",
      "Name: is_fossil, dtype: int64\n"
     ]
    }
   ],
   "source": [
    "def id_col_clean(col):\n",
    "    new_col = pd.Series(col.astype(str).str.strip().str.upper())\n",
    "# remove '0' and other non valid values\n",
    "    new_col = new_col.apply(\n",
    "        lambda x: None if (x == '0') | (x == 'NAN') | (x =='NONE') | (x == '') else x\n",
    "    )\n",
    "    return new_col\n",
    "\n",
    "def fetch_latest_prev_classified(prev_class_path):\n",
    "    prev_fossil_classification = pd.read_csv(prev_class_path)\n",
    "    return prev_fossil_classification\n",
    "\n",
    "def prepare_prev_class(prev_class):\n",
    "    prev_class[\"security_num\"] = id_col_clean(prev_class[\"security_num\"])\n",
    "    prev_class[\"issuer_or_corp_num\"] = id_col_clean(prev_class[\"issuer_or_corp_num\"])\n",
    "    print(\"\\n** Previously classified ISINs and corps **\")\n",
    "    print(\"is_fossil in previously classified\")\n",
    "    print(prev_class[\"is_fossil\"].value_counts(dropna=False))\n",
    "    prev_grouped_by_sec_num = prev_class.groupby(\"security_num\")\n",
    "    sec_num_with_diff_class = prev_grouped_by_sec_num.filter(lambda x:\n",
    "                                                             (0 < x[\"is_fossil\"].mean() < 1)\n",
    "                                                             )\n",
    "# TODO: raise warning for ambiguously classified\n",
    "    if len(sec_num_with_diff_class) > 0:\n",
    "        print(\"\\n*** Securities with both is_fossil=1 and is_fossil=0 ***\")\n",
    "        print(sec_num_with_diff_class)\n",
    "\n",
    "    prev_grouped_by_issuer = prev_class[prev_class[\"issuer_or_corp_num\"] != 'NAN'].groupby(\"issuer_or_corp_num\")\n",
    "    issuer_with_diff_class = prev_grouped_by_issuer.filter(lambda x:\n",
    "                                                           (0 < x[\"is_fossil\"].mean() < 1)\n",
    "                                                           )\n",
    "    if len(issuer_with_diff_class) > 0:\n",
    "        print(\"\\n*** Issuers with both is_fossil=1 and is_fossil=0 ***\")\n",
    "        print(issuer_with_diff_class)\n",
    "    return prev_class\n",
    "\n",
    "prev_class = prepare_prev_class(fetch_latest_prev_classified(prev_class_path))"
   ]
  },
  {
   "cell_type": "code",
   "execution_count": null,
   "metadata": {},
   "outputs": [],
   "source": []
  }
 ],
 "metadata": {
  "kernelspec": {
   "display_name": "Python 3",
   "language": "python",
   "name": "python3"
  },
  "language_info": {
   "codemirror_mode": {
    "name": "ipython",
    "version": 3
   },
   "file_extension": ".py",
   "mimetype": "text/x-python",
   "name": "python",
   "nbconvert_exporter": "python",
   "pygments_lexer": "ipython3",
   "version": "3.6.4"
  }
 },
 "nbformat": 4,
 "nbformat_minor": 2
}
