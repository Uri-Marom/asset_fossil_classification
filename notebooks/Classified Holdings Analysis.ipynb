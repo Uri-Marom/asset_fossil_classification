{
 "cells": [
  {
   "cell_type": "markdown",
   "metadata": {},
   "source": [
    "# Load env and files"
   ]
  },
  {
   "cell_type": "code",
   "execution_count": 1,
   "metadata": {},
   "outputs": [],
   "source": [
    "import os\n",
    "os.chdir('..')"
   ]
  },
  {
   "cell_type": "code",
   "execution_count": 2,
   "metadata": {},
   "outputs": [],
   "source": [
    "%load_ext autoreload\n",
    "%autoreload 2"
   ]
  },
  {
   "cell_type": "code",
   "execution_count": 3,
   "metadata": {},
   "outputs": [],
   "source": [
    "from fossil_classification import *\n",
    "from enrich_holdings import *\n",
    "from reports_etl import *\n",
    "from holdings_analysis import *\n",
    "\n",
    "pd.set_option('display.max_columns', None)\n",
    "pd.set_option('display.max_rows', None)\n",
    "pd.options.display.float_format = \"{:,.3f}\".format"
   ]
  },
  {
   "cell_type": "code",
   "execution_count": 4,
   "metadata": {
    "scrolled": false
   },
   "outputs": [
    {
     "name": "stderr",
     "output_type": "stream",
     "text": [
      "/var/folders/rt/89wrjbhs2m5527n7jhtb42jh0000gn/T/ipykernel_10608/2694055371.py:2: DtypeWarning: Columns (6,7,13,20,22,23,24,25,27) have mixed types. Specify dtype option on import or set low_memory=False.\n",
      "  all_holdings_cls = pd.read_csv(response_path+\"all_holdings_cls_all_ids.csv\", dtype=holdings_dtypes())\n"
     ]
    }
   ],
   "source": [
    "response_path = \"data/downloaded reports/company reports/2022Q3/\"\n",
    "all_holdings_cls = pd.read_csv(response_path+\"all_holdings_cls_all_ids.csv\", dtype=holdings_dtypes())\n",
    "# all_holdings_cls = load_mappings_and_add_ids_to_holdings(all_holdings_cls)"
   ]
  },
  {
   "cell_type": "markdown",
   "metadata": {},
   "source": [
    "# Let the Analysis begin!"
   ]
  },
  {
   "cell_type": "code",
   "execution_count": 5,
   "metadata": {
    "scrolled": true
   },
   "outputs": [
    {
     "data": {
      "text/html": [
       "<div>\n",
       "<style scoped>\n",
       "    .dataframe tbody tr th:only-of-type {\n",
       "        vertical-align: middle;\n",
       "    }\n",
       "\n",
       "    .dataframe tbody tr th {\n",
       "        vertical-align: top;\n",
       "    }\n",
       "\n",
       "    .dataframe thead th {\n",
       "        text-align: right;\n",
       "    }\n",
       "</style>\n",
       "<table border=\"1\" class=\"dataframe\">\n",
       "  <thead>\n",
       "    <tr style=\"text-align: right;\">\n",
       "      <th></th>\n",
       "      <th>שווי</th>\n",
       "    </tr>\n",
       "    <tr>\n",
       "      <th>SystemName</th>\n",
       "      <th></th>\n",
       "    </tr>\n",
       "  </thead>\n",
       "  <tbody>\n",
       "    <tr>\n",
       "      <th>ביטוח</th>\n",
       "      <td>4,406,656,945.08</td>\n",
       "    </tr>\n",
       "    <tr>\n",
       "      <th>גמל</th>\n",
       "      <td>6,445,690,220.93</td>\n",
       "    </tr>\n",
       "    <tr>\n",
       "      <th>פנסיה</th>\n",
       "      <td>6,252,296,923.11</td>\n",
       "    </tr>\n",
       "  </tbody>\n",
       "</table>\n",
       "</div>"
      ],
      "text/plain": [
       "                        שווי\n",
       "SystemName                  \n",
       "ביטוח       4,406,656,945.08\n",
       "גמל         6,445,690,220.93\n",
       "פנסיה       6,252,296,923.11"
      ]
     },
     "execution_count": 5,
     "metadata": {},
     "output_type": "execute_result"
    }
   ],
   "source": [
    "pd.DataFrame(all_holdings_cls.groupby(['SystemName'])['שווי'].agg('sum').map('{:,.2f}'.format))"
   ]
  },
  {
   "cell_type": "markdown",
   "metadata": {},
   "source": [
    "## Get Company level stats over time"
   ]
  },
  {
   "cell_type": "markdown",
   "metadata": {},
   "source": [
    "### Filter results to include only major companies"
   ]
  },
  {
   "cell_type": "code",
   "execution_count": 6,
   "metadata": {
    "scrolled": true
   },
   "outputs": [
    {
     "data": {
      "text/html": [
       "<div>\n",
       "<style scoped>\n",
       "    .dataframe tbody tr th:only-of-type {\n",
       "        vertical-align: middle;\n",
       "    }\n",
       "\n",
       "    .dataframe tbody tr th {\n",
       "        vertical-align: top;\n",
       "    }\n",
       "\n",
       "    .dataframe thead th {\n",
       "        text-align: right;\n",
       "    }\n",
       "</style>\n",
       "<table border=\"1\" class=\"dataframe\">\n",
       "  <thead>\n",
       "    <tr style=\"text-align: right;\">\n",
       "      <th></th>\n",
       "      <th>שווי</th>\n",
       "    </tr>\n",
       "    <tr>\n",
       "      <th>SystemName</th>\n",
       "      <th></th>\n",
       "    </tr>\n",
       "  </thead>\n",
       "  <tbody>\n",
       "    <tr>\n",
       "      <th>ביטוח</th>\n",
       "      <td>4,192,794,094.04</td>\n",
       "    </tr>\n",
       "    <tr>\n",
       "      <th>גמל</th>\n",
       "      <td>5,520,843,803.31</td>\n",
       "    </tr>\n",
       "    <tr>\n",
       "      <th>פנסיה</th>\n",
       "      <td>5,754,947,496.29</td>\n",
       "    </tr>\n",
       "  </tbody>\n",
       "</table>\n",
       "</div>"
      ],
      "text/plain": [
       "                        שווי\n",
       "SystemName                  \n",
       "ביטוח       4,192,794,094.04\n",
       "גמל         5,520,843,803.31\n",
       "פנסיה       5,754,947,496.29"
      ]
     },
     "execution_count": 6,
     "metadata": {},
     "output_type": "execute_result"
    }
   ],
   "source": [
    "all_holdings_cls_filtered = filter_major_companies(all_holdings_cls)\n",
    "pd.DataFrame(all_holdings_cls_filtered.groupby(['SystemName'])['שווי'].agg('sum').map('{:,.2f}'.format))"
   ]
  },
  {
   "cell_type": "markdown",
   "metadata": {},
   "source": [
    "### * should include other subsidiary funds as well?"
   ]
  },
  {
   "cell_type": "code",
   "execution_count": 7,
   "metadata": {},
   "outputs": [],
   "source": [
    "# included_comp_group = all_holdings_cls_filtered[\"ParentCorpGroup\"].unique()\n",
    "# included_comp = all_holdings_cls_filtered[\"ParentCorpName\"].unique()\n",
    "# all_comp = all_holdings_cls[\"ParentCorpName\"].unique()\n",
    "# not_included_comp = [c for c in all_comp if c not in included_comp]\n",
    "# print([c for c in not_included_comp if any(g in re.split('-| ',c) for g in included_comp_group)])\n",
    "\n",
    "# pd.DataFrame(\n",
    "#     all_holdings_cls[\n",
    "#     all_holdings_cls[\"ParentCorpName\"].isin(not_included_comp)\n",
    "#     ].groupby([\"ParentCorpName\", \"SystemName\"])[\"שווי\"].sum()\n",
    "# ).sort_values(\"שווי\", ascending=False)"
   ]
  },
  {
   "cell_type": "code",
   "execution_count": 8,
   "metadata": {},
   "outputs": [],
   "source": [
    "company_stats_since_2020 = get_summary(all_holdings_cls_filtered, 'ReportPeriodDate', 'ParentCorpGroup')\n",
    "company_stats_since_2020 = company_stats_since_2020.sort_values(\n",
    "    [\"ReportPeriodDate\", \"ParentCorpGroup\"], ascending=(False, True)\n",
    ")"
   ]
  },
  {
   "cell_type": "code",
   "execution_count": 9,
   "metadata": {},
   "outputs": [],
   "source": [
    "# company_stats_since_2020[company_stats_since_2020['ParentCorpGroup'] == 'מגדל']"
   ]
  },
  {
   "cell_type": "code",
   "execution_count": 10,
   "metadata": {},
   "outputs": [],
   "source": [
    "company_stats_since_2020.to_csv(response_path+\"company_stats_since_2020.csv\", index=False)"
   ]
  },
  {
   "cell_type": "code",
   "execution_count": 11,
   "metadata": {},
   "outputs": [],
   "source": [
    "company_system_stats_since_2020 = get_summary(\n",
    "    all_holdings_cls_filtered,\n",
    "    'ReportPeriodDate', 'ParentCorpGroup', 'SystemName'\n",
    ")"
   ]
  },
  {
   "cell_type": "code",
   "execution_count": 12,
   "metadata": {
    "scrolled": false
   },
   "outputs": [],
   "source": [
    "company_system_stats_since_2020.to_csv(response_path+\"company_system_stats_since_2020.csv\", index=False)"
   ]
  },
  {
   "cell_type": "code",
   "execution_count": 13,
   "metadata": {},
   "outputs": [],
   "source": [
    "company_system_holding_type_stats_since_2020 = get_summary(\n",
    "    all_holdings_cls_filtered,\n",
    "    'ReportPeriodDate', 'ParentCorpGroup', 'SystemName', 'holding_type'\n",
    ")"
   ]
  },
  {
   "cell_type": "code",
   "execution_count": 14,
   "metadata": {},
   "outputs": [],
   "source": [
    "company_system_holding_type_stats_since_2020.to_csv(\n",
    "    response_path+\"company_system_holding_type_stats_since_2020.csv\", index=False)"
   ]
  },
  {
   "cell_type": "markdown",
   "metadata": {},
   "source": [
    "### Export aggregated data for quarterly org ranking"
   ]
  },
  {
   "cell_type": "code",
   "execution_count": 15,
   "metadata": {},
   "outputs": [],
   "source": [
    "midrag_agg = get_latest_q_ranking_agg_from_holdings(filter_major_companies(all_holdings_cls))"
   ]
  },
  {
   "cell_type": "code",
   "execution_count": 16,
   "metadata": {},
   "outputs": [],
   "source": [
    "midrag_agg.to_csv(\n",
    "    response_path+\"midrag_agg_latest_q.csv\", index=False\n",
    ")"
   ]
  },
  {
   "cell_type": "markdown",
   "metadata": {},
   "source": [
    "## Mergers - update\n",
    "### 1. update holdings data according to system mergers"
   ]
  },
  {
   "cell_type": "code",
   "execution_count": 17,
   "metadata": {
    "scrolled": true
   },
   "outputs": [
    {
     "name": "stdout",
     "output_type": "stream",
     "text": [
      "moving 15,677,553.290000001 from הלמן גמל to הפניקס גמל\n",
      "moving 0.0 from הלמן פנסיה to מיטב פנסיה\n",
      "moving 49,780,952.0 from פסגות גמל to אלטשולר גמל\n",
      "moving 3,964,347.4000000004 from פסגות פנסיה to הראל פנסיה\n"
     ]
    }
   ],
   "source": [
    "all_holdings_majors = filter_major_companies(all_holdings_cls)\n",
    "# including subsidiaries\n",
    "# majors_after_mergers = filter_major_companies(all_holdings_cls, include_subsidiaries=True)\n",
    "\n",
    "other_quarters = all_holdings_majors[\n",
    "    all_holdings_majors[\"ReportPeriodDate\"] != '2021-09-30'\n",
    "#     majors_after_mergers[\"ReportPeriodDate\"].max()\n",
    "]\n",
    "\n",
    "# leave only mergers quarter (2021 Q3)\n",
    "majors_after_mergers = all_holdings_majors[\n",
    "    all_holdings_majors[\"ReportPeriodDate\"] == '2021-09-30'\n",
    "#     majors_after_mergers[\"ReportPeriodDate\"].max()\n",
    "]\n",
    "\n",
    "# change data according to mergers\n",
    "majors_after_mergers = update_system_owners(majors_after_mergers, \"גמל\", \"הלמן\", \"הפניקס\")\n",
    "majors_after_mergers = update_system_owners(majors_after_mergers, \"פנסיה\", \"הלמן\", \"מיטב\")\n",
    "majors_after_mergers = update_system_owners(majors_after_mergers, \"גמל\", \"פסגות\", \"אלטשולר\")\n",
    "majors_after_mergers = update_system_owners(majors_after_mergers, \"פנסיה\", \"פסגות\", \"הראל\")"
   ]
  },
  {
   "cell_type": "code",
   "execution_count": 18,
   "metadata": {},
   "outputs": [
    {
     "data": {
      "text/html": [
       "<div>\n",
       "<style scoped>\n",
       "    .dataframe tbody tr th:only-of-type {\n",
       "        vertical-align: middle;\n",
       "    }\n",
       "\n",
       "    .dataframe tbody tr th {\n",
       "        vertical-align: top;\n",
       "    }\n",
       "\n",
       "    .dataframe thead th {\n",
       "        text-align: right;\n",
       "    }\n",
       "</style>\n",
       "<table border=\"1\" class=\"dataframe\">\n",
       "  <thead>\n",
       "    <tr style=\"text-align: right;\">\n",
       "      <th></th>\n",
       "      <th>שווי</th>\n",
       "    </tr>\n",
       "    <tr>\n",
       "      <th>SystemName</th>\n",
       "      <th></th>\n",
       "    </tr>\n",
       "  </thead>\n",
       "  <tbody>\n",
       "    <tr>\n",
       "      <th>ביטוח</th>\n",
       "      <td>4,192,794,094.04</td>\n",
       "    </tr>\n",
       "    <tr>\n",
       "      <th>גמל</th>\n",
       "      <td>5,520,843,803.31</td>\n",
       "    </tr>\n",
       "    <tr>\n",
       "      <th>פנסיה</th>\n",
       "      <td>5,754,947,496.29</td>\n",
       "    </tr>\n",
       "  </tbody>\n",
       "</table>\n",
       "</div>"
      ],
      "text/plain": [
       "                        שווי\n",
       "SystemName                  \n",
       "ביטוח       4,192,794,094.04\n",
       "גמל         5,520,843,803.31\n",
       "פנסיה       5,754,947,496.29"
      ]
     },
     "execution_count": 18,
     "metadata": {},
     "output_type": "execute_result"
    }
   ],
   "source": [
    "# adding back to other periods\n",
    "all_holdings_after_mergers = pd.concat([majors_after_mergers, other_quarters])\n",
    "pd.DataFrame(all_holdings_after_mergers.groupby(['SystemName'])['שווי'].agg('sum').map('{:,.2f}'.format))"
   ]
  },
  {
   "cell_type": "code",
   "execution_count": 19,
   "metadata": {},
   "outputs": [],
   "source": [
    "company_stats_after_mergers = get_summary(\n",
    "    all_holdings_after_mergers,\n",
    "    'ReportPeriodDate', 'ParentCorpGroup'\n",
    ")\n",
    "# company_system_stats_after_mergers.sort_values(\"שיעור פוסילי מתוך מניות ואגח סחירים + סוגי החזקות לא פוסיליים\")\n",
    "# company_stats_after_mergers.sort_values(\"שיעור פוסילי במניות ואגח קונצרני סחירים\")[[\n",
    "#     \"ReportPeriodDate\",\n",
    "#     \"ParentCorpGroup\",\n",
    "#     \"שווי\",\n",
    "#     \"שווי במניות ואגח קונצרני סחירים\",\n",
    "#     \"שיעור פוסילי במניות ואגח קונצרני סחירים\"\n",
    "# ]]\n",
    "\n",
    "# company_system_stats_after_mergers[\"ratio\"] = (\n",
    "#     company_system_stats_after_mergers[\"שיעור פוסילי במניות ואגח קונצרני סחירים\"] / \n",
    "#     company_system_stats_after_mergers[\"שיעור פוסילי מתוך מניות ואגח סחירים + סוגי החזקות לא פוסיליים\"]\n",
    "# )\n",
    "\n",
    "company_stats_after_mergers.to_csv(response_path+\"company_stats_since_2020_after_mergers.csv\", index=False)"
   ]
  },
  {
   "cell_type": "markdown",
   "metadata": {},
   "source": [
    "### Export aggregated data <u> after mergers </u> for quarterly org ranking"
   ]
  },
  {
   "cell_type": "code",
   "execution_count": 20,
   "metadata": {},
   "outputs": [],
   "source": [
    "midrag_agg_after_mergers = get_latest_q_ranking_agg_from_holdings(all_holdings_after_mergers)"
   ]
  },
  {
   "cell_type": "code",
   "execution_count": 21,
   "metadata": {},
   "outputs": [],
   "source": [
    "midrag_agg_after_mergers.to_csv(\n",
    "    response_path+\"midrag_after_mergers.csv\", index=False\n",
    ")"
   ]
  },
  {
   "cell_type": "markdown",
   "metadata": {},
   "source": [
    "Upload results to G-Drive: https://drive.google.com/drive/u/2/folders/1n0F9JpyJ4LdWxLc4-a8XaRaMV20qo1Fx"
   ]
  },
  {
   "cell_type": "markdown",
   "metadata": {},
   "source": [
    "# Export holdings data for quarterly ranking"
   ]
  },
  {
   "cell_type": "code",
   "execution_count": 25,
   "metadata": {},
   "outputs": [],
   "source": [
    "q = '2022 רבעון 3'\n",
    "holding_types_for_ranking = ['מניות', 'אג\"ח קונצרני']\n",
    "cols = [\n",
    "    'שם המנפיק/שם נייר ערך',\n",
    "    'מספר ני\"ע',\n",
    "    'ISIN',\n",
    "    'מספר מנפיק',\n",
    "    'מספר תאגיד',\n",
    "    'LEI',\n",
    "    'ענף מסחר',\n",
    "    'שווי',\n",
    "    'שעור מנכסי אפיק ההשקעה',\n",
    "    'שעור מסך נכסי השקעה',\n",
    "    'שעור מערך נקוב מונפק',\n",
    "    'holding_type',\n",
    "    'SystemName',\n",
    "    'ParentCorpGroup',\n",
    "    'is_fossil',\n",
    "    'שווי פוסילי'\n",
    "]\n",
    "holdings_for_ranking = filter_major_companies(all_holdings_cls)\n",
    "holdings_for_ranking = holdings_for_ranking.loc[\n",
    "    (holdings_for_ranking['ReportPeriodDesc'] == q) &\n",
    "    (holdings_for_ranking[\"holding_type\"].isin(holding_types_for_ranking)),\n",
    "    cols\n",
    "]\n",
    "# use ISIN when Israeli sec num is not available\n",
    "holdings_for_ranking['מספר ני\"ע'] = holdings_for_ranking['מספר ני\"ע'].fillna(holdings_for_ranking['ISIN'])\n",
    "# use Israeli corp num and then LEI when issuer number is not available\n",
    "holdings_for_ranking['מספר מנפיק'] = holdings_for_ranking['מספר מנפיק'].fillna(holdings_for_ranking['מספר תאגיד'])\n",
    "holdings_for_ranking['מספר מנפיק'] = holdings_for_ranking['מספר מנפיק'].fillna(holdings_for_ranking['LEI'])\n",
    "holdings_for_ranking.drop(['ISIN', 'מספר תאגיד', 'LEI'], axis=1, inplace=True)\n",
    "holdings_for_ranking.rename({\n",
    "    \"holding_type\": \"סוג החזקה\",\n",
    "    \"SystemName\":  \"אפיק\",\n",
    "    \"ParentCorpGroup\": \"גוף\"\n",
    "}, axis=1, inplace=True)\n",
    "\n",
    "# holdings_for_ranking[\n",
    "#     (holdings_for_ranking[\"is_fossil\"] == 1) &\n",
    "#     ~(holdings_for_ranking[\"שווי פוסילי\"] > 0)\n",
    "# ]\n",
    "\n",
    "holdings_for_ranking.to_csv(response_path+\"quarterly_ranking_data.csv\", index=False)"
   ]
  },
  {
   "cell_type": "markdown",
   "metadata": {},
   "source": [
    "## Export csv per institution"
   ]
  },
  {
   "cell_type": "code",
   "execution_count": 26,
   "metadata": {},
   "outputs": [],
   "source": [
    "inst_cols = [c for c in holdings_for_ranking.columns if (c != 'גוף') & ~(c.startswith(\"שעור\"))]\n",
    "for inst in get_major_institutions_list():\n",
    "    holding_per_inst = holdings_for_ranking.loc[\n",
    "        (holdings_for_ranking[\"גוף\"] == inst),\n",
    "        inst_cols\n",
    "    ].sort_values(\"שווי פוסילי\", ascending=False)\n",
    "    holding_per_inst.to_csv(response_path+inst+\".csv\", index=False)"
   ]
  },
  {
   "cell_type": "markdown",
   "metadata": {},
   "source": [
    "# Get a list of all fossil holdings for major institutions for a given quarter"
   ]
  },
  {
   "cell_type": "code",
   "execution_count": 27,
   "metadata": {
    "scrolled": true
   },
   "outputs": [
    {
     "ename": "TypeError",
     "evalue": "only list-like objects are allowed to be passed to isin(), you passed a [str]",
     "output_type": "error",
     "traceback": [
      "\u001b[0;31m---------------------------------------------------------------------------\u001b[0m",
      "\u001b[0;31mTypeError\u001b[0m                                 Traceback (most recent call last)",
      "Input \u001b[0;32mIn [27]\u001b[0m, in \u001b[0;36m<cell line: 2>\u001b[0;34m()\u001b[0m\n\u001b[1;32m      1\u001b[0m inst \u001b[38;5;241m=\u001b[39m get_major_institutions_list()\n\u001b[0;32m----> 2\u001b[0m fossil_holdings_last_q \u001b[38;5;241m=\u001b[39m \u001b[43mgroup_fossil_holdings_quarters_institutions\u001b[49m\u001b[43m(\u001b[49m\n\u001b[1;32m      3\u001b[0m \u001b[43m    \u001b[49m\u001b[43mall_holdings_cls_filtered\u001b[49m\u001b[43m,\u001b[49m\n\u001b[1;32m      4\u001b[0m \u001b[43m    \u001b[49m\u001b[43mquarters\u001b[49m\u001b[38;5;241;43m=\u001b[39;49m\u001b[43mq\u001b[49m\u001b[43m,\u001b[49m\n\u001b[1;32m      5\u001b[0m \u001b[43m    \u001b[49m\u001b[43minstitutions\u001b[49m\u001b[43m \u001b[49m\u001b[38;5;241;43m=\u001b[39;49m\u001b[43m \u001b[49m\u001b[43minst\u001b[49m\n\u001b[1;32m      6\u001b[0m \u001b[43m)\u001b[49m\n\u001b[1;32m      8\u001b[0m fossil_holdings_last_q\u001b[38;5;241m.\u001b[39mto_csv(\u001b[38;5;124m\"\u001b[39m\u001b[38;5;124manalysis/last_q_major_insts_fossil_holdings.csv\u001b[39m\u001b[38;5;124m\"\u001b[39m, index\u001b[38;5;241m=\u001b[39m\u001b[38;5;28;01mFalse\u001b[39;00m)\n",
      "File \u001b[0;32m~/PycharmProjects/fossil_classification/holdings_analysis.py:169\u001b[0m, in \u001b[0;36mgroup_fossil_holdings_quarters_institutions\u001b[0;34m(holdings, quarters, institutions)\u001b[0m\n\u001b[1;32m    164\u001b[0m \u001b[38;5;28;01mif\u001b[39;00m \u001b[38;5;124m\"\u001b[39m\u001b[38;5;124mParentCorpGroup\u001b[39m\u001b[38;5;124m\"\u001b[39m \u001b[38;5;129;01mnot\u001b[39;00m \u001b[38;5;129;01min\u001b[39;00m holdings\u001b[38;5;241m.\u001b[39mcolumns:\n\u001b[1;32m    165\u001b[0m     holdings[\u001b[38;5;124m'\u001b[39m\u001b[38;5;124mParentCorpGroup\u001b[39m\u001b[38;5;124m'\u001b[39m] \u001b[38;5;241m=\u001b[39m holdings[\u001b[38;5;124m'\u001b[39m\u001b[38;5;124mParentCorpName\u001b[39m\u001b[38;5;124m'\u001b[39m]\u001b[38;5;241m.\u001b[39mstr\u001b[38;5;241m.\u001b[39msplit()\u001b[38;5;241m.\u001b[39mstr[\u001b[38;5;241m0\u001b[39m]\u001b[38;5;241m.\u001b[39mstr\u001b[38;5;241m.\u001b[39msplit(\u001b[38;5;124m\"\u001b[39m\u001b[38;5;124m-\u001b[39m\u001b[38;5;124m\"\u001b[39m)\u001b[38;5;241m.\u001b[39mstr[\u001b[38;5;241m0\u001b[39m]\n\u001b[1;32m    166\u001b[0m fossil_holdings \u001b[38;5;241m=\u001b[39m holdings[\n\u001b[1;32m    167\u001b[0m     (holdings[\u001b[38;5;124m\"\u001b[39m\u001b[38;5;124mholding_type\u001b[39m\u001b[38;5;124m\"\u001b[39m]\u001b[38;5;241m.\u001b[39misin([\u001b[38;5;124m'\u001b[39m\u001b[38;5;124mמניות\u001b[39m\u001b[38;5;124m'\u001b[39m, \u001b[38;5;124m'\u001b[39m\u001b[38;5;124mאג\u001b[39m\u001b[38;5;124m\"\u001b[39m\u001b[38;5;124mח קונצרני\u001b[39m\u001b[38;5;124m'\u001b[39m])) \u001b[38;5;241m&\u001b[39m\n\u001b[1;32m    168\u001b[0m     (holdings[\u001b[38;5;124m\"\u001b[39m\u001b[38;5;124mis_fossil\u001b[39m\u001b[38;5;124m\"\u001b[39m] \u001b[38;5;241m==\u001b[39m \u001b[38;5;241m1\u001b[39m) \u001b[38;5;241m&\u001b[39m\n\u001b[0;32m--> 169\u001b[0m     (\u001b[43mholdings\u001b[49m\u001b[43m[\u001b[49m\u001b[38;5;124;43m\"\u001b[39;49m\u001b[38;5;124;43mReportPeriodDesc\u001b[39;49m\u001b[38;5;124;43m\"\u001b[39;49m\u001b[43m]\u001b[49m\u001b[38;5;241;43m.\u001b[39;49m\u001b[43misin\u001b[49m\u001b[43m(\u001b[49m\u001b[43mquarters\u001b[49m\u001b[43m)\u001b[49m) \u001b[38;5;241m&\u001b[39m\n\u001b[1;32m    170\u001b[0m     (holdings[\u001b[38;5;124m\"\u001b[39m\u001b[38;5;124mParentCorpGroup\u001b[39m\u001b[38;5;124m\"\u001b[39m]\u001b[38;5;241m.\u001b[39misin(institutions))\n\u001b[1;32m    171\u001b[0m     ]\n\u001b[1;32m    172\u001b[0m \u001b[38;5;66;03m# 1. Handle Israeli holdings\u001b[39;00m\n\u001b[1;32m    173\u001b[0m \u001b[38;5;66;03m# 1a. group by Israeli security number\u001b[39;00m\n\u001b[1;32m    174\u001b[0m il_fossil_holdings \u001b[38;5;241m=\u001b[39m fossil_holdings\u001b[38;5;241m.\u001b[39mgroupby(\n\u001b[1;32m    175\u001b[0m     [\u001b[38;5;124m\"\u001b[39m\u001b[38;5;124mParentCorpGroup\u001b[39m\u001b[38;5;124m\"\u001b[39m, \u001b[38;5;124m\"\u001b[39m\u001b[38;5;124mReportPeriodDesc\u001b[39m\u001b[38;5;124m\"\u001b[39m, \u001b[38;5;124m'\u001b[39m\u001b[38;5;124mמספר ני\u001b[39m\u001b[38;5;124m\"\u001b[39m\u001b[38;5;124mע\u001b[39m\u001b[38;5;124m'\u001b[39m])\n",
      "File \u001b[0;32m~/opt/anaconda3/lib/python3.9/site-packages/pandas/core/series.py:5141\u001b[0m, in \u001b[0;36mSeries.isin\u001b[0;34m(self, values)\u001b[0m\n\u001b[1;32m   5068\u001b[0m \u001b[38;5;28;01mdef\u001b[39;00m \u001b[38;5;21misin\u001b[39m(\u001b[38;5;28mself\u001b[39m, values) \u001b[38;5;241m-\u001b[39m\u001b[38;5;241m>\u001b[39m Series:\n\u001b[1;32m   5069\u001b[0m     \u001b[38;5;124;03m\"\"\"\u001b[39;00m\n\u001b[1;32m   5070\u001b[0m \u001b[38;5;124;03m    Whether elements in Series are contained in `values`.\u001b[39;00m\n\u001b[1;32m   5071\u001b[0m \n\u001b[0;32m   (...)\u001b[0m\n\u001b[1;32m   5139\u001b[0m \u001b[38;5;124;03m    dtype: bool\u001b[39;00m\n\u001b[1;32m   5140\u001b[0m \u001b[38;5;124;03m    \"\"\"\u001b[39;00m\n\u001b[0;32m-> 5141\u001b[0m     result \u001b[38;5;241m=\u001b[39m \u001b[43malgorithms\u001b[49m\u001b[38;5;241;43m.\u001b[39;49m\u001b[43misin\u001b[49m\u001b[43m(\u001b[49m\u001b[38;5;28;43mself\u001b[39;49m\u001b[38;5;241;43m.\u001b[39;49m\u001b[43m_values\u001b[49m\u001b[43m,\u001b[49m\u001b[43m \u001b[49m\u001b[43mvalues\u001b[49m\u001b[43m)\u001b[49m\n\u001b[1;32m   5142\u001b[0m     \u001b[38;5;28;01mreturn\u001b[39;00m \u001b[38;5;28mself\u001b[39m\u001b[38;5;241m.\u001b[39m_constructor(result, index\u001b[38;5;241m=\u001b[39m\u001b[38;5;28mself\u001b[39m\u001b[38;5;241m.\u001b[39mindex)\u001b[38;5;241m.\u001b[39m__finalize__(\n\u001b[1;32m   5143\u001b[0m         \u001b[38;5;28mself\u001b[39m, method\u001b[38;5;241m=\u001b[39m\u001b[38;5;124m\"\u001b[39m\u001b[38;5;124misin\u001b[39m\u001b[38;5;124m\"\u001b[39m\n\u001b[1;32m   5144\u001b[0m     )\n",
      "File \u001b[0;32m~/opt/anaconda3/lib/python3.9/site-packages/pandas/core/algorithms.py:468\u001b[0m, in \u001b[0;36misin\u001b[0;34m(comps, values)\u001b[0m\n\u001b[1;32m    463\u001b[0m     \u001b[38;5;28;01mraise\u001b[39;00m \u001b[38;5;167;01mTypeError\u001b[39;00m(\n\u001b[1;32m    464\u001b[0m         \u001b[38;5;124m\"\u001b[39m\u001b[38;5;124monly list-like objects are allowed to be passed \u001b[39m\u001b[38;5;124m\"\u001b[39m\n\u001b[1;32m    465\u001b[0m         \u001b[38;5;124mf\u001b[39m\u001b[38;5;124m\"\u001b[39m\u001b[38;5;124mto isin(), you passed a [\u001b[39m\u001b[38;5;132;01m{\u001b[39;00m\u001b[38;5;28mtype\u001b[39m(comps)\u001b[38;5;241m.\u001b[39m\u001b[38;5;18m__name__\u001b[39m\u001b[38;5;132;01m}\u001b[39;00m\u001b[38;5;124m]\u001b[39m\u001b[38;5;124m\"\u001b[39m\n\u001b[1;32m    466\u001b[0m     )\n\u001b[1;32m    467\u001b[0m \u001b[38;5;28;01mif\u001b[39;00m \u001b[38;5;129;01mnot\u001b[39;00m is_list_like(values):\n\u001b[0;32m--> 468\u001b[0m     \u001b[38;5;28;01mraise\u001b[39;00m \u001b[38;5;167;01mTypeError\u001b[39;00m(\n\u001b[1;32m    469\u001b[0m         \u001b[38;5;124m\"\u001b[39m\u001b[38;5;124monly list-like objects are allowed to be passed \u001b[39m\u001b[38;5;124m\"\u001b[39m\n\u001b[1;32m    470\u001b[0m         \u001b[38;5;124mf\u001b[39m\u001b[38;5;124m\"\u001b[39m\u001b[38;5;124mto isin(), you passed a [\u001b[39m\u001b[38;5;132;01m{\u001b[39;00m\u001b[38;5;28mtype\u001b[39m(values)\u001b[38;5;241m.\u001b[39m\u001b[38;5;18m__name__\u001b[39m\u001b[38;5;132;01m}\u001b[39;00m\u001b[38;5;124m]\u001b[39m\u001b[38;5;124m\"\u001b[39m\n\u001b[1;32m    471\u001b[0m     )\n\u001b[1;32m    473\u001b[0m \u001b[38;5;28;01mif\u001b[39;00m \u001b[38;5;129;01mnot\u001b[39;00m \u001b[38;5;28misinstance\u001b[39m(values, (ABCIndex, ABCSeries, ABCExtensionArray, np\u001b[38;5;241m.\u001b[39mndarray)):\n\u001b[1;32m    474\u001b[0m     values \u001b[38;5;241m=\u001b[39m _ensure_arraylike(\u001b[38;5;28mlist\u001b[39m(values))\n",
      "\u001b[0;31mTypeError\u001b[0m: only list-like objects are allowed to be passed to isin(), you passed a [str]"
     ]
    }
   ],
   "source": [
    "inst = get_major_institutions_list()\n",
    "fossil_holdings_last_q = group_fossil_holdings_quarters_institutions(\n",
    "    all_holdings_cls_filtered,\n",
    "    quarters=q,\n",
    "    institutions = inst\n",
    ")\n",
    "\n",
    "fossil_holdings_last_q.to_csv(\"analysis/last_q_major_insts_fossil_holdings.csv\", index=False)"
   ]
  },
  {
   "cell_type": "markdown",
   "metadata": {},
   "source": [
    "<h1><center>*** RUN UP TO HERE ***</center></h1>"
   ]
  },
  {
   "cell_type": "markdown",
   "metadata": {},
   "source": [
    "# Compare Fossil Holdings over quarters\n",
    "## 1. for specific companies"
   ]
  },
  {
   "cell_type": "code",
   "execution_count": 30,
   "metadata": {
    "scrolled": true
   },
   "outputs": [
    {
     "name": "stdout",
     "output_type": "stream",
     "text": [
      "total Israeli fossil holdings: 7535269.8792949645\n",
      "total fossil holdings with il_sec_num: 7535269.879294964\n",
      "total fossil holdings without il_sec_num: 1349643.7020575097\n",
      "1349643.7020575095\n",
      "after adding Israeli and non-Israeli: 8884913.581352476\n"
     ]
    },
    {
     "data": {
      "text/html": [
       "<div>\n",
       "<style scoped>\n",
       "    .dataframe tbody tr th:only-of-type {\n",
       "        vertical-align: middle;\n",
       "    }\n",
       "\n",
       "    .dataframe tbody tr th {\n",
       "        vertical-align: top;\n",
       "    }\n",
       "\n",
       "    .dataframe thead th {\n",
       "        text-align: right;\n",
       "    }\n",
       "</style>\n",
       "<table border=\"1\" class=\"dataframe\">\n",
       "  <thead>\n",
       "    <tr style=\"text-align: right;\">\n",
       "      <th></th>\n",
       "      <th>name</th>\n",
       "      <th>id</th>\n",
       "      <th>fossil_sum_prev_q</th>\n",
       "      <th>quantity_sum_prev_q</th>\n",
       "      <th>fossil_sum_curr_q</th>\n",
       "      <th>quantity_sum_curr_q</th>\n",
       "      <th>quantity_diff</th>\n",
       "      <th>quantity_diff_pct</th>\n",
       "      <th>fossil_sum_diff</th>\n",
       "      <th>fossil_sum_diff_pct</th>\n",
       "    </tr>\n",
       "  </thead>\n",
       "  <tbody>\n",
       "    <tr>\n",
       "      <th>18</th>\n",
       "      <td>תמר פטרוליום</td>\n",
       "      <td>1689</td>\n",
       "      <td>155,548.301</td>\n",
       "      <td>170,418,069.060</td>\n",
       "      <td>151,448.303</td>\n",
       "      <td>164,858,073.670</td>\n",
       "      <td>-5,559,995.390</td>\n",
       "      <td>-0.033</td>\n",
       "      <td>-4,099.998</td>\n",
       "      <td>-0.026</td>\n",
       "    </tr>\n",
       "    <tr>\n",
       "      <th>17</th>\n",
       "      <td>שפיר הנדסה</td>\n",
       "      <td>1633</td>\n",
       "      <td>15,486.070</td>\n",
       "      <td>543,371.000</td>\n",
       "      <td>0.000</td>\n",
       "      <td>0.000</td>\n",
       "      <td>-543,371.000</td>\n",
       "      <td>-1.000</td>\n",
       "      <td>-15,486.070</td>\n",
       "      <td>-1.000</td>\n",
       "    </tr>\n",
       "    <tr>\n",
       "      <th>16</th>\n",
       "      <td>רציו מימון</td>\n",
       "      <td>515060044</td>\n",
       "      <td>23,880.394</td>\n",
       "      <td>19,165,644.890</td>\n",
       "      <td>10,919.053</td>\n",
       "      <td>9,547,964.860</td>\n",
       "      <td>-9,617,680.030</td>\n",
       "      <td>-0.502</td>\n",
       "      <td>-12,961.341</td>\n",
       "      <td>-0.543</td>\n",
       "    </tr>\n",
       "    <tr>\n",
       "      <th>19</th>\n",
       "      <td>קנון</td>\n",
       "      <td>1635</td>\n",
       "      <td>0.000</td>\n",
       "      <td>0.000</td>\n",
       "      <td>389,628.598</td>\n",
       "      <td>3,185,843.000</td>\n",
       "      <td>3,185,843.000</td>\n",
       "      <td>inf</td>\n",
       "      <td>389,628.598</td>\n",
       "      <td>inf</td>\n",
       "    </tr>\n",
       "    <tr>\n",
       "      <th>15</th>\n",
       "      <td>קנון</td>\n",
       "      <td>201406588</td>\n",
       "      <td>523,411.939</td>\n",
       "      <td>2,975,843.000</td>\n",
       "      <td>0.000</td>\n",
       "      <td>0.000</td>\n",
       "      <td>-2,975,843.000</td>\n",
       "      <td>-1.000</td>\n",
       "      <td>-523,411.939</td>\n",
       "      <td>-1.000</td>\n",
       "    </tr>\n",
       "    <tr>\n",
       "      <th>14</th>\n",
       "      <td>פטרוכימיים</td>\n",
       "      <td>520029315</td>\n",
       "      <td>18,176.924</td>\n",
       "      <td>30,299,922.690</td>\n",
       "      <td>18,482.953</td>\n",
       "      <td>30,299,922.690</td>\n",
       "      <td>0.000</td>\n",
       "      <td>0.000</td>\n",
       "      <td>306.029</td>\n",
       "      <td>0.017</td>\n",
       "    </tr>\n",
       "    <tr>\n",
       "      <th>13</th>\n",
       "      <td>משק אנרגיה</td>\n",
       "      <td>1803</td>\n",
       "      <td>11,382.598</td>\n",
       "      <td>3,629,655.000</td>\n",
       "      <td>0.000</td>\n",
       "      <td>0.000</td>\n",
       "      <td>-3,629,655.000</td>\n",
       "      <td>-1.000</td>\n",
       "      <td>-11,382.598</td>\n",
       "      <td>-1.000</td>\n",
       "    </tr>\n",
       "    <tr>\n",
       "      <th>12</th>\n",
       "      <td>כיל</td>\n",
       "      <td>281</td>\n",
       "      <td>1,406,409.987</td>\n",
       "      <td>68,783,612.230</td>\n",
       "      <td>1,486,775.964</td>\n",
       "      <td>75,732,972.230</td>\n",
       "      <td>6,949,360.000</td>\n",
       "      <td>0.101</td>\n",
       "      <td>80,365.977</td>\n",
       "      <td>0.057</td>\n",
       "    </tr>\n",
       "    <tr>\n",
       "      <th>11</th>\n",
       "      <td>חשמל</td>\n",
       "      <td>600</td>\n",
       "      <td>154,476.219</td>\n",
       "      <td>153,671,019.000</td>\n",
       "      <td>164,099.036</td>\n",
       "      <td>168,406,971.000</td>\n",
       "      <td>14,735,952.000</td>\n",
       "      <td>0.096</td>\n",
       "      <td>9,622.817</td>\n",
       "      <td>0.062</td>\n",
       "    </tr>\n",
       "    <tr>\n",
       "      <th>10</th>\n",
       "      <td>חברה לישראל</td>\n",
       "      <td>576</td>\n",
       "      <td>237,242.525</td>\n",
       "      <td>154,556.530</td>\n",
       "      <td>219,207.099</td>\n",
       "      <td>154,556.530</td>\n",
       "      <td>0.000</td>\n",
       "      <td>0.000</td>\n",
       "      <td>-18,035.426</td>\n",
       "      <td>-0.076</td>\n",
       "    </tr>\n",
       "    <tr>\n",
       "      <th>9</th>\n",
       "      <td>דלק רכב</td>\n",
       "      <td>829</td>\n",
       "      <td>641,400.602</td>\n",
       "      <td>15,837,052.000</td>\n",
       "      <td>801,513.202</td>\n",
       "      <td>15,837,052.000</td>\n",
       "      <td>0.000</td>\n",
       "      <td>0.000</td>\n",
       "      <td>160,112.600</td>\n",
       "      <td>0.250</td>\n",
       "    </tr>\n",
       "    <tr>\n",
       "      <th>8</th>\n",
       "      <td>דליה</td>\n",
       "      <td>1840</td>\n",
       "      <td>17,866.532</td>\n",
       "      <td>16,620,030.000</td>\n",
       "      <td>16,188.063</td>\n",
       "      <td>14,917,946.400</td>\n",
       "      <td>-1,702,083.600</td>\n",
       "      <td>-0.102</td>\n",
       "      <td>-1,678.470</td>\n",
       "      <td>-0.094</td>\n",
       "    </tr>\n",
       "    <tr>\n",
       "      <th>7</th>\n",
       "      <td>אלקו החזקות</td>\n",
       "      <td>694</td>\n",
       "      <td>242,733.004</td>\n",
       "      <td>1,079,773.130</td>\n",
       "      <td>229,991.682</td>\n",
       "      <td>1,079,773.130</td>\n",
       "      <td>0.000</td>\n",
       "      <td>0.000</td>\n",
       "      <td>-12,741.322</td>\n",
       "      <td>-0.052</td>\n",
       "    </tr>\n",
       "    <tr>\n",
       "      <th>6</th>\n",
       "      <td>אלון חיפושי גז</td>\n",
       "      <td>1531</td>\n",
       "      <td>358.919</td>\n",
       "      <td>12,638.000</td>\n",
       "      <td>409.471</td>\n",
       "      <td>12,638.000</td>\n",
       "      <td>0.000</td>\n",
       "      <td>0.000</td>\n",
       "      <td>50.552</td>\n",
       "      <td>0.141</td>\n",
       "    </tr>\n",
       "    <tr>\n",
       "      <th>5</th>\n",
       "      <td>או פי סי אנרגיה</td>\n",
       "      <td>1682</td>\n",
       "      <td>356,203.538</td>\n",
       "      <td>10,400,103.290</td>\n",
       "      <td>502,139.023</td>\n",
       "      <td>12,626,103.290</td>\n",
       "      <td>2,226,000.000</td>\n",
       "      <td>0.214</td>\n",
       "      <td>145,935.485</td>\n",
       "      <td>0.410</td>\n",
       "    </tr>\n",
       "    <tr>\n",
       "      <th>4</th>\n",
       "      <td>SPVHCO</td>\n",
       "      <td>NO0010871833</td>\n",
       "      <td>9,280.190</td>\n",
       "      <td>11,282,907.000</td>\n",
       "      <td>9,053.721</td>\n",
       "      <td>10,895,499.000</td>\n",
       "      <td>-387,408.000</td>\n",
       "      <td>-0.034</td>\n",
       "      <td>-226.469</td>\n",
       "      <td>-0.024</td>\n",
       "    </tr>\n",
       "    <tr>\n",
       "      <th>3</th>\n",
       "      <td>PEMEX</td>\n",
       "      <td>549300CAZKPF4HKMPX17</td>\n",
       "      <td>418,634.860</td>\n",
       "      <td>146,142,000.000</td>\n",
       "      <td>395,380.904</td>\n",
       "      <td>146,142,000.000</td>\n",
       "      <td>0.000</td>\n",
       "      <td>0.000</td>\n",
       "      <td>-23,253.957</td>\n",
       "      <td>-0.056</td>\n",
       "    </tr>\n",
       "    <tr>\n",
       "      <th>2</th>\n",
       "      <td>ORO NEGRO DRILLING</td>\n",
       "      <td>NO0010838550</td>\n",
       "      <td>3.865</td>\n",
       "      <td>2,002,310.000</td>\n",
       "      <td>3.905</td>\n",
       "      <td>2,002,310.000</td>\n",
       "      <td>0.000</td>\n",
       "      <td>0.000</td>\n",
       "      <td>0.039</td>\n",
       "      <td>0.010</td>\n",
       "    </tr>\n",
       "    <tr>\n",
       "      <th>1</th>\n",
       "      <td>ORO NEGRO DRIL</td>\n",
       "      <td>NO0010700982</td>\n",
       "      <td>1,979.671</td>\n",
       "      <td>10,284,019.010</td>\n",
       "      <td>2,000.037</td>\n",
       "      <td>10,284,019.010</td>\n",
       "      <td>0.000</td>\n",
       "      <td>0.000</td>\n",
       "      <td>20.366</td>\n",
       "      <td>0.010</td>\n",
       "    </tr>\n",
       "    <tr>\n",
       "      <th>0</th>\n",
       "      <td>AESGEN</td>\n",
       "      <td>5493000S11JF8TJHYT07</td>\n",
       "      <td>118,238.216</td>\n",
       "      <td>55,425,000.000</td>\n",
       "      <td>134,958.214</td>\n",
       "      <td>55,425,000.000</td>\n",
       "      <td>0.000</td>\n",
       "      <td>0.000</td>\n",
       "      <td>16,719.997</td>\n",
       "      <td>0.141</td>\n",
       "    </tr>\n",
       "  </tbody>\n",
       "</table>\n",
       "</div>"
      ],
      "text/plain": [
       "                  name                    id  fossil_sum_prev_q  \\\n",
       "18        תמר פטרוליום                  1689        155,548.301   \n",
       "17          שפיר הנדסה                  1633         15,486.070   \n",
       "16          רציו מימון             515060044         23,880.394   \n",
       "19                קנון                  1635              0.000   \n",
       "15                קנון             201406588        523,411.939   \n",
       "14          פטרוכימיים             520029315         18,176.924   \n",
       "13          משק אנרגיה                  1803         11,382.598   \n",
       "12                 כיל                   281      1,406,409.987   \n",
       "11                חשמל                   600        154,476.219   \n",
       "10         חברה לישראל                   576        237,242.525   \n",
       "9              דלק רכב                   829        641,400.602   \n",
       "8                 דליה                  1840         17,866.532   \n",
       "7          אלקו החזקות                   694        242,733.004   \n",
       "6       אלון חיפושי גז                  1531            358.919   \n",
       "5      או פי סי אנרגיה                  1682        356,203.538   \n",
       "4               SPVHCO          NO0010871833          9,280.190   \n",
       "3                PEMEX  549300CAZKPF4HKMPX17        418,634.860   \n",
       "2   ORO NEGRO DRILLING          NO0010838550              3.865   \n",
       "1       ORO NEGRO DRIL          NO0010700982          1,979.671   \n",
       "0               AESGEN  5493000S11JF8TJHYT07        118,238.216   \n",
       "\n",
       "    quantity_sum_prev_q  fossil_sum_curr_q  quantity_sum_curr_q  \\\n",
       "18      170,418,069.060        151,448.303      164,858,073.670   \n",
       "17          543,371.000              0.000                0.000   \n",
       "16       19,165,644.890         10,919.053        9,547,964.860   \n",
       "19                0.000        389,628.598        3,185,843.000   \n",
       "15        2,975,843.000              0.000                0.000   \n",
       "14       30,299,922.690         18,482.953       30,299,922.690   \n",
       "13        3,629,655.000              0.000                0.000   \n",
       "12       68,783,612.230      1,486,775.964       75,732,972.230   \n",
       "11      153,671,019.000        164,099.036      168,406,971.000   \n",
       "10          154,556.530        219,207.099          154,556.530   \n",
       "9        15,837,052.000        801,513.202       15,837,052.000   \n",
       "8        16,620,030.000         16,188.063       14,917,946.400   \n",
       "7         1,079,773.130        229,991.682        1,079,773.130   \n",
       "6            12,638.000            409.471           12,638.000   \n",
       "5        10,400,103.290        502,139.023       12,626,103.290   \n",
       "4        11,282,907.000          9,053.721       10,895,499.000   \n",
       "3       146,142,000.000        395,380.904      146,142,000.000   \n",
       "2         2,002,310.000              3.905        2,002,310.000   \n",
       "1        10,284,019.010          2,000.037       10,284,019.010   \n",
       "0        55,425,000.000        134,958.214       55,425,000.000   \n",
       "\n",
       "    quantity_diff  quantity_diff_pct  fossil_sum_diff  fossil_sum_diff_pct  \n",
       "18 -5,559,995.390             -0.033       -4,099.998               -0.026  \n",
       "17   -543,371.000             -1.000      -15,486.070               -1.000  \n",
       "16 -9,617,680.030             -0.502      -12,961.341               -0.543  \n",
       "19  3,185,843.000                inf      389,628.598                  inf  \n",
       "15 -2,975,843.000             -1.000     -523,411.939               -1.000  \n",
       "14          0.000              0.000          306.029                0.017  \n",
       "13 -3,629,655.000             -1.000      -11,382.598               -1.000  \n",
       "12  6,949,360.000              0.101       80,365.977                0.057  \n",
       "11 14,735,952.000              0.096        9,622.817                0.062  \n",
       "10          0.000              0.000      -18,035.426               -0.076  \n",
       "9           0.000              0.000      160,112.600                0.250  \n",
       "8  -1,702,083.600             -0.102       -1,678.470               -0.094  \n",
       "7           0.000              0.000      -12,741.322               -0.052  \n",
       "6           0.000              0.000           50.552                0.141  \n",
       "5   2,226,000.000              0.214      145,935.485                0.410  \n",
       "4    -387,408.000             -0.034         -226.469               -0.024  \n",
       "3           0.000              0.000      -23,253.957               -0.056  \n",
       "2           0.000              0.000            0.039                0.010  \n",
       "1           0.000              0.000           20.366                0.010  \n",
       "0           0.000              0.000       16,719.997                0.141  "
      ]
     },
     "execution_count": 30,
     "metadata": {},
     "output_type": "execute_result"
    }
   ],
   "source": [
    "company_for_comparison = ['אלטשולר']\n",
    "quarters_for_comparison = [\n",
    "    '2022 רבעון 2',\n",
    "    '2022 רבעון 3'\n",
    "]\n",
    "# comparison = compare_fossil_holdings_over_quarters(all_holdings_cls_filtered, quarters_for_comparison, company_for_comparison)\n",
    "comparison = compare_fossil_holdings_over_quarters(all_holdings_after_mergers, quarters_for_comparison, company_for_comparison)\n",
    "comparison.sort_values(\"name\", ascending=False)"
   ]
  },
  {
   "cell_type": "code",
   "execution_count": 31,
   "metadata": {},
   "outputs": [],
   "source": [
    "company_quarter = company_for_comparison[0] + \" - \" + quarters_for_comparison[1]\n",
    "comparison.to_csv(\"analysis/fossil holdings comparison - \" + company_quarter + \".csv\", index=False)"
   ]
  },
  {
   "cell_type": "markdown",
   "metadata": {},
   "source": [
    "## add profit/loss per quarter\n",
    "treating changes in quantity as if they took place at the last day of the quarter:\n",
    "* If quantity went up (securities were bought): calculate the change for prev_q amount\n",
    "* If quantity went down (securities were sold): calculate the change for prev_q amount \n",
    "\n",
    "previous quarter quantity * (current quarter price - previous quarter price)"
   ]
  },
  {
   "cell_type": "code",
   "execution_count": null,
   "metadata": {},
   "outputs": [],
   "source": [
    "comparison[\"price_diff\"] = (\n",
    "    (comparison[\"fossil_sum_curr_q\"] / comparison[\"quantity_sum_curr_q\"]) -\n",
    "    (comparison[\"fossil_sum_prev_q\"] / comparison[\"quantity_sum_prev_q\"])\n",
    ")\n",
    "\n",
    "comparison[\"value_diff\"] = comparison[\"price_diff\"] * comparison[\"quantity_sum_prev_q\"]"
   ]
  },
  {
   "cell_type": "code",
   "execution_count": null,
   "metadata": {},
   "outputs": [],
   "source": [
    "print(comparison[\"value_diff\"].sum())\n",
    "comparison"
   ]
  },
  {
   "cell_type": "code",
   "execution_count": null,
   "metadata": {},
   "outputs": [],
   "source": [
    "# divide to מניות and אגח according to request (ugly but no time...)"
   ]
  },
  {
   "cell_type": "code",
   "execution_count": null,
   "metadata": {},
   "outputs": [],
   "source": [
    "def fossil_profit_per_q_by_holding_type(holdings, quarters, company, holding_types):\n",
    "    results = []\n",
    "    for i in range(len(quarters)-1):\n",
    "        for h in holding_types:\n",
    "            holdings_filtered_by_type = holdings[holdings[\"holding_type\"] == h]\n",
    "            quarters_for_comparison = [quarters[i], quarters[i+1]]\n",
    "            comparison = compare_fossil_holdings_over_quarters(holdings_filtered_by_type, quarters_for_comparison, company)\n",
    "            comparison[\"prev_price\"] = comparison[\"fossil_sum_prev_q\"] / comparison[\"quantity_sum_prev_q\"]\n",
    "            comparison[\"curr_price\"] = comparison[\"fossil_sum_curr_q\"] / comparison[\"quantity_sum_curr_q\"]\n",
    "            comparison[\"price_diff\"] = comparison[\"curr_price\"] - comparison[\"prev_price\"]\n",
    "            comparison[\"price_diff_pct\"] = comparison[\"price_diff\"] / comparison[\"prev_price\"]\n",
    "            comparison[\"value_diff\"] = comparison[\"price_diff\"] * comparison[\"quantity_sum_prev_q\"]\n",
    "            # look into rows with abnormal price diff (might mean something changed in number of shares?)\n",
    "            print(comparison[\n",
    "                (comparison[\"price_diff_pct\"] > 0.5) |\n",
    "                (comparison[\"price_diff_pct\"] < -0.5)\n",
    "            ])\n",
    "            profit_end_q = comparison[\"value_diff\"].sum()\n",
    "            total_end_q = comparison[\"fossil_sum_curr_q\"].sum()\n",
    "            results.append({\n",
    "                'quarter': quarters[i+1],\n",
    "                'holding_type': h,\n",
    "                'profit': profit_end_q,\n",
    "                'total': total_end_q\n",
    "            })\n",
    "    return pd.DataFrame(results)\n",
    "            "
   ]
  },
  {
   "cell_type": "code",
   "execution_count": null,
   "metadata": {},
   "outputs": [],
   "source": [
    "quarters = [\n",
    "    '2020 רבעון 4',\n",
    "    '2021 רבעון 1',\n",
    "    '2021 רבעון 2',\n",
    "    '2021 רבעון 3',\n",
    "    '2021 רבעון 4',\n",
    "    '2022 רבעון 1'\n",
    "]\n",
    "\n",
    "holding_types = ['מניות', 'אג\"ח קונצרני']\n",
    "\n",
    "fossil_profits_by_type_and_q = fossil_profit_per_q_by_holding_type(all_holdings_after_mergers, quarters, ['מגדל'], holding_types)\n",
    "fossil_profits_by_type_and_q.to_clipboard(index=False)\n",
    "fossil_profits_by_type_and_q"
   ]
  },
  {
   "cell_type": "code",
   "execution_count": null,
   "metadata": {},
   "outputs": [],
   "source": [
    "fossil_profits_by_type_and_q.groupby(\"quarter\").sum()"
   ]
  },
  {
   "cell_type": "markdown",
   "metadata": {},
   "source": [
    "## 2. for all (major) companies"
   ]
  },
  {
   "cell_type": "code",
   "execution_count": null,
   "metadata": {},
   "outputs": [],
   "source": [
    "all_holdings_cls_filtered_grouped = all_holdings_cls_filtered.copy()\n",
    "all_holdings_cls_filtered_grouped[\"ParentCorpGroup\"] = \"כל החברות\"\n",
    "all_major_companies = [\"כל החברות\"]\n",
    "quarters_for_comparison = [\n",
    "    '2021 רבעון 2',\n",
    "    '2021 רבעון 3'\n",
    "]\n",
    "\n",
    "compare_all = compare_fossil_holdings_over_quarters(\n",
    "    all_holdings_cls_filtered_grouped,\n",
    "    quarters_for_comparison,\n",
    "    all_major_companies\n",
    ")"
   ]
  },
  {
   "cell_type": "code",
   "execution_count": null,
   "metadata": {},
   "outputs": [],
   "source": [
    "quarters = ' '.join(quarters_for_comparison)\n",
    "compare_all.to_csv(\"analysis/all companies - fossil holdings comparison - \" + quarters + \".csv\", index=False)"
   ]
  },
  {
   "cell_type": "markdown",
   "metadata": {},
   "source": [
    "## Look into non fossil holding types"
   ]
  },
  {
   "cell_type": "code",
   "execution_count": null,
   "metadata": {},
   "outputs": [],
   "source": [
    "all_holdings_cls_non_fossil_types = all_holdings_cls_filtered[\n",
    "    all_holdings_cls_filtered[\"holding_type\"].isin(get_non_fossil_holding_types())\n",
    "]\n",
    "\n",
    "all_holdings_cls_non_fossil_types['holding_type'].unique()"
   ]
  },
  {
   "cell_type": "code",
   "execution_count": null,
   "metadata": {},
   "outputs": [],
   "source": [
    "all_holdings_cls_non_fossil_types.groupby(\"holding_type\").agg({\n",
    "      \"שווי\": \"sum\",\n",
    "    \"שווי פוסילי\": \"sum\"\n",
    "})"
   ]
  },
  {
   "cell_type": "code",
   "execution_count": null,
   "metadata": {},
   "outputs": [],
   "source": [
    "# holdings that should be non fossil by holding type but are fossil\n",
    "all_holdings_cls_non_fossil_types[\n",
    "    all_holdings_cls_non_fossil_types[\"is_fossil\"] == 1\n",
    "]"
   ]
  },
  {
   "cell_type": "markdown",
   "metadata": {},
   "source": [
    "## Export holdings with missing classification that should be classified"
   ]
  },
  {
   "cell_type": "code",
   "execution_count": null,
   "metadata": {},
   "outputs": [],
   "source": [
    "missing_cls = all_holdings_cls[\n",
    "    (all_holdings_cls[\"holding_type\"].isin(['מניות', 'אג\"ח קונצרני'])) &\n",
    "    (all_holdings_cls[\"is_fossil\"].isnull())\n",
    "]\n",
    "\n",
    "cols = ['שם המנפיק/שם נייר ערך' ,'מספר ני\"ע' ,'מספר מנפיק', 'ISIN', 'מספר תאגיד', 'LEI']\n",
    "missing_cls_deduped = missing_cls[cols].drop_duplicates()\n",
    "print(missing_cls_deduped.shape[0])\n",
    "missing_cls_deduped"
   ]
  },
  {
   "cell_type": "code",
   "execution_count": null,
   "metadata": {},
   "outputs": [],
   "source": [
    "missing_cls_deduped.to_csv(response_path+\"missing_cls.csv\", index=False)"
   ]
  },
  {
   "cell_type": "markdown",
   "metadata": {},
   "source": [
    "# Simulation - change fossil classification for selected holdings, analyze results"
   ]
  },
  {
   "cell_type": "code",
   "execution_count": null,
   "metadata": {},
   "outputs": [],
   "source": [
    "# fix data in all_holdings_cls - wrong data for סופרגז\n",
    "# all_holdings_cls[all_holdings_cls[\"שם המנפיק/שם נייר ערך\"] == 'סופרגז']"
   ]
  },
  {
   "cell_type": "code",
   "execution_count": null,
   "metadata": {},
   "outputs": [],
   "source": [
    "all_holdings_cls.loc[all_holdings_cls[\"שם המנפיק/שם נייר ערך\"] == 'סופרגז',\n",
    "                    'מספר ני\"ע'] = '1166917'\n",
    "\n",
    "all_holdings_cls.loc[all_holdings_cls[\"שם המנפיק/שם נייר ערך\"] == 'סופרגז',\n",
    "                     'ISIN'] = 'IL0011669178'"
   ]
  },
  {
   "cell_type": "code",
   "execution_count": null,
   "metadata": {},
   "outputs": [],
   "source": [
    "all_holdings_cls[\"clean_name\"] = all_holdings_cls[\"שם המנפיק/שם נייר ערך\"].apply(clean_company)"
   ]
  },
  {
   "cell_type": "code",
   "execution_count": null,
   "metadata": {},
   "outputs": [],
   "source": [
    "selected_holdings_names = [\"כיל\", \"ICL\", 'איי סי אל', 'איי.סי.אל', 'אייסיאל', 'ISRAEL CHEMICAL', 'כימיקלים לישראל', 'כי\"ל',\n",
    "                           \"רימון\",\n",
    "                           \"סופרגז\", \"סופר גז\",\n",
    "                           \"OPC\", 'אופיסי', 'או. פי. סי', 'או פי סי',\n",
    "                           'חברה לישראל', 'החברה לישראל', 'חברהלישראל','חברה ישראל']\n",
    "name_mask = all_holdings_cls[\"clean_name\"].str.upper().str.startswith(tuple(selected_holdings_names))\n",
    "all_holdings_cls.loc[name_mask].groupby(['מספר מנפיק'], dropna=False).agg(\n",
    "    name=pd.NamedAgg(column=\"clean_name\", aggfunc=\"first\")\n",
    ")"
   ]
  },
  {
   "cell_type": "code",
   "execution_count": null,
   "metadata": {},
   "outputs": [],
   "source": [
    "def holdings_col_mask_by_another_mask(holdings, col_name, mask):\n",
    "    selected_col_values = holdings.loc[mask, col_name].dropna().unique()\n",
    "    col_mask = holdings[col_name].isin(selected_col_values)\n",
    "    print(\"matching holdings by {}: {}\".format(col_name, col_mask.sum()))\n",
    "    return col_mask"
   ]
  },
  {
   "cell_type": "code",
   "execution_count": null,
   "metadata": {},
   "outputs": [],
   "source": [
    "# by issuer num\n",
    "issuer_mask = holdings_col_mask_by_another_mask(all_holdings_cls, \"מספר מנפיק\", name_mask)\n",
    "ISIN_mask = holdings_col_mask_by_another_mask(all_holdings_cls, \"ISIN\", name_mask)\n",
    "LEI_mask = holdings_col_mask_by_another_mask(all_holdings_cls, \"LEI\", name_mask)\n",
    "il_corp_mask = holdings_col_mask_by_another_mask(all_holdings_cls, \"מספר תאגיד\", name_mask)\n",
    "il_sec_num_mask = holdings_col_mask_by_another_mask(all_holdings_cls, 'מספר ני\"ע', name_mask)"
   ]
  },
  {
   "cell_type": "code",
   "execution_count": null,
   "metadata": {},
   "outputs": [],
   "source": [
    "all_ids_mask = name_mask | issuer_mask | ISIN_mask | LEI_mask | il_corp_mask | il_sec_num_mask\n",
    "no_name_match = all_holdings_cls[all_ids_mask & (~name_mask)]\n",
    "print(\"selected holdings with no name match: {}\".format(no_name_match.shape[0]))"
   ]
  },
  {
   "cell_type": "code",
   "execution_count": null,
   "metadata": {},
   "outputs": [],
   "source": [
    "no_name_match.sort_values(\"is_fossil\", ascending=False)"
   ]
  },
  {
   "cell_type": "code",
   "execution_count": null,
   "metadata": {},
   "outputs": [],
   "source": [
    "all_holdings_cls.loc[all_ids_mask, \"is_fossil\"].value_counts(dropna=False)"
   ]
  },
  {
   "cell_type": "code",
   "execution_count": null,
   "metadata": {},
   "outputs": [],
   "source": [
    "# change classification\n",
    "all_holdings_cls.loc[all_ids_mask, \"is_fossil\"] = 0\n",
    "all_holdings_cls[\"שווי פוסילי\"] = all_holdings_cls[\"שווי\"] * all_holdings_cls[\"is_fossil\"]"
   ]
  },
  {
   "cell_type": "markdown",
   "metadata": {},
   "source": [
    "## Misc queries"
   ]
  },
  {
   "cell_type": "code",
   "execution_count": null,
   "metadata": {
    "scrolled": true
   },
   "outputs": [],
   "source": [
    "response_path = \"data/downloaded reports/company reports 2022Q1/\"\n",
    "all_holdings_cls = pd.read_csv(response_path+\"all_holdings_cls_all_ids.csv\", dtype=holdings_dtypes())\n",
    "# all_holdings_cls = load_mappings_and_add_ids_to_holdings(all_holdings_cls)\n",
    "current_q = '2022 רבעון 1'"
   ]
  },
  {
   "cell_type": "markdown",
   "metadata": {},
   "source": [
    "## holding type distribution (asset allocation)"
   ]
  },
  {
   "cell_type": "code",
   "execution_count": null,
   "metadata": {},
   "outputs": [],
   "source": [
    "latest_q_sums_by_htype = all_holdings_cls[\n",
    "    (all_holdings_cls[\"ReportPeriodDesc\"] == current_q)\n",
    "].groupby(\"holding_type\")[['שווי']].agg('sum').reset_index()\n",
    "\n",
    "latest_q_sums_by_htype[\"pct\"] = 100.00 * latest_q_sums_by_htype[\"שווי\"] / latest_q_sums_by_htype[\"שווי\"].sum()\n",
    "\n",
    "print(latest_q_sums_by_htype[\"שווי\"].sum())\n",
    "latest_q_sums_by_htype.sort_values('שווי', ascending=False).to_clipboard(index=False)\n",
    "latest_q_sums_by_htype.sort_values('שווי', ascending=False)"
   ]
  },
  {
   "cell_type": "markdown",
   "metadata": {},
   "source": [
    "## Non-major companies"
   ]
  },
  {
   "cell_type": "code",
   "execution_count": null,
   "metadata": {},
   "outputs": [],
   "source": [
    "haifa = all_holdings_cls.loc[\n",
    "    (all_holdings_cls[\"ParentCorpName\"].str.contains(\"חיפה\"))\n",
    "]"
   ]
  },
  {
   "cell_type": "code",
   "execution_count": null,
   "metadata": {},
   "outputs": [],
   "source": [
    "get_summary(haifa, 'ReportPeriodDesc', 'ParentCorpName')"
   ]
  },
  {
   "cell_type": "code",
   "execution_count": null,
   "metadata": {},
   "outputs": [],
   "source": [
    "haifa[haifa[\"is_fossil\"] == 1].sort_values(\"שם המנפיק/שם נייר ערך\")"
   ]
  },
  {
   "cell_type": "code",
   "execution_count": null,
   "metadata": {
    "scrolled": true
   },
   "outputs": [],
   "source": [
    "hachshara = all_holdings_cls.loc[\n",
    "    (all_holdings_cls[\"ParentCorpName\"].str.contains(\"הכשר\"))\n",
    "]\n",
    "get_summary(hachshara, 'ReportPeriodDesc', 'ParentCorpName')"
   ]
  },
  {
   "cell_type": "markdown",
   "metadata": {},
   "source": [
    "## looking into specific holdings\n",
    "קרנות סל - מגדל 125"
   ]
  },
  {
   "cell_type": "code",
   "execution_count": null,
   "metadata": {
    "scrolled": true
   },
   "outputs": [],
   "source": [
    "all_holdings_2021q2[\n",
    "    (all_holdings_2021q2[\"holding_type\"] == 'קרנות סל') &\n",
    "    (all_holdings_2021q2[\"שם המנפיק/שם נייר ערך\"].str.contains(\"125\")) &\n",
    "    (all_holdings_2021q2[\"שם המנפיק/שם נייר ערך\"].str.contains(\"מגדל\"))\n",
    "].groupby('מספר ני\"ע')[\"שווי\"].sum()"
   ]
  },
  {
   "cell_type": "code",
   "execution_count": null,
   "metadata": {
    "scrolled": true
   },
   "outputs": [],
   "source": [
    "# החזקות של חברות בקרן עוקבת תא 125 של מגדל\n",
    "cols = [\"SystemName\", \"ParentCorpName\",\"שווי\", 'שעור מנכסי אפיק ההשקעה', \"שעור מערך נקוב מונפק\"]\n",
    "all_holdings_2021q2[\n",
    "    (all_holdings_2021q2['מספר ני\"ע'] == 1150283)\n",
    "][cols]"
   ]
  },
  {
   "cell_type": "code",
   "execution_count": null,
   "metadata": {
    "scrolled": false
   },
   "outputs": [],
   "source": [
    "cols = [\"שם המנפיק/שם נייר ערך\", 'מספר ני\"ע', \"שווי\", \"שעור מנכסי אפיק ההשקעה\", \"שעור מערך נקוב מונפק\", \"SystemName\"]\n",
    "\n",
    "all_holdings_2021q2[\n",
    "    (all_holdings_2021q2['holding_type'] == 'קרנות סל') &\n",
    "    (all_holdings_2021q2[\"ParentCorpName\"].str.contains('מגדל')) &\n",
    "    (~all_holdings_2021q2[\"שם המנפיק/שם נייר ערך\"].str.contains('כש')) &\n",
    "    (all_holdings_2021q2[\"שם המנפיק/שם נייר ערך\"].str.contains('125'))\n",
    "][cols]"
   ]
  },
  {
   "cell_type": "markdown",
   "metadata": {},
   "source": [
    "## Looking into ETFs"
   ]
  },
  {
   "cell_type": "code",
   "execution_count": null,
   "metadata": {
    "scrolled": true
   },
   "outputs": [],
   "source": [
    "etf_holdings = all_holdings_2021q2[\n",
    "    (all_holdings_2021q2[\"holding_type\"] == 'קרנות סל')\n",
    "]\n",
    "\n",
    "etf_holdings.groupby(\"זירת מסחר\")[\"שווי\"].sum()"
   ]
  },
  {
   "cell_type": "code",
   "execution_count": null,
   "metadata": {
    "scrolled": true
   },
   "outputs": [],
   "source": [
    "etf_holdings_tase = etf_holdings[etf_holdings[\"זירת מסחר\"] == \"TASE\"]\n",
    "etf_holdings_tase.head()"
   ]
  },
  {
   "cell_type": "markdown",
   "metadata": {},
   "source": [
    "### Latest quarter holdings per company"
   ]
  },
  {
   "cell_type": "code",
   "execution_count": null,
   "metadata": {},
   "outputs": [],
   "source": [
    "all_holdings_cls_latest_q = all_holdings_cls[\n",
    "    all_holdings_cls[\"ReportPeriodDesc\"] == '2021 רבעון 3'\n",
    "]\n",
    "\n",
    "pd.DataFrame(all_holdings_cls_latest_q.groupby(\n",
    "    ['ParentCorpName'])['שווי'].agg('sum')\n",
    "            ).sort_values('שווי', ascending=False)"
   ]
  },
  {
   "cell_type": "code",
   "execution_count": null,
   "metadata": {},
   "outputs": [],
   "source": [
    "all_holdings_cls_filtered.groupby(\"holding_type\")[\"שווי\"].sum().sort_values()"
   ]
  },
  {
   "cell_type": "code",
   "execution_count": null,
   "metadata": {},
   "outputs": [],
   "source": [
    "all_holdings_cls_filtered[\n",
    "    all_holdings_cls_filtered[\"holding_type\"].str.contains(\"קרנות השקעה\")\n",
    "    ].head()"
   ]
  }
 ],
 "metadata": {
  "kernelspec": {
   "display_name": "Python 3 (ipykernel)",
   "language": "python",
   "name": "python3"
  },
  "language_info": {
   "codemirror_mode": {
    "name": "ipython",
    "version": 3
   },
   "file_extension": ".py",
   "mimetype": "text/x-python",
   "name": "python",
   "nbconvert_exporter": "python",
   "pygments_lexer": "ipython3",
   "version": "3.9.12"
  }
 },
 "nbformat": 4,
 "nbformat_minor": 2
}
