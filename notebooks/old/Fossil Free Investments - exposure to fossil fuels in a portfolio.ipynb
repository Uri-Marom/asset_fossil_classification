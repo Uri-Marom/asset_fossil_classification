{
 "cells": [
  {
   "cell_type": "code",
   "execution_count": 1,
   "metadata": {},
   "outputs": [],
   "source": [
    "import requests\n",
    "import json\n",
    "import numpy as np\n",
    "import pandas as pd\n",
    "import io\n",
    "import time\n",
    "import pickle\n",
    "from datetime import datetime\n",
    "pd.set_option('display.max_columns', None)"
   ]
  },
  {
   "cell_type": "markdown",
   "metadata": {},
   "source": [
    "# Refactor (with functions)"
   ]
  },
  {
   "cell_type": "markdown",
   "metadata": {},
   "source": [
    "### Input\n",
    "1. holdings\n",
    "2. previously classified\n",
    "3. TASE list\n",
    "\n",
    "### Process\n",
    "1. prepare Fossil Free Funds list\n",
    "2. prepare TASE list\n",
    "3. prepare previously classified\n",
    "4. classify holdings:\n",
    "    1. look for previously classified holdings\n",
    "    2. match holdings with TASE list (exact ISIN, issuer, or corp match)\n",
    "    3. match holdings with FFF\n",
    "        1. use open FIGI to add Ticker per ISIN in holdings\n",
    "        2. match holdings with FFF by Ticker\n",
    "        3. match holdings with FFF by company name (fuzzy)\n",
    "\n",
    "### Output\n",
    "holdings with additional columns:\n",
    "1. is_fossil\n",
    "2. source\n",
    "3. confidence"
   ]
  },
  {
   "cell_type": "markdown",
   "metadata": {},
   "source": [
    "## 1. prepare Fossil Free Funds list"
   ]
  },
  {
   "cell_type": "code",
   "execution_count": 25,
   "metadata": {},
   "outputs": [],
   "source": [
    "# 1. fetch Fossil Free Funds list\n",
    "def fetch_latest_fff_list():\n",
    "    # fetch newest file from Fossil Free Funds\n",
    "    # returns Dataframe read from excel file\n",
    "    from bs4 import BeautifulSoup\n",
    "    import urllib.request\n",
    "    site = \"https://fossilfreefunds.org/how-it-works\"\n",
    "    hdr = {'User-Agent': 'Mozilla/5.0 (X11; Linux x86_64) AppleWebKit/537.11 (KHTML, like Gecko) Chrome/23.0.1271.64 Safari/537.11',\n",
    "       'Accept': 'text/html,application/xhtml+xml,application/xml;q=0.9,*/*;q=0.8',\n",
    "       'Accept-Charset': 'ISO-8859-1,utf-8;q=0.7,*;q=0.3',\n",
    "       'Accept-Encoding': 'none',\n",
    "       'Accept-Language': 'en-US,en;q=0.8',\n",
    "       'Connection': 'keep-alive'}\n",
    "    req = urllib.request.Request(site, headers=hdr)\n",
    "    html_page = urllib.request.urlopen(req)\n",
    "    soup = BeautifulSoup(html_page, \"html.parser\")\n",
    "    links_in_page = [link.get('href') for link in soup.findAll('a')]\n",
    "    fff_latest_company_screens_url = [l for l in links_in_page if 'Invest+Your+Values+company+screens' in l][0]\n",
    "    print(\"Using \"+fff_latest_company_screens_url)\n",
    "    return pd.read_excel(fff_latest_company_screens_url, sheet_name=1)\n",
    "\n",
    "def prepare_fff(df):\n",
    "    # Input: Fossil Free Funds list as dataframe\n",
    "    # Output: \n",
    "    criteria = (df['Fossil Free Funds: Coal screen'] == 'Y') | (df['Fossil Free Funds: Oil / gas screen'] == 'Y') | (df['Fossil Free Funds: Fossil-fired utility screen'] == 'Y')\n",
    "    df['Fossil Fuels any'] = criteria\n",
    "    print(df['Fossil Fuels any'].value_counts(dropna=False))\n",
    "    df['Company'] = df['Company'].str.upper()\n",
    "    df['Tickers'] = df['Tickers'].str.upper()\n",
    "    fff = df[criteria]\n",
    "    # explode lists, to get one row per ticker\n",
    "    fff = fff.assign(Tickers=fff['Tickers'].str.split(',')).explode('Tickers')\n",
    "    # remove irrelevant columns\n",
    "    fff_cols = [c for c in fff.columns if 'Fossil Free' in c]\n",
    "    id_cols = [\"Company\",\"Country\",\"Tickers\"]\n",
    "    fff = fff[id_cols + fff_cols]\n",
    "    fff = fff[fff['Tickers'].notnull()]\n",
    "    fff['Tickers'] = fff['Tickers'].str.strip().str.upper()\n",
    "    return fff\n",
    "\n",
    "common_words_in_company_name = ['LTD', 'INC', 'CORP', 'CO', 'GROUP', 'PLC', 'HOLDINGS', '&']"
   ]
  },
  {
   "cell_type": "code",
   "execution_count": 8,
   "metadata": {},
   "outputs": [
    {
     "name": "stdout",
     "output_type": "stream",
     "text": [
      "Using https://iyv-charts.s3-us-west-2.amazonaws.com/files/Invest+Your+Values+company+screens+20210303.xlsx\n"
     ]
    }
   ],
   "source": [
    "fff_all = fetch_latest_fff_list()"
   ]
  },
  {
   "cell_type": "code",
   "execution_count": 28,
   "metadata": {},
   "outputs": [
    {
     "name": "stdout",
     "output_type": "stream",
     "text": [
      "False    3749\n",
      "True     2642\n",
      "Name: Fossil Fuels any, dtype: int64\n"
     ]
    },
    {
     "data": {
      "text/html": [
       "<div>\n",
       "<style scoped>\n",
       "    .dataframe tbody tr th:only-of-type {\n",
       "        vertical-align: middle;\n",
       "    }\n",
       "\n",
       "    .dataframe tbody tr th {\n",
       "        vertical-align: top;\n",
       "    }\n",
       "\n",
       "    .dataframe thead th {\n",
       "        text-align: right;\n",
       "    }\n",
       "</style>\n",
       "<table border=\"1\" class=\"dataframe\">\n",
       "  <thead>\n",
       "    <tr style=\"text-align: right;\">\n",
       "      <th></th>\n",
       "      <th>Company</th>\n",
       "      <th>Country</th>\n",
       "      <th>Tickers</th>\n",
       "      <th>Fossil Free Funds: Coal screen</th>\n",
       "      <th>Fossil Free Funds: Oil / gas screen</th>\n",
       "      <th>Fossil Free Funds: Macroclimate30 coal-fired utility screen</th>\n",
       "      <th>Fossil Free Funds: Fossil-fired utility screen</th>\n",
       "      <th>Fossil Free Funds: Clean200 screen</th>\n",
       "    </tr>\n",
       "  </thead>\n",
       "  <tbody>\n",
       "    <tr>\n",
       "      <th>1</th>\n",
       "      <td>11 PLC</td>\n",
       "      <td>Nigeria</td>\n",
       "      <td>MOBIL</td>\n",
       "      <td>NaN</td>\n",
       "      <td>Y</td>\n",
       "      <td>NaN</td>\n",
       "      <td>NaN</td>\n",
       "      <td>NaN</td>\n",
       "    </tr>\n",
       "    <tr>\n",
       "      <th>2</th>\n",
       "      <td>1ST NRG CORP</td>\n",
       "      <td>United States</td>\n",
       "      <td>FNRC</td>\n",
       "      <td>NaN</td>\n",
       "      <td>Y</td>\n",
       "      <td>NaN</td>\n",
       "      <td>NaN</td>\n",
       "      <td>NaN</td>\n",
       "    </tr>\n",
       "    <tr>\n",
       "      <th>4</th>\n",
       "      <td>3A-BESTGROUP JSC</td>\n",
       "      <td>Kazakhstan</td>\n",
       "      <td>BSGR</td>\n",
       "      <td>NaN</td>\n",
       "      <td>Y</td>\n",
       "      <td>NaN</td>\n",
       "      <td>NaN</td>\n",
       "      <td>NaN</td>\n",
       "    </tr>\n",
       "    <tr>\n",
       "      <th>5</th>\n",
       "      <td>3D OIL LTD</td>\n",
       "      <td>Australia</td>\n",
       "      <td>MUE</td>\n",
       "      <td>NaN</td>\n",
       "      <td>Y</td>\n",
       "      <td>NaN</td>\n",
       "      <td>NaN</td>\n",
       "      <td>NaN</td>\n",
       "    </tr>\n",
       "    <tr>\n",
       "      <th>5</th>\n",
       "      <td>3D OIL LTD</td>\n",
       "      <td>Australia</td>\n",
       "      <td>TDO</td>\n",
       "      <td>NaN</td>\n",
       "      <td>Y</td>\n",
       "      <td>NaN</td>\n",
       "      <td>NaN</td>\n",
       "      <td>NaN</td>\n",
       "    </tr>\n",
       "  </tbody>\n",
       "</table>\n",
       "</div>"
      ],
      "text/plain": [
       "            Company        Country Tickers Fossil Free Funds: Coal screen  \\\n",
       "1            11 PLC        Nigeria   MOBIL                            NaN   \n",
       "2      1ST NRG CORP  United States    FNRC                            NaN   \n",
       "4  3A-BESTGROUP JSC     Kazakhstan    BSGR                            NaN   \n",
       "5        3D OIL LTD      Australia     MUE                            NaN   \n",
       "5        3D OIL LTD      Australia     TDO                            NaN   \n",
       "\n",
       "  Fossil Free Funds: Oil / gas screen  \\\n",
       "1                                   Y   \n",
       "2                                   Y   \n",
       "4                                   Y   \n",
       "5                                   Y   \n",
       "5                                   Y   \n",
       "\n",
       "  Fossil Free Funds: Macroclimate30 coal-fired utility screen  \\\n",
       "1                                                NaN            \n",
       "2                                                NaN            \n",
       "4                                                NaN            \n",
       "5                                                NaN            \n",
       "5                                                NaN            \n",
       "\n",
       "  Fossil Free Funds: Fossil-fired utility screen  \\\n",
       "1                                            NaN   \n",
       "2                                            NaN   \n",
       "4                                            NaN   \n",
       "5                                            NaN   \n",
       "5                                            NaN   \n",
       "\n",
       "  Fossil Free Funds: Clean200 screen  \n",
       "1                                NaN  \n",
       "2                                NaN  \n",
       "4                                NaN  \n",
       "5                                NaN  \n",
       "5                                NaN  "
      ]
     },
     "execution_count": 28,
     "metadata": {},
     "output_type": "execute_result"
    }
   ],
   "source": [
    "fff = prepare_fff(fff_all)"
   ]
  },
  {
   "cell_type": "markdown",
   "metadata": {},
   "source": [
    "# Prepare input files\n",
    "## 1. Fossil Free Funds list"
   ]
  },
  {
   "cell_type": "code",
   "execution_count": null,
   "metadata": {},
   "outputs": [],
   "source": [
    "# fetch newest file from Fossil Free Funds\n",
    "from bs4 import BeautifulSoup\n",
    "import urllib.request\n",
    "\n",
    "site = \"https://fossilfreefunds.org/how-it-works\"\n",
    "hdr = {'User-Agent': 'Mozilla/5.0 (X11; Linux x86_64) AppleWebKit/537.11 (KHTML, like Gecko) Chrome/23.0.1271.64 Safari/537.11',\n",
    "       'Accept': 'text/html,application/xhtml+xml,application/xml;q=0.9,*/*;q=0.8',\n",
    "       'Accept-Charset': 'ISO-8859-1,utf-8;q=0.7,*;q=0.3',\n",
    "       'Accept-Encoding': 'none',\n",
    "       'Accept-Language': 'en-US,en;q=0.8',\n",
    "       'Connection': 'keep-alive'}\n",
    "\n",
    "req = urllib.request.Request(site, headers=hdr)\n",
    "html_page = urllib.request.urlopen(req)\n",
    "\n",
    "soup = BeautifulSoup(html_page, \"html.parser\")\n",
    "links_in_page = [link.get('href') for link in soup.findAll('a')]\n",
    "fff_latest_company_screens_url = [l for l in links_in_page if 'Invest+Your+Values+company+screens' in l][0]\n"
   ]
  },
  {
   "cell_type": "code",
   "execution_count": null,
   "metadata": {},
   "outputs": [],
   "source": [
    "fff_all = pd.read_excel(fff_latest_company_screens_url, sheet_name=1)\n",
    "criteria = (fff_all['Fossil Free Funds: Coal screen'] == 'Y') | (fff_all['Fossil Free Funds: Oil / gas screen'] == 'Y') | (fff_all['Fossil Free Funds: Fossil-fired utility screen'] == 'Y')\n",
    "fff_all['Fossil Fuels any'] = criteria\n",
    "print(fff_all['Fossil Fuels any'].value_counts(dropna=False))\n",
    "\n",
    "fff_all['Company'] = fff_all['Company'].str.upper()\n",
    "fff_all['Tickers'] = fff_all['Tickers'].str.upper()\n",
    "fff_all"
   ]
  },
  {
   "cell_type": "code",
   "execution_count": null,
   "metadata": {
    "scrolled": true
   },
   "outputs": [],
   "source": [
    "fff = fff_all[criteria]\n",
    "# explode lists, to get one row per ticker\n",
    "fff = fff.assign(Tickers=fff['Tickers'].str.split(',')).explode('Tickers')\n",
    "fff\n",
    "drop_cols = ['Deforestation Free Funds: Producer screen',\n",
    "       'Deforestation Free Funds: Financier screen',\n",
    "       'Deforestation Free Funds: Consumer brand screen',\n",
    "       'Deforestation Free Funds: Palm oil producer screen',\n",
    "       'Deforestation Free Funds: Palm oil consumer brand screen',\n",
    "       'Deforestation Free Funds: Paper / pulp producer screen',\n",
    "       'Deforestation Free Funds: Paper / pulp consumer brand screen',\n",
    "       'Deforestation Free Funds: Rubber producer screen',\n",
    "       'Deforestation Free Funds: Rubber consumer brand screen',\n",
    "       'Deforestation Free Funds: Timber producer screen',\n",
    "       'Deforestation Free Funds: Timber consumer brand screen',\n",
    "       'Deforestation Free Funds: Cattle producer screen',\n",
    "       'Deforestation Free Funds: Cattle consumer brand screen',\n",
    "       'Deforestation Free Funds: Soy producer screen',\n",
    "       'Deforestation Free Funds: Soy consumer brand screen',\n",
    "       'Gender Equality Funds: Has Equileap gender equality score',\n",
    "       'Gun Free Funds: Gun manufacturers screen',\n",
    "       'Gun Free Funds: Gun retailers screen',\n",
    "       'Prison Free Funds: Prison industry screen',\n",
    "       'Prison Free Funds: Border industry screen',\n",
    "       'Prison Free Funds: Higher risk screen',\n",
    "       'Prison Free Funds: Private prison operators screen',\n",
    "       'Weapons Free Funds: Major military contractor screen',\n",
    "       'Weapons Free Funds: Cluster munitions / landmines screen',\n",
    "       'Weapons Free Funds: Nuclear weapons screen',\n",
    "       'Tobacco Free Funds: Tobacco producers screen',\n",
    "       'Tobacco Free Funds: Tobacco-promoting entertainment companies screen']\n",
    "\n",
    "fff.drop(drop_cols, axis=1, inplace=True)\n",
    "fff = fff[fff['Tickers'].notnull()]\n",
    "fff['Tickers'] = fff['Tickers'].str.strip()"
   ]
  },
  {
   "cell_type": "code",
   "execution_count": null,
   "metadata": {},
   "outputs": [],
   "source": [
    "fff['Tickers'].value_counts(dropna=False)"
   ]
  },
  {
   "cell_type": "code",
   "execution_count": null,
   "metadata": {},
   "outputs": [],
   "source": [
    "pd.set_option('display.max_rows', 500)\n",
    "fff['Tickers'].sort_values().head(500)"
   ]
  },
  {
   "cell_type": "code",
   "execution_count": null,
   "metadata": {
    "scrolled": true
   },
   "outputs": [],
   "source": [
    "fff[fff['Tickers'] == '00006']"
   ]
  },
  {
   "cell_type": "markdown",
   "metadata": {},
   "source": [
    "### remove common words from Company name (Ltd, Plc, etc.)"
   ]
  },
  {
   "cell_type": "code",
   "execution_count": null,
   "metadata": {},
   "outputs": [],
   "source": [
    "fff_all['Company'].str.split(expand=True).stack().value_counts().head(30)"
   ]
  },
  {
   "cell_type": "code",
   "execution_count": null,
   "metadata": {},
   "outputs": [],
   "source": [
    "common_words_in_company_name = ['LTD', 'INC', 'CORP', 'CO', 'GROUP', 'PLC', 'HOLDINGS', '&']"
   ]
  },
  {
   "cell_type": "markdown",
   "metadata": {},
   "source": [
    "## 2. holdings file "
   ]
  },
  {
   "cell_type": "code",
   "execution_count": null,
   "metadata": {},
   "outputs": [],
   "source": [
    "holdings_path = \"/Users/urimarom/Downloads/2020Q3 החזקות בדלקים פוסיליים.xlsx\"\n",
    "holdings = pd.read_excel(holdings_path, sheet_name=0)"
   ]
  },
  {
   "cell_type": "code",
   "execution_count": null,
   "metadata": {},
   "outputs": [],
   "source": [
    "## TODO: check for previously classified ISINs and corps (see \"new Q holdings\")"
   ]
  },
  {
   "cell_type": "markdown",
   "metadata": {},
   "source": [
    "### Automatically identify columns with ISINs"
   ]
  },
  {
   "cell_type": "code",
   "execution_count": null,
   "metadata": {},
   "outputs": [],
   "source": [
    "isin_pattern = r\"^[A-Z]{2}([A-Z0-9]){9}[0-9]$\"\n",
    "max_isin_cnt = 0\n",
    "for col in holdings:\n",
    "    print(col)\n",
    "    isin_cnt = sum(holdings[col].astype(str).str.contains(isin_pattern, na=False))\n",
    "    print(isin_cnt)\n",
    "    if isin_cnt > max_isin_cnt:\n",
    "        isin_col = col\n",
    "        max_isin_cnt = isin_cnt\n",
    "\n",
    "if max_isin_cnt > 0:\n",
    "    print(\"ISIN col is: \"+isin_col)"
   ]
  },
  {
   "cell_type": "code",
   "execution_count": null,
   "metadata": {},
   "outputs": [],
   "source": [
    "# focusing on new assets only here\n",
    "# TODO: might want to start by looking for fossils in previous reports, and maintain known fossil ISINS\n",
    "new_assets = holdings[holdings['ברשימת רבעון קודם'].isna()]\n",
    "new_isins = new_assets[isin_col][new_assets[isin_col].str.contains(isin_pattern, na=False)].unique()\n",
    "new_isins = pd.DataFrame(new_isins, columns=['ISIN'])\n",
    "print(len(new_isins))"
   ]
  },
  {
   "cell_type": "code",
   "execution_count": null,
   "metadata": {},
   "outputs": [],
   "source": [
    "isins = holdings[isin_col][holdings[isin_col].str.contains(isin_pattern, na=False)].unique()\n",
    "isins = pd.DataFrame(isins, columns=['ISIN'])\n",
    "print(len(isins))"
   ]
  },
  {
   "cell_type": "code",
   "execution_count": null,
   "metadata": {},
   "outputs": [],
   "source": [
    "# isin2ticker = []\n",
    "# i = 1\n",
    "# for isin in isins:\n",
    "# #     isin='US87612G1013'\n",
    "#     print(isin)\n",
    "#     r = requests.get('https://finnhub.io/api/v1/search?q='+isin+'&token=c0jbqgf48v6vejlecf80')\n",
    "#     if r.status_code == 200:\n",
    "#         j = r.json()\n",
    "#         for i in range(j['count']):\n",
    "#             isin2ticker.append([isin, j['result'][i]['symbol']])\n",
    "#     else:\n",
    "#         print(\"error fetching \"+isin+\" ,status code: \"+r.status_code)\n"
   ]
  },
  {
   "cell_type": "code",
   "execution_count": null,
   "metadata": {},
   "outputs": [],
   "source": [
    "# isin2ticker"
   ]
  },
  {
   "cell_type": "code",
   "execution_count": null,
   "metadata": {},
   "outputs": [],
   "source": [
    "# isin='XS2224632971'\n",
    "# print(isin)\n",
    "# r = requests.get('https://finnhub.io/api/v1/search?q='+isin+'&token=c0jbqgf48v6vejlecf80')\n",
    "# r"
   ]
  },
  {
   "cell_type": "code",
   "execution_count": null,
   "metadata": {},
   "outputs": [],
   "source": [
    "# if r.status_code == 200:\n",
    "#     j = r.json()\n",
    "#     print(j)\n",
    "#     for i in range(j['count']):\n",
    "#         isin2ticker.append([isin, j['result'][i]['symbol']])\n",
    "# else:\n",
    "#     print(\"error fetching \"+isin+\" ,status code: \"+str(r.status_code))"
   ]
  },
  {
   "cell_type": "markdown",
   "metadata": {},
   "source": [
    "Finnhub: \n",
    "Multiple ISINs get empty results from the API.\n",
    "Looking for another solution."
   ]
  },
  {
   "cell_type": "markdown",
   "metadata": {},
   "source": [
    "## Try using FIGI API"
   ]
  },
  {
   "cell_type": "code",
   "execution_count": null,
   "metadata": {},
   "outputs": [],
   "source": [
    "# Copyright 2017 Bloomberg Finance L.P.\n",
    "#\n",
    "# Licensed under the Apache License, Version 2.0 (the \"License\");\n",
    "# you may not use this file except in compliance with the License.\n",
    "# You may obtain a copy of the License at\n",
    "#\n",
    "#     http://www.apache.org/licenses/LICENSE-2.0\n",
    "#\n",
    "# Unless required by applicable law or agreed to in writing, software\n",
    "# distributed under the License is distributed on an \"AS IS\" BASIS,\n",
    "# WITHOUT WARRANTIES OR CONDITIONS OF ANY KIND, either express or implied.\n",
    "# See the License for the specific language governing permissions and\n",
    "# limitations under the License.\n",
    "import json\n",
    "import urllib.request\n",
    "import urllib.parse\n",
    "\n",
    "'''\n",
    "See https://www.openfigi.com/api for more information.\n",
    "'''\n",
    "# tried ratelimit, didn't seem to work:\n",
    "# from ratelimit import limits\n",
    "# @limits(calls=25, period=60)\n",
    "\n",
    "def map_jobs(jobs):\n",
    "    '''\n",
    "    Send an collection of mapping jobs to the API in order to obtain the\n",
    "    associated FIGI(s).\n",
    "    Parameters\n",
    "    ----------\n",
    "    jobs : list(dict)\n",
    "        A list of dicts that conform to the OpenFIGI API request structure. See\n",
    "        https://www.openfigi.com/api#request-format for more information. Note\n",
    "        rate-limiting requirements when considering length of `jobs`.\n",
    "    Returns\n",
    "    -------\n",
    "    list(dict)\n",
    "        One dict per item in `jobs` list that conform to the OpenFIGI API\n",
    "        response structure.  See https://www.openfigi.com/api#response-fomats\n",
    "        for more information.\n",
    "    '''\n",
    "    handler = urllib.request.HTTPHandler()\n",
    "    opener = urllib.request.build_opener(handler)\n",
    "    openfigi_url = 'https://api.openfigi.com/v2/mapping'\n",
    "    request = urllib.request.Request(openfigi_url, data=bytes(json.dumps(jobs), encoding='utf-8'))\n",
    "    request.add_header('Content-Type','application/json')\n",
    "    if openfigi_apikey:\n",
    "        request.add_header('X-OPENFIGI-APIKEY', openfigi_apikey)\n",
    "    request.get_method = lambda: 'POST'\n",
    "    connection = opener.open(request)\n",
    "    if connection.code != 200:\n",
    "        raise Exception('Bad response code {}'.format(str(response.status_code)))\n",
    "    return json.loads(connection.read().decode('utf-8'))\n",
    "\n",
    "\n",
    "def job_results_handler(jobs, job_results):\n",
    "    '''\n",
    "    Handle the `map_jobs` results.  See `map_jobs` definition for more info.\n",
    "    Parameters\n",
    "    ----------\n",
    "    jobs : list(dict)\n",
    "        The original list of mapping jobs to perform.\n",
    "    job_results : list(dict)\n",
    "        The results of the mapping job.\n",
    "    Returns\n",
    "    -------\n",
    "        None\n",
    "    '''\n",
    "    for job, result in zip(jobs, job_results):\n",
    "        job_str = '|'.join(job.values())\n",
    "        figis_str = ','.join([d['figi'] for d in result.get('data', [])])\n",
    "        result_str = figis_str or result.get('error')\n",
    "        output = '%s maps to FIGI(s) ->\\n%s\\n---' % (job_str, result_str)\n",
    "        print(output)\n",
    "\n",
    "\n",
    "openfigi_apikey = ''  # Put API Key here\n",
    "jobs = [\n",
    "    {'idType': 'ID_ISIN', 'idValue': 'IL0011677668'}\n",
    "]\n",
    "job_results = map_jobs(jobs)\n",
    "job_results_handler(jobs, job_results)\n",
    "\n",
    "# get ticker\n",
    "job_results[0]['data'][0]['ticker']"
   ]
  },
  {
   "cell_type": "code",
   "execution_count": null,
   "metadata": {},
   "outputs": [],
   "source": [
    "jobs = [{'idType': 'ID_ISIN', 'idValue': isin} for isin in isins['ISIN']]\n",
    "\n",
    "i = 0\n",
    "job_results = []\n",
    "print(\"ISINs count: {}\".format(len(isins)))\n",
    "\n",
    "sleep_sec=20\n",
    "print(\"estimated time: {i} minutes\".format(len(isins)/10*sleep_sec/60))\n",
    "\n",
    "while i < len(jobs):\n",
    "    curr_jobs = jobs[i:i+10]\n",
    "    print(\"processing {} to {}\".format(i+1, i+10))\n",
    "    job_results.append(map_jobs(curr_jobs))\n",
    "    time.sleep(sleep_sec)\n",
    "    i += 10\n",
    "# job_results_handler(jobs, job_results)"
   ]
  },
  {
   "cell_type": "code",
   "execution_count": null,
   "metadata": {},
   "outputs": [],
   "source": [
    "sleep_sec=20\n",
    "print(\"estimated time: {:.0f} minutes\".format(len(isins)/10*sleep_sec/60))"
   ]
  },
  {
   "cell_type": "code",
   "execution_count": null,
   "metadata": {},
   "outputs": [],
   "source": [
    "job_results_flat = [item for sublist in job_results for item in sublist]\n",
    "results = []\n",
    "for i in range(len(isins)):\n",
    "    result = {}\n",
    "    result['isin'] = isins['ISIN'][i]\n",
    "    if 'data' in job_results_flat[i]:\n",
    "        result.update(job_results_flat[i]['data'][0])\n",
    "    results.append(result)\n",
    "    \n",
    "results = pd.DataFrame(results)\n",
    "drop_cols = ['uniqueIDFutOpt']\n",
    "results.drop(drop_cols, axis=1, inplace=True)\n",
    "results['ticker_simp'] = results['ticker'].str.split().str[0].str.upper().str.strip()\n",
    "results['name'] = results['name'].str.upper().str.strip()\n",
    "\n",
    "pickle_filename = 'figi_results-'+now.strftime(\"%Y-%m-%d-%H%M%S\")+'.pickle'\n",
    "with open(pickle_filename, 'wb') as f:\n",
    "    pickle.dump(results, f)"
   ]
  },
  {
   "cell_type": "code",
   "execution_count": null,
   "metadata": {},
   "outputs": [],
   "source": [
    "# no FIGI records, handle separately\n",
    "not_in_figi = results[results['ticker_simp'].isna()]['isin']\n",
    "len(not_in_figi) / len(results)\n",
    "# 3.6% missing, it's a go!"
   ]
  },
  {
   "cell_type": "code",
   "execution_count": null,
   "metadata": {},
   "outputs": [],
   "source": [
    "tickers_test = results.sort_values(by='ticker_simp')[['ticker', 'ticker_simp']]\n",
    "tickers_test[tickers_test['ticker_simp'].str.isdigit().fillna(False)]"
   ]
  },
  {
   "cell_type": "code",
   "execution_count": null,
   "metadata": {},
   "outputs": [],
   "source": [
    "results['name'].str.split(expand=True).stack().value_counts().head(10)"
   ]
  },
  {
   "cell_type": "markdown",
   "metadata": {},
   "source": [
    "# join with Fossil Free Funds list\n",
    "## 1. Exact ticker match filtered by partial company name match"
   ]
  },
  {
   "cell_type": "code",
   "execution_count": null,
   "metadata": {
    "scrolled": true
   },
   "outputs": [],
   "source": [
    "isin_figi_ticker_fff = pd.merge(left=results,\n",
    "                                right=fff,\n",
    "                                left_on='ticker_simp', \n",
    "                                right_on='Tickers',\n",
    "                                how='left'\n",
    "                               )\n",
    "\n",
    "isin_figi_ticker_fff[isin_figi_ticker_fff['Fossil Fuels any'].notnull()]"
   ]
  },
  {
   "cell_type": "markdown",
   "metadata": {},
   "source": [
    "### False positives (similar ticker, different company names)"
   ]
  },
  {
   "cell_type": "code",
   "execution_count": null,
   "metadata": {
    "scrolled": true
   },
   "outputs": [],
   "source": [
    "isin_figi_ticker_fff[isin_figi_ticker_fff['isin'] == 'US81180WAZ41']"
   ]
  },
  {
   "cell_type": "markdown",
   "metadata": {},
   "source": [
    "### False negatives (different ticker, same company)"
   ]
  },
  {
   "cell_type": "code",
   "execution_count": null,
   "metadata": {
    "scrolled": true
   },
   "outputs": [],
   "source": [
    "print(isin_figi_ticker_fff[isin_figi_ticker_fff['isin'] == 'US7594701077'])\n",
    "fff[fff['Company'].str.lower().str.startswith('reliance ind')]"
   ]
  },
  {
   "cell_type": "code",
   "execution_count": null,
   "metadata": {
    "scrolled": true
   },
   "outputs": [],
   "source": [
    "print(isin_figi_ticker_fff[isin_figi_ticker_fff['isin'] == 'US71647NBE85'])\n",
    "fff[fff['Company'].str.lower().str.startswith('petrole')]"
   ]
  },
  {
   "cell_type": "code",
   "execution_count": null,
   "metadata": {},
   "outputs": [],
   "source": [
    "# Should match by ticker\n",
    "## TODO: remove leading zeros from tickers in both holdings and fff lists\n",
    "isin_figi_ticker_fff[\n",
    "    (isin_figi_ticker_fff['name'].notnull()) &\n",
    "    (isin_figi_ticker_fff['name'].str.lower().str.contains('rusal'))\n",
    "]"
   ]
  },
  {
   "cell_type": "markdown",
   "metadata": {},
   "source": [
    "## Handle False Positives\n",
    "Using partial fuzzy matching for ticker matches"
   ]
  },
  {
   "cell_type": "code",
   "execution_count": 35,
   "metadata": {
    "scrolled": true
   },
   "outputs": [
    {
     "ename": "NameError",
     "evalue": "name 'isin_figi_ticker_fff' is not defined",
     "output_type": "error",
     "traceback": [
      "\u001b[0;31m---------------------------------------------------------------------------\u001b[0m",
      "\u001b[0;31mNameError\u001b[0m                                 Traceback (most recent call last)",
      "\u001b[0;32m<ipython-input-35-996bb43dc973>\u001b[0m in \u001b[0;36m<module>\u001b[0;34m()\u001b[0m\n\u001b[1;32m      7\u001b[0m         \u001b[0;32mreturn\u001b[0m \u001b[0mfuzz\u001b[0m\u001b[0;34m.\u001b[0m\u001b[0mpartial_ratio\u001b[0m\u001b[0;34m(\u001b[0m\u001b[0mholdings_company_name\u001b[0m\u001b[0;34m.\u001b[0m\u001b[0mlower\u001b[0m\u001b[0;34m(\u001b[0m\u001b[0;34m)\u001b[0m\u001b[0;34m,\u001b[0m\u001b[0mfff_company_name\u001b[0m\u001b[0;34m.\u001b[0m\u001b[0mlower\u001b[0m\u001b[0;34m(\u001b[0m\u001b[0;34m)\u001b[0m\u001b[0;34m)\u001b[0m\u001b[0;34m\u001b[0m\u001b[0m\n\u001b[1;32m      8\u001b[0m \u001b[0;34m\u001b[0m\u001b[0m\n\u001b[0;32m----> 9\u001b[0;31m \u001b[0misin_figi_ticker_fff\u001b[0m\u001b[0;34m[\u001b[0m\u001b[0;34m'company_names_partial_match_score'\u001b[0m\u001b[0;34m]\u001b[0m \u001b[0;34m=\u001b[0m \u001b[0misin_figi_ticker_fff\u001b[0m\u001b[0;34m.\u001b[0m\u001b[0mapply\u001b[0m\u001b[0;34m(\u001b[0m\u001b[0mcompany_names_match_score\u001b[0m\u001b[0;34m,\u001b[0m \u001b[0maxis\u001b[0m\u001b[0;34m=\u001b[0m\u001b[0;34m'columns'\u001b[0m\u001b[0;34m)\u001b[0m\u001b[0;34m\u001b[0m\u001b[0m\n\u001b[0m\u001b[1;32m     10\u001b[0m isin_figi_ticker_fff[\n\u001b[1;32m     11\u001b[0m     \u001b[0;34m(\u001b[0m\u001b[0misin_figi_ticker_fff\u001b[0m\u001b[0;34m[\u001b[0m\u001b[0;34m'Company'\u001b[0m\u001b[0;34m]\u001b[0m\u001b[0;34m.\u001b[0m\u001b[0mnotnull\u001b[0m\u001b[0;34m(\u001b[0m\u001b[0;34m)\u001b[0m\u001b[0;34m)\u001b[0m \u001b[0;34m&\u001b[0m\u001b[0;34m\u001b[0m\u001b[0m\n",
      "\u001b[0;31mNameError\u001b[0m: name 'isin_figi_ticker_fff' is not defined"
     ]
    }
   ],
   "source": [
    "# handle false positives - maybe by editing distance with company names\n",
    "from fuzzywuzzy import fuzz\n",
    "def company_names_match_score(row):\n",
    "    holdings_company_name = str(row['name'])\n",
    "    fff_company_name = str(row['Company'])\n",
    "    if (len(holdings_company_name) >= 3) & (len(fff_company_name) >= 3):\n",
    "        return fuzz.partial_ratio(holdings_company_name.lower(),fff_company_name.lower())\n",
    "\n",
    "isin_figi_ticker_fff['company_names_partial_match_score'] = isin_figi_ticker_fff.apply(company_names_match_score, axis='columns')\n",
    "isin_figi_ticker_fff[\n",
    "    (isin_figi_ticker_fff['Company'].notnull()) &\n",
    "    (isin_figi_ticker_fff['company_names_partial_match_score'] > 80)\n",
    "                    ]"
   ]
  },
  {
   "cell_type": "code",
   "execution_count": 48,
   "metadata": {},
   "outputs": [
    {
     "data": {
      "text/plain": [
       "100"
      ]
     },
     "execution_count": 48,
     "metadata": {},
     "output_type": "execute_result"
    }
   ],
   "source": [
    "from fuzzywuzzy import fuzz\n",
    "def company_names_match_score_test(holdings_company_name, fff_company_name, min_len=3):\n",
    "    if (not holdings_company_name) | (not fff_company_name):\n",
    "        return np.nan\n",
    "    holdings_company_name = str(holdings_company_name).strip().lower()\n",
    "    fff_company_name = str(fff_company_name).strip().lower()\n",
    "    if (len(holdings_company_name) >= min_len) & (len(fff_company_name) >= min_len):\n",
    "        return fuzz.partial_ratio(holdings_company_name,fff_company_name)\n",
    "    else:\n",
    "        return np.nan\n",
    "    \n",
    "company_names_match_score_test(np.nan,np.nan)\n",
    "\n",
    "    "
   ]
  },
  {
   "cell_type": "markdown",
   "metadata": {},
   "source": [
    "# Company name fuzzy matching for all holdings vs. fff list"
   ]
  },
  {
   "cell_type": "code",
   "execution_count": null,
   "metadata": {},
   "outputs": [],
   "source": [
    "from fuzzywuzzy import process\n",
    "fff_company_names = fff[fff['Company'].notnull()]['Company'].unique()\n",
    "holdings_company_names = results[results['name'].notnull()]['name'].unique()\n",
    "print(len(fff_company_names))\n",
    "print(len(holdings_company_names))"
   ]
  },
  {
   "cell_type": "markdown",
   "metadata": {},
   "source": [
    "### clean company names from common words"
   ]
  },
  {
   "cell_type": "code",
   "execution_count": null,
   "metadata": {},
   "outputs": [],
   "source": [
    "def remove_common_words(l, common):\n",
    "    res = []\n",
    "    for x in l:\n",
    "        x = str(x)\n",
    "        new = ' '.join([word for word in x.split() if word not in (common)])\n",
    "        res.append(new)\n",
    "    return res\n",
    "\n",
    "# fff_company_names = remove_common_words(fff_company_names, common_words_in_company_name)\n",
    "# holdings_company_names = remove_common_words(holdings_company_names, common_words_in_company_name)"
   ]
  },
  {
   "cell_type": "markdown",
   "metadata": {},
   "source": [
    "## 1. fuzzy matching - partial ratio"
   ]
  },
  {
   "cell_type": "code",
   "execution_count": null,
   "metadata": {},
   "outputs": [],
   "source": [
    "partial_matches = {}\n",
    "for c in holdings_company_names:\n",
    "    s = str(c)\n",
    "    partial_matches[c] = process.extractOne(s, fff_company_names, scorer=fuzz.partial_ratio)\n",
    "pd.DataFrame(partial_matches).transpose().sort_values(by=1)"
   ]
  },
  {
   "cell_type": "code",
   "execution_count": null,
   "metadata": {},
   "outputs": [],
   "source": [
    "exact_partial_matches = pd.DataFrame(partial_matches).transpose()"
   ]
  },
  {
   "cell_type": "markdown",
   "metadata": {},
   "source": [
    "## 2. another fuzzy matching attempt - using the sum of all scorers"
   ]
  },
  {
   "cell_type": "code",
   "execution_count": null,
   "metadata": {},
   "outputs": [],
   "source": [
    "def best_match(s, l, first_word_thresh=95):\n",
    "    s = str(s)\n",
    "    first_word_matches = process.extract(s.split()[0], l, scorer=fuzz.partial_ratio, limit = 10)\n",
    "    max_agg_score = 0\n",
    "    winner = ''\n",
    "    for m in first_word_matches:\n",
    "        if m[1] > first_word_thresh:\n",
    "            agg_score = (\n",
    "                fuzz.ratio(s, m) +\n",
    "                fuzz.partial_ratio(s, m) +\n",
    "                fuzz.token_sort_ratio(s, m) +\n",
    "                fuzz.token_set_ratio(s, m) +\n",
    "                fuzz.partial_token_sort_ratio(s, m) +\n",
    "                fuzz.partial_token_set_ratio(s, m)\n",
    "            )\n",
    "            if agg_score > max_agg_score:\n",
    "                max_agg_score = agg_score\n",
    "                winner = m[0]\n",
    "    return winner, max_agg_score"
   ]
  },
  {
   "cell_type": "code",
   "execution_count": null,
   "metadata": {},
   "outputs": [],
   "source": [
    "agg_matches = {}\n",
    "for c in holdings_company_names:\n",
    "    agg_matches[c] = best_match(c, fff_company_names)"
   ]
  },
  {
   "cell_type": "code",
   "execution_count": null,
   "metadata": {},
   "outputs": [],
   "source": [
    "agg_fuzzy_results = pd.DataFrame(agg_matches).transpose()\n",
    "agg_fuzzy_results.rename({0: 'fff_name', 1: 'fuzzy_agg_score'}, axis=1, inplace=True)\n",
    "agg_fuzzy_results = agg_fuzzy_results[agg_fuzzy_results['fuzzy_agg_score'] > 0].sort_values(by='fuzzy_agg_score', ascending=False)\n",
    "agg_fuzzy_results"
   ]
  },
  {
   "cell_type": "code",
   "execution_count": null,
   "metadata": {},
   "outputs": [],
   "source": [
    "s = \"RELIANCE INDS-SPONS GDR 144A\"\n",
    "l = fff_company_names\n",
    "\n",
    "first_word_matches = process.extract(s.split()[0], l, scorer=fuzz.partial_ratio, limit = 10)\n",
    "for m in first_word_matches:\n",
    "    if m[1] > 80:\n",
    "        print(\n",
    "            m,\n",
    "            fuzz.partial_ratio(s, m),\n",
    "            fuzz.token_sort_ratio(s, m),\n",
    "            fuzz.token_set_ratio(s, m),\n",
    "            fuzz.partial_token_sort_ratio(s, m),\n",
    "            fuzz.partial_token_set_ratio(s, m),\n",
    "            fuzz.partial_ratio(s, m) +\n",
    "            fuzz.token_sort_ratio(s, m) +\n",
    "            fuzz.token_set_ratio(s, m) +\n",
    "            fuzz.partial_token_sort_ratio(s, m) +\n",
    "            fuzz.partial_token_set_ratio(s, m) +\n",
    "            fuzz.ratio(s, m)\n",
    "        )\n",
    "        s2 = s[:len(m[0])]\n",
    "        print(fuzz.ratio(s2, m))\n",
    "        print(s2)\n"
   ]
  },
  {
   "cell_type": "code",
   "execution_count": null,
   "metadata": {},
   "outputs": [],
   "source": [
    "s = 'PETROBRAS GLOBAL FINANCE'\n",
    "l = fff_company_names\n",
    "# taking only the first word\n",
    "first_word_matches = process.extract(s.split()[0], l, scorer=fuzz.partial_ratio, limit = 10)\n",
    "for m in first_word_matches:\n",
    "    if m[1] > 80:\n",
    "        print(\n",
    "            m,\n",
    "            fuzz.partial_ratio(s, m),\n",
    "            fuzz.token_sort_ratio(s, m),\n",
    "            fuzz.token_set_ratio(s, m),\n",
    "            fuzz.partial_token_sort_ratio(s, m),\n",
    "            fuzz.partial_token_set_ratio(s, m)\n",
    "        )\n",
    "\n",
    "# def get_best_match(s, l):\n",
    "#     process.extractOne(s, l, scorer=fuzz.partial_ratio)\n",
    "# def add_best_match(left, right, threshold):\n",
    "    "
   ]
  },
  {
   "cell_type": "code",
   "execution_count": null,
   "metadata": {},
   "outputs": [],
   "source": [
    "# do the same for Israeli holdings? (different ID - numerics only; join with local fossil list)"
   ]
  },
  {
   "cell_type": "code",
   "execution_count": null,
   "metadata": {},
   "outputs": [],
   "source": [
    "# maybe later: visualization for results"
   ]
  },
  {
   "cell_type": "code",
   "execution_count": null,
   "metadata": {},
   "outputs": [],
   "source": [
    "# bonus: build a website! Dash? streamlit?\n",
    "# input: holdings csv - must have ISIN, value (same currency) per row \n",
    "# output: % of fossil, top fossil holdings, other stats, downloadable CSV"
   ]
  },
  {
   "cell_type": "markdown",
   "metadata": {},
   "source": [
    "## Try going through LEI"
   ]
  },
  {
   "cell_type": "code",
   "execution_count": null,
   "metadata": {},
   "outputs": [],
   "source": [
    "# source: https://www.gleif.org/en/lei-data/lei-mapping/download-isin-to-lei-relationship-files\n",
    "isin2lei = pd.read_csv('~/Downloads/ISIN_LEI_20210216.csv')\n",
    "len(isin2lei)"
   ]
  },
  {
   "cell_type": "code",
   "execution_count": null,
   "metadata": {
    "scrolled": true
   },
   "outputs": [],
   "source": [
    "merged = pd.merge(left=isins,\n",
    "                  right=isin2lei,\n",
    "                  on='ISIN', \n",
    "                  how='left'\n",
    "                 )\n",
    "\n",
    "merged"
   ]
  },
  {
   "cell_type": "code",
   "execution_count": null,
   "metadata": {},
   "outputs": [],
   "source": [
    "sum(merged['LEI'].isnull())"
   ]
  },
  {
   "cell_type": "code",
   "execution_count": null,
   "metadata": {},
   "outputs": [],
   "source": [
    "# about 33% of the ISINs missing in the isin2lei mapping.\n",
    "# TODO: check for all ISINs in holdings file"
   ]
  },
  {
   "cell_type": "code",
   "execution_count": null,
   "metadata": {},
   "outputs": [],
   "source": [
    "# INPUT CSVS\n",
    "# holdings = csv.read()\n",
    "# fff = csv.read()\n",
    "\n",
    "# add symbol per ISIN in holdings using finnhub API\n",
    "## get a list of unique valid ISINs\n",
    "## run API, get symbols\n",
    "\n",
    "# per symbol, check if in fff and mark as fossil\n",
    "\n",
    "# compare results to g-spreadsheet results"
   ]
  },
  {
   "cell_type": "code",
   "execution_count": null,
   "metadata": {},
   "outputs": [],
   "source": [
    "results_old = results"
   ]
  }
 ],
 "metadata": {
  "kernelspec": {
   "display_name": "Python 3",
   "language": "python",
   "name": "python3"
  },
  "language_info": {
   "codemirror_mode": {
    "name": "ipython",
    "version": 3
   },
   "file_extension": ".py",
   "mimetype": "text/x-python",
   "name": "python",
   "nbconvert_exporter": "python",
   "pygments_lexer": "ipython3",
   "version": "3.6.4"
  }
 },
 "nbformat": 4,
 "nbformat_minor": 2
}
