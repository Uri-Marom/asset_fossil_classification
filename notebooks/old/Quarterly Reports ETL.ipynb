{
 "cells": [
  {
   "cell_type": "code",
   "execution_count": 9,
   "metadata": {},
   "outputs": [],
   "source": [
    "import numpy as np\n",
    "import pandas as pd\n",
    "from os import listdir, chdir, scandir\n",
    "from os.path import isfile, join\n",
    "import re\n",
    "# import requests\n",
    "# import bs4"
   ]
  },
  {
   "cell_type": "markdown",
   "metadata": {},
   "source": [
    "## Scrape website and download multiple files"
   ]
  },
  {
   "cell_type": "code",
   "execution_count": 10,
   "metadata": {},
   "outputs": [],
   "source": [
    "## source: https://employersinfocmp.cma.gov.il/#/publicreports\n",
    "# using the generated XHR request, available via Chrome Developer Tools\n",
    "\n",
    "# TODO: Scrape the website / get API access\n",
    "\n",
    "# request_url = \"https://employersinfocmp.cma.gov.il/api/PublicReporting/GetPublicReports\"\n",
    "# request_headers = {\"Host\": \"employersinfocmp.cma.gov.il\",\n",
    "# \"Connection\": \"keep-alive\",\n",
    "# \"Content-Length\": \"239\",\n",
    "# \"Accept\": \"application/json, text/plain, */*\",\n",
    "# \"sec-ch-ua-mobile\": \"?1\",\n",
    "# \"User-Agent\": \"Mozilla/5.0 (Linux; Android 6.0; Nexus 5 Build/MRA58N) AppleWebKit/537.36 (KHTML, like Gecko) Chrome/91.0.4472.77 Mobile Safari/537.36\",\n",
    "# \"content-type\": \"application/json\",\n",
    "# \"Origin\": \"https://employersinfocmp.cma.gov.il\",\n",
    "# \"Sec-Fetch-Site\": \"same-origin\",\n",
    "# \"Sec-Fetch-Mode\": \"cors\",\n",
    "# \"Sec-Fetch-Dest\": \"empty\",\n",
    "# \"Referer\": \"https://employersinfocmp.cma.gov.il/\",\n",
    "# \"Accept-Encoding\": \"gzip, deflate, br\",\n",
    "# \"Accept-Language\": \"en-US,en;q=0.9,he;q=0.8\"\n",
    "# }\n",
    "# payload = {\"corporation\": \"\",\n",
    "#            \"fromQuarter\": \"\",\n",
    "#             \"fromYear\": \"\",\n",
    "#             \"toQuarter\": \"\",\n",
    "#             \"toYear\": \"\",\n",
    "#             \"reportType\": \"\",\n",
    "#             \"systemField\": \"\",\n",
    "#             \"statusReport\": 1,\n",
    "#             \"investmentName\": \"\",\n",
    "#             \"reportFromDate\": \"\",\n",
    "#             \"reportToDate\": \"\"\n",
    "#         };\n",
    "# response = requests.post(request_url, data=payload, headers=request_headers)\n",
    "\n",
    "# json_data = response.json()"
   ]
  },
  {
   "cell_type": "markdown",
   "metadata": {},
   "source": [
    "## Process downloaded files --> Unified file"
   ]
  },
  {
   "cell_type": "code",
   "execution_count": 19,
   "metadata": {},
   "outputs": [],
   "source": [
    "# Process reports in domains (subdirectories) of this path\n",
    "reports_path = \"/Users/urimarom/Downloads/holdings reports/2021q2 reports/\"\n",
    "included_sheets = ['מניות', 'אג\"ח קונצרני', 'לא סחיר - אג\"ח קונצרני', 'לא סחיר - מניות']\n",
    "cols_to_keep = ['שם המנפיק/שם נייר ערך',\n",
    "                'מספר ני\"ע',\n",
    "                'מספר מנפיק',\n",
    "                'ענף מסחר',\n",
    "                'שווי',\n",
    "                'שעור מערך נקוב מונפק',\n",
    "                'שעור מנכסי אפיק ההשקעה',\n",
    "                'שעור מסך נכסי השקעה',\n",
    "                'גוף',\n",
    "                'אפיק'\n",
    "               ]"
   ]
  },
  {
   "cell_type": "code",
   "execution_count": 20,
   "metadata": {},
   "outputs": [],
   "source": [
    "# utility functions\n",
    "def remove_arrow_symbol(s):\n",
    "    if type(s) == str:\n",
    "        return re.sub(r'[◄]+','', s)\n",
    "    else:\n",
    "        return s\n",
    "\n",
    "def remove_leading_numbering(s):\n",
    "    if type(s) == str:\n",
    "        clean = re.sub(r'^.*\\.', '', s).strip()\n",
    "        clean = re.sub(r'\\(.*\\)', '', clean).strip()\n",
    "        clean = clean.replace(':','').strip()\n",
    "        if len(clean) > 0:\n",
    "            return clean\n",
    "        else:\n",
    "            return s\n",
    "    else:\n",
    "        return s\n",
    "\n",
    "def remove_empty_rows_and_cols(sheet):\n",
    "    ''' remove columns and rows with only missing values\n",
    "    Args:\n",
    "      sheet (DataFrame): sheet to be handled\n",
    "\n",
    "    Returns:\n",
    "      DataFrame: sheet without empty rows and columns\n",
    "    '''\n",
    "    # remove special characters first\n",
    "    sheet = sheet.applymap(lambda x: remove_arrow_symbol(x))\n",
    "    sheet = sheet.replace(r'^\\s*$', None, regex=True)\n",
    "    sheet = sheet.dropna(axis=0, how='all')\n",
    "    sheet = sheet.dropna(axis=1, how='all')\n",
    "\n",
    "    return sheet\n",
    "\n",
    "def clean_sheet(sheet, null_pct_thresh=0.5):\n",
    "    ''' remove columns and rows with > null_pct_thresh% nulls\n",
    "    Args:\n",
    "      sheet (DataFrame): sheet to be handled\n",
    "      null_pct_thresh (int): \n",
    "\n",
    "    Returns:\n",
    "      DataFrame: sheet without rows and columns with > null_pct_thresh% nulls\n",
    "    '''\n",
    "    sheet = sheet.dropna(axis=1, thresh=len(sheet)*null_pct_thresh)\n",
    "    num_cols = len(sheet.columns)\n",
    "    sheet = sheet.dropna(thresh=num_cols*null_pct_thresh)\n",
    "    return sheet\n",
    "\n",
    "def verify_sheets(df_dict, sheets):\n",
    "    ''' get the sheet names to be included in the processing\n",
    "    '''\n",
    "    existing_sheets = [k for k in list(report_df_dict.keys()) if k in sheets]\n",
    "    if len(existing_sheets) < len(sheets):\n",
    "        missing_sheets = [s for s in sheets if s not in existing_sheets]\n",
    "        print(\"missing sheets: {}\".format(missing_sheets))\n",
    "        return False\n",
    "    else:\n",
    "        print(\"all needed sheets found!\")\n",
    "        return True"
   ]
  },
  {
   "cell_type": "code",
   "execution_count": 21,
   "metadata": {},
   "outputs": [],
   "source": [
    "def get_summary_sheet_name(report_df_dict):\n",
    "    '''identify summary sheet by sheet name\n",
    "    '''\n",
    "    report_df_dict.keys()\n",
    "    summary_sheet_name = [k for k in list(report_df_dict.keys()) if k.startswith(\"סכום\")][0]\n",
    "    print(\"Summary sheet: {}\".format(summary_sheet_name))\n",
    "    return summary_sheet_name"
   ]
  },
  {
   "cell_type": "code",
   "execution_count": 22,
   "metadata": {},
   "outputs": [],
   "source": [
    "def get_company_name_from_summary_sheet(summary_sheet):\n",
    "    '''get company name\n",
    "    '''\n",
    "    # locate the word חברה in the summary sheet\n",
    "    company_loc = np.where(summary_sheet.apply(lambda col: col.str.contains('חברה', na=False), axis=1))\n",
    "    if company_loc[0].size > 0:\n",
    "        company_row = summary_sheet.loc[company_loc[0]]\n",
    "        company_cell = summary_sheet.loc[company_loc].iloc[0, 0]\n",
    "        # handle reports with company name in the same cell as החברה המדווחת\n",
    "        if len(company_cell.split()) > 2:\n",
    "            full_company_name = ' '.join(company_cell.split()[2:])\n",
    "        else:\n",
    "            full_company_name = summary_sheet.loc[company_loc[0], company_loc[1] + 1].iloc[0, 0]\n",
    "        company_name = full_company_name.partition(' ')[0]\n",
    "        print(\"found company name: {}\".format(company_name))\n",
    "        return company_name\n",
    "    else:\n",
    "        print(\"no company found\")\n",
    "        return\n",
    "    \n",
    "def get_asset_allocation_from_summary_sheet(summary_sheet):\n",
    "    '''get asset allocation data from summary sheet\n",
    "    returns: a DataFrame\n",
    "    '''\n",
    "    # locate the word מזומנים as anchor for asset allocation\n",
    "    anchor_loc = np.where(summary_sheet.apply(lambda col: col.str.contains('מזומנים', na=False), axis=1))\n",
    "    if anchor_loc[0].size > 0:\n",
    "        anchor_row_num = anchor_loc[0][0]\n",
    "        anchor_col_num = anchor_loc[1][0]\n",
    "        headers = summary_sheet.iloc[anchor_row_num:,anchor_col_num]\n",
    "        # find the first null in the headers (where to stop parsing)\n",
    "        headers_first_null = headers.loc[headers.isnull()].index[0]\n",
    "        headers_end_index = headers_first_null - 1\n",
    "        asset_alloc = pd.DataFrame()\n",
    "        asset_alloc[\"asset\"] = summary_sheet.iloc[anchor_row_num:headers_end_index, anchor_col_num]\n",
    "        asset_alloc[\"sum\"] = summary_sheet.iloc[anchor_row_num:headers_end_index, anchor_col_num+1]\n",
    "        asset_alloc[\"pct\"] = summary_sheet.iloc[anchor_row_num:headers_end_index, anchor_col_num+2]\n",
    "    else:\n",
    "        print(\"No headers found :(((\")\n",
    "        #         print(summary_sheet.iloc[anchor_row_num:,anchor_col_num:anchor_col_num+2])\n",
    "    return asset_alloc"
   ]
  },
  {
   "cell_type": "code",
   "execution_count": 23,
   "metadata": {},
   "outputs": [],
   "source": [
    "def fix_col_name(col_name):\n",
    "    '''Fix column names across files\n",
    "    '''\n",
    "    # remove * from col_name, fix שיעור to שעור\n",
    "    if type(col_name) == str:\n",
    "        col_name = re.sub(r'[*]+','', col_name)\n",
    "        col_name = col_name.replace('שיעור','שעור')\n",
    "        col_name = col_name.replace('פידיון','פדיון')\n",
    "    # map variations to the same format\n",
    "    if col_name in ['שם נ\"ע', 'שם המנפיק / שם נייר ערך']:\n",
    "        return 'שם המנפיק/שם נייר ערך'\n",
    "    elif col_name in ['מספר נ\"ע']:\n",
    "        return 'מספר ני\"ע'\n",
    "    elif col_name in ['פדיון/ריבית לקבל', 'פידיון/ריבית לקבל', 'פדיון/ ריבית לקבל', 'דיבידנד לקבל']:\n",
    "        return 'פדיון/ריבית/דיבידנד לקבל'\n",
    "    elif col_name in ['שעור מנכסי השקעה']:\n",
    "        return 'שעור מסך נכסי השקעה'\n",
    "    elif col_name in ['ספק המידע']:\n",
    "        return 'ספק מידע'\n",
    "    elif col_name in ['שווי הוגן', 'שווי שוק']:\n",
    "        return 'שווי'\n",
    "    else:\n",
    "        return col_name\n",
    "    \n",
    "def fix_asset_name(asset_name):\n",
    "    '''fix asset names across files\n",
    "    '''\n",
    "    if type(asset_name) == str:\n",
    "        asset_name = asset_name.replace(\"''\",'\"').replace('ל\"ס', 'לא סחיר')\n",
    "        asset_name = asset_name.replace('הקופה', 'המסלול או הקרן')\n",
    "    return asset_name"
   ]
  },
  {
   "cell_type": "code",
   "execution_count": 24,
   "metadata": {},
   "outputs": [],
   "source": [
    "def process_holdings_sheet(sheet, domain, company_name):\n",
    "    '''process holdings sheet, preparing it to be merged across companies and types\n",
    "    '''\n",
    "    sheet = clean_sheet(sheet)\n",
    "    # use first row as header, fix column names\n",
    "    sheet.columns = sheet.iloc[0].str.strip().map(fix_col_name)\n",
    "    sheet = sheet[1:]\n",
    "    sheet[\"גוף\"] = company_name\n",
    "    sheet[\"אפיק\"] = domain\n",
    "    return(sheet)\n",
    "\n",
    "def process_asset_alloc(input_df, domain, company_name):\n",
    "    '''process asset allocation data, preparing it to be merged across companies\n",
    "    handle סחיר / לא סחיר by location in sheet\n",
    "    '''\n",
    "    df = input_df.copy()\n",
    "    df[\"marketable\"] = pd.Series()\n",
    "    marketable_loc = np.where(df[\"asset\"].str.contains('סחיר', na=False))[0][0]\n",
    "    non_marketable_loc = np.where(df[\"asset\"].str.contains('לא סחיר', na=False))[0][0]\n",
    "    loans_loc = np.where(df[\"asset\"].str.contains('הלווא', na=False))[0][0]\n",
    "    df[\"marketable\"][marketable_loc:non_marketable_loc] = True\n",
    "    df[\"marketable\"][non_marketable_loc:loans_loc] = False\n",
    "    df = clean_sheet(df)\n",
    "    df[\"asset\"] = df[\"asset\"].map(remove_leading_numbering).map(fix_asset_name)\n",
    "    df[\"גוף\"] = company_name\n",
    "    df[\"אפיק\"] = domain\n",
    "    return df"
   ]
  },
  {
   "cell_type": "code",
   "execution_count": 25,
   "metadata": {},
   "outputs": [],
   "source": [
    "def clean_results(df, cols_to_keep):\n",
    "    '''clean results DataFrame - keep only necessary columns, remove rows that aren't holdings\n",
    "    '''\n",
    "    df = df[df.columns[df.columns.isin(cols_to_keep)]]\n",
    "    df = df[df['שם המנפיק/שם נייר ערך'].notnull()]\n",
    "    df = df[df['שם המנפיק/שם נייר ערך'] != '0']\n",
    "    df = df[df['שם המנפיק/שם נייר ערך'].str.strip() != '']\n",
    "    df = df[df['מספר ני\"ע'].notnull()]\n",
    "    df = df[cols_to_keep]\n",
    "    return df"
   ]
  },
  {
   "cell_type": "code",
   "execution_count": 26,
   "metadata": {
    "scrolled": true
   },
   "outputs": [
    {
     "name": "stdout",
     "output_type": "stream",
     "text": [
      "\n",
      "Processing domain: גמל\n",
      "***********************\n",
      "\n",
      "Processing file: Report_9_27_2021 (3).xlsx\n",
      "Summary sheet: סכום נכסי הקרן\n",
      "found company name: הפניקס\n",
      "all needed sheets found!\n",
      "\n",
      "Processing file: Report_9_27_2021 (1).xlsx\n"
     ]
    },
    {
     "name": "stderr",
     "output_type": "stream",
     "text": [
      "/Users/urimarom/anaconda3/lib/python3.6/site-packages/ipykernel_launcher.py:17: DeprecationWarning: The default dtype for empty Series will be 'object' instead of 'float64' in a future version. Specify a dtype explicitly to silence this warning.\n",
      "/Users/urimarom/anaconda3/lib/python3.6/site-packages/ipykernel_launcher.py:21: SettingWithCopyWarning: \n",
      "A value is trying to be set on a copy of a slice from a DataFrame\n",
      "\n",
      "See the caveats in the documentation: https://pandas.pydata.org/pandas-docs/stable/user_guide/indexing.html#returning-a-view-versus-a-copy\n"
     ]
    },
    {
     "name": "stdout",
     "output_type": "stream",
     "text": [
      "Summary sheet: סכום נכסי הקרן\n",
      "found company name: אנליסט\n",
      "all needed sheets found!\n",
      "\n",
      "Processing file: Report_9_27_2021 (5).xlsx\n"
     ]
    },
    {
     "name": "stderr",
     "output_type": "stream",
     "text": [
      "/Users/urimarom/anaconda3/lib/python3.6/site-packages/ipykernel_launcher.py:17: DeprecationWarning: The default dtype for empty Series will be 'object' instead of 'float64' in a future version. Specify a dtype explicitly to silence this warning.\n",
      "/Users/urimarom/anaconda3/lib/python3.6/site-packages/ipykernel_launcher.py:21: SettingWithCopyWarning: \n",
      "A value is trying to be set on a copy of a slice from a DataFrame\n",
      "\n",
      "See the caveats in the documentation: https://pandas.pydata.org/pandas-docs/stable/user_guide/indexing.html#returning-a-view-versus-a-copy\n"
     ]
    },
    {
     "name": "stdout",
     "output_type": "stream",
     "text": [
      "Summary sheet: סכום נכסי הקרן\n",
      "found company name: כלל\n",
      "all needed sheets found!\n",
      "\n",
      "Processing file: Report_9_27_2021 (7).xlsx\n"
     ]
    },
    {
     "name": "stderr",
     "output_type": "stream",
     "text": [
      "/Users/urimarom/anaconda3/lib/python3.6/site-packages/ipykernel_launcher.py:17: DeprecationWarning: The default dtype for empty Series will be 'object' instead of 'float64' in a future version. Specify a dtype explicitly to silence this warning.\n",
      "/Users/urimarom/anaconda3/lib/python3.6/site-packages/ipykernel_launcher.py:21: SettingWithCopyWarning: \n",
      "A value is trying to be set on a copy of a slice from a DataFrame\n",
      "\n",
      "See the caveats in the documentation: https://pandas.pydata.org/pandas-docs/stable/user_guide/indexing.html#returning-a-view-versus-a-copy\n"
     ]
    },
    {
     "name": "stdout",
     "output_type": "stream",
     "text": [
      "Summary sheet: סכום נכסי הקרן\n",
      "found company name: מור\n",
      "all needed sheets found!\n",
      "\n",
      "Processing file: Report_9_27_2021 (2).xlsx\n"
     ]
    },
    {
     "name": "stderr",
     "output_type": "stream",
     "text": [
      "/Users/urimarom/anaconda3/lib/python3.6/site-packages/ipykernel_launcher.py:17: DeprecationWarning: The default dtype for empty Series will be 'object' instead of 'float64' in a future version. Specify a dtype explicitly to silence this warning.\n",
      "/Users/urimarom/anaconda3/lib/python3.6/site-packages/ipykernel_launcher.py:21: SettingWithCopyWarning: \n",
      "A value is trying to be set on a copy of a slice from a DataFrame\n",
      "\n",
      "See the caveats in the documentation: https://pandas.pydata.org/pandas-docs/stable/user_guide/indexing.html#returning-a-view-versus-a-copy\n"
     ]
    },
    {
     "name": "stdout",
     "output_type": "stream",
     "text": [
      "Summary sheet: סכום נכסי הקרן\n",
      "found company name: מזרחי\n",
      "all needed sheets found!\n",
      "\n",
      "Processing file: yalin gemel 2021q2.xlsx\n"
     ]
    },
    {
     "name": "stderr",
     "output_type": "stream",
     "text": [
      "/Users/urimarom/anaconda3/lib/python3.6/site-packages/ipykernel_launcher.py:17: DeprecationWarning: The default dtype for empty Series will be 'object' instead of 'float64' in a future version. Specify a dtype explicitly to silence this warning.\n",
      "/Users/urimarom/anaconda3/lib/python3.6/site-packages/ipykernel_launcher.py:21: SettingWithCopyWarning: \n",
      "A value is trying to be set on a copy of a slice from a DataFrame\n",
      "\n",
      "See the caveats in the documentation: https://pandas.pydata.org/pandas-docs/stable/user_guide/indexing.html#returning-a-view-versus-a-copy\n"
     ]
    },
    {
     "name": "stdout",
     "output_type": "stream",
     "text": [
      "Summary sheet: סכום נכסי הקרן\n",
      "found company name: ילין\n",
      "all needed sheets found!\n",
      "\n",
      "Processing file: Report_9_27_2021 (6).xlsx\n"
     ]
    },
    {
     "name": "stderr",
     "output_type": "stream",
     "text": [
      "/Users/urimarom/anaconda3/lib/python3.6/site-packages/ipykernel_launcher.py:17: DeprecationWarning: The default dtype for empty Series will be 'object' instead of 'float64' in a future version. Specify a dtype explicitly to silence this warning.\n",
      "/Users/urimarom/anaconda3/lib/python3.6/site-packages/ipykernel_launcher.py:21: SettingWithCopyWarning: \n",
      "A value is trying to be set on a copy of a slice from a DataFrame\n",
      "\n",
      "See the caveats in the documentation: https://pandas.pydata.org/pandas-docs/stable/user_guide/indexing.html#returning-a-view-versus-a-copy\n"
     ]
    },
    {
     "name": "stdout",
     "output_type": "stream",
     "text": [
      "Summary sheet: סכום נכסי הקרן\n",
      "found company name: מגדל\n",
      "all needed sheets found!\n",
      "\n",
      "Processing file: Report_9_27_2021 (4).xlsx\n"
     ]
    },
    {
     "name": "stderr",
     "output_type": "stream",
     "text": [
      "/Users/urimarom/anaconda3/lib/python3.6/site-packages/ipykernel_launcher.py:17: DeprecationWarning: The default dtype for empty Series will be 'object' instead of 'float64' in a future version. Specify a dtype explicitly to silence this warning.\n",
      "/Users/urimarom/anaconda3/lib/python3.6/site-packages/ipykernel_launcher.py:21: SettingWithCopyWarning: \n",
      "A value is trying to be set on a copy of a slice from a DataFrame\n",
      "\n",
      "See the caveats in the documentation: https://pandas.pydata.org/pandas-docs/stable/user_guide/indexing.html#returning-a-view-versus-a-copy\n"
     ]
    },
    {
     "name": "stdout",
     "output_type": "stream",
     "text": [
      "Summary sheet: סכום נכסי הקרן\n",
      "found company name: הראל\n",
      "all needed sheets found!\n",
      "\n",
      "Processing file: Report_9_27_2021 (8).xlsx\n"
     ]
    },
    {
     "name": "stderr",
     "output_type": "stream",
     "text": [
      "/Users/urimarom/anaconda3/lib/python3.6/site-packages/ipykernel_launcher.py:17: DeprecationWarning: The default dtype for empty Series will be 'object' instead of 'float64' in a future version. Specify a dtype explicitly to silence this warning.\n",
      "/Users/urimarom/anaconda3/lib/python3.6/site-packages/ipykernel_launcher.py:21: SettingWithCopyWarning: \n",
      "A value is trying to be set on a copy of a slice from a DataFrame\n",
      "\n",
      "See the caveats in the documentation: https://pandas.pydata.org/pandas-docs/stable/user_guide/indexing.html#returning-a-view-versus-a-copy\n"
     ]
    },
    {
     "name": "stdout",
     "output_type": "stream",
     "text": [
      "Summary sheet: סכום נכסי הקרן\n",
      "found company name: מיטב\n",
      "all needed sheets found!\n",
      "\n",
      "Processing file: Report_9_28_2021.xlsx\n"
     ]
    },
    {
     "name": "stderr",
     "output_type": "stream",
     "text": [
      "/Users/urimarom/anaconda3/lib/python3.6/site-packages/ipykernel_launcher.py:17: DeprecationWarning: The default dtype for empty Series will be 'object' instead of 'float64' in a future version. Specify a dtype explicitly to silence this warning.\n",
      "/Users/urimarom/anaconda3/lib/python3.6/site-packages/ipykernel_launcher.py:21: SettingWithCopyWarning: \n",
      "A value is trying to be set on a copy of a slice from a DataFrame\n",
      "\n",
      "See the caveats in the documentation: https://pandas.pydata.org/pandas-docs/stable/user_guide/indexing.html#returning-a-view-versus-a-copy\n"
     ]
    },
    {
     "name": "stdout",
     "output_type": "stream",
     "text": [
      "Summary sheet: סכום נכסי הקרן\n",
      "found company name: אלטשולר\n",
      "all needed sheets found!\n",
      "\n",
      "Processing file: Report_9_27_2021 (9).xlsx\n"
     ]
    },
    {
     "name": "stderr",
     "output_type": "stream",
     "text": [
      "/Users/urimarom/anaconda3/lib/python3.6/site-packages/ipykernel_launcher.py:17: DeprecationWarning: The default dtype for empty Series will be 'object' instead of 'float64' in a future version. Specify a dtype explicitly to silence this warning.\n",
      "/Users/urimarom/anaconda3/lib/python3.6/site-packages/ipykernel_launcher.py:21: SettingWithCopyWarning: \n",
      "A value is trying to be set on a copy of a slice from a DataFrame\n",
      "\n",
      "See the caveats in the documentation: https://pandas.pydata.org/pandas-docs/stable/user_guide/indexing.html#returning-a-view-versus-a-copy\n"
     ]
    },
    {
     "name": "stdout",
     "output_type": "stream",
     "text": [
      "Summary sheet: סכום נכסי הקרן\n",
      "found company name: מנורה\n",
      "all needed sheets found!\n",
      "\n",
      "Processing file: Report_9_27_2021 (10).xlsx\n"
     ]
    },
    {
     "name": "stderr",
     "output_type": "stream",
     "text": [
      "/Users/urimarom/anaconda3/lib/python3.6/site-packages/ipykernel_launcher.py:17: DeprecationWarning: The default dtype for empty Series will be 'object' instead of 'float64' in a future version. Specify a dtype explicitly to silence this warning.\n",
      "/Users/urimarom/anaconda3/lib/python3.6/site-packages/ipykernel_launcher.py:21: SettingWithCopyWarning: \n",
      "A value is trying to be set on a copy of a slice from a DataFrame\n",
      "\n",
      "See the caveats in the documentation: https://pandas.pydata.org/pandas-docs/stable/user_guide/indexing.html#returning-a-view-versus-a-copy\n"
     ]
    },
    {
     "name": "stdout",
     "output_type": "stream",
     "text": [
      "Summary sheet: סכום נכסי הקרן\n",
      "found company name: פסגות\n",
      "all needed sheets found!\n",
      "\n",
      "Processing domain: פנסיה\n",
      "***********************\n",
      "\n",
      "Processing file: Report_9_27_2021 (3).xlsx\n"
     ]
    },
    {
     "name": "stderr",
     "output_type": "stream",
     "text": [
      "/Users/urimarom/anaconda3/lib/python3.6/site-packages/ipykernel_launcher.py:17: DeprecationWarning: The default dtype for empty Series will be 'object' instead of 'float64' in a future version. Specify a dtype explicitly to silence this warning.\n",
      "/Users/urimarom/anaconda3/lib/python3.6/site-packages/ipykernel_launcher.py:21: SettingWithCopyWarning: \n",
      "A value is trying to be set on a copy of a slice from a DataFrame\n",
      "\n",
      "See the caveats in the documentation: https://pandas.pydata.org/pandas-docs/stable/user_guide/indexing.html#returning-a-view-versus-a-copy\n"
     ]
    },
    {
     "name": "stdout",
     "output_type": "stream",
     "text": [
      "Summary sheet: סכום נכסי הקרן\n",
      "found company name: הראל\n",
      "all needed sheets found!\n",
      "\n",
      "Processing file: Report_9_27_2021 (1).xlsx\n"
     ]
    },
    {
     "name": "stderr",
     "output_type": "stream",
     "text": [
      "/Users/urimarom/anaconda3/lib/python3.6/site-packages/ipykernel_launcher.py:17: DeprecationWarning: The default dtype for empty Series will be 'object' instead of 'float64' in a future version. Specify a dtype explicitly to silence this warning.\n",
      "/Users/urimarom/anaconda3/lib/python3.6/site-packages/ipykernel_launcher.py:21: SettingWithCopyWarning: \n",
      "A value is trying to be set on a copy of a slice from a DataFrame\n",
      "\n",
      "See the caveats in the documentation: https://pandas.pydata.org/pandas-docs/stable/user_guide/indexing.html#returning-a-view-versus-a-copy\n"
     ]
    },
    {
     "name": "stdout",
     "output_type": "stream",
     "text": [
      "Summary sheet: סכום נכסי הקרן\n",
      "found company name: הלמן\n",
      "all needed sheets found!\n",
      "\n",
      "Processing file: Report_9_27_2021.xlsx\n"
     ]
    },
    {
     "name": "stderr",
     "output_type": "stream",
     "text": [
      "/Users/urimarom/anaconda3/lib/python3.6/site-packages/ipykernel_launcher.py:17: DeprecationWarning: The default dtype for empty Series will be 'object' instead of 'float64' in a future version. Specify a dtype explicitly to silence this warning.\n",
      "/Users/urimarom/anaconda3/lib/python3.6/site-packages/ipykernel_launcher.py:21: SettingWithCopyWarning: \n",
      "A value is trying to be set on a copy of a slice from a DataFrame\n",
      "\n",
      "See the caveats in the documentation: https://pandas.pydata.org/pandas-docs/stable/user_guide/indexing.html#returning-a-view-versus-a-copy\n"
     ]
    },
    {
     "name": "stdout",
     "output_type": "stream",
     "text": [
      "Summary sheet: סכום נכסי הקרן\n",
      "found company name: אלטשולר\n",
      "all needed sheets found!\n",
      "\n",
      "Processing file: Report_9_27_2021 (5).xlsx\n"
     ]
    },
    {
     "name": "stderr",
     "output_type": "stream",
     "text": [
      "/Users/urimarom/anaconda3/lib/python3.6/site-packages/ipykernel_launcher.py:17: DeprecationWarning: The default dtype for empty Series will be 'object' instead of 'float64' in a future version. Specify a dtype explicitly to silence this warning.\n",
      "/Users/urimarom/anaconda3/lib/python3.6/site-packages/ipykernel_launcher.py:21: SettingWithCopyWarning: \n",
      "A value is trying to be set on a copy of a slice from a DataFrame\n",
      "\n",
      "See the caveats in the documentation: https://pandas.pydata.org/pandas-docs/stable/user_guide/indexing.html#returning-a-view-versus-a-copy\n"
     ]
    },
    {
     "name": "stdout",
     "output_type": "stream",
     "text": [
      "Summary sheet: סכום נכסי הקרן\n",
      "found company name: מגדל\n",
      "all needed sheets found!\n",
      "\n",
      "Processing file: Report_9_27_2021 (7).xlsx\n"
     ]
    },
    {
     "name": "stderr",
     "output_type": "stream",
     "text": [
      "/Users/urimarom/anaconda3/lib/python3.6/site-packages/ipykernel_launcher.py:17: DeprecationWarning: The default dtype for empty Series will be 'object' instead of 'float64' in a future version. Specify a dtype explicitly to silence this warning.\n",
      "/Users/urimarom/anaconda3/lib/python3.6/site-packages/ipykernel_launcher.py:21: SettingWithCopyWarning: \n",
      "A value is trying to be set on a copy of a slice from a DataFrame\n",
      "\n",
      "See the caveats in the documentation: https://pandas.pydata.org/pandas-docs/stable/user_guide/indexing.html#returning-a-view-versus-a-copy\n"
     ]
    },
    {
     "name": "stdout",
     "output_type": "stream",
     "text": [
      "Summary sheet: סכום נכסי הקרן\n",
      "found company name: מנורה\n",
      "all needed sheets found!\n",
      "\n",
      "Processing file: Report_9_27_2021 (2).xlsx\n"
     ]
    },
    {
     "name": "stderr",
     "output_type": "stream",
     "text": [
      "/Users/urimarom/anaconda3/lib/python3.6/site-packages/ipykernel_launcher.py:17: DeprecationWarning: The default dtype for empty Series will be 'object' instead of 'float64' in a future version. Specify a dtype explicitly to silence this warning.\n",
      "/Users/urimarom/anaconda3/lib/python3.6/site-packages/ipykernel_launcher.py:21: SettingWithCopyWarning: \n",
      "A value is trying to be set on a copy of a slice from a DataFrame\n",
      "\n",
      "See the caveats in the documentation: https://pandas.pydata.org/pandas-docs/stable/user_guide/indexing.html#returning-a-view-versus-a-copy\n"
     ]
    },
    {
     "name": "stdout",
     "output_type": "stream",
     "text": [
      "Summary sheet: סכום נכסי הקרן\n",
      "found company name: הפניקס\n",
      "all needed sheets found!\n",
      "\n",
      "Processing file: Report_9_27_2021 (6).xlsx\n"
     ]
    },
    {
     "name": "stderr",
     "output_type": "stream",
     "text": [
      "/Users/urimarom/anaconda3/lib/python3.6/site-packages/ipykernel_launcher.py:17: DeprecationWarning: The default dtype for empty Series will be 'object' instead of 'float64' in a future version. Specify a dtype explicitly to silence this warning.\n",
      "/Users/urimarom/anaconda3/lib/python3.6/site-packages/ipykernel_launcher.py:21: SettingWithCopyWarning: \n",
      "A value is trying to be set on a copy of a slice from a DataFrame\n",
      "\n",
      "See the caveats in the documentation: https://pandas.pydata.org/pandas-docs/stable/user_guide/indexing.html#returning-a-view-versus-a-copy\n"
     ]
    },
    {
     "name": "stdout",
     "output_type": "stream",
     "text": [
      "Summary sheet: סכום נכסי הקרן\n",
      "found company name: מיטב\n",
      "all needed sheets found!\n",
      "\n",
      "Processing file: Report_9_27_2021 (4).xlsx\n"
     ]
    },
    {
     "name": "stderr",
     "output_type": "stream",
     "text": [
      "/Users/urimarom/anaconda3/lib/python3.6/site-packages/ipykernel_launcher.py:17: DeprecationWarning: The default dtype for empty Series will be 'object' instead of 'float64' in a future version. Specify a dtype explicitly to silence this warning.\n",
      "/Users/urimarom/anaconda3/lib/python3.6/site-packages/ipykernel_launcher.py:21: SettingWithCopyWarning: \n",
      "A value is trying to be set on a copy of a slice from a DataFrame\n",
      "\n",
      "See the caveats in the documentation: https://pandas.pydata.org/pandas-docs/stable/user_guide/indexing.html#returning-a-view-versus-a-copy\n"
     ]
    },
    {
     "name": "stdout",
     "output_type": "stream",
     "text": [
      "Summary sheet: סכום נכסי הקרן\n",
      "found company name: כלל\n",
      "all needed sheets found!\n",
      "\n",
      "Processing file: Report_9_27_2021 (8).xlsx\n"
     ]
    },
    {
     "name": "stderr",
     "output_type": "stream",
     "text": [
      "/Users/urimarom/anaconda3/lib/python3.6/site-packages/ipykernel_launcher.py:17: DeprecationWarning: The default dtype for empty Series will be 'object' instead of 'float64' in a future version. Specify a dtype explicitly to silence this warning.\n",
      "/Users/urimarom/anaconda3/lib/python3.6/site-packages/ipykernel_launcher.py:21: SettingWithCopyWarning: \n",
      "A value is trying to be set on a copy of a slice from a DataFrame\n",
      "\n",
      "See the caveats in the documentation: https://pandas.pydata.org/pandas-docs/stable/user_guide/indexing.html#returning-a-view-versus-a-copy\n"
     ]
    },
    {
     "name": "stdout",
     "output_type": "stream",
     "text": [
      "Summary sheet: סכום נכסי הקרן\n",
      "found company name: פסגות\n",
      "all needed sheets found!\n",
      "\n",
      "Processing domain: ביטוח\n",
      "***********************\n",
      "\n",
      "Processing file: Report_9_27_2021 (3).xlsx\n"
     ]
    },
    {
     "name": "stderr",
     "output_type": "stream",
     "text": [
      "/Users/urimarom/anaconda3/lib/python3.6/site-packages/ipykernel_launcher.py:17: DeprecationWarning: The default dtype for empty Series will be 'object' instead of 'float64' in a future version. Specify a dtype explicitly to silence this warning.\n",
      "/Users/urimarom/anaconda3/lib/python3.6/site-packages/ipykernel_launcher.py:21: SettingWithCopyWarning: \n",
      "A value is trying to be set on a copy of a slice from a DataFrame\n",
      "\n",
      "See the caveats in the documentation: https://pandas.pydata.org/pandas-docs/stable/user_guide/indexing.html#returning-a-view-versus-a-copy\n"
     ]
    },
    {
     "name": "stdout",
     "output_type": "stream",
     "text": [
      "Summary sheet: סכום נכסי הקרן\n",
      "found company name: הפניקס\n",
      "all needed sheets found!\n",
      "\n",
      "Processing file: Report_9_27_2021 (1).xlsx\n"
     ]
    },
    {
     "name": "stderr",
     "output_type": "stream",
     "text": [
      "/Users/urimarom/anaconda3/lib/python3.6/site-packages/ipykernel_launcher.py:17: DeprecationWarning: The default dtype for empty Series will be 'object' instead of 'float64' in a future version. Specify a dtype explicitly to silence this warning.\n",
      "/Users/urimarom/anaconda3/lib/python3.6/site-packages/ipykernel_launcher.py:21: SettingWithCopyWarning: \n",
      "A value is trying to be set on a copy of a slice from a DataFrame\n",
      "\n",
      "See the caveats in the documentation: https://pandas.pydata.org/pandas-docs/stable/user_guide/indexing.html#returning-a-view-versus-a-copy\n"
     ]
    },
    {
     "name": "stdout",
     "output_type": "stream",
     "text": [
      "Summary sheet: סכום נכסי הקרן\n",
      "found company name: מגדל\n",
      "all needed sheets found!\n",
      "\n",
      "Processing file: menora - 2021q2 - bituach.xlsx\n"
     ]
    },
    {
     "name": "stderr",
     "output_type": "stream",
     "text": [
      "/Users/urimarom/anaconda3/lib/python3.6/site-packages/ipykernel_launcher.py:17: DeprecationWarning: The default dtype for empty Series will be 'object' instead of 'float64' in a future version. Specify a dtype explicitly to silence this warning.\n",
      "/Users/urimarom/anaconda3/lib/python3.6/site-packages/ipykernel_launcher.py:21: SettingWithCopyWarning: \n",
      "A value is trying to be set on a copy of a slice from a DataFrame\n",
      "\n",
      "See the caveats in the documentation: https://pandas.pydata.org/pandas-docs/stable/user_guide/indexing.html#returning-a-view-versus-a-copy\n"
     ]
    },
    {
     "name": "stdout",
     "output_type": "stream",
     "text": [
      "Summary sheet: סכום נכסי הקרן\n",
      "found company name: מנורה\n",
      "all needed sheets found!\n",
      "\n",
      "Processing file: Report_9_27_2021.xlsx\n"
     ]
    },
    {
     "name": "stderr",
     "output_type": "stream",
     "text": [
      "/Users/urimarom/anaconda3/lib/python3.6/site-packages/ipykernel_launcher.py:17: DeprecationWarning: The default dtype for empty Series will be 'object' instead of 'float64' in a future version. Specify a dtype explicitly to silence this warning.\n",
      "/Users/urimarom/anaconda3/lib/python3.6/site-packages/ipykernel_launcher.py:21: SettingWithCopyWarning: \n",
      "A value is trying to be set on a copy of a slice from a DataFrame\n",
      "\n",
      "See the caveats in the documentation: https://pandas.pydata.org/pandas-docs/stable/user_guide/indexing.html#returning-a-view-versus-a-copy\n"
     ]
    },
    {
     "name": "stdout",
     "output_type": "stream",
     "text": [
      "Summary sheet: סכום נכסי הקרן\n",
      "found company name: כלל\n",
      "all needed sheets found!\n",
      "\n",
      "Processing file: Report_9_27_2021 (2).xlsx\n"
     ]
    },
    {
     "name": "stderr",
     "output_type": "stream",
     "text": [
      "/Users/urimarom/anaconda3/lib/python3.6/site-packages/ipykernel_launcher.py:17: DeprecationWarning: The default dtype for empty Series will be 'object' instead of 'float64' in a future version. Specify a dtype explicitly to silence this warning.\n",
      "/Users/urimarom/anaconda3/lib/python3.6/site-packages/ipykernel_launcher.py:21: SettingWithCopyWarning: \n",
      "A value is trying to be set on a copy of a slice from a DataFrame\n",
      "\n",
      "See the caveats in the documentation: https://pandas.pydata.org/pandas-docs/stable/user_guide/indexing.html#returning-a-view-versus-a-copy\n"
     ]
    },
    {
     "name": "stdout",
     "output_type": "stream",
     "text": [
      "Summary sheet: סכום נכסי הקרן\n",
      "found company name: הראל\n",
      "all needed sheets found!\n"
     ]
    },
    {
     "name": "stderr",
     "output_type": "stream",
     "text": [
      "/Users/urimarom/anaconda3/lib/python3.6/site-packages/ipykernel_launcher.py:17: DeprecationWarning: The default dtype for empty Series will be 'object' instead of 'float64' in a future version. Specify a dtype explicitly to silence this warning.\n",
      "/Users/urimarom/anaconda3/lib/python3.6/site-packages/ipykernel_launcher.py:21: SettingWithCopyWarning: \n",
      "A value is trying to be set on a copy of a slice from a DataFrame\n",
      "\n",
      "See the caveats in the documentation: https://pandas.pydata.org/pandas-docs/stable/user_guide/indexing.html#returning-a-view-versus-a-copy\n"
     ]
    }
   ],
   "source": [
    "# loop over domains (subdirectories)\n",
    "domains = [f.name for f in scandir(reports_path) if f.is_dir()]\n",
    "holdings = {s: pd.DataFrame() for s in included_sheets}\n",
    "asset_allocs = pd.DataFrame()\n",
    "column_names = {s: {} for s in included_sheets}\n",
    "\n",
    "for d in domains:\n",
    "    print(\"\\nProcessing domain: {}\".format(d))\n",
    "    print(\"***********************\")\n",
    "    domain_path = reports_path+d\n",
    "    chdir(domain_path)\n",
    "    # loop over files within each domain (subdirectory)\n",
    "    reports_fn_list = [f for f in listdir(domain_path) if isfile(join(domain_path, f)) and not(f.startswith(\".\"))]\n",
    "    for fn in reports_fn_list:\n",
    "        print(\"\\nProcessing file: {}\".format(fn))\n",
    "        report_df_dict = pd.read_excel(fn, sheet_name=None, header=None)\n",
    "        summary_sheet_name = get_summary_sheet_name(report_df_dict)\n",
    "        company_name = get_company_name_from_summary_sheet(report_df_dict[summary_sheet_name])\n",
    "        asset_alloc = get_asset_allocation_from_summary_sheet(report_df_dict[summary_sheet_name])\n",
    "        asset_allocs = asset_allocs.append(process_asset_alloc(asset_alloc, domain=d, company_name=company_name))\n",
    "        if verify_sheets(report_df_dict, included_sheets):\n",
    "            for sheet_name in included_sheets:\n",
    "                sheet = process_holdings_sheet(sheet=report_df_dict[sheet_name],\n",
    "                                               domain=d,\n",
    "                                               company_name=company_name\n",
    "                                              )\n",
    "                holdings[sheet_name] = holdings[sheet_name].append(sheet)\n",
    "                column_names[sheet_name][company_name] = sheet.columns"
   ]
  },
  {
   "cell_type": "code",
   "execution_count": 27,
   "metadata": {},
   "outputs": [],
   "source": [
    "asset_allocs.to_csv(reports_path+\"asset_allocs.csv\")"
   ]
  },
  {
   "cell_type": "code",
   "execution_count": 28,
   "metadata": {},
   "outputs": [
    {
     "name": "stdout",
     "output_type": "stream",
     "text": [
      "Unified holdings file written to: /Users/urimarom/Downloads/holdings reports/2021q2 reports/quarterly_holdings_for_classification.xlsx\n"
     ]
    }
   ],
   "source": [
    "# write results to excel\n",
    "output_path = reports_path+'quarterly_holdings_for_classification.xlsx'\n",
    "writer = pd.ExcelWriter(output_path)\n",
    "\n",
    "for k in holdings:\n",
    "    df = holdings[k]\n",
    "    df = clean_results(df, cols_to_keep=cols_to_keep)\n",
    "    df.to_excel(writer, sheet_name = k, index = False)\n",
    "writer.save()\n",
    "print(\"Unified holdings file written to: {}\".format(output_path))"
   ]
  },
  {
   "cell_type": "code",
   "execution_count": null,
   "metadata": {},
   "outputs": [],
   "source": []
  }
 ],
 "metadata": {
  "kernelspec": {
   "display_name": "Python 3",
   "language": "python",
   "name": "python3"
  },
  "language_info": {
   "codemirror_mode": {
    "name": "ipython",
    "version": 3
   },
   "file_extension": ".py",
   "mimetype": "text/x-python",
   "name": "python",
   "nbconvert_exporter": "python",
   "pygments_lexer": "ipython3",
   "version": "3.6.4"
  }
 },
 "nbformat": 4,
 "nbformat_minor": 2
}
