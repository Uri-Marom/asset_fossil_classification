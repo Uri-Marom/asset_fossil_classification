{
 "cells": [
  {
   "cell_type": "markdown",
   "id": "cccb375d",
   "metadata": {},
   "source": [
    "# Google Spreadsheets to db playground"
   ]
  },
  {
   "cell_type": "code",
   "execution_count": null,
   "id": "8369825e",
   "metadata": {},
   "outputs": [],
   "source": [
    "import sys\n",
    "sys.path.insert(1, '../../fossil_classification/')\n",
    "sys.path.insert(1, '../')\n",
    "import os\n",
    "os.chdir('../')"
   ]
  },
  {
   "cell_type": "code",
   "execution_count": null,
   "id": "ff81cbdf",
   "metadata": {},
   "outputs": [],
   "source": [
    "from gspread_to_db import *"
   ]
  },
  {
   "cell_type": "code",
   "execution_count": null,
   "id": "2e24ab62",
   "metadata": {},
   "outputs": [],
   "source": [
    "sh_key = '1o1Fg0mqVMLuGdlowURtSs_0WcgENl87WmPLeXdmEUSE'\n",
    "table_name = 'index_components'"
   ]
  },
  {
   "cell_type": "code",
   "execution_count": null,
   "id": "8a5750be",
   "metadata": {},
   "outputs": [],
   "source": [
    "gspread_to_db_table(sh_key, table_name)"
   ]
  },
  {
   "cell_type": "code",
   "execution_count": null,
   "id": "af2682b7",
   "metadata": {},
   "outputs": [],
   "source": [
    "sh_key='16bgHtRKJqOMFC3O-UuJvgEUiyZCf7FsJ-7dbTQAEASU'\n",
    "table_name='holdings_dne_flags'\n",
    "gspread_to_db_table(sh_key, table_name)"
   ]
  },
  {
   "cell_type": "code",
   "execution_count": null,
   "id": "b3af13a0",
   "metadata": {},
   "outputs": [],
   "source": [
    "# TODO - create a g-spreadsheet with sh_keys, sheet_num, table_name - master g-spreadsheet for sync with db"
   ]
  },
  {
   "cell_type": "markdown",
   "id": "e18b9e16",
   "metadata": {},
   "source": [
    "# Type Error handling playgound"
   ]
  },
  {
   "cell_type": "code",
   "execution_count": 10,
   "id": "0bdc9882",
   "metadata": {},
   "outputs": [],
   "source": [
    "import pandas as pd"
   ]
  },
  {
   "cell_type": "code",
   "execution_count": 43,
   "id": "abf8c39b",
   "metadata": {},
   "outputs": [
    {
     "ename": "TypeError",
     "evalue": "expected <class 'str'>",
     "output_type": "error",
     "traceback": [
      "\u001b[0;31m---------------------------------------------------------------------------\u001b[0m",
      "\u001b[0;31mTypeError\u001b[0m                                 Traceback (most recent call last)",
      "Input \u001b[0;32mIn [43]\u001b[0m, in \u001b[0;36m<cell line: 2>\u001b[0;34m()\u001b[0m\n\u001b[1;32m      1\u001b[0m type_error_file_path \u001b[38;5;241m=\u001b[39m \u001b[38;5;124m'\u001b[39m\u001b[38;5;124m/Users/urimarom/Downloads/2500133.xlsx\u001b[39m\u001b[38;5;124m'\u001b[39m\n\u001b[0;32m----> 2\u001b[0m test \u001b[38;5;241m=\u001b[39m \u001b[43mpd\u001b[49m\u001b[38;5;241;43m.\u001b[39;49m\u001b[43mread_excel\u001b[49m\u001b[43m(\u001b[49m\u001b[43mtype_error_file_path\u001b[49m\u001b[43m,\u001b[49m\u001b[43m \u001b[49m\u001b[43msheet_name\u001b[49m\u001b[38;5;241;43m=\u001b[39;49m\u001b[38;5;241;43m1\u001b[39;49m\u001b[43m)\u001b[49m\n",
      "File \u001b[0;32m~/opt/anaconda3/lib/python3.9/site-packages/pandas/util/_decorators.py:311\u001b[0m, in \u001b[0;36mdeprecate_nonkeyword_arguments.<locals>.decorate.<locals>.wrapper\u001b[0;34m(*args, **kwargs)\u001b[0m\n\u001b[1;32m    305\u001b[0m \u001b[38;5;28;01mif\u001b[39;00m \u001b[38;5;28mlen\u001b[39m(args) \u001b[38;5;241m>\u001b[39m num_allow_args:\n\u001b[1;32m    306\u001b[0m     warnings\u001b[38;5;241m.\u001b[39mwarn(\n\u001b[1;32m    307\u001b[0m         msg\u001b[38;5;241m.\u001b[39mformat(arguments\u001b[38;5;241m=\u001b[39marguments),\n\u001b[1;32m    308\u001b[0m         \u001b[38;5;167;01mFutureWarning\u001b[39;00m,\n\u001b[1;32m    309\u001b[0m         stacklevel\u001b[38;5;241m=\u001b[39mstacklevel,\n\u001b[1;32m    310\u001b[0m     )\n\u001b[0;32m--> 311\u001b[0m \u001b[38;5;28;01mreturn\u001b[39;00m \u001b[43mfunc\u001b[49m\u001b[43m(\u001b[49m\u001b[38;5;241;43m*\u001b[39;49m\u001b[43margs\u001b[49m\u001b[43m,\u001b[49m\u001b[43m \u001b[49m\u001b[38;5;241;43m*\u001b[39;49m\u001b[38;5;241;43m*\u001b[39;49m\u001b[43mkwargs\u001b[49m\u001b[43m)\u001b[49m\n",
      "File \u001b[0;32m~/opt/anaconda3/lib/python3.9/site-packages/pandas/io/excel/_base.py:457\u001b[0m, in \u001b[0;36mread_excel\u001b[0;34m(io, sheet_name, header, names, index_col, usecols, squeeze, dtype, engine, converters, true_values, false_values, skiprows, nrows, na_values, keep_default_na, na_filter, verbose, parse_dates, date_parser, thousands, decimal, comment, skipfooter, convert_float, mangle_dupe_cols, storage_options)\u001b[0m\n\u001b[1;32m    455\u001b[0m \u001b[38;5;28;01mif\u001b[39;00m \u001b[38;5;129;01mnot\u001b[39;00m \u001b[38;5;28misinstance\u001b[39m(io, ExcelFile):\n\u001b[1;32m    456\u001b[0m     should_close \u001b[38;5;241m=\u001b[39m \u001b[38;5;28;01mTrue\u001b[39;00m\n\u001b[0;32m--> 457\u001b[0m     io \u001b[38;5;241m=\u001b[39m \u001b[43mExcelFile\u001b[49m\u001b[43m(\u001b[49m\u001b[43mio\u001b[49m\u001b[43m,\u001b[49m\u001b[43m \u001b[49m\u001b[43mstorage_options\u001b[49m\u001b[38;5;241;43m=\u001b[39;49m\u001b[43mstorage_options\u001b[49m\u001b[43m,\u001b[49m\u001b[43m \u001b[49m\u001b[43mengine\u001b[49m\u001b[38;5;241;43m=\u001b[39;49m\u001b[43mengine\u001b[49m\u001b[43m)\u001b[49m\n\u001b[1;32m    458\u001b[0m \u001b[38;5;28;01melif\u001b[39;00m engine \u001b[38;5;129;01mand\u001b[39;00m engine \u001b[38;5;241m!=\u001b[39m io\u001b[38;5;241m.\u001b[39mengine:\n\u001b[1;32m    459\u001b[0m     \u001b[38;5;28;01mraise\u001b[39;00m \u001b[38;5;167;01mValueError\u001b[39;00m(\n\u001b[1;32m    460\u001b[0m         \u001b[38;5;124m\"\u001b[39m\u001b[38;5;124mEngine should not be specified when passing \u001b[39m\u001b[38;5;124m\"\u001b[39m\n\u001b[1;32m    461\u001b[0m         \u001b[38;5;124m\"\u001b[39m\u001b[38;5;124man ExcelFile - ExcelFile already has the engine set\u001b[39m\u001b[38;5;124m\"\u001b[39m\n\u001b[1;32m    462\u001b[0m     )\n",
      "File \u001b[0;32m~/opt/anaconda3/lib/python3.9/site-packages/pandas/io/excel/_base.py:1419\u001b[0m, in \u001b[0;36mExcelFile.__init__\u001b[0;34m(self, path_or_buffer, engine, storage_options)\u001b[0m\n\u001b[1;32m   1416\u001b[0m \u001b[38;5;28mself\u001b[39m\u001b[38;5;241m.\u001b[39mengine \u001b[38;5;241m=\u001b[39m engine\n\u001b[1;32m   1417\u001b[0m \u001b[38;5;28mself\u001b[39m\u001b[38;5;241m.\u001b[39mstorage_options \u001b[38;5;241m=\u001b[39m storage_options\n\u001b[0;32m-> 1419\u001b[0m \u001b[38;5;28mself\u001b[39m\u001b[38;5;241m.\u001b[39m_reader \u001b[38;5;241m=\u001b[39m \u001b[38;5;28;43mself\u001b[39;49m\u001b[38;5;241;43m.\u001b[39;49m\u001b[43m_engines\u001b[49m\u001b[43m[\u001b[49m\u001b[43mengine\u001b[49m\u001b[43m]\u001b[49m\u001b[43m(\u001b[49m\u001b[38;5;28;43mself\u001b[39;49m\u001b[38;5;241;43m.\u001b[39;49m\u001b[43m_io\u001b[49m\u001b[43m,\u001b[49m\u001b[43m \u001b[49m\u001b[43mstorage_options\u001b[49m\u001b[38;5;241;43m=\u001b[39;49m\u001b[43mstorage_options\u001b[49m\u001b[43m)\u001b[49m\n",
      "File \u001b[0;32m~/opt/anaconda3/lib/python3.9/site-packages/pandas/io/excel/_openpyxl.py:525\u001b[0m, in \u001b[0;36mOpenpyxlReader.__init__\u001b[0;34m(self, filepath_or_buffer, storage_options)\u001b[0m\n\u001b[1;32m    514\u001b[0m \u001b[38;5;124;03m\"\"\"\u001b[39;00m\n\u001b[1;32m    515\u001b[0m \u001b[38;5;124;03mReader using openpyxl engine.\u001b[39;00m\n\u001b[1;32m    516\u001b[0m \n\u001b[0;32m   (...)\u001b[0m\n\u001b[1;32m    522\u001b[0m \u001b[38;5;124;03m    passed to fsspec for appropriate URLs (see ``_get_filepath_or_buffer``)\u001b[39;00m\n\u001b[1;32m    523\u001b[0m \u001b[38;5;124;03m\"\"\"\u001b[39;00m\n\u001b[1;32m    524\u001b[0m import_optional_dependency(\u001b[38;5;124m\"\u001b[39m\u001b[38;5;124mopenpyxl\u001b[39m\u001b[38;5;124m\"\u001b[39m)\n\u001b[0;32m--> 525\u001b[0m \u001b[38;5;28;43msuper\u001b[39;49m\u001b[43m(\u001b[49m\u001b[43m)\u001b[49m\u001b[38;5;241;43m.\u001b[39;49m\u001b[38;5;21;43m__init__\u001b[39;49m\u001b[43m(\u001b[49m\u001b[43mfilepath_or_buffer\u001b[49m\u001b[43m,\u001b[49m\u001b[43m \u001b[49m\u001b[43mstorage_options\u001b[49m\u001b[38;5;241;43m=\u001b[39;49m\u001b[43mstorage_options\u001b[49m\u001b[43m)\u001b[49m\n",
      "File \u001b[0;32m~/opt/anaconda3/lib/python3.9/site-packages/pandas/io/excel/_base.py:518\u001b[0m, in \u001b[0;36mBaseExcelReader.__init__\u001b[0;34m(self, filepath_or_buffer, storage_options)\u001b[0m\n\u001b[1;32m    516\u001b[0m \u001b[38;5;28mself\u001b[39m\u001b[38;5;241m.\u001b[39mhandles\u001b[38;5;241m.\u001b[39mhandle\u001b[38;5;241m.\u001b[39mseek(\u001b[38;5;241m0\u001b[39m)\n\u001b[1;32m    517\u001b[0m \u001b[38;5;28;01mtry\u001b[39;00m:\n\u001b[0;32m--> 518\u001b[0m     \u001b[38;5;28mself\u001b[39m\u001b[38;5;241m.\u001b[39mbook \u001b[38;5;241m=\u001b[39m \u001b[38;5;28;43mself\u001b[39;49m\u001b[38;5;241;43m.\u001b[39;49m\u001b[43mload_workbook\u001b[49m\u001b[43m(\u001b[49m\u001b[38;5;28;43mself\u001b[39;49m\u001b[38;5;241;43m.\u001b[39;49m\u001b[43mhandles\u001b[49m\u001b[38;5;241;43m.\u001b[39;49m\u001b[43mhandle\u001b[49m\u001b[43m)\u001b[49m\n\u001b[1;32m    519\u001b[0m \u001b[38;5;28;01mexcept\u001b[39;00m \u001b[38;5;167;01mException\u001b[39;00m:\n\u001b[1;32m    520\u001b[0m     \u001b[38;5;28mself\u001b[39m\u001b[38;5;241m.\u001b[39mclose()\n",
      "File \u001b[0;32m~/opt/anaconda3/lib/python3.9/site-packages/pandas/io/excel/_openpyxl.py:536\u001b[0m, in \u001b[0;36mOpenpyxlReader.load_workbook\u001b[0;34m(self, filepath_or_buffer)\u001b[0m\n\u001b[1;32m    533\u001b[0m \u001b[38;5;28;01mdef\u001b[39;00m \u001b[38;5;21mload_workbook\u001b[39m(\u001b[38;5;28mself\u001b[39m, filepath_or_buffer: FilePath \u001b[38;5;241m|\u001b[39m ReadBuffer[\u001b[38;5;28mbytes\u001b[39m]):\n\u001b[1;32m    534\u001b[0m     \u001b[38;5;28;01mfrom\u001b[39;00m \u001b[38;5;21;01mopenpyxl\u001b[39;00m \u001b[38;5;28;01mimport\u001b[39;00m load_workbook\n\u001b[0;32m--> 536\u001b[0m     \u001b[38;5;28;01mreturn\u001b[39;00m \u001b[43mload_workbook\u001b[49m\u001b[43m(\u001b[49m\n\u001b[1;32m    537\u001b[0m \u001b[43m        \u001b[49m\u001b[43mfilepath_or_buffer\u001b[49m\u001b[43m,\u001b[49m\u001b[43m \u001b[49m\u001b[43mread_only\u001b[49m\u001b[38;5;241;43m=\u001b[39;49m\u001b[38;5;28;43;01mTrue\u001b[39;49;00m\u001b[43m,\u001b[49m\u001b[43m \u001b[49m\u001b[43mdata_only\u001b[49m\u001b[38;5;241;43m=\u001b[39;49m\u001b[38;5;28;43;01mTrue\u001b[39;49;00m\u001b[43m,\u001b[49m\u001b[43m \u001b[49m\u001b[43mkeep_links\u001b[49m\u001b[38;5;241;43m=\u001b[39;49m\u001b[38;5;28;43;01mFalse\u001b[39;49;00m\n\u001b[1;32m    538\u001b[0m \u001b[43m    \u001b[49m\u001b[43m)\u001b[49m\n",
      "File \u001b[0;32m~/opt/anaconda3/lib/python3.9/site-packages/openpyxl/reader/excel.py:317\u001b[0m, in \u001b[0;36mload_workbook\u001b[0;34m(filename, read_only, keep_vba, data_only, keep_links)\u001b[0m\n\u001b[1;32m    290\u001b[0m \u001b[38;5;124;03m\"\"\"Open the given filename and return the workbook\u001b[39;00m\n\u001b[1;32m    291\u001b[0m \n\u001b[1;32m    292\u001b[0m \u001b[38;5;124;03m:param filename: the path to open or a file-like object\u001b[39;00m\n\u001b[0;32m   (...)\u001b[0m\n\u001b[1;32m    313\u001b[0m \n\u001b[1;32m    314\u001b[0m \u001b[38;5;124;03m\"\"\"\u001b[39;00m\n\u001b[1;32m    315\u001b[0m reader \u001b[38;5;241m=\u001b[39m ExcelReader(filename, read_only, keep_vba,\n\u001b[1;32m    316\u001b[0m                     data_only, keep_links)\n\u001b[0;32m--> 317\u001b[0m \u001b[43mreader\u001b[49m\u001b[38;5;241;43m.\u001b[39;49m\u001b[43mread\u001b[49m\u001b[43m(\u001b[49m\u001b[43m)\u001b[49m\n\u001b[1;32m    318\u001b[0m \u001b[38;5;28;01mreturn\u001b[39;00m reader\u001b[38;5;241m.\u001b[39mwb\n",
      "File \u001b[0;32m~/opt/anaconda3/lib/python3.9/site-packages/openpyxl/reader/excel.py:281\u001b[0m, in \u001b[0;36mExcelReader.read\u001b[0;34m(self)\u001b[0m\n\u001b[1;32m    279\u001b[0m \u001b[38;5;28mself\u001b[39m\u001b[38;5;241m.\u001b[39mread_properties()\n\u001b[1;32m    280\u001b[0m \u001b[38;5;28mself\u001b[39m\u001b[38;5;241m.\u001b[39mread_theme()\n\u001b[0;32m--> 281\u001b[0m \u001b[43mapply_stylesheet\u001b[49m\u001b[43m(\u001b[49m\u001b[38;5;28;43mself\u001b[39;49m\u001b[38;5;241;43m.\u001b[39;49m\u001b[43marchive\u001b[49m\u001b[43m,\u001b[49m\u001b[43m \u001b[49m\u001b[38;5;28;43mself\u001b[39;49m\u001b[38;5;241;43m.\u001b[39;49m\u001b[43mwb\u001b[49m\u001b[43m)\u001b[49m\n\u001b[1;32m    282\u001b[0m \u001b[38;5;28mself\u001b[39m\u001b[38;5;241m.\u001b[39mread_worksheets()\n\u001b[1;32m    283\u001b[0m \u001b[38;5;28mself\u001b[39m\u001b[38;5;241m.\u001b[39mparser\u001b[38;5;241m.\u001b[39massign_names()\n",
      "File \u001b[0;32m~/opt/anaconda3/lib/python3.9/site-packages/openpyxl/styles/stylesheet.py:198\u001b[0m, in \u001b[0;36mapply_stylesheet\u001b[0;34m(archive, wb)\u001b[0m\n\u001b[1;32m    195\u001b[0m     \u001b[38;5;28;01mreturn\u001b[39;00m wb\n\u001b[1;32m    197\u001b[0m node \u001b[38;5;241m=\u001b[39m fromstring(src)\n\u001b[0;32m--> 198\u001b[0m stylesheet \u001b[38;5;241m=\u001b[39m \u001b[43mStylesheet\u001b[49m\u001b[38;5;241;43m.\u001b[39;49m\u001b[43mfrom_tree\u001b[49m\u001b[43m(\u001b[49m\u001b[43mnode\u001b[49m\u001b[43m)\u001b[49m\n\u001b[1;32m    200\u001b[0m \u001b[38;5;28;01mif\u001b[39;00m stylesheet\u001b[38;5;241m.\u001b[39mcell_styles:\n\u001b[1;32m    202\u001b[0m     wb\u001b[38;5;241m.\u001b[39m_borders \u001b[38;5;241m=\u001b[39m IndexedList(stylesheet\u001b[38;5;241m.\u001b[39mborders)\n",
      "File \u001b[0;32m~/opt/anaconda3/lib/python3.9/site-packages/openpyxl/styles/stylesheet.py:103\u001b[0m, in \u001b[0;36mStylesheet.from_tree\u001b[0;34m(cls, node)\u001b[0m\n\u001b[1;32m    101\u001b[0m \u001b[38;5;28;01mfor\u001b[39;00m k \u001b[38;5;129;01min\u001b[39;00m attrs:\n\u001b[1;32m    102\u001b[0m     \u001b[38;5;28;01mdel\u001b[39;00m node\u001b[38;5;241m.\u001b[39mattrib[k]\n\u001b[0;32m--> 103\u001b[0m \u001b[38;5;28;01mreturn\u001b[39;00m \u001b[38;5;28;43msuper\u001b[39;49m\u001b[43m(\u001b[49m\u001b[43mStylesheet\u001b[49m\u001b[43m,\u001b[49m\u001b[43m \u001b[49m\u001b[38;5;28;43mcls\u001b[39;49m\u001b[43m)\u001b[49m\u001b[38;5;241;43m.\u001b[39;49m\u001b[43mfrom_tree\u001b[49m\u001b[43m(\u001b[49m\u001b[43mnode\u001b[49m\u001b[43m)\u001b[49m\n",
      "File \u001b[0;32m~/opt/anaconda3/lib/python3.9/site-packages/openpyxl/descriptors/serialisable.py:87\u001b[0m, in \u001b[0;36mSerialisable.from_tree\u001b[0;34m(cls, node)\u001b[0m\n\u001b[1;32m     84\u001b[0m \u001b[38;5;28;01melse\u001b[39;00m:\n\u001b[1;32m     85\u001b[0m     \u001b[38;5;28;01mif\u001b[39;00m \u001b[38;5;28mhasattr\u001b[39m(desc\u001b[38;5;241m.\u001b[39mexpected_type, \u001b[38;5;124m\"\u001b[39m\u001b[38;5;124mfrom_tree\u001b[39m\u001b[38;5;124m\"\u001b[39m):\n\u001b[1;32m     86\u001b[0m         \u001b[38;5;66;03m#complex type\u001b[39;00m\n\u001b[0;32m---> 87\u001b[0m         obj \u001b[38;5;241m=\u001b[39m \u001b[43mdesc\u001b[49m\u001b[38;5;241;43m.\u001b[39;49m\u001b[43mexpected_type\u001b[49m\u001b[38;5;241;43m.\u001b[39;49m\u001b[43mfrom_tree\u001b[49m\u001b[43m(\u001b[49m\u001b[43mel\u001b[49m\u001b[43m)\u001b[49m\n\u001b[1;32m     88\u001b[0m     \u001b[38;5;28;01melse\u001b[39;00m:\n\u001b[1;32m     89\u001b[0m         \u001b[38;5;66;03m#primitive\u001b[39;00m\n\u001b[1;32m     90\u001b[0m         obj \u001b[38;5;241m=\u001b[39m el\u001b[38;5;241m.\u001b[39mtext\n",
      "File \u001b[0;32m~/opt/anaconda3/lib/python3.9/site-packages/openpyxl/descriptors/serialisable.py:87\u001b[0m, in \u001b[0;36mSerialisable.from_tree\u001b[0;34m(cls, node)\u001b[0m\n\u001b[1;32m     84\u001b[0m \u001b[38;5;28;01melse\u001b[39;00m:\n\u001b[1;32m     85\u001b[0m     \u001b[38;5;28;01mif\u001b[39;00m \u001b[38;5;28mhasattr\u001b[39m(desc\u001b[38;5;241m.\u001b[39mexpected_type, \u001b[38;5;124m\"\u001b[39m\u001b[38;5;124mfrom_tree\u001b[39m\u001b[38;5;124m\"\u001b[39m):\n\u001b[1;32m     86\u001b[0m         \u001b[38;5;66;03m#complex type\u001b[39;00m\n\u001b[0;32m---> 87\u001b[0m         obj \u001b[38;5;241m=\u001b[39m \u001b[43mdesc\u001b[49m\u001b[38;5;241;43m.\u001b[39;49m\u001b[43mexpected_type\u001b[49m\u001b[38;5;241;43m.\u001b[39;49m\u001b[43mfrom_tree\u001b[49m\u001b[43m(\u001b[49m\u001b[43mel\u001b[49m\u001b[43m)\u001b[49m\n\u001b[1;32m     88\u001b[0m     \u001b[38;5;28;01melse\u001b[39;00m:\n\u001b[1;32m     89\u001b[0m         \u001b[38;5;66;03m#primitive\u001b[39;00m\n\u001b[1;32m     90\u001b[0m         obj \u001b[38;5;241m=\u001b[39m el\u001b[38;5;241m.\u001b[39mtext\n",
      "File \u001b[0;32m~/opt/anaconda3/lib/python3.9/site-packages/openpyxl/descriptors/serialisable.py:103\u001b[0m, in \u001b[0;36mSerialisable.from_tree\u001b[0;34m(cls, node)\u001b[0m\n\u001b[1;32m    100\u001b[0m     \u001b[38;5;28;01melse\u001b[39;00m:\n\u001b[1;32m    101\u001b[0m         attrib[tag] \u001b[38;5;241m=\u001b[39m obj\n\u001b[0;32m--> 103\u001b[0m \u001b[38;5;28;01mreturn\u001b[39;00m \u001b[38;5;28;43mcls\u001b[39;49m\u001b[43m(\u001b[49m\u001b[38;5;241;43m*\u001b[39;49m\u001b[38;5;241;43m*\u001b[39;49m\u001b[43mattrib\u001b[49m\u001b[43m)\u001b[49m\n",
      "File \u001b[0;32m~/opt/anaconda3/lib/python3.9/site-packages/openpyxl/styles/named_styles.py:229\u001b[0m, in \u001b[0;36m_NamedCellStyle.__init__\u001b[0;34m(self, name, xfId, builtinId, iLevel, hidden, customBuiltin, extLst)\u001b[0m\n\u001b[1;32m    220\u001b[0m \u001b[38;5;28;01mdef\u001b[39;00m \u001b[38;5;21m__init__\u001b[39m(\u001b[38;5;28mself\u001b[39m,\n\u001b[1;32m    221\u001b[0m              name\u001b[38;5;241m=\u001b[39m\u001b[38;5;28;01mNone\u001b[39;00m,\n\u001b[1;32m    222\u001b[0m              xfId\u001b[38;5;241m=\u001b[39m\u001b[38;5;28;01mNone\u001b[39;00m,\n\u001b[0;32m   (...)\u001b[0m\n\u001b[1;32m    227\u001b[0m              extLst\u001b[38;5;241m=\u001b[39m\u001b[38;5;28;01mNone\u001b[39;00m,\n\u001b[1;32m    228\u001b[0m             ):\n\u001b[0;32m--> 229\u001b[0m     \u001b[38;5;28mself\u001b[39m\u001b[38;5;241m.\u001b[39mname \u001b[38;5;241m=\u001b[39m name\n\u001b[1;32m    230\u001b[0m     \u001b[38;5;28mself\u001b[39m\u001b[38;5;241m.\u001b[39mxfId \u001b[38;5;241m=\u001b[39m xfId\n\u001b[1;32m    231\u001b[0m     \u001b[38;5;28mself\u001b[39m\u001b[38;5;241m.\u001b[39mbuiltinId \u001b[38;5;241m=\u001b[39m builtinId\n",
      "File \u001b[0;32m~/opt/anaconda3/lib/python3.9/site-packages/openpyxl/descriptors/base.py:42\u001b[0m, in \u001b[0;36mTyped.__set__\u001b[0;34m(self, instance, value)\u001b[0m\n\u001b[1;32m     39\u001b[0m \u001b[38;5;28;01mif\u001b[39;00m \u001b[38;5;129;01mnot\u001b[39;00m \u001b[38;5;28misinstance\u001b[39m(value, \u001b[38;5;28mself\u001b[39m\u001b[38;5;241m.\u001b[39mexpected_type):\n\u001b[1;32m     40\u001b[0m     \u001b[38;5;28;01mif\u001b[39;00m (\u001b[38;5;129;01mnot\u001b[39;00m \u001b[38;5;28mself\u001b[39m\u001b[38;5;241m.\u001b[39mallow_none\n\u001b[1;32m     41\u001b[0m         \u001b[38;5;129;01mor\u001b[39;00m (\u001b[38;5;28mself\u001b[39m\u001b[38;5;241m.\u001b[39mallow_none \u001b[38;5;129;01mand\u001b[39;00m value \u001b[38;5;129;01mis\u001b[39;00m \u001b[38;5;129;01mnot\u001b[39;00m \u001b[38;5;28;01mNone\u001b[39;00m)):\n\u001b[0;32m---> 42\u001b[0m         \u001b[38;5;28;01mraise\u001b[39;00m \u001b[38;5;167;01mTypeError\u001b[39;00m(\u001b[38;5;124m'\u001b[39m\u001b[38;5;124mexpected \u001b[39m\u001b[38;5;124m'\u001b[39m \u001b[38;5;241m+\u001b[39m \u001b[38;5;28mstr\u001b[39m(\u001b[38;5;28mself\u001b[39m\u001b[38;5;241m.\u001b[39mexpected_type))\n\u001b[1;32m     43\u001b[0m \u001b[38;5;28msuper\u001b[39m(Typed, \u001b[38;5;28mself\u001b[39m)\u001b[38;5;241m.\u001b[39m\u001b[38;5;21m__set__\u001b[39m(instance, value)\n",
      "\u001b[0;31mTypeError\u001b[0m: expected <class 'str'>"
     ]
    }
   ],
   "source": [
    "type_error_file_path = '/Users/urimarom/Downloads/2500133.xlsx'\n",
    "test = pd.read_excel(type_error_file_path, sheet_name=1)"
   ]
  },
  {
   "cell_type": "code",
   "execution_count": 71,
   "id": "2357123a",
   "metadata": {},
   "outputs": [],
   "source": [
    "import pylightxl as xl\n",
    "import glob\n",
    "from pathlib import Path\n",
    "import os"
   ]
  },
  {
   "cell_type": "code",
   "execution_count": 48,
   "id": "2598e7a6",
   "metadata": {},
   "outputs": [],
   "source": [
    "corrupted_file = xl.readxl(type_error_file_path)\n",
    "fixed_file_path = '/Users/urimarom/Downloads/fixed.xlsx'"
   ]
  },
  {
   "cell_type": "code",
   "execution_count": 81,
   "id": "b3c71113",
   "metadata": {},
   "outputs": [],
   "source": [
    "def fix_excel_file(corrupted_file_path, fixed_file_path):\n",
    "    # write new fixed excel file\n",
    "    data = xl.readxl(corrupted_file_path)\n",
    "    with pd.ExcelWriter(fixed_file_path) as writer:\n",
    "        for sheet in data.ws_names:\n",
    "            l = []\n",
    "            for row in data.ws(ws=sheet).rows:\n",
    "                l.append(row)\n",
    "            df = pd.DataFrame(l)\n",
    "            df.to_excel(writer, sheet_name=sheet, index=False, header=False)  "
   ]
  },
  {
   "cell_type": "code",
   "execution_count": 84,
   "id": "17c944d8",
   "metadata": {},
   "outputs": [],
   "source": [
    "corrupted_files_dir = '/Users/urimarom/PycharmProjects/fossil_classification/data/downloaded reports/fund reports/2023Q2/other errors/'\n",
    "fixed_files_dir = corrupted_files_dir + '/fixed/'\n",
    "\n",
    "corrupted_files = [f for f in os.listdir(corrupted_files_dir) if f.endswith(\"xlsx\")]\n",
    "for f in corrupted_files:\n",
    "    fix_excel_file(corrupted_files_dir + f, fixed_files_dir + f)"
   ]
  },
  {
   "cell_type": "markdown",
   "id": "741e2693",
   "metadata": {},
   "source": [
    "## general playground"
   ]
  },
  {
   "cell_type": "markdown",
   "id": "51c69395",
   "metadata": {},
   "source": [
    "## compare holdings files"
   ]
  },
  {
   "cell_type": "code",
   "execution_count": 85,
   "id": "ceecc5b3",
   "metadata": {},
   "outputs": [
    {
     "name": "stderr",
     "output_type": "stream",
     "text": [
      "/var/folders/rt/89wrjbhs2m5527n7jhtb42jh0000gn/T/ipykernel_30328/3403308841.py:2: DtypeWarning: Columns (32,33) have mixed types. Specify dtype option on import or set low_memory=False.\n",
      "  holdings_2023q2 = pd.read_csv(\"/Users/urimarom/Downloads/holdings-2023Q2.csv\")\n"
     ]
    }
   ],
   "source": [
    "holdings_2023q1 = pd.read_csv(\"/Users/urimarom/Downloads/holdings-2023Q1.csv\")\n",
    "holdings_2023q2 = pd.read_csv(\"/Users/urimarom/Downloads/holdings-2023Q2.csv\")"
   ]
  },
  {
   "cell_type": "code",
   "execution_count": 94,
   "id": "392b7f9f",
   "metadata": {},
   "outputs": [
    {
     "name": "stdout",
     "output_type": "stream",
     "text": [
      "equal\n"
     ]
    }
   ],
   "source": [
    "q1_cols = list(holdings_2023q1.columns)\n",
    "q2_cols = list(holdings_2023q2.columns)\n",
    "\n",
    "if q1_cols == q2_cols:\n",
    "    print(\"equal\")"
   ]
  },
  {
   "cell_type": "code",
   "execution_count": 96,
   "id": "baadc09b",
   "metadata": {},
   "outputs": [
    {
     "data": {
      "text/html": [
       "<div>\n",
       "<style scoped>\n",
       "    .dataframe tbody tr th:only-of-type {\n",
       "        vertical-align: middle;\n",
       "    }\n",
       "\n",
       "    .dataframe tbody tr th {\n",
       "        vertical-align: top;\n",
       "    }\n",
       "\n",
       "    .dataframe thead th {\n",
       "        text-align: right;\n",
       "    }\n",
       "</style>\n",
       "<table border=\"1\" class=\"dataframe\">\n",
       "  <thead>\n",
       "    <tr style=\"text-align: right;\">\n",
       "      <th></th>\n",
       "      <th>id</th>\n",
       "      <th>file_name</th>\n",
       "      <th>holding_type</th>\n",
       "      <th>security_name</th>\n",
       "      <th>security_number</th>\n",
       "      <th>marketplace</th>\n",
       "      <th>information_provider</th>\n",
       "      <th>issuer_number</th>\n",
       "      <th>industry</th>\n",
       "      <th>currency</th>\n",
       "      <th>...</th>\n",
       "      <th>underlying_asset</th>\n",
       "      <th>fair_value</th>\n",
       "      <th>is_consortium</th>\n",
       "      <th>last_evaluation_date</th>\n",
       "      <th>property_type</th>\n",
       "      <th>period_yield_rate</th>\n",
       "      <th>proprty_address</th>\n",
       "      <th>adjusted_cost</th>\n",
       "      <th>document_id</th>\n",
       "      <th>report_period_desc</th>\n",
       "    </tr>\n",
       "  </thead>\n",
       "  <tbody>\n",
       "    <tr>\n",
       "      <th>0</th>\n",
       "      <td>2577744</td>\n",
       "      <td>2464032.xlsx</td>\n",
       "      <td>option</td>\n",
       "      <td></td>\n",
       "      <td></td>\n",
       "      <td></td>\n",
       "      <td>NaN</td>\n",
       "      <td>NaN</td>\n",
       "      <td></td>\n",
       "      <td></td>\n",
       "      <td>...</td>\n",
       "      <td>NaN</td>\n",
       "      <td>NaN</td>\n",
       "      <td>NaN</td>\n",
       "      <td>NaN</td>\n",
       "      <td>NaN</td>\n",
       "      <td>NaN</td>\n",
       "      <td>NaN</td>\n",
       "      <td>NaN</td>\n",
       "      <td>2464032</td>\n",
       "      <td>2023 רבעון 1</td>\n",
       "    </tr>\n",
       "    <tr>\n",
       "      <th>1</th>\n",
       "      <td>2577745</td>\n",
       "      <td>2464032.xlsx</td>\n",
       "      <td>option</td>\n",
       "      <td></td>\n",
       "      <td></td>\n",
       "      <td></td>\n",
       "      <td>NaN</td>\n",
       "      <td>NaN</td>\n",
       "      <td></td>\n",
       "      <td></td>\n",
       "      <td>...</td>\n",
       "      <td>NaN</td>\n",
       "      <td>NaN</td>\n",
       "      <td>NaN</td>\n",
       "      <td>NaN</td>\n",
       "      <td>NaN</td>\n",
       "      <td>NaN</td>\n",
       "      <td>NaN</td>\n",
       "      <td>NaN</td>\n",
       "      <td>2464032</td>\n",
       "      <td>2023 רבעון 1</td>\n",
       "    </tr>\n",
       "    <tr>\n",
       "      <th>2</th>\n",
       "      <td>2577746</td>\n",
       "      <td>2464032.xlsx</td>\n",
       "      <td>option</td>\n",
       "      <td></td>\n",
       "      <td></td>\n",
       "      <td></td>\n",
       "      <td>NaN</td>\n",
       "      <td>NaN</td>\n",
       "      <td></td>\n",
       "      <td></td>\n",
       "      <td>...</td>\n",
       "      <td>NaN</td>\n",
       "      <td>NaN</td>\n",
       "      <td>NaN</td>\n",
       "      <td>NaN</td>\n",
       "      <td>NaN</td>\n",
       "      <td>NaN</td>\n",
       "      <td>NaN</td>\n",
       "      <td>NaN</td>\n",
       "      <td>2464032</td>\n",
       "      <td>2023 רבעון 1</td>\n",
       "    </tr>\n",
       "    <tr>\n",
       "      <th>3</th>\n",
       "      <td>2577747</td>\n",
       "      <td>2464032.xlsx</td>\n",
       "      <td>option</td>\n",
       "      <td></td>\n",
       "      <td></td>\n",
       "      <td></td>\n",
       "      <td>NaN</td>\n",
       "      <td>NaN</td>\n",
       "      <td></td>\n",
       "      <td></td>\n",
       "      <td>...</td>\n",
       "      <td>NaN</td>\n",
       "      <td>NaN</td>\n",
       "      <td>NaN</td>\n",
       "      <td>NaN</td>\n",
       "      <td>NaN</td>\n",
       "      <td>NaN</td>\n",
       "      <td>NaN</td>\n",
       "      <td>NaN</td>\n",
       "      <td>2464032</td>\n",
       "      <td>2023 רבעון 1</td>\n",
       "    </tr>\n",
       "    <tr>\n",
       "      <th>4</th>\n",
       "      <td>2574552</td>\n",
       "      <td>2466625.xlsx</td>\n",
       "      <td>cash</td>\n",
       "      <td>NaN</td>\n",
       "      <td>NaN</td>\n",
       "      <td>NaN</td>\n",
       "      <td>NaN</td>\n",
       "      <td>NaN</td>\n",
       "      <td>NaN</td>\n",
       "      <td>NaN</td>\n",
       "      <td>...</td>\n",
       "      <td>NaN</td>\n",
       "      <td>NaN</td>\n",
       "      <td>NaN</td>\n",
       "      <td>NaN</td>\n",
       "      <td>NaN</td>\n",
       "      <td>NaN</td>\n",
       "      <td>NaN</td>\n",
       "      <td>NaN</td>\n",
       "      <td>2466625</td>\n",
       "      <td>2023 רבעון 1</td>\n",
       "    </tr>\n",
       "  </tbody>\n",
       "</table>\n",
       "<p>5 rows × 34 columns</p>\n",
       "</div>"
      ],
      "text/plain": [
       "        id     file_name holding_type security_name security_number  \\\n",
       "0  2577744  2464032.xlsx       option                                 \n",
       "1  2577745  2464032.xlsx       option                                 \n",
       "2  2577746  2464032.xlsx       option                                 \n",
       "3  2577747  2464032.xlsx       option                                 \n",
       "4  2574552  2466625.xlsx         cash           NaN             NaN   \n",
       "\n",
       "  marketplace information_provider issuer_number industry currency  ...  \\\n",
       "0                              NaN           NaN                    ...   \n",
       "1                              NaN           NaN                    ...   \n",
       "2                              NaN           NaN                    ...   \n",
       "3                              NaN           NaN                    ...   \n",
       "4         NaN                  NaN           NaN      NaN      NaN  ...   \n",
       "\n",
       "   underlying_asset  fair_value  is_consortium  last_evaluation_date  \\\n",
       "0               NaN         NaN            NaN                   NaN   \n",
       "1               NaN         NaN            NaN                   NaN   \n",
       "2               NaN         NaN            NaN                   NaN   \n",
       "3               NaN         NaN            NaN                   NaN   \n",
       "4               NaN         NaN            NaN                   NaN   \n",
       "\n",
       "   property_type  period_yield_rate  proprty_address adjusted_cost  \\\n",
       "0            NaN                NaN              NaN           NaN   \n",
       "1            NaN                NaN              NaN           NaN   \n",
       "2            NaN                NaN              NaN           NaN   \n",
       "3            NaN                NaN              NaN           NaN   \n",
       "4            NaN                NaN              NaN           NaN   \n",
       "\n",
       "  document_id report_period_desc  \n",
       "0     2464032       2023 רבעון 1  \n",
       "1     2464032       2023 רבעון 1  \n",
       "2     2464032       2023 רבעון 1  \n",
       "3     2464032       2023 רבעון 1  \n",
       "4     2466625       2023 רבעון 1  \n",
       "\n",
       "[5 rows x 34 columns]"
      ]
     },
     "execution_count": 96,
     "metadata": {},
     "output_type": "execute_result"
    }
   ],
   "source": [
    "holdings_2023q1.head()"
   ]
  }
 ],
 "metadata": {
  "kernelspec": {
   "display_name": "Python 3 (ipykernel)",
   "language": "python",
   "name": "python3"
  },
  "language_info": {
   "codemirror_mode": {
    "name": "ipython",
    "version": 3
   },
   "file_extension": ".py",
   "mimetype": "text/x-python",
   "name": "python",
   "nbconvert_exporter": "python",
   "pygments_lexer": "ipython3",
   "version": "3.9.12"
  }
 },
 "nbformat": 4,
 "nbformat_minor": 5
}
