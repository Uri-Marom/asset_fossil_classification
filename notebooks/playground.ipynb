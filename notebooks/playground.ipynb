{
 "cells": [
  {
   "cell_type": "code",
   "execution_count": null,
   "id": "b3af13a0",
   "metadata": {},
   "outputs": [],
   "source": [
    "# TODO - create a g-spreadsheet with sh_keys, sheet_num, table_name - master g-spreadsheet for sync with db"
   ]
  },
  {
   "cell_type": "markdown",
   "id": "e18b9e16",
   "metadata": {},
   "source": [
    "# Type Error handling playgound"
   ]
  },
  {
   "cell_type": "code",
   "execution_count": 3,
   "id": "0bdc9882",
   "metadata": {},
   "outputs": [],
   "source": [
    "import pandas as pd"
   ]
  },
  {
   "cell_type": "code",
   "execution_count": 5,
   "id": "2357123a",
   "metadata": {},
   "outputs": [],
   "source": [
    "import pylightxl as xl\n",
    "import glob\n",
    "from pathlib import Path\n",
    "import os"
   ]
  },
  {
   "cell_type": "code",
   "execution_count": 7,
   "id": "b3c71113",
   "metadata": {},
   "outputs": [],
   "source": [
    "def fix_excel_file(corrupted_file_path, fixed_file_path):\n",
    "    # write new fixed excel file\n",
    "    data = xl.readxl(corrupted_file_path)\n",
    "    with pd.ExcelWriter(fixed_file_path) as writer:\n",
    "        for sheet in data.ws_names:\n",
    "            l = []\n",
    "            for row in data.ws(ws=sheet).rows:\n",
    "                l.append(row)\n",
    "            df = pd.DataFrame(l)\n",
    "            df.to_excel(writer, sheet_name=sheet, index=False, header=False)  "
   ]
  },
  {
   "cell_type": "code",
   "execution_count": 8,
   "id": "17c944d8",
   "metadata": {},
   "outputs": [],
   "source": [
    "corrupted_files_dir = '/Users/urimarom/PycharmProjects/fossil_classification/data/downloaded reports/fund reports/2023Q3/type error/'\n",
    "fixed_files_dir = corrupted_files_dir + '/fixed/'\n",
    "\n",
    "corrupted_files = [f for f in os.listdir(corrupted_files_dir) if f.endswith(\"xlsx\")]\n",
    "for f in corrupted_files:\n",
    "    fix_excel_file(corrupted_files_dir + f, fixed_files_dir + f)"
   ]
  },
  {
   "cell_type": "markdown",
   "id": "d482c9d3",
   "metadata": {},
   "source": [
    "# Missing Reports take 3 - December 2023"
   ]
  },
  {
   "cell_type": "code",
   "execution_count": 2,
   "id": "45b64dda",
   "metadata": {},
   "outputs": [
    {
     "data": {
      "text/plain": [
       "'/Users/urimarom/PycharmProjects/fossil_classification'"
      ]
     },
     "execution_count": 2,
     "metadata": {},
     "output_type": "execute_result"
    }
   ],
   "source": [
    "os.getcwd()"
   ]
  },
  {
   "cell_type": "markdown",
   "id": "741e2693",
   "metadata": {},
   "source": [
    "## general playground"
   ]
  },
  {
   "cell_type": "markdown",
   "id": "51c69395",
   "metadata": {},
   "source": [
    "## compare holdings files"
   ]
  },
  {
   "cell_type": "code",
   "execution_count": null,
   "id": "ceecc5b3",
   "metadata": {},
   "outputs": [],
   "source": [
    "holdings_2023q1 = pd.read_csv(\"/Users/urimarom/Downloads/holdings-2023Q1.csv\")\n",
    "holdings_2023q2 = pd.read_csv(\"/Users/urimarom/Downloads/holdings-2023Q2.csv\")"
   ]
  },
  {
   "cell_type": "code",
   "execution_count": null,
   "id": "392b7f9f",
   "metadata": {},
   "outputs": [],
   "source": [
    "q1_cols = list(holdings_2023q1.columns)\n",
    "q2_cols = list(holdings_2023q2.columns)\n",
    "\n",
    "if q1_cols == q2_cols:\n",
    "    print(\"equal\")"
   ]
  },
  {
   "cell_type": "code",
   "execution_count": null,
   "id": "baadc09b",
   "metadata": {},
   "outputs": [],
   "source": [
    "holdings_2023q1.head()"
   ]
  }
 ],
 "metadata": {
  "kernelspec": {
   "display_name": "Python 3 (ipykernel)",
   "language": "python",
   "name": "python3"
  },
  "language_info": {
   "codemirror_mode": {
    "name": "ipython",
    "version": 3
   },
   "file_extension": ".py",
   "mimetype": "text/x-python",
   "name": "python",
   "nbconvert_exporter": "python",
   "pygments_lexer": "ipython3",
   "version": "3.9.12"
  }
 },
 "nbformat": 4,
 "nbformat_minor": 5
}
