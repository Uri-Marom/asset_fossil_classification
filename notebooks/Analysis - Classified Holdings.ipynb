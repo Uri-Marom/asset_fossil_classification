{
 "cells": [
  {
   "cell_type": "markdown",
   "metadata": {},
   "source": [
    "# Load env and files"
   ]
  },
  {
   "cell_type": "code",
   "execution_count": 1,
   "metadata": {},
   "outputs": [],
   "source": [
    "import os\n",
    "os.chdir('..')"
   ]
  },
  {
   "cell_type": "code",
   "execution_count": 2,
   "metadata": {},
   "outputs": [],
   "source": [
    "%load_ext autoreload\n",
    "%autoreload 2"
   ]
  },
  {
   "cell_type": "code",
   "execution_count": 3,
   "metadata": {},
   "outputs": [],
   "source": [
    "from fossil_classification import *\n",
    "from enrich_holdings import *\n",
    "from reports_etl import *\n",
    "from holdings_analysis import *\n",
    "\n",
    "pd.set_option('display.max_columns', None)\n",
    "pd.set_option('display.max_rows', None)\n",
    "pd.options.display.float_format = \"{:,.3f}\".format"
   ]
  },
  {
   "cell_type": "code",
   "execution_count": 4,
   "metadata": {},
   "outputs": [],
   "source": [
    "from_year = '2023'\n",
    "from_q = '4'"
   ]
  },
  {
   "cell_type": "code",
   "execution_count": 5,
   "metadata": {
    "scrolled": true
   },
   "outputs": [
    {
     "name": "stderr",
     "output_type": "stream",
     "text": [
      "/var/folders/rt/89wrjbhs2m5527n7jhtb42jh0000gn/T/ipykernel_14628/222160177.py:2: DtypeWarning: Columns (6,7,9,13,15,20,22,23,24,25,27) have mixed types. Specify dtype option on import or set low_memory=False.\n",
      "  all_holdings_cls = pd.read_csv(response_path+\"all_holdings_cls_all_ids.csv\", dtype=holdings_dtypes())\n"
     ]
    }
   ],
   "source": [
    "response_path = \"data/downloaded reports/company reports/\" + from_year + \"Q\" + from_q + \"/\"\n",
    "all_holdings_cls = pd.read_csv(response_path+\"all_holdings_cls_all_ids.csv\", dtype=holdings_dtypes())\n",
    "# all_holdings_cls = load_mappings_and_add_ids_to_holdings(all_holdings_cls)"
   ]
  },
  {
   "cell_type": "markdown",
   "metadata": {},
   "source": [
    "# Let the Analysis begin!"
   ]
  },
  {
   "cell_type": "code",
   "execution_count": 6,
   "metadata": {
    "scrolled": true
   },
   "outputs": [
    {
     "data": {
      "text/html": [
       "<div>\n",
       "<style scoped>\n",
       "    .dataframe tbody tr th:only-of-type {\n",
       "        vertical-align: middle;\n",
       "    }\n",
       "\n",
       "    .dataframe tbody tr th {\n",
       "        vertical-align: top;\n",
       "    }\n",
       "\n",
       "    .dataframe thead th {\n",
       "        text-align: right;\n",
       "    }\n",
       "</style>\n",
       "<table border=\"1\" class=\"dataframe\">\n",
       "  <thead>\n",
       "    <tr style=\"text-align: right;\">\n",
       "      <th></th>\n",
       "      <th>שווי</th>\n",
       "    </tr>\n",
       "    <tr>\n",
       "      <th>SystemName</th>\n",
       "      <th></th>\n",
       "    </tr>\n",
       "  </thead>\n",
       "  <tbody>\n",
       "    <tr>\n",
       "      <th>ביטוח</th>\n",
       "      <td>6,563,453,401.04</td>\n",
       "    </tr>\n",
       "    <tr>\n",
       "      <th>גמל</th>\n",
       "      <td>9,735,230,506.80</td>\n",
       "    </tr>\n",
       "    <tr>\n",
       "      <th>פנסיה</th>\n",
       "      <td>9,883,981,564.30</td>\n",
       "    </tr>\n",
       "  </tbody>\n",
       "</table>\n",
       "</div>"
      ],
      "text/plain": [
       "                        שווי\n",
       "SystemName                  \n",
       "ביטוח       6,563,453,401.04\n",
       "גמל         9,735,230,506.80\n",
       "פנסיה       9,883,981,564.30"
      ]
     },
     "execution_count": 6,
     "metadata": {},
     "output_type": "execute_result"
    }
   ],
   "source": [
    "pd.DataFrame(all_holdings_cls.groupby(['SystemName'])['שווי'].agg('sum').map('{:,.2f}'.format))"
   ]
  },
  {
   "cell_type": "markdown",
   "metadata": {},
   "source": [
    "## Get Company level stats over time"
   ]
  },
  {
   "cell_type": "markdown",
   "metadata": {},
   "source": [
    "### Filter results to include only major companies"
   ]
  },
  {
   "cell_type": "code",
   "execution_count": 7,
   "metadata": {
    "scrolled": true
   },
   "outputs": [
    {
     "data": {
      "text/html": [
       "<div>\n",
       "<style scoped>\n",
       "    .dataframe tbody tr th:only-of-type {\n",
       "        vertical-align: middle;\n",
       "    }\n",
       "\n",
       "    .dataframe tbody tr th {\n",
       "        vertical-align: top;\n",
       "    }\n",
       "\n",
       "    .dataframe thead th {\n",
       "        text-align: right;\n",
       "    }\n",
       "</style>\n",
       "<table border=\"1\" class=\"dataframe\">\n",
       "  <thead>\n",
       "    <tr style=\"text-align: right;\">\n",
       "      <th></th>\n",
       "      <th>שווי</th>\n",
       "    </tr>\n",
       "    <tr>\n",
       "      <th>SystemName</th>\n",
       "      <th></th>\n",
       "    </tr>\n",
       "  </thead>\n",
       "  <tbody>\n",
       "    <tr>\n",
       "      <th>ביטוח</th>\n",
       "      <td>6,263,588,250.78</td>\n",
       "    </tr>\n",
       "    <tr>\n",
       "      <th>גמל</th>\n",
       "      <td>8,371,917,078.12</td>\n",
       "    </tr>\n",
       "    <tr>\n",
       "      <th>פנסיה</th>\n",
       "      <td>9,198,696,070.97</td>\n",
       "    </tr>\n",
       "  </tbody>\n",
       "</table>\n",
       "</div>"
      ],
      "text/plain": [
       "                        שווי\n",
       "SystemName                  \n",
       "ביטוח       6,263,588,250.78\n",
       "גמל         8,371,917,078.12\n",
       "פנסיה       9,198,696,070.97"
      ]
     },
     "execution_count": 7,
     "metadata": {},
     "output_type": "execute_result"
    }
   ],
   "source": [
    "all_holdings_cls_filtered = filter_major_companies(all_holdings_cls)\n",
    "pd.DataFrame(all_holdings_cls_filtered.groupby(['SystemName'])['שווי'].agg('sum').map('{:,.2f}'.format))"
   ]
  },
  {
   "cell_type": "markdown",
   "metadata": {},
   "source": [
    "### * should include other subsidiary funds as well?"
   ]
  },
  {
   "cell_type": "code",
   "execution_count": 8,
   "metadata": {},
   "outputs": [],
   "source": [
    "# included_comp_group = all_holdings_cls_filtered[\"ParentCorpGroup\"].unique()\n",
    "# included_comp = all_holdings_cls_filtered[\"ParentCorpName\"].unique()\n",
    "# all_comp = all_holdings_cls[\"ParentCorpName\"].unique()\n",
    "# not_included_comp = [c for c in all_comp if c not in included_comp]\n",
    "# print([c for c in not_included_comp if any(g in re.split('-| ',c) for g in included_comp_group)])\n",
    "\n",
    "# pd.DataFrame(\n",
    "#     all_holdings_cls[\n",
    "#     all_holdings_cls[\"ParentCorpName\"].isin(not_included_comp)\n",
    "#     ].groupby([\"ParentCorpName\", \"SystemName\"])[\"שווי\"].sum()\n",
    "# ).sort_values(\"שווי\", ascending=False)"
   ]
  },
  {
   "cell_type": "code",
   "execution_count": 9,
   "metadata": {},
   "outputs": [],
   "source": [
    "company_stats_since_2020 = get_summary(all_holdings_cls_filtered, 'ReportPeriodDate', 'ParentCorpGroup')\n",
    "company_stats_since_2020 = company_stats_since_2020.sort_values(\n",
    "    [\"ReportPeriodDate\", \"ParentCorpGroup\"], ascending=(False, True)\n",
    ")"
   ]
  },
  {
   "cell_type": "code",
   "execution_count": 10,
   "metadata": {},
   "outputs": [],
   "source": [
    "# company_stats_since_2020[company_stats_since_2020['ParentCorpGroup'] == 'מגדל']"
   ]
  },
  {
   "cell_type": "code",
   "execution_count": 11,
   "metadata": {},
   "outputs": [],
   "source": [
    "company_stats_since_2020.to_csv(response_path+\"company_stats_since_2020.csv\", index=False)"
   ]
  },
  {
   "cell_type": "code",
   "execution_count": 12,
   "metadata": {},
   "outputs": [],
   "source": [
    "company_system_stats_since_2020 = get_summary(\n",
    "    all_holdings_cls_filtered,\n",
    "    'ReportPeriodDate', 'ParentCorpGroup', 'SystemName'\n",
    ")"
   ]
  },
  {
   "cell_type": "code",
   "execution_count": 13,
   "metadata": {
    "scrolled": false
   },
   "outputs": [],
   "source": [
    "company_system_stats_since_2020.to_csv(response_path+\"company_system_stats_since_2020.csv\", index=False)"
   ]
  },
  {
   "cell_type": "code",
   "execution_count": 14,
   "metadata": {},
   "outputs": [],
   "source": [
    "company_system_holding_type_stats_since_2020 = get_summary(\n",
    "    all_holdings_cls_filtered,\n",
    "    'ReportPeriodDate', 'ParentCorpGroup', 'SystemName', 'holding_type'\n",
    ")"
   ]
  },
  {
   "cell_type": "code",
   "execution_count": 15,
   "metadata": {},
   "outputs": [],
   "source": [
    "company_system_holding_type_stats_since_2020.to_csv(\n",
    "    response_path+\"company_system_holding_type_stats_since_2020.csv\", index=False)"
   ]
  },
  {
   "cell_type": "markdown",
   "metadata": {},
   "source": [
    "### Export aggregated data for quarterly org ranking"
   ]
  },
  {
   "cell_type": "code",
   "execution_count": 16,
   "metadata": {},
   "outputs": [],
   "source": [
    "midrag_agg = get_latest_q_ranking_agg_from_holdings(filter_major_companies(all_holdings_cls))"
   ]
  },
  {
   "cell_type": "code",
   "execution_count": 17,
   "metadata": {},
   "outputs": [],
   "source": [
    "midrag_agg.to_csv(\n",
    "    response_path+\"midrag_agg_latest_q.csv\", index=False\n",
    ")"
   ]
  },
  {
   "cell_type": "markdown",
   "metadata": {},
   "source": [
    "## Mergers - update\n",
    "### 1. update holdings data according to system mergers"
   ]
  },
  {
   "cell_type": "code",
   "execution_count": 18,
   "metadata": {
    "scrolled": true
   },
   "outputs": [
    {
     "name": "stdout",
     "output_type": "stream",
     "text": [
      "moving 15,677,553.290000001 from הלמן גמל to הפניקס גמל\n",
      "moving 0.0 from הלמן פנסיה to מיטב פנסיה\n",
      "moving 49,780,952.0 from פסגות גמל to אלטשולר גמל\n",
      "moving 3,964,347.4000000004 from פסגות פנסיה to הראל פנסיה\n"
     ]
    }
   ],
   "source": [
    "all_holdings_majors = filter_major_companies(all_holdings_cls)\n",
    "# including subsidiaries\n",
    "# majors_after_mergers = filter_major_companies(all_holdings_cls, include_subsidiaries=True)\n",
    "\n",
    "other_quarters = all_holdings_majors[\n",
    "    all_holdings_majors[\"ReportPeriodDate\"] != '2021-09-30'\n",
    "#     majors_after_mergers[\"ReportPeriodDate\"].max()\n",
    "]\n",
    "\n",
    "# leave only mergers quarter (2021 Q3)\n",
    "majors_after_mergers = all_holdings_majors[\n",
    "    all_holdings_majors[\"ReportPeriodDate\"] == '2021-09-30'\n",
    "#     majors_after_mergers[\"ReportPeriodDate\"].max()\n",
    "]\n",
    "\n",
    "# change data according to mergers\n",
    "majors_after_mergers = update_system_owners(majors_after_mergers, \"גמל\", \"הלמן\", \"הפניקס\")\n",
    "majors_after_mergers = update_system_owners(majors_after_mergers, \"פנסיה\", \"הלמן\", \"מיטב\")\n",
    "majors_after_mergers = update_system_owners(majors_after_mergers, \"גמל\", \"פסגות\", \"אלטשולר\")\n",
    "majors_after_mergers = update_system_owners(majors_after_mergers, \"פנסיה\", \"פסגות\", \"הראל\")"
   ]
  },
  {
   "cell_type": "code",
   "execution_count": 19,
   "metadata": {},
   "outputs": [
    {
     "data": {
      "text/html": [
       "<div>\n",
       "<style scoped>\n",
       "    .dataframe tbody tr th:only-of-type {\n",
       "        vertical-align: middle;\n",
       "    }\n",
       "\n",
       "    .dataframe tbody tr th {\n",
       "        vertical-align: top;\n",
       "    }\n",
       "\n",
       "    .dataframe thead th {\n",
       "        text-align: right;\n",
       "    }\n",
       "</style>\n",
       "<table border=\"1\" class=\"dataframe\">\n",
       "  <thead>\n",
       "    <tr style=\"text-align: right;\">\n",
       "      <th></th>\n",
       "      <th>שווי</th>\n",
       "    </tr>\n",
       "    <tr>\n",
       "      <th>SystemName</th>\n",
       "      <th></th>\n",
       "    </tr>\n",
       "  </thead>\n",
       "  <tbody>\n",
       "    <tr>\n",
       "      <th>ביטוח</th>\n",
       "      <td>6,263,588,250.78</td>\n",
       "    </tr>\n",
       "    <tr>\n",
       "      <th>גמל</th>\n",
       "      <td>8,371,917,078.12</td>\n",
       "    </tr>\n",
       "    <tr>\n",
       "      <th>פנסיה</th>\n",
       "      <td>9,198,696,070.97</td>\n",
       "    </tr>\n",
       "  </tbody>\n",
       "</table>\n",
       "</div>"
      ],
      "text/plain": [
       "                        שווי\n",
       "SystemName                  \n",
       "ביטוח       6,263,588,250.78\n",
       "גמל         8,371,917,078.12\n",
       "פנסיה       9,198,696,070.97"
      ]
     },
     "execution_count": 19,
     "metadata": {},
     "output_type": "execute_result"
    }
   ],
   "source": [
    "# adding back to other periods\n",
    "all_holdings_after_mergers = pd.concat([majors_after_mergers, other_quarters])\n",
    "pd.DataFrame(all_holdings_after_mergers.groupby(['SystemName'])['שווי'].agg('sum').map('{:,.2f}'.format))"
   ]
  },
  {
   "cell_type": "code",
   "execution_count": 20,
   "metadata": {},
   "outputs": [],
   "source": [
    "company_stats_after_mergers = get_summary(\n",
    "    all_holdings_after_mergers,\n",
    "    'ReportPeriodDate', 'ParentCorpGroup'\n",
    ")\n",
    "# company_system_stats_after_mergers.sort_values(\"שיעור פוסילי מתוך מניות ואגח סחירים + סוגי החזקות לא פוסיליים\")\n",
    "# company_stats_after_mergers.sort_values(\"שיעור פוסילי במניות ואגח קונצרני סחירים\")[[\n",
    "#     \"ReportPeriodDate\",\n",
    "#     \"ParentCorpGroup\",\n",
    "#     \"שווי\",\n",
    "#     \"שווי במניות ואגח קונצרני סחירים\",\n",
    "#     \"שיעור פוסילי במניות ואגח קונצרני סחירים\"\n",
    "# ]]\n",
    "\n",
    "# company_system_stats_after_mergers[\"ratio\"] = (\n",
    "#     company_system_stats_after_mergers[\"שיעור פוסילי במניות ואגח קונצרני סחירים\"] / \n",
    "#     company_system_stats_after_mergers[\"שיעור פוסילי מתוך מניות ואגח סחירים + סוגי החזקות לא פוסיליים\"]\n",
    "# )\n",
    "\n",
    "company_stats_after_mergers.to_csv(response_path+\"company_stats_since_2020_after_mergers.csv\", index=False)"
   ]
  },
  {
   "cell_type": "markdown",
   "metadata": {},
   "source": [
    "### Export aggregated data <u> after mergers </u> for quarterly org ranking"
   ]
  },
  {
   "cell_type": "code",
   "execution_count": 21,
   "metadata": {},
   "outputs": [],
   "source": [
    "midrag_agg_after_mergers = get_latest_q_ranking_agg_from_holdings(all_holdings_after_mergers)"
   ]
  },
  {
   "cell_type": "code",
   "execution_count": 22,
   "metadata": {},
   "outputs": [],
   "source": [
    "midrag_agg_after_mergers.to_csv(\n",
    "    response_path+\"midrag_after_mergers.csv\", index=False\n",
    ")"
   ]
  },
  {
   "cell_type": "markdown",
   "metadata": {},
   "source": [
    "Upload results to G-Drive: https://drive.google.com/drive/u/2/folders/1n0F9JpyJ4LdWxLc4-a8XaRaMV20qo1Fx"
   ]
  },
  {
   "cell_type": "markdown",
   "metadata": {},
   "source": [
    "# Export holdings data for quarterly ranking"
   ]
  },
  {
   "cell_type": "code",
   "execution_count": 23,
   "metadata": {},
   "outputs": [],
   "source": [
    "q = from_year + ' רבעון ' + from_q\n",
    "holding_types_for_ranking = ['מניות', 'אג\"ח קונצרני']\n",
    "cols = [\n",
    "    'שם המנפיק/שם נייר ערך',\n",
    "    'מספר ני\"ע',\n",
    "    'ISIN',\n",
    "    'מספר מנפיק',\n",
    "    'מספר תאגיד',\n",
    "    'LEI',\n",
    "    'ענף מסחר',\n",
    "    'שווי',\n",
    "    'שעור מנכסי אפיק ההשקעה',\n",
    "    'שעור מסך נכסי השקעה',\n",
    "    'שעור מערך נקוב מונפק',\n",
    "    'holding_type',\n",
    "    'SystemName',\n",
    "    'ParentCorpGroup',\n",
    "    'is_fossil',\n",
    "    'שווי פוסילי'\n",
    "]\n",
    "holdings_for_ranking = filter_major_companies(all_holdings_cls)\n",
    "holdings_for_ranking = holdings_for_ranking.loc[\n",
    "    (holdings_for_ranking['ReportPeriodDesc'] == q) &\n",
    "    (holdings_for_ranking[\"holding_type\"].isin(holding_types_for_ranking)),\n",
    "    cols\n",
    "]\n",
    "# use ISIN when Israeli sec num is not available\n",
    "holdings_for_ranking['מספר ני\"ע'] = holdings_for_ranking['מספר ני\"ע'].fillna(holdings_for_ranking['ISIN'])\n",
    "# use Israeli corp num and then LEI when issuer number is not available\n",
    "holdings_for_ranking['מספר מנפיק'] = holdings_for_ranking['מספר מנפיק'].fillna(holdings_for_ranking['מספר תאגיד'])\n",
    "holdings_for_ranking['מספר מנפיק'] = holdings_for_ranking['מספר מנפיק'].fillna(holdings_for_ranking['LEI'])\n",
    "holdings_for_ranking.drop(['ISIN', 'מספר תאגיד', 'LEI'], axis=1, inplace=True)\n",
    "holdings_for_ranking.rename({\n",
    "    \"holding_type\": \"סוג החזקה\",\n",
    "    \"SystemName\":  \"אפיק\",\n",
    "    \"ParentCorpGroup\": \"גוף\"\n",
    "}, axis=1, inplace=True)\n",
    "\n",
    "# holdings_for_ranking[\n",
    "#     (holdings_for_ranking[\"is_fossil\"] == 1) &\n",
    "#     ~(holdings_for_ranking[\"שווי פוסילי\"] > 0)\n",
    "# ]\n",
    "\n",
    "holdings_for_ranking.to_csv(response_path+\"quarterly_ranking_data.csv\", index=False)"
   ]
  },
  {
   "cell_type": "markdown",
   "metadata": {},
   "source": [
    "## Export csv per institution"
   ]
  },
  {
   "cell_type": "code",
   "execution_count": 24,
   "metadata": {},
   "outputs": [],
   "source": [
    "inst_cols = [c for c in holdings_for_ranking.columns if (c != 'גוף') & ~(c.startswith(\"שעור\"))]\n",
    "for inst in get_major_institutions_list():\n",
    "    holding_per_inst = holdings_for_ranking.loc[\n",
    "        (holdings_for_ranking[\"גוף\"] == inst),\n",
    "        inst_cols\n",
    "    ].sort_values(\"שווי פוסילי\", ascending=False)\n",
    "    holding_per_inst.to_csv(response_path+inst+\".csv\", index=False)"
   ]
  },
  {
   "cell_type": "markdown",
   "metadata": {},
   "source": [
    "# Get a list of all fossil holdings for major institutions for a given quarter"
   ]
  },
  {
   "cell_type": "code",
   "execution_count": 25,
   "metadata": {
    "scrolled": true
   },
   "outputs": [],
   "source": [
    "# inst = get_major_institutions_list()\n",
    "# fossil_holdings_last_q = group_fossil_holdings_quarters_institutions(\n",
    "#     all_holdings_cls_filtered,\n",
    "#     quarters=q,\n",
    "#     institutions = inst\n",
    "# )\n",
    "\n",
    "# fossil_holdings_last_q.to_csv(\"analysis/last_q_major_insts_fossil_holdings.csv\", index=False)"
   ]
  },
  {
   "cell_type": "markdown",
   "metadata": {},
   "source": [
    "<h1><center>*** RUN UP TO HERE ***</center></h1>"
   ]
  },
  {
   "cell_type": "markdown",
   "metadata": {},
   "source": [
    "# Compare Fossil Holdings over quarters\n",
    "## 1. for specific companies"
   ]
  },
  {
   "cell_type": "code",
   "execution_count": 28,
   "metadata": {
    "scrolled": true
   },
   "outputs": [
    {
     "name": "stdout",
     "output_type": "stream",
     "text": [
      "total Israeli fossil holdings: 5338466.500939828\n",
      "total fossil holdings with il_sec_num: 5338466.5009398265\n",
      "total fossil holdings without il_sec_num: 1956071.8206778504\n",
      "1956071.8206778504\n",
      "after adding Israeli and non-Israeli: 7294538.321617679\n"
     ]
    },
    {
     "name": "stderr",
     "output_type": "stream",
     "text": [
      "/Users/urimarom/PycharmProjects/fossil_classification/holdings_analysis.py:174: UserWarning: Boolean Series key will be reindexed to match DataFrame index.\n",
      "  selected_holdings = selected_holdings[(holdings[\"is_fossil\"] == 1)]\n"
     ]
    },
    {
     "data": {
      "text/html": [
       "<div>\n",
       "<style scoped>\n",
       "    .dataframe tbody tr th:only-of-type {\n",
       "        vertical-align: middle;\n",
       "    }\n",
       "\n",
       "    .dataframe tbody tr th {\n",
       "        vertical-align: top;\n",
       "    }\n",
       "\n",
       "    .dataframe thead th {\n",
       "        text-align: right;\n",
       "    }\n",
       "</style>\n",
       "<table border=\"1\" class=\"dataframe\">\n",
       "  <thead>\n",
       "    <tr style=\"text-align: right;\">\n",
       "      <th></th>\n",
       "      <th>name</th>\n",
       "      <th>id</th>\n",
       "      <th>fossil_sum_prev_q</th>\n",
       "      <th>quantity_sum_prev_q</th>\n",
       "      <th>fossil_sum_curr_q</th>\n",
       "      <th>quantity_sum_curr_q</th>\n",
       "      <th>quantity_diff</th>\n",
       "      <th>quantity_diff_pct</th>\n",
       "      <th>fossil_sum_diff</th>\n",
       "      <th>fossil_sum_diff_pct</th>\n",
       "    </tr>\n",
       "  </thead>\n",
       "  <tbody>\n",
       "    <tr>\n",
       "      <th>11</th>\n",
       "      <td>תמר פטרוליום</td>\n",
       "      <td>1689</td>\n",
       "      <td>149,216.833</td>\n",
       "      <td>153,568,774.260</td>\n",
       "      <td>148,254.641</td>\n",
       "      <td>153,568,774.260</td>\n",
       "      <td>0.000</td>\n",
       "      <td>0.000</td>\n",
       "      <td>-962.192</td>\n",
       "      <td>-0.006</td>\n",
       "    </tr>\n",
       "    <tr>\n",
       "      <th>10</th>\n",
       "      <td>קנון</td>\n",
       "      <td>201406588</td>\n",
       "      <td>292,657.817</td>\n",
       "      <td>3,325,656.990</td>\n",
       "      <td>293,655.512</td>\n",
       "      <td>3,325,657.020</td>\n",
       "      <td>0.030</td>\n",
       "      <td>0.000</td>\n",
       "      <td>997.695</td>\n",
       "      <td>0.003</td>\n",
       "    </tr>\n",
       "    <tr>\n",
       "      <th>9</th>\n",
       "      <td>קיסטון ריט</td>\n",
       "      <td>1904</td>\n",
       "      <td>167,490.073</td>\n",
       "      <td>28,885,755.000</td>\n",
       "      <td>146,681.863</td>\n",
       "      <td>28,885,755.000</td>\n",
       "      <td>0.000</td>\n",
       "      <td>0.000</td>\n",
       "      <td>-20,808.210</td>\n",
       "      <td>-0.124</td>\n",
       "    </tr>\n",
       "    <tr>\n",
       "      <th>8</th>\n",
       "      <td>לפידות</td>\n",
       "      <td>642</td>\n",
       "      <td>615,779.209</td>\n",
       "      <td>9,284,970.000</td>\n",
       "      <td>522,186.712</td>\n",
       "      <td>9,284,970.000</td>\n",
       "      <td>0.000</td>\n",
       "      <td>0.000</td>\n",
       "      <td>-93,592.498</td>\n",
       "      <td>-0.152</td>\n",
       "    </tr>\n",
       "    <tr>\n",
       "      <th>7</th>\n",
       "      <td>כיל</td>\n",
       "      <td>281</td>\n",
       "      <td>859,506.343</td>\n",
       "      <td>40,792,897.220</td>\n",
       "      <td>741,614.870</td>\n",
       "      <td>40,792,897.210</td>\n",
       "      <td>-0.010</td>\n",
       "      <td>-0.000</td>\n",
       "      <td>-117,891.474</td>\n",
       "      <td>-0.137</td>\n",
       "    </tr>\n",
       "    <tr>\n",
       "      <th>6</th>\n",
       "      <td>חשמל</td>\n",
       "      <td>600</td>\n",
       "      <td>13,682.936</td>\n",
       "      <td>11,671,872.000</td>\n",
       "      <td>13,901.200</td>\n",
       "      <td>11,671,872.000</td>\n",
       "      <td>0.000</td>\n",
       "      <td>0.000</td>\n",
       "      <td>218.264</td>\n",
       "      <td>0.016</td>\n",
       "    </tr>\n",
       "    <tr>\n",
       "      <th>5</th>\n",
       "      <td>חברה לישראל</td>\n",
       "      <td>576</td>\n",
       "      <td>219,708.551</td>\n",
       "      <td>226,317.010</td>\n",
       "      <td>206,876.352</td>\n",
       "      <td>226,316.980</td>\n",
       "      <td>-0.030</td>\n",
       "      <td>-0.000</td>\n",
       "      <td>-12,832.199</td>\n",
       "      <td>-0.058</td>\n",
       "    </tr>\n",
       "    <tr>\n",
       "      <th>4</th>\n",
       "      <td>אלקו החזקות</td>\n",
       "      <td>694</td>\n",
       "      <td>131,615.100</td>\n",
       "      <td>1,168,873.010</td>\n",
       "      <td>137,576.349</td>\n",
       "      <td>1,168,872.970</td>\n",
       "      <td>-0.040</td>\n",
       "      <td>-0.000</td>\n",
       "      <td>5,961.248</td>\n",
       "      <td>0.045</td>\n",
       "    </tr>\n",
       "    <tr>\n",
       "      <th>3</th>\n",
       "      <td>או פי סי אנרגיה</td>\n",
       "      <td>1682</td>\n",
       "      <td>343,492.009</td>\n",
       "      <td>13,940,422.310</td>\n",
       "      <td>334,570.130</td>\n",
       "      <td>13,940,422.280</td>\n",
       "      <td>-0.030</td>\n",
       "      <td>-0.000</td>\n",
       "      <td>-8,921.879</td>\n",
       "      <td>-0.026</td>\n",
       "    </tr>\n",
       "    <tr>\n",
       "      <th>2</th>\n",
       "      <td>TOTAL SA FP PA</td>\n",
       "      <td>529900S21EQ1BO4ESM68</td>\n",
       "      <td>406,339.160</td>\n",
       "      <td>1,560,475.990</td>\n",
       "      <td>386,159.988</td>\n",
       "      <td>1,562,676.000</td>\n",
       "      <td>2,200.010</td>\n",
       "      <td>0.001</td>\n",
       "      <td>-20,179.171</td>\n",
       "      <td>-0.050</td>\n",
       "    </tr>\n",
       "    <tr>\n",
       "      <th>1</th>\n",
       "      <td>PEMEX</td>\n",
       "      <td>549300CAZKPF4HKMPX17</td>\n",
       "      <td>459,624.211</td>\n",
       "      <td>146,142,000.000</td>\n",
       "      <td>481,736.177</td>\n",
       "      <td>146,142,000.000</td>\n",
       "      <td>0.000</td>\n",
       "      <td>0.000</td>\n",
       "      <td>22,111.965</td>\n",
       "      <td>0.048</td>\n",
       "    </tr>\n",
       "    <tr>\n",
       "      <th>0</th>\n",
       "      <td>AESGEN</td>\n",
       "      <td>5493000S11JF8TJHYT07</td>\n",
       "      <td>126,048.060</td>\n",
       "      <td>55,425,000.000</td>\n",
       "      <td>96,164.225</td>\n",
       "      <td>55,425,000.000</td>\n",
       "      <td>0.000</td>\n",
       "      <td>0.000</td>\n",
       "      <td>-29,883.836</td>\n",
       "      <td>-0.237</td>\n",
       "    </tr>\n",
       "  </tbody>\n",
       "</table>\n",
       "</div>"
      ],
      "text/plain": [
       "               name                    id  fossil_sum_prev_q  \\\n",
       "11     תמר פטרוליום                  1689        149,216.833   \n",
       "10             קנון             201406588        292,657.817   \n",
       "9        קיסטון ריט                  1904        167,490.073   \n",
       "8            לפידות                   642        615,779.209   \n",
       "7               כיל                   281        859,506.343   \n",
       "6              חשמל                   600         13,682.936   \n",
       "5       חברה לישראל                   576        219,708.551   \n",
       "4       אלקו החזקות                   694        131,615.100   \n",
       "3   או פי סי אנרגיה                  1682        343,492.009   \n",
       "2    TOTAL SA FP PA  529900S21EQ1BO4ESM68        406,339.160   \n",
       "1             PEMEX  549300CAZKPF4HKMPX17        459,624.211   \n",
       "0            AESGEN  5493000S11JF8TJHYT07        126,048.060   \n",
       "\n",
       "    quantity_sum_prev_q  fossil_sum_curr_q  quantity_sum_curr_q  \\\n",
       "11      153,568,774.260        148,254.641      153,568,774.260   \n",
       "10        3,325,656.990        293,655.512        3,325,657.020   \n",
       "9        28,885,755.000        146,681.863       28,885,755.000   \n",
       "8         9,284,970.000        522,186.712        9,284,970.000   \n",
       "7        40,792,897.220        741,614.870       40,792,897.210   \n",
       "6        11,671,872.000         13,901.200       11,671,872.000   \n",
       "5           226,317.010        206,876.352          226,316.980   \n",
       "4         1,168,873.010        137,576.349        1,168,872.970   \n",
       "3        13,940,422.310        334,570.130       13,940,422.280   \n",
       "2         1,560,475.990        386,159.988        1,562,676.000   \n",
       "1       146,142,000.000        481,736.177      146,142,000.000   \n",
       "0        55,425,000.000         96,164.225       55,425,000.000   \n",
       "\n",
       "    quantity_diff  quantity_diff_pct  fossil_sum_diff  fossil_sum_diff_pct  \n",
       "11          0.000              0.000         -962.192               -0.006  \n",
       "10          0.030              0.000          997.695                0.003  \n",
       "9           0.000              0.000      -20,808.210               -0.124  \n",
       "8           0.000              0.000      -93,592.498               -0.152  \n",
       "7          -0.010             -0.000     -117,891.474               -0.137  \n",
       "6           0.000              0.000          218.264                0.016  \n",
       "5          -0.030             -0.000      -12,832.199               -0.058  \n",
       "4          -0.040             -0.000        5,961.248                0.045  \n",
       "3          -0.030             -0.000       -8,921.879               -0.026  \n",
       "2       2,200.010              0.001      -20,179.171               -0.050  \n",
       "1           0.000              0.000       22,111.965                0.048  \n",
       "0           0.000              0.000      -29,883.836               -0.237  "
      ]
     },
     "execution_count": 28,
     "metadata": {},
     "output_type": "execute_result"
    }
   ],
   "source": [
    "# compare fossil holdings\n",
    "\n",
    "company_for_comparison = ['אלטשולר']\n",
    "quarters_for_comparison = [\n",
    "    '2023 רבעון 3',\n",
    "    '2023 רבעון 4'\n",
    "]\n",
    "\n",
    "holding_types = ['מניות', 'אג\"ח קונצרני']\n",
    "# comparison = compare_holdings_over_quarters(all_holdings_cls_filtered, quarters_for_comparison, company_for_comparison)\n",
    "comparison = compare_holdings_over_quarters(\n",
    "    all_holdings_after_mergers, holding_types, quarters_for_comparison, company_for_comparison, fossil_only=1)\n",
    "comparison.sort_values(\"name\", ascending=False)"
   ]
  },
  {
   "cell_type": "code",
   "execution_count": 29,
   "metadata": {},
   "outputs": [],
   "source": [
    "company_quarter = company_for_comparison[0] + \" - \" + quarters_for_comparison[1]\n",
    "comparison.to_csv(\"analysis/fossil holdings comparison - \" + company_quarter + \".csv\", index=False, header=False)"
   ]
  },
  {
   "cell_type": "markdown",
   "metadata": {},
   "source": [
    "## compare non-fossil holdings - example"
   ]
  },
  {
   "cell_type": "code",
   "execution_count": null,
   "metadata": {},
   "outputs": [],
   "source": [
    "company_for_comparison = ['מגדל']\n",
    "quarters_for_comparison = [\n",
    "    '2021 רבעון 4',\n",
    "    '2022 רבעון 4'\n",
    "]\n",
    "\n",
    "holding_types = ['לא סחיר - מניות']\n",
    "comparison = compare_holdings_over_quarters(\n",
    "    all_holdings_after_mergers, holding_types, quarters_for_comparison, company_for_comparison, fossil_only=0)\n",
    "comparison.sort_values(\"name\", ascending=False)"
   ]
  },
  {
   "cell_type": "code",
   "execution_count": null,
   "metadata": {},
   "outputs": [],
   "source": [
    "company_quarter = company_for_comparison[0] + \" - \" + quarters_for_comparison[1]\n",
    "holding_types_str = ' '.join(holding_types)\n",
    "# comparison.to_csv(\"analysis/holdings comparison - \" + company_quarter + \" - \" + holding_types_str + \".csv\", index=False)"
   ]
  },
  {
   "cell_type": "code",
   "execution_count": null,
   "metadata": {},
   "outputs": [],
   "source": [
    "all_holdings_cls_filtered[\n",
    "    (all_holdings_cls_filtered[\"ParentCorpGroup\"] == 'מגדל') &\n",
    "    (all_holdings_cls_filtered[\"holding_type\"] == 'לא סחיר - מניות')\n",
    "].groupby('ReportPeriodDesc')['שווי'].agg('sum')"
   ]
  },
  {
   "cell_type": "markdown",
   "metadata": {},
   "source": [
    "## add profit/loss per quarter\n",
    "treating changes in quantity as if they took place at the last day of the quarter:\n",
    "* If quantity went up (securities were bought): calculate the change for prev_q amount\n",
    "* If quantity went down (securities were sold): calculate the change for prev_q amount \n",
    "\n",
    "previous quarter quantity * (current quarter price - previous quarter price)"
   ]
  },
  {
   "cell_type": "code",
   "execution_count": null,
   "metadata": {},
   "outputs": [],
   "source": [
    "comparison[\"price_diff\"] = (\n",
    "    (comparison[\"fossil_sum_curr_q\"] / comparison[\"quantity_sum_curr_q\"]) -\n",
    "    (comparison[\"fossil_sum_prev_q\"] / comparison[\"quantity_sum_prev_q\"])\n",
    ")\n",
    "\n",
    "comparison[\"value_diff\"] = comparison[\"price_diff\"] * comparison[\"quantity_sum_prev_q\"]"
   ]
  },
  {
   "cell_type": "code",
   "execution_count": null,
   "metadata": {},
   "outputs": [],
   "source": [
    "print(comparison[\"value_diff\"].sum())\n",
    "comparison"
   ]
  },
  {
   "cell_type": "code",
   "execution_count": null,
   "metadata": {},
   "outputs": [],
   "source": [
    "# divide to מניות and אגח according to request (ugly but no time...)"
   ]
  },
  {
   "cell_type": "code",
   "execution_count": null,
   "metadata": {},
   "outputs": [],
   "source": [
    "def fossil_profit_per_q_by_holding_type(holdings, quarters, company, holding_types):\n",
    "    results = []\n",
    "    for i in range(len(quarters)-1):\n",
    "        for h in holding_types:\n",
    "            holdings_filtered_by_type = holdings[holdings[\"holding_type\"] == h]\n",
    "            quarters_for_comparison = [quarters[i], quarters[i+1]]\n",
    "            comparison = compare_fossil_holdings_over_quarters(holdings_filtered_by_type, quarters_for_comparison, company)\n",
    "            comparison[\"prev_price\"] = comparison[\"fossil_sum_prev_q\"] / comparison[\"quantity_sum_prev_q\"]\n",
    "            comparison[\"curr_price\"] = comparison[\"fossil_sum_curr_q\"] / comparison[\"quantity_sum_curr_q\"]\n",
    "            comparison[\"price_diff\"] = comparison[\"curr_price\"] - comparison[\"prev_price\"]\n",
    "            comparison[\"price_diff_pct\"] = comparison[\"price_diff\"] / comparison[\"prev_price\"]\n",
    "            comparison[\"value_diff\"] = comparison[\"price_diff\"] * comparison[\"quantity_sum_prev_q\"]\n",
    "            # look into rows with abnormal price diff (might mean something changed in number of shares?)\n",
    "            print(comparison[\n",
    "                (comparison[\"price_diff_pct\"] > 0.5) |\n",
    "                (comparison[\"price_diff_pct\"] < -0.5)\n",
    "            ])\n",
    "            profit_end_q = comparison[\"value_diff\"].sum()\n",
    "            total_end_q = comparison[\"fossil_sum_curr_q\"].sum()\n",
    "            results.append({\n",
    "                'quarter': quarters[i+1],\n",
    "                'holding_type': h,\n",
    "                'profit': profit_end_q,\n",
    "                'total': total_end_q\n",
    "            })\n",
    "    return pd.DataFrame(results)\n",
    "            "
   ]
  },
  {
   "cell_type": "code",
   "execution_count": null,
   "metadata": {},
   "outputs": [],
   "source": [
    "quarters = [\n",
    "    '2020 רבעון 4',\n",
    "    '2021 רבעון 1',\n",
    "    '2021 רבעון 2',\n",
    "    '2021 רבעון 3',\n",
    "    '2021 רבעון 4',\n",
    "    '2022 רבעון 1'\n",
    "]\n",
    "\n",
    "holding_types = ['מניות', 'אג\"ח קונצרני']\n",
    "\n",
    "fossil_profits_by_type_and_q = fossil_profit_per_q_by_holding_type(all_holdings_after_mergers, quarters, ['מגדל'], holding_types)\n",
    "fossil_profits_by_type_and_q.to_clipboard(index=False)\n",
    "fossil_profits_by_type_and_q"
   ]
  },
  {
   "cell_type": "code",
   "execution_count": null,
   "metadata": {},
   "outputs": [],
   "source": [
    "fossil_profits_by_type_and_q.groupby(\"quarter\").sum()"
   ]
  },
  {
   "cell_type": "markdown",
   "metadata": {},
   "source": [
    "## 2. for all (major) companies"
   ]
  },
  {
   "cell_type": "code",
   "execution_count": null,
   "metadata": {},
   "outputs": [],
   "source": [
    "all_holdings_cls_filtered_grouped = all_holdings_cls_filtered.copy()\n",
    "all_holdings_cls_filtered_grouped[\"ParentCorpGroup\"] = \"כל החברות\"\n",
    "all_major_companies = [\"כל החברות\"]\n",
    "quarters_for_comparison = [\n",
    "    '2021 רבעון 2',\n",
    "    '2021 רבעון 3'\n",
    "]\n",
    "\n",
    "compare_all = compare_fossil_holdings_over_quarters(\n",
    "    all_holdings_cls_filtered_grouped,\n",
    "    quarters_for_comparison,\n",
    "    all_major_companies\n",
    ")"
   ]
  },
  {
   "cell_type": "code",
   "execution_count": null,
   "metadata": {},
   "outputs": [],
   "source": [
    "quarters = ' '.join(quarters_for_comparison)\n",
    "compare_all.to_csv(\"analysis/all companies - fossil holdings comparison - \" + quarters + \".csv\", index=False)"
   ]
  },
  {
   "cell_type": "markdown",
   "metadata": {},
   "source": [
    "## Look into non fossil holding types"
   ]
  },
  {
   "cell_type": "code",
   "execution_count": null,
   "metadata": {},
   "outputs": [],
   "source": [
    "all_holdings_cls_non_fossil_types = all_holdings_cls_filtered[\n",
    "    all_holdings_cls_filtered[\"holding_type\"].isin(get_non_fossil_holding_types())\n",
    "]\n",
    "\n",
    "all_holdings_cls_non_fossil_types['holding_type'].unique()"
   ]
  },
  {
   "cell_type": "code",
   "execution_count": null,
   "metadata": {},
   "outputs": [],
   "source": [
    "all_holdings_cls_non_fossil_types.groupby(\"holding_type\").agg({\n",
    "      \"שווי\": \"sum\",\n",
    "    \"שווי פוסילי\": \"sum\"\n",
    "})"
   ]
  },
  {
   "cell_type": "code",
   "execution_count": null,
   "metadata": {},
   "outputs": [],
   "source": [
    "# holdings that should be non fossil by holding type but are fossil\n",
    "all_holdings_cls_non_fossil_types[\n",
    "    all_holdings_cls_non_fossil_types[\"is_fossil\"] == 1\n",
    "]"
   ]
  },
  {
   "cell_type": "markdown",
   "metadata": {},
   "source": [
    "## Export holdings with missing classification that should be classified"
   ]
  },
  {
   "cell_type": "code",
   "execution_count": null,
   "metadata": {},
   "outputs": [],
   "source": [
    "missing_cls = all_holdings_cls[\n",
    "    (all_holdings_cls[\"holding_type\"].isin(['מניות', 'אג\"ח קונצרני'])) &\n",
    "    (all_holdings_cls[\"is_fossil\"].isnull())\n",
    "]\n",
    "\n",
    "cols = ['שם המנפיק/שם נייר ערך' ,'מספר ני\"ע' ,'מספר מנפיק', 'ISIN', 'מספר תאגיד', 'LEI']\n",
    "missing_cls_deduped = missing_cls[cols].drop_duplicates()\n",
    "print(missing_cls_deduped.shape[0])\n",
    "missing_cls_deduped"
   ]
  },
  {
   "cell_type": "code",
   "execution_count": null,
   "metadata": {},
   "outputs": [],
   "source": [
    "missing_cls_deduped.to_csv(response_path+\"missing_cls.csv\", index=False)"
   ]
  },
  {
   "cell_type": "markdown",
   "metadata": {},
   "source": [
    "# Simulation - change fossil classification for selected holdings, analyze results"
   ]
  },
  {
   "cell_type": "code",
   "execution_count": null,
   "metadata": {},
   "outputs": [],
   "source": [
    "# fix data in all_holdings_cls - wrong data for סופרגז\n",
    "# all_holdings_cls[all_holdings_cls[\"שם המנפיק/שם נייר ערך\"] == 'סופרגז']"
   ]
  },
  {
   "cell_type": "code",
   "execution_count": null,
   "metadata": {},
   "outputs": [],
   "source": [
    "all_holdings_cls.loc[all_holdings_cls[\"שם המנפיק/שם נייר ערך\"] == 'סופרגז',\n",
    "                    'מספר ני\"ע'] = '1166917'\n",
    "\n",
    "all_holdings_cls.loc[all_holdings_cls[\"שם המנפיק/שם נייר ערך\"] == 'סופרגז',\n",
    "                     'ISIN'] = 'IL0011669178'"
   ]
  },
  {
   "cell_type": "code",
   "execution_count": null,
   "metadata": {},
   "outputs": [],
   "source": [
    "all_holdings_cls[\"clean_name\"] = all_holdings_cls[\"שם המנפיק/שם נייר ערך\"].apply(clean_company)"
   ]
  },
  {
   "cell_type": "code",
   "execution_count": null,
   "metadata": {
    "scrolled": true
   },
   "outputs": [],
   "source": [
    "selected_holdings_names = [\"כיל\", \"ICL \", 'איי סי אל', 'איי.סי.אל', 'אייסיאל', 'ISRAEL CHEMICAL', 'כימיקלים לישראל', 'כי\"ל',\n",
    "                           \"ICLIT\"\n",
    "#                            \"רימון\",\n",
    "#                            \"סופרגז\", \"סופר גז\",\n",
    "#                            \"OPC\", 'אופיסי', 'או. פי. סי', 'או פי סי',\n",
    "#                            'חברה לישראל', 'החברה לישראל', 'חברהלישראל','חברה ישראל'\n",
    "                          ]\n",
    "name_mask = all_holdings_cls[\"clean_name\"].str.upper().str.startswith(tuple(selected_holdings_names))\n",
    "all_holdings_cls.loc[name_mask].groupby(['מספר מנפיק'], dropna=False).agg(\n",
    "    name=pd.NamedAgg(column=\"clean_name\", aggfunc=\"first\")\n",
    ")"
   ]
  },
  {
   "cell_type": "code",
   "execution_count": null,
   "metadata": {},
   "outputs": [],
   "source": [
    "all_holdings_cls.loc[all_holdings_cls[\"מספר מנפיק\"] != '281'].loc[name_mask].sort_values(\"שם המנפיק/שם נייר ערך\")"
   ]
  },
  {
   "cell_type": "code",
   "execution_count": null,
   "metadata": {},
   "outputs": [],
   "source": [
    "def holdings_col_mask_by_another_mask(holdings, col_name, mask):\n",
    "    selected_col_values = holdings.loc[mask, col_name].dropna().unique()\n",
    "    col_mask = holdings[col_name].isin(selected_col_values)\n",
    "    print(\"matching holdings by {}: {}\".format(col_name, col_mask.sum()))\n",
    "    return col_mask"
   ]
  },
  {
   "cell_type": "code",
   "execution_count": null,
   "metadata": {},
   "outputs": [],
   "source": [
    "# by issuer num\n",
    "issuer_mask = holdings_col_mask_by_another_mask(all_holdings_cls, \"מספר מנפיק\", name_mask)\n",
    "ISIN_mask = holdings_col_mask_by_another_mask(all_holdings_cls, \"ISIN\", name_mask)\n",
    "LEI_mask = holdings_col_mask_by_another_mask(all_holdings_cls, \"LEI\", name_mask)\n",
    "il_corp_mask = holdings_col_mask_by_another_mask(all_holdings_cls, \"מספר תאגיד\", name_mask)\n",
    "# il_sec_num_mask = holdings_col_mask_by_another_mask(all_holdings_cls, 'מספר ני\"ע', name_mask)"
   ]
  },
  {
   "cell_type": "code",
   "execution_count": null,
   "metadata": {},
   "outputs": [],
   "source": [
    "all_ids_mask = name_mask | issuer_mask | ISIN_mask | LEI_mask | il_corp_mask # | il_sec_num_mask\n",
    "no_name_match = all_holdings_cls[all_ids_mask & (~name_mask)]\n",
    "print(\"selected holdings with no name match: {}\".format(no_name_match.shape[0]))"
   ]
  },
  {
   "cell_type": "code",
   "execution_count": null,
   "metadata": {},
   "outputs": [],
   "source": [
    "no_name_match.sort_values(\"is_fossil\", ascending=False)"
   ]
  },
  {
   "cell_type": "code",
   "execution_count": null,
   "metadata": {},
   "outputs": [],
   "source": [
    "all_holdings_cls.loc[all_ids_mask, \"is_fossil\"].value_counts(dropna=False)"
   ]
  },
  {
   "cell_type": "code",
   "execution_count": null,
   "metadata": {},
   "outputs": [],
   "source": [
    "# change classification\n",
    "all_holdings_cls.loc[all_ids_mask, \"is_fossil\"] = 0\n",
    "all_holdings_cls[\"שווי פוסילי\"] = all_holdings_cls[\"שווי\"] * all_holdings_cls[\"is_fossil\"]"
   ]
  },
  {
   "cell_type": "markdown",
   "metadata": {},
   "source": [
    "## Misc queries"
   ]
  },
  {
   "cell_type": "code",
   "execution_count": null,
   "metadata": {
    "scrolled": true
   },
   "outputs": [],
   "source": [
    "response_path = \"data/downloaded reports/company reports 2022Q1/\"\n",
    "all_holdings_cls = pd.read_csv(response_path+\"all_holdings_cls_all_ids.csv\", dtype=holdings_dtypes())\n",
    "# all_holdings_cls = load_mappings_and_add_ids_to_holdings(all_holdings_cls)\n",
    "current_q = '2022 רבעון 1'"
   ]
  },
  {
   "cell_type": "markdown",
   "metadata": {},
   "source": [
    "## holding type distribution (asset allocation)"
   ]
  },
  {
   "cell_type": "code",
   "execution_count": null,
   "metadata": {},
   "outputs": [],
   "source": [
    "latest_q_sums_by_htype = all_holdings_cls[\n",
    "    (all_holdings_cls[\"ReportPeriodDesc\"] == current_q)\n",
    "].groupby(\"holding_type\")[['שווי']].agg('sum').reset_index()\n",
    "\n",
    "latest_q_sums_by_htype[\"pct\"] = 100.00 * latest_q_sums_by_htype[\"שווי\"] / latest_q_sums_by_htype[\"שווי\"].sum()\n",
    "\n",
    "print(latest_q_sums_by_htype[\"שווי\"].sum())\n",
    "latest_q_sums_by_htype.sort_values('שווי', ascending=False).to_clipboard(index=False)\n",
    "latest_q_sums_by_htype.sort_values('שווי', ascending=False)"
   ]
  },
  {
   "cell_type": "markdown",
   "metadata": {},
   "source": [
    "## Non-major companies"
   ]
  },
  {
   "cell_type": "code",
   "execution_count": null,
   "metadata": {},
   "outputs": [],
   "source": [
    "haifa = all_holdings_cls.loc[\n",
    "    (all_holdings_cls[\"ParentCorpName\"].str.contains(\"חיפה\"))\n",
    "]"
   ]
  },
  {
   "cell_type": "code",
   "execution_count": null,
   "metadata": {},
   "outputs": [],
   "source": [
    "get_summary(haifa, 'ReportPeriodDesc', 'ParentCorpName')"
   ]
  },
  {
   "cell_type": "code",
   "execution_count": null,
   "metadata": {},
   "outputs": [],
   "source": [
    "haifa[haifa[\"is_fossil\"] == 1].sort_values(\"שם המנפיק/שם נייר ערך\")"
   ]
  },
  {
   "cell_type": "code",
   "execution_count": null,
   "metadata": {
    "scrolled": true
   },
   "outputs": [],
   "source": [
    "hachshara = all_holdings_cls.loc[\n",
    "    (all_holdings_cls[\"ParentCorpName\"].str.contains(\"הכשר\"))\n",
    "]\n",
    "get_summary(hachshara, 'ReportPeriodDesc', 'ParentCorpName')"
   ]
  },
  {
   "cell_type": "markdown",
   "metadata": {},
   "source": [
    "## looking into specific holdings\n",
    "קרנות סל - מגדל 125"
   ]
  },
  {
   "cell_type": "code",
   "execution_count": null,
   "metadata": {
    "scrolled": true
   },
   "outputs": [],
   "source": [
    "all_holdings_2021q2[\n",
    "    (all_holdings_2021q2[\"holding_type\"] == 'קרנות סל') &\n",
    "    (all_holdings_2021q2[\"שם המנפיק/שם נייר ערך\"].str.contains(\"125\")) &\n",
    "    (all_holdings_2021q2[\"שם המנפיק/שם נייר ערך\"].str.contains(\"מגדל\"))\n",
    "].groupby('מספר ני\"ע')[\"שווי\"].sum()"
   ]
  },
  {
   "cell_type": "code",
   "execution_count": null,
   "metadata": {
    "scrolled": true
   },
   "outputs": [],
   "source": [
    "# החזקות של חברות בקרן עוקבת תא 125 של מגדל\n",
    "cols = [\"SystemName\", \"ParentCorpName\",\"שווי\", 'שעור מנכסי אפיק ההשקעה', \"שעור מערך נקוב מונפק\"]\n",
    "all_holdings_2021q2[\n",
    "    (all_holdings_2021q2['מספר ני\"ע'] == 1150283)\n",
    "][cols]"
   ]
  },
  {
   "cell_type": "code",
   "execution_count": null,
   "metadata": {
    "scrolled": false
   },
   "outputs": [],
   "source": [
    "cols = [\"שם המנפיק/שם נייר ערך\", 'מספר ני\"ע', \"שווי\", \"שעור מנכסי אפיק ההשקעה\", \"שעור מערך נקוב מונפק\", \"SystemName\"]\n",
    "\n",
    "all_holdings_2021q2[\n",
    "    (all_holdings_2021q2['holding_type'] == 'קרנות סל') &\n",
    "    (all_holdings_2021q2[\"ParentCorpName\"].str.contains('מגדל')) &\n",
    "    (~all_holdings_2021q2[\"שם המנפיק/שם נייר ערך\"].str.contains('כש')) &\n",
    "    (all_holdings_2021q2[\"שם המנפיק/שם נייר ערך\"].str.contains('125'))\n",
    "][cols]"
   ]
  },
  {
   "cell_type": "markdown",
   "metadata": {},
   "source": [
    "## Looking into ETFs"
   ]
  },
  {
   "cell_type": "code",
   "execution_count": null,
   "metadata": {
    "scrolled": true
   },
   "outputs": [],
   "source": [
    "etf_holdings = all_holdings_2021q2[\n",
    "    (all_holdings_2021q2[\"holding_type\"] == 'קרנות סל')\n",
    "]\n",
    "\n",
    "etf_holdings.groupby(\"זירת מסחר\")[\"שווי\"].sum()"
   ]
  },
  {
   "cell_type": "code",
   "execution_count": null,
   "metadata": {
    "scrolled": true
   },
   "outputs": [],
   "source": [
    "etf_holdings_tase = etf_holdings[etf_holdings[\"זירת מסחר\"] == \"TASE\"]\n",
    "etf_holdings_tase.head()"
   ]
  },
  {
   "cell_type": "markdown",
   "metadata": {},
   "source": [
    "### Latest quarter holdings per company"
   ]
  },
  {
   "cell_type": "code",
   "execution_count": null,
   "metadata": {},
   "outputs": [],
   "source": [
    "all_holdings_cls_latest_q = all_holdings_cls[\n",
    "    all_holdings_cls[\"ReportPeriodDesc\"] == '2021 רבעון 3'\n",
    "]\n",
    "\n",
    "pd.DataFrame(all_holdings_cls_latest_q.groupby(\n",
    "    ['ParentCorpName'])['שווי'].agg('sum')\n",
    "            ).sort_values('שווי', ascending=False)"
   ]
  },
  {
   "cell_type": "code",
   "execution_count": null,
   "metadata": {},
   "outputs": [],
   "source": [
    "all_holdings_cls_filtered.groupby(\"holding_type\")[\"שווי\"].sum().sort_values()"
   ]
  },
  {
   "cell_type": "code",
   "execution_count": null,
   "metadata": {},
   "outputs": [],
   "source": [
    "all_holdings_cls_filtered[\n",
    "    all_holdings_cls_filtered[\"holding_type\"].str.contains(\"קרנות השקעה\")\n",
    "    ].head()"
   ]
  }
 ],
 "metadata": {
  "kernelspec": {
   "display_name": "Python 3 (ipykernel)",
   "language": "python",
   "name": "python3"
  },
  "language_info": {
   "codemirror_mode": {
    "name": "ipython",
    "version": 3
   },
   "file_extension": ".py",
   "mimetype": "text/x-python",
   "name": "python",
   "nbconvert_exporter": "python",
   "pygments_lexer": "ipython3",
   "version": "3.9.12"
  }
 },
 "nbformat": 4,
 "nbformat_minor": 2
}
