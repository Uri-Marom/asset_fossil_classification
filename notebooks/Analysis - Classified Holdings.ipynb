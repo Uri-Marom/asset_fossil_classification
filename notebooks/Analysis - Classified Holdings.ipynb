{
 "cells": [
  {
   "cell_type": "markdown",
   "metadata": {},
   "source": [
    "# Load env and files"
   ]
  },
  {
   "cell_type": "code",
   "execution_count": 1,
   "metadata": {},
   "outputs": [],
   "source": [
    "import os\n",
    "os.chdir('..')"
   ]
  },
  {
   "cell_type": "code",
   "execution_count": 2,
   "metadata": {},
   "outputs": [],
   "source": [
    "%load_ext autoreload\n",
    "%autoreload 2"
   ]
  },
  {
   "cell_type": "code",
   "execution_count": 3,
   "metadata": {},
   "outputs": [],
   "source": [
    "from fossil_classification import *\n",
    "from enrich_holdings import *\n",
    "from reports_etl import *\n",
    "from holdings_analysis import *\n",
    "\n",
    "pd.set_option('display.max_columns', None)\n",
    "pd.set_option('display.max_rows', None)\n",
    "pd.options.display.float_format = \"{:,.3f}\".format"
   ]
  },
  {
   "cell_type": "code",
   "execution_count": 4,
   "metadata": {},
   "outputs": [],
   "source": [
    "from_year = '2023'\n",
    "from_q = '1'"
   ]
  },
  {
   "cell_type": "code",
   "execution_count": 5,
   "metadata": {
    "scrolled": false
   },
   "outputs": [
    {
     "name": "stderr",
     "output_type": "stream",
     "text": [
      "/var/folders/rt/89wrjbhs2m5527n7jhtb42jh0000gn/T/ipykernel_13782/222160177.py:2: DtypeWarning: Columns (6,7,9,13,15,20,22,23,24,25,27) have mixed types. Specify dtype option on import or set low_memory=False.\n",
      "  all_holdings_cls = pd.read_csv(response_path+\"all_holdings_cls_all_ids.csv\", dtype=holdings_dtypes())\n"
     ]
    }
   ],
   "source": [
    "response_path = \"data/downloaded reports/company reports/\" + from_year + \"Q\" + from_q + \"/\"\n",
    "all_holdings_cls = pd.read_csv(response_path+\"all_holdings_cls_all_ids.csv\", dtype=holdings_dtypes())\n",
    "# all_holdings_cls = load_mappings_and_add_ids_to_holdings(all_holdings_cls)"
   ]
  },
  {
   "cell_type": "markdown",
   "metadata": {},
   "source": [
    "# Let the Analysis begin!"
   ]
  },
  {
   "cell_type": "code",
   "execution_count": 6,
   "metadata": {
    "scrolled": true
   },
   "outputs": [
    {
     "data": {
      "text/html": [
       "<div>\n",
       "<style scoped>\n",
       "    .dataframe tbody tr th:only-of-type {\n",
       "        vertical-align: middle;\n",
       "    }\n",
       "\n",
       "    .dataframe tbody tr th {\n",
       "        vertical-align: top;\n",
       "    }\n",
       "\n",
       "    .dataframe thead th {\n",
       "        text-align: right;\n",
       "    }\n",
       "</style>\n",
       "<table border=\"1\" class=\"dataframe\">\n",
       "  <thead>\n",
       "    <tr style=\"text-align: right;\">\n",
       "      <th></th>\n",
       "      <th>שווי</th>\n",
       "    </tr>\n",
       "    <tr>\n",
       "      <th>SystemName</th>\n",
       "      <th></th>\n",
       "    </tr>\n",
       "  </thead>\n",
       "  <tbody>\n",
       "    <tr>\n",
       "      <th>ביטוח</th>\n",
       "      <td>5,268,833,003.78</td>\n",
       "    </tr>\n",
       "    <tr>\n",
       "      <th>גמל</th>\n",
       "      <td>7,708,105,364.71</td>\n",
       "    </tr>\n",
       "    <tr>\n",
       "      <th>פנסיה</th>\n",
       "      <td>7,635,599,808.44</td>\n",
       "    </tr>\n",
       "  </tbody>\n",
       "</table>\n",
       "</div>"
      ],
      "text/plain": [
       "                        שווי\n",
       "SystemName                  \n",
       "ביטוח       5,268,833,003.78\n",
       "גמל         7,708,105,364.71\n",
       "פנסיה       7,635,599,808.44"
      ]
     },
     "execution_count": 6,
     "metadata": {},
     "output_type": "execute_result"
    }
   ],
   "source": [
    "pd.DataFrame(all_holdings_cls.groupby(['SystemName'])['שווי'].agg('sum').map('{:,.2f}'.format))"
   ]
  },
  {
   "cell_type": "markdown",
   "metadata": {},
   "source": [
    "## Get Company level stats over time"
   ]
  },
  {
   "cell_type": "markdown",
   "metadata": {},
   "source": [
    "### Filter results to include only major companies"
   ]
  },
  {
   "cell_type": "code",
   "execution_count": 7,
   "metadata": {
    "scrolled": true
   },
   "outputs": [
    {
     "data": {
      "text/html": [
       "<div>\n",
       "<style scoped>\n",
       "    .dataframe tbody tr th:only-of-type {\n",
       "        vertical-align: middle;\n",
       "    }\n",
       "\n",
       "    .dataframe tbody tr th {\n",
       "        vertical-align: top;\n",
       "    }\n",
       "\n",
       "    .dataframe thead th {\n",
       "        text-align: right;\n",
       "    }\n",
       "</style>\n",
       "<table border=\"1\" class=\"dataframe\">\n",
       "  <thead>\n",
       "    <tr style=\"text-align: right;\">\n",
       "      <th></th>\n",
       "      <th>שווי</th>\n",
       "    </tr>\n",
       "    <tr>\n",
       "      <th>SystemName</th>\n",
       "      <th></th>\n",
       "    </tr>\n",
       "  </thead>\n",
       "  <tbody>\n",
       "    <tr>\n",
       "      <th>ביטוח</th>\n",
       "      <td>5,004,662,654.29</td>\n",
       "    </tr>\n",
       "    <tr>\n",
       "      <th>גמל</th>\n",
       "      <td>6,612,195,440.82</td>\n",
       "    </tr>\n",
       "    <tr>\n",
       "      <th>פנסיה</th>\n",
       "      <td>7,059,953,142.99</td>\n",
       "    </tr>\n",
       "  </tbody>\n",
       "</table>\n",
       "</div>"
      ],
      "text/plain": [
       "                        שווי\n",
       "SystemName                  \n",
       "ביטוח       5,004,662,654.29\n",
       "גמל         6,612,195,440.82\n",
       "פנסיה       7,059,953,142.99"
      ]
     },
     "execution_count": 7,
     "metadata": {},
     "output_type": "execute_result"
    }
   ],
   "source": [
    "all_holdings_cls_filtered = filter_major_companies(all_holdings_cls)\n",
    "pd.DataFrame(all_holdings_cls_filtered.groupby(['SystemName'])['שווי'].agg('sum').map('{:,.2f}'.format))"
   ]
  },
  {
   "cell_type": "markdown",
   "metadata": {},
   "source": [
    "### * should include other subsidiary funds as well?"
   ]
  },
  {
   "cell_type": "code",
   "execution_count": 8,
   "metadata": {},
   "outputs": [],
   "source": [
    "# included_comp_group = all_holdings_cls_filtered[\"ParentCorpGroup\"].unique()\n",
    "# included_comp = all_holdings_cls_filtered[\"ParentCorpName\"].unique()\n",
    "# all_comp = all_holdings_cls[\"ParentCorpName\"].unique()\n",
    "# not_included_comp = [c for c in all_comp if c not in included_comp]\n",
    "# print([c for c in not_included_comp if any(g in re.split('-| ',c) for g in included_comp_group)])\n",
    "\n",
    "# pd.DataFrame(\n",
    "#     all_holdings_cls[\n",
    "#     all_holdings_cls[\"ParentCorpName\"].isin(not_included_comp)\n",
    "#     ].groupby([\"ParentCorpName\", \"SystemName\"])[\"שווי\"].sum()\n",
    "# ).sort_values(\"שווי\", ascending=False)"
   ]
  },
  {
   "cell_type": "code",
   "execution_count": 9,
   "metadata": {},
   "outputs": [],
   "source": [
    "company_stats_since_2020 = get_summary(all_holdings_cls_filtered, 'ReportPeriodDate', 'ParentCorpGroup')\n",
    "company_stats_since_2020 = company_stats_since_2020.sort_values(\n",
    "    [\"ReportPeriodDate\", \"ParentCorpGroup\"], ascending=(False, True)\n",
    ")"
   ]
  },
  {
   "cell_type": "code",
   "execution_count": 10,
   "metadata": {},
   "outputs": [],
   "source": [
    "# company_stats_since_2020[company_stats_since_2020['ParentCorpGroup'] == 'מגדל']"
   ]
  },
  {
   "cell_type": "code",
   "execution_count": 11,
   "metadata": {},
   "outputs": [],
   "source": [
    "company_stats_since_2020.to_csv(response_path+\"company_stats_since_2020.csv\", index=False)"
   ]
  },
  {
   "cell_type": "code",
   "execution_count": 12,
   "metadata": {},
   "outputs": [],
   "source": [
    "company_system_stats_since_2020 = get_summary(\n",
    "    all_holdings_cls_filtered,\n",
    "    'ReportPeriodDate', 'ParentCorpGroup', 'SystemName'\n",
    ")"
   ]
  },
  {
   "cell_type": "code",
   "execution_count": 13,
   "metadata": {
    "scrolled": false
   },
   "outputs": [],
   "source": [
    "company_system_stats_since_2020.to_csv(response_path+\"company_system_stats_since_2020.csv\", index=False)"
   ]
  },
  {
   "cell_type": "code",
   "execution_count": 14,
   "metadata": {},
   "outputs": [],
   "source": [
    "company_system_holding_type_stats_since_2020 = get_summary(\n",
    "    all_holdings_cls_filtered,\n",
    "    'ReportPeriodDate', 'ParentCorpGroup', 'SystemName', 'holding_type'\n",
    ")"
   ]
  },
  {
   "cell_type": "code",
   "execution_count": 15,
   "metadata": {},
   "outputs": [],
   "source": [
    "company_system_holding_type_stats_since_2020.to_csv(\n",
    "    response_path+\"company_system_holding_type_stats_since_2020.csv\", index=False)"
   ]
  },
  {
   "cell_type": "markdown",
   "metadata": {},
   "source": [
    "### Export aggregated data for quarterly org ranking"
   ]
  },
  {
   "cell_type": "code",
   "execution_count": 16,
   "metadata": {},
   "outputs": [],
   "source": [
    "midrag_agg = get_latest_q_ranking_agg_from_holdings(filter_major_companies(all_holdings_cls))"
   ]
  },
  {
   "cell_type": "code",
   "execution_count": 17,
   "metadata": {},
   "outputs": [],
   "source": [
    "midrag_agg.to_csv(\n",
    "    response_path+\"midrag_agg_latest_q.csv\", index=False\n",
    ")"
   ]
  },
  {
   "cell_type": "markdown",
   "metadata": {},
   "source": [
    "## Mergers - update\n",
    "### 1. update holdings data according to system mergers"
   ]
  },
  {
   "cell_type": "code",
   "execution_count": 18,
   "metadata": {
    "scrolled": true
   },
   "outputs": [
    {
     "name": "stdout",
     "output_type": "stream",
     "text": [
      "moving 15,677,553.290000001 from הלמן גמל to הפניקס גמל\n",
      "moving 0.0 from הלמן פנסיה to מיטב פנסיה\n",
      "moving 49,780,952.0 from פסגות גמל to אלטשולר גמל\n",
      "moving 3,964,347.4000000004 from פסגות פנסיה to הראל פנסיה\n"
     ]
    }
   ],
   "source": [
    "all_holdings_majors = filter_major_companies(all_holdings_cls)\n",
    "# including subsidiaries\n",
    "# majors_after_mergers = filter_major_companies(all_holdings_cls, include_subsidiaries=True)\n",
    "\n",
    "other_quarters = all_holdings_majors[\n",
    "    all_holdings_majors[\"ReportPeriodDate\"] != '2021-09-30'\n",
    "#     majors_after_mergers[\"ReportPeriodDate\"].max()\n",
    "]\n",
    "\n",
    "# leave only mergers quarter (2021 Q3)\n",
    "majors_after_mergers = all_holdings_majors[\n",
    "    all_holdings_majors[\"ReportPeriodDate\"] == '2021-09-30'\n",
    "#     majors_after_mergers[\"ReportPeriodDate\"].max()\n",
    "]\n",
    "\n",
    "# change data according to mergers\n",
    "majors_after_mergers = update_system_owners(majors_after_mergers, \"גמל\", \"הלמן\", \"הפניקס\")\n",
    "majors_after_mergers = update_system_owners(majors_after_mergers, \"פנסיה\", \"הלמן\", \"מיטב\")\n",
    "majors_after_mergers = update_system_owners(majors_after_mergers, \"גמל\", \"פסגות\", \"אלטשולר\")\n",
    "majors_after_mergers = update_system_owners(majors_after_mergers, \"פנסיה\", \"פסגות\", \"הראל\")"
   ]
  },
  {
   "cell_type": "code",
   "execution_count": 19,
   "metadata": {},
   "outputs": [
    {
     "data": {
      "text/html": [
       "<div>\n",
       "<style scoped>\n",
       "    .dataframe tbody tr th:only-of-type {\n",
       "        vertical-align: middle;\n",
       "    }\n",
       "\n",
       "    .dataframe tbody tr th {\n",
       "        vertical-align: top;\n",
       "    }\n",
       "\n",
       "    .dataframe thead th {\n",
       "        text-align: right;\n",
       "    }\n",
       "</style>\n",
       "<table border=\"1\" class=\"dataframe\">\n",
       "  <thead>\n",
       "    <tr style=\"text-align: right;\">\n",
       "      <th></th>\n",
       "      <th>שווי</th>\n",
       "    </tr>\n",
       "    <tr>\n",
       "      <th>SystemName</th>\n",
       "      <th></th>\n",
       "    </tr>\n",
       "  </thead>\n",
       "  <tbody>\n",
       "    <tr>\n",
       "      <th>ביטוח</th>\n",
       "      <td>5,004,662,654.29</td>\n",
       "    </tr>\n",
       "    <tr>\n",
       "      <th>גמל</th>\n",
       "      <td>6,612,195,440.82</td>\n",
       "    </tr>\n",
       "    <tr>\n",
       "      <th>פנסיה</th>\n",
       "      <td>7,059,953,142.99</td>\n",
       "    </tr>\n",
       "  </tbody>\n",
       "</table>\n",
       "</div>"
      ],
      "text/plain": [
       "                        שווי\n",
       "SystemName                  \n",
       "ביטוח       5,004,662,654.29\n",
       "גמל         6,612,195,440.82\n",
       "פנסיה       7,059,953,142.99"
      ]
     },
     "execution_count": 19,
     "metadata": {},
     "output_type": "execute_result"
    }
   ],
   "source": [
    "# adding back to other periods\n",
    "all_holdings_after_mergers = pd.concat([majors_after_mergers, other_quarters])\n",
    "pd.DataFrame(all_holdings_after_mergers.groupby(['SystemName'])['שווי'].agg('sum').map('{:,.2f}'.format))"
   ]
  },
  {
   "cell_type": "code",
   "execution_count": 20,
   "metadata": {},
   "outputs": [],
   "source": [
    "company_stats_after_mergers = get_summary(\n",
    "    all_holdings_after_mergers,\n",
    "    'ReportPeriodDate', 'ParentCorpGroup'\n",
    ")\n",
    "# company_system_stats_after_mergers.sort_values(\"שיעור פוסילי מתוך מניות ואגח סחירים + סוגי החזקות לא פוסיליים\")\n",
    "# company_stats_after_mergers.sort_values(\"שיעור פוסילי במניות ואגח קונצרני סחירים\")[[\n",
    "#     \"ReportPeriodDate\",\n",
    "#     \"ParentCorpGroup\",\n",
    "#     \"שווי\",\n",
    "#     \"שווי במניות ואגח קונצרני סחירים\",\n",
    "#     \"שיעור פוסילי במניות ואגח קונצרני סחירים\"\n",
    "# ]]\n",
    "\n",
    "# company_system_stats_after_mergers[\"ratio\"] = (\n",
    "#     company_system_stats_after_mergers[\"שיעור פוסילי במניות ואגח קונצרני סחירים\"] / \n",
    "#     company_system_stats_after_mergers[\"שיעור פוסילי מתוך מניות ואגח סחירים + סוגי החזקות לא פוסיליים\"]\n",
    "# )\n",
    "\n",
    "company_stats_after_mergers.to_csv(response_path+\"company_stats_since_2020_after_mergers.csv\", index=False)"
   ]
  },
  {
   "cell_type": "markdown",
   "metadata": {},
   "source": [
    "### Export aggregated data <u> after mergers </u> for quarterly org ranking"
   ]
  },
  {
   "cell_type": "code",
   "execution_count": 21,
   "metadata": {},
   "outputs": [],
   "source": [
    "midrag_agg_after_mergers = get_latest_q_ranking_agg_from_holdings(all_holdings_after_mergers)"
   ]
  },
  {
   "cell_type": "code",
   "execution_count": 22,
   "metadata": {},
   "outputs": [],
   "source": [
    "midrag_agg_after_mergers.to_csv(\n",
    "    response_path+\"midrag_after_mergers.csv\", index=False\n",
    ")"
   ]
  },
  {
   "cell_type": "markdown",
   "metadata": {},
   "source": [
    "Upload results to G-Drive: https://drive.google.com/drive/u/2/folders/1n0F9JpyJ4LdWxLc4-a8XaRaMV20qo1Fx"
   ]
  },
  {
   "cell_type": "markdown",
   "metadata": {},
   "source": [
    "# Export holdings data for quarterly ranking"
   ]
  },
  {
   "cell_type": "code",
   "execution_count": 23,
   "metadata": {},
   "outputs": [],
   "source": [
    "q = from_year + ' רבעון ' + from_q\n",
    "holding_types_for_ranking = ['מניות', 'אג\"ח קונצרני']\n",
    "cols = [\n",
    "    'שם המנפיק/שם נייר ערך',\n",
    "    'מספר ני\"ע',\n",
    "    'ISIN',\n",
    "    'מספר מנפיק',\n",
    "    'מספר תאגיד',\n",
    "    'LEI',\n",
    "    'ענף מסחר',\n",
    "    'שווי',\n",
    "    'שעור מנכסי אפיק ההשקעה',\n",
    "    'שעור מסך נכסי השקעה',\n",
    "    'שעור מערך נקוב מונפק',\n",
    "    'holding_type',\n",
    "    'SystemName',\n",
    "    'ParentCorpGroup',\n",
    "    'is_fossil',\n",
    "    'שווי פוסילי'\n",
    "]\n",
    "holdings_for_ranking = filter_major_companies(all_holdings_cls)\n",
    "holdings_for_ranking = holdings_for_ranking.loc[\n",
    "    (holdings_for_ranking['ReportPeriodDesc'] == q) &\n",
    "    (holdings_for_ranking[\"holding_type\"].isin(holding_types_for_ranking)),\n",
    "    cols\n",
    "]\n",
    "# use ISIN when Israeli sec num is not available\n",
    "holdings_for_ranking['מספר ני\"ע'] = holdings_for_ranking['מספר ני\"ע'].fillna(holdings_for_ranking['ISIN'])\n",
    "# use Israeli corp num and then LEI when issuer number is not available\n",
    "holdings_for_ranking['מספר מנפיק'] = holdings_for_ranking['מספר מנפיק'].fillna(holdings_for_ranking['מספר תאגיד'])\n",
    "holdings_for_ranking['מספר מנפיק'] = holdings_for_ranking['מספר מנפיק'].fillna(holdings_for_ranking['LEI'])\n",
    "holdings_for_ranking.drop(['ISIN', 'מספר תאגיד', 'LEI'], axis=1, inplace=True)\n",
    "holdings_for_ranking.rename({\n",
    "    \"holding_type\": \"סוג החזקה\",\n",
    "    \"SystemName\":  \"אפיק\",\n",
    "    \"ParentCorpGroup\": \"גוף\"\n",
    "}, axis=1, inplace=True)\n",
    "\n",
    "# holdings_for_ranking[\n",
    "#     (holdings_for_ranking[\"is_fossil\"] == 1) &\n",
    "#     ~(holdings_for_ranking[\"שווי פוסילי\"] > 0)\n",
    "# ]\n",
    "\n",
    "holdings_for_ranking.to_csv(response_path+\"quarterly_ranking_data.csv\", index=False)"
   ]
  },
  {
   "cell_type": "markdown",
   "metadata": {},
   "source": [
    "## Export csv per institution"
   ]
  },
  {
   "cell_type": "code",
   "execution_count": 24,
   "metadata": {},
   "outputs": [],
   "source": [
    "inst_cols = [c for c in holdings_for_ranking.columns if (c != 'גוף') & ~(c.startswith(\"שעור\"))]\n",
    "for inst in get_major_institutions_list():\n",
    "    holding_per_inst = holdings_for_ranking.loc[\n",
    "        (holdings_for_ranking[\"גוף\"] == inst),\n",
    "        inst_cols\n",
    "    ].sort_values(\"שווי פוסילי\", ascending=False)\n",
    "    holding_per_inst.to_csv(response_path+inst+\".csv\", index=False)"
   ]
  },
  {
   "cell_type": "markdown",
   "metadata": {},
   "source": [
    "# Get a list of all fossil holdings for major institutions for a given quarter"
   ]
  },
  {
   "cell_type": "code",
   "execution_count": 25,
   "metadata": {
    "scrolled": true
   },
   "outputs": [],
   "source": [
    "# inst = get_major_institutions_list()\n",
    "# fossil_holdings_last_q = group_fossil_holdings_quarters_institutions(\n",
    "#     all_holdings_cls_filtered,\n",
    "#     quarters=q,\n",
    "#     institutions = inst\n",
    "# )\n",
    "\n",
    "# fossil_holdings_last_q.to_csv(\"analysis/last_q_major_insts_fossil_holdings.csv\", index=False)"
   ]
  },
  {
   "cell_type": "markdown",
   "metadata": {},
   "source": [
    "<h1><center>*** RUN UP TO HERE ***</center></h1>"
   ]
  },
  {
   "cell_type": "markdown",
   "metadata": {},
   "source": [
    "# Compare Fossil Holdings over quarters\n",
    "## 1. for specific companies"
   ]
  },
  {
   "cell_type": "code",
   "execution_count": 28,
   "metadata": {
    "scrolled": true
   },
   "outputs": [
    {
     "name": "stderr",
     "output_type": "stream",
     "text": [
      "/Users/urimarom/PycharmProjects/fossil_classification/holdings_analysis.py:174: UserWarning: Boolean Series key will be reindexed to match DataFrame index.\n",
      "  selected_holdings = selected_holdings[(holdings[\"is_fossil\"] == 1)]\n"
     ]
    },
    {
     "name": "stdout",
     "output_type": "stream",
     "text": [
      "total Israeli fossil holdings: 8157168.00169598\n",
      "total fossil holdings with il_sec_num: 8157168.001695979\n",
      "total fossil holdings without il_sec_num: 6930658.12040775\n",
      "6930658.12040775\n",
      "after adding Israeli and non-Israeli: 15087826.122103734\n"
     ]
    },
    {
     "data": {
      "text/html": [
       "<div>\n",
       "<style scoped>\n",
       "    .dataframe tbody tr th:only-of-type {\n",
       "        vertical-align: middle;\n",
       "    }\n",
       "\n",
       "    .dataframe tbody tr th {\n",
       "        vertical-align: top;\n",
       "    }\n",
       "\n",
       "    .dataframe thead th {\n",
       "        text-align: right;\n",
       "    }\n",
       "</style>\n",
       "<table border=\"1\" class=\"dataframe\">\n",
       "  <thead>\n",
       "    <tr style=\"text-align: right;\">\n",
       "      <th></th>\n",
       "      <th>name</th>\n",
       "      <th>id</th>\n",
       "      <th>fossil_sum_prev_q</th>\n",
       "      <th>quantity_sum_prev_q</th>\n",
       "      <th>fossil_sum_curr_q</th>\n",
       "      <th>quantity_sum_curr_q</th>\n",
       "      <th>quantity_diff</th>\n",
       "      <th>quantity_diff_pct</th>\n",
       "      <th>fossil_sum_diff</th>\n",
       "      <th>fossil_sum_diff_pct</th>\n",
       "    </tr>\n",
       "  </thead>\n",
       "  <tbody>\n",
       "    <tr>\n",
       "      <th>12</th>\n",
       "      <td>תמר פטרוליום</td>\n",
       "      <td>1689</td>\n",
       "      <td>148,067.408</td>\n",
       "      <td>164,858,073.670</td>\n",
       "      <td>144,022.495</td>\n",
       "      <td>159,425,278.330</td>\n",
       "      <td>-5,432,795.340</td>\n",
       "      <td>-0.033</td>\n",
       "      <td>-4,044.913</td>\n",
       "      <td>-0.027</td>\n",
       "    </tr>\n",
       "    <tr>\n",
       "      <th>11</th>\n",
       "      <td>קנון</td>\n",
       "      <td>1635</td>\n",
       "      <td>387,771.604</td>\n",
       "      <td>3,325,657.000</td>\n",
       "      <td>350,524.246</td>\n",
       "      <td>3,325,656.990</td>\n",
       "      <td>-0.010</td>\n",
       "      <td>-0.000</td>\n",
       "      <td>-37,247.358</td>\n",
       "      <td>-0.096</td>\n",
       "    </tr>\n",
       "    <tr>\n",
       "      <th>10</th>\n",
       "      <td>פטרוכימיים</td>\n",
       "      <td>756</td>\n",
       "      <td>6,226.206</td>\n",
       "      <td>3,993,718.010</td>\n",
       "      <td>5,711.017</td>\n",
       "      <td>3,993,718.000</td>\n",
       "      <td>-0.010</td>\n",
       "      <td>-0.000</td>\n",
       "      <td>-515.189</td>\n",
       "      <td>-0.083</td>\n",
       "    </tr>\n",
       "    <tr>\n",
       "      <th>9</th>\n",
       "      <td>לפידות חסום</td>\n",
       "      <td>642</td>\n",
       "      <td>580,950.990</td>\n",
       "      <td>9,284,970.000</td>\n",
       "      <td>510,594.471</td>\n",
       "      <td>9,284,970.000</td>\n",
       "      <td>0.000</td>\n",
       "      <td>0.000</td>\n",
       "      <td>-70,356.518</td>\n",
       "      <td>-0.121</td>\n",
       "    </tr>\n",
       "    <tr>\n",
       "      <th>8</th>\n",
       "      <td>חשמל</td>\n",
       "      <td>600</td>\n",
       "      <td>137,256.630</td>\n",
       "      <td>144,660,872.000</td>\n",
       "      <td>13,726.121</td>\n",
       "      <td>11,671,872.000</td>\n",
       "      <td>-132,989,000.000</td>\n",
       "      <td>-0.919</td>\n",
       "      <td>-123,530.509</td>\n",
       "      <td>-0.900</td>\n",
       "    </tr>\n",
       "    <tr>\n",
       "      <th>7</th>\n",
       "      <td>חברה לישראל</td>\n",
       "      <td>576</td>\n",
       "      <td>260,964.685</td>\n",
       "      <td>210,456.530</td>\n",
       "      <td>266,578.805</td>\n",
       "      <td>226,317.010</td>\n",
       "      <td>15,860.480</td>\n",
       "      <td>0.075</td>\n",
       "      <td>5,614.121</td>\n",
       "      <td>0.022</td>\n",
       "    </tr>\n",
       "    <tr>\n",
       "      <th>6</th>\n",
       "      <td>דלק רכב</td>\n",
       "      <td>829</td>\n",
       "      <td>652,644.916</td>\n",
       "      <td>15,837,052.000</td>\n",
       "      <td>504,288.236</td>\n",
       "      <td>15,093,931.010</td>\n",
       "      <td>-743,120.990</td>\n",
       "      <td>-0.047</td>\n",
       "      <td>-148,356.680</td>\n",
       "      <td>-0.227</td>\n",
       "    </tr>\n",
       "    <tr>\n",
       "      <th>5</th>\n",
       "      <td>אלקו החזקות</td>\n",
       "      <td>694</td>\n",
       "      <td>194,359.163</td>\n",
       "      <td>1,079,773.130</td>\n",
       "      <td>140,370.486</td>\n",
       "      <td>1,079,773.010</td>\n",
       "      <td>-0.120</td>\n",
       "      <td>-0.000</td>\n",
       "      <td>-53,988.677</td>\n",
       "      <td>-0.278</td>\n",
       "    </tr>\n",
       "    <tr>\n",
       "      <th>4</th>\n",
       "      <td>אלון חיפושי גז</td>\n",
       "      <td>514329580</td>\n",
       "      <td>391.020</td>\n",
       "      <td>12,638.000</td>\n",
       "      <td>0.000</td>\n",
       "      <td>0.000</td>\n",
       "      <td>-12,638.000</td>\n",
       "      <td>-1.000</td>\n",
       "      <td>-391.020</td>\n",
       "      <td>-1.000</td>\n",
       "    </tr>\n",
       "    <tr>\n",
       "      <th>3</th>\n",
       "      <td>אייסיאל</td>\n",
       "      <td>281</td>\n",
       "      <td>1,524,941.190</td>\n",
       "      <td>59,912,442.230</td>\n",
       "      <td>1,479,473.511</td>\n",
       "      <td>61,312,442.210</td>\n",
       "      <td>1,399,999.980</td>\n",
       "      <td>0.023</td>\n",
       "      <td>-45,467.679</td>\n",
       "      <td>-0.030</td>\n",
       "    </tr>\n",
       "    <tr>\n",
       "      <th>2</th>\n",
       "      <td>או פי סי אנרגיה</td>\n",
       "      <td>1682</td>\n",
       "      <td>494,446.391</td>\n",
       "      <td>12,626,103.290</td>\n",
       "      <td>372,653.904</td>\n",
       "      <td>13,940,422.030</td>\n",
       "      <td>1,314,318.740</td>\n",
       "      <td>0.104</td>\n",
       "      <td>-121,792.486</td>\n",
       "      <td>-0.246</td>\n",
       "    </tr>\n",
       "    <tr>\n",
       "      <th>19</th>\n",
       "      <td>TOTAL SAFPPA</td>\n",
       "      <td>529900S21EQ1BO4ESM68</td>\n",
       "      <td>0.000</td>\n",
       "      <td>0.000</td>\n",
       "      <td>1,260,060.000</td>\n",
       "      <td>5,897,475.990</td>\n",
       "      <td>5,897,475.990</td>\n",
       "      <td>inf</td>\n",
       "      <td>1,260,060.000</td>\n",
       "      <td>inf</td>\n",
       "    </tr>\n",
       "    <tr>\n",
       "      <th>18</th>\n",
       "      <td>ROYAL DUTCH SHELL PLC</td>\n",
       "      <td>GB00B03MLX29-70378377</td>\n",
       "      <td>0.000</td>\n",
       "      <td>0.000</td>\n",
       "      <td>32,603.165</td>\n",
       "      <td>360,998.240</td>\n",
       "      <td>360,998.240</td>\n",
       "      <td>inf</td>\n",
       "      <td>32,603.165</td>\n",
       "      <td>inf</td>\n",
       "    </tr>\n",
       "    <tr>\n",
       "      <th>17</th>\n",
       "      <td>ROYAL DUTC RDSA</td>\n",
       "      <td>GB00B03MLX29</td>\n",
       "      <td>0.000</td>\n",
       "      <td>0.000</td>\n",
       "      <td>7,134.960</td>\n",
       "      <td>79,001.740</td>\n",
       "      <td>79,001.740</td>\n",
       "      <td>inf</td>\n",
       "      <td>7,134.960</td>\n",
       "      <td>inf</td>\n",
       "    </tr>\n",
       "    <tr>\n",
       "      <th>16</th>\n",
       "      <td>ROYAL DOUTCH SHELL PLC</td>\n",
       "      <td>21380068P1DRHMJ8KU70</td>\n",
       "      <td>0.000</td>\n",
       "      <td>0.000</td>\n",
       "      <td>819,871.625</td>\n",
       "      <td>3,945,999.980</td>\n",
       "      <td>3,945,999.980</td>\n",
       "      <td>inf</td>\n",
       "      <td>819,871.625</td>\n",
       "      <td>inf</td>\n",
       "    </tr>\n",
       "    <tr>\n",
       "      <th>1</th>\n",
       "      <td>PEMEX</td>\n",
       "      <td>549300CAZKPF4HKMPX17</td>\n",
       "      <td>448,067.117</td>\n",
       "      <td>146,142,000.000</td>\n",
       "      <td>446,363.432</td>\n",
       "      <td>146,142,000.000</td>\n",
       "      <td>0.000</td>\n",
       "      <td>0.000</td>\n",
       "      <td>-1,703.685</td>\n",
       "      <td>-0.004</td>\n",
       "    </tr>\n",
       "    <tr>\n",
       "      <th>15</th>\n",
       "      <td>EXXON MOBIL</td>\n",
       "      <td>J3WHBG0MTS7O8ZVMDC91</td>\n",
       "      <td>0.000</td>\n",
       "      <td>0.000</td>\n",
       "      <td>1,402,871.066</td>\n",
       "      <td>3,573,000.010</td>\n",
       "      <td>3,573,000.010</td>\n",
       "      <td>inf</td>\n",
       "      <td>1,402,871.066</td>\n",
       "      <td>inf</td>\n",
       "    </tr>\n",
       "    <tr>\n",
       "      <th>14</th>\n",
       "      <td>CHEVRON</td>\n",
       "      <td>US1667641005</td>\n",
       "      <td>0.000</td>\n",
       "      <td>0.000</td>\n",
       "      <td>1,381,870.368</td>\n",
       "      <td>2,373,000.000</td>\n",
       "      <td>2,373,000.000</td>\n",
       "      <td>inf</td>\n",
       "      <td>1,381,870.368</td>\n",
       "      <td>inf</td>\n",
       "    </tr>\n",
       "    <tr>\n",
       "      <th>13</th>\n",
       "      <td>BP AMOCO PLC SP ADR</td>\n",
       "      <td>213800LH1BZH3DI6G760</td>\n",
       "      <td>0.000</td>\n",
       "      <td>0.000</td>\n",
       "      <td>863,275.629</td>\n",
       "      <td>6,338,466.990</td>\n",
       "      <td>6,338,466.990</td>\n",
       "      <td>inf</td>\n",
       "      <td>863,275.629</td>\n",
       "      <td>inf</td>\n",
       "    </tr>\n",
       "    <tr>\n",
       "      <th>0</th>\n",
       "      <td>AESGEN</td>\n",
       "      <td>5493000S11JF8TJHYT07</td>\n",
       "      <td>123,291.676</td>\n",
       "      <td>55,425,000.000</td>\n",
       "      <td>126,453.586</td>\n",
       "      <td>55,425,000.000</td>\n",
       "      <td>0.000</td>\n",
       "      <td>0.000</td>\n",
       "      <td>3,161.910</td>\n",
       "      <td>0.026</td>\n",
       "    </tr>\n",
       "  </tbody>\n",
       "</table>\n",
       "</div>"
      ],
      "text/plain": [
       "                      name                     id  fossil_sum_prev_q  \\\n",
       "12            תמר פטרוליום                   1689        148,067.408   \n",
       "11                    קנון                   1635        387,771.604   \n",
       "10              פטרוכימיים                    756          6,226.206   \n",
       "9              לפידות חסום                    642        580,950.990   \n",
       "8                     חשמל                    600        137,256.630   \n",
       "7              חברה לישראל                    576        260,964.685   \n",
       "6                  דלק רכב                    829        652,644.916   \n",
       "5              אלקו החזקות                    694        194,359.163   \n",
       "4           אלון חיפושי גז              514329580            391.020   \n",
       "3                  אייסיאל                    281      1,524,941.190   \n",
       "2          או פי סי אנרגיה                   1682        494,446.391   \n",
       "19            TOTAL SAFPPA   529900S21EQ1BO4ESM68              0.000   \n",
       "18   ROYAL DUTCH SHELL PLC  GB00B03MLX29-70378377              0.000   \n",
       "17         ROYAL DUTC RDSA           GB00B03MLX29              0.000   \n",
       "16  ROYAL DOUTCH SHELL PLC   21380068P1DRHMJ8KU70              0.000   \n",
       "1                    PEMEX   549300CAZKPF4HKMPX17        448,067.117   \n",
       "15             EXXON MOBIL   J3WHBG0MTS7O8ZVMDC91              0.000   \n",
       "14                 CHEVRON           US1667641005              0.000   \n",
       "13     BP AMOCO PLC SP ADR   213800LH1BZH3DI6G760              0.000   \n",
       "0                   AESGEN   5493000S11JF8TJHYT07        123,291.676   \n",
       "\n",
       "    quantity_sum_prev_q  fossil_sum_curr_q  quantity_sum_curr_q  \\\n",
       "12      164,858,073.670        144,022.495      159,425,278.330   \n",
       "11        3,325,657.000        350,524.246        3,325,656.990   \n",
       "10        3,993,718.010          5,711.017        3,993,718.000   \n",
       "9         9,284,970.000        510,594.471        9,284,970.000   \n",
       "8       144,660,872.000         13,726.121       11,671,872.000   \n",
       "7           210,456.530        266,578.805          226,317.010   \n",
       "6        15,837,052.000        504,288.236       15,093,931.010   \n",
       "5         1,079,773.130        140,370.486        1,079,773.010   \n",
       "4            12,638.000              0.000                0.000   \n",
       "3        59,912,442.230      1,479,473.511       61,312,442.210   \n",
       "2        12,626,103.290        372,653.904       13,940,422.030   \n",
       "19                0.000      1,260,060.000        5,897,475.990   \n",
       "18                0.000         32,603.165          360,998.240   \n",
       "17                0.000          7,134.960           79,001.740   \n",
       "16                0.000        819,871.625        3,945,999.980   \n",
       "1       146,142,000.000        446,363.432      146,142,000.000   \n",
       "15                0.000      1,402,871.066        3,573,000.010   \n",
       "14                0.000      1,381,870.368        2,373,000.000   \n",
       "13                0.000        863,275.629        6,338,466.990   \n",
       "0        55,425,000.000        126,453.586       55,425,000.000   \n",
       "\n",
       "      quantity_diff  quantity_diff_pct  fossil_sum_diff  fossil_sum_diff_pct  \n",
       "12   -5,432,795.340             -0.033       -4,044.913               -0.027  \n",
       "11           -0.010             -0.000      -37,247.358               -0.096  \n",
       "10           -0.010             -0.000         -515.189               -0.083  \n",
       "9             0.000              0.000      -70,356.518               -0.121  \n",
       "8  -132,989,000.000             -0.919     -123,530.509               -0.900  \n",
       "7        15,860.480              0.075        5,614.121                0.022  \n",
       "6      -743,120.990             -0.047     -148,356.680               -0.227  \n",
       "5            -0.120             -0.000      -53,988.677               -0.278  \n",
       "4       -12,638.000             -1.000         -391.020               -1.000  \n",
       "3     1,399,999.980              0.023      -45,467.679               -0.030  \n",
       "2     1,314,318.740              0.104     -121,792.486               -0.246  \n",
       "19    5,897,475.990                inf    1,260,060.000                  inf  \n",
       "18      360,998.240                inf       32,603.165                  inf  \n",
       "17       79,001.740                inf        7,134.960                  inf  \n",
       "16    3,945,999.980                inf      819,871.625                  inf  \n",
       "1             0.000              0.000       -1,703.685               -0.004  \n",
       "15    3,573,000.010                inf    1,402,871.066                  inf  \n",
       "14    2,373,000.000                inf    1,381,870.368                  inf  \n",
       "13    6,338,466.990                inf      863,275.629                  inf  \n",
       "0             0.000              0.000        3,161.910                0.026  "
      ]
     },
     "execution_count": 28,
     "metadata": {},
     "output_type": "execute_result"
    }
   ],
   "source": [
    "# compare fossil holdings\n",
    "\n",
    "company_for_comparison = ['אלטשולר']\n",
    "quarters_for_comparison = [\n",
    "    '2022 רבעון 4',\n",
    "    '2023 רבעון 1'\n",
    "]\n",
    "\n",
    "holding_types = ['מניות', 'אג\"ח קונצרני']\n",
    "# comparison = compare_holdings_over_quarters(all_holdings_cls_filtered, quarters_for_comparison, company_for_comparison)\n",
    "comparison = compare_holdings_over_quarters(\n",
    "    all_holdings_after_mergers, holding_types, quarters_for_comparison, company_for_comparison, fossil_only=1)\n",
    "comparison.sort_values(\"name\", ascending=False)"
   ]
  },
  {
   "cell_type": "code",
   "execution_count": 29,
   "metadata": {},
   "outputs": [],
   "source": [
    "company_quarter = company_for_comparison[0] + \" - \" + quarters_for_comparison[1]\n",
    "comparison.to_csv(\"analysis/fossil holdings comparison - \" + company_quarter + \".csv\", index=False, header=False)"
   ]
  },
  {
   "cell_type": "markdown",
   "metadata": {},
   "source": [
    "## compare non-fossil holdings - example"
   ]
  },
  {
   "cell_type": "code",
   "execution_count": null,
   "metadata": {},
   "outputs": [],
   "source": [
    "company_for_comparison = ['מגדל']\n",
    "quarters_for_comparison = [\n",
    "    '2021 רבעון 4',\n",
    "    '2022 רבעון 4'\n",
    "]\n",
    "\n",
    "holding_types = ['לא סחיר - מניות']\n",
    "comparison = compare_holdings_over_quarters(\n",
    "    all_holdings_after_mergers, holding_types, quarters_for_comparison, company_for_comparison, fossil_only=0)\n",
    "comparison.sort_values(\"name\", ascending=False)"
   ]
  },
  {
   "cell_type": "code",
   "execution_count": null,
   "metadata": {},
   "outputs": [],
   "source": [
    "company_quarter = company_for_comparison[0] + \" - \" + quarters_for_comparison[1]\n",
    "holding_types_str = ' '.join(holding_types)\n",
    "# comparison.to_csv(\"analysis/holdings comparison - \" + company_quarter + \" - \" + holding_types_str + \".csv\", index=False)"
   ]
  },
  {
   "cell_type": "code",
   "execution_count": null,
   "metadata": {},
   "outputs": [],
   "source": [
    "all_holdings_cls_filtered[\n",
    "    (all_holdings_cls_filtered[\"ParentCorpGroup\"] == 'מגדל') &\n",
    "    (all_holdings_cls_filtered[\"holding_type\"] == 'לא סחיר - מניות')\n",
    "].groupby('ReportPeriodDesc')['שווי'].agg('sum')"
   ]
  },
  {
   "cell_type": "markdown",
   "metadata": {},
   "source": [
    "## add profit/loss per quarter\n",
    "treating changes in quantity as if they took place at the last day of the quarter:\n",
    "* If quantity went up (securities were bought): calculate the change for prev_q amount\n",
    "* If quantity went down (securities were sold): calculate the change for prev_q amount \n",
    "\n",
    "previous quarter quantity * (current quarter price - previous quarter price)"
   ]
  },
  {
   "cell_type": "code",
   "execution_count": null,
   "metadata": {},
   "outputs": [],
   "source": [
    "comparison[\"price_diff\"] = (\n",
    "    (comparison[\"fossil_sum_curr_q\"] / comparison[\"quantity_sum_curr_q\"]) -\n",
    "    (comparison[\"fossil_sum_prev_q\"] / comparison[\"quantity_sum_prev_q\"])\n",
    ")\n",
    "\n",
    "comparison[\"value_diff\"] = comparison[\"price_diff\"] * comparison[\"quantity_sum_prev_q\"]"
   ]
  },
  {
   "cell_type": "code",
   "execution_count": null,
   "metadata": {},
   "outputs": [],
   "source": [
    "print(comparison[\"value_diff\"].sum())\n",
    "comparison"
   ]
  },
  {
   "cell_type": "code",
   "execution_count": null,
   "metadata": {},
   "outputs": [],
   "source": [
    "# divide to מניות and אגח according to request (ugly but no time...)"
   ]
  },
  {
   "cell_type": "code",
   "execution_count": null,
   "metadata": {},
   "outputs": [],
   "source": [
    "def fossil_profit_per_q_by_holding_type(holdings, quarters, company, holding_types):\n",
    "    results = []\n",
    "    for i in range(len(quarters)-1):\n",
    "        for h in holding_types:\n",
    "            holdings_filtered_by_type = holdings[holdings[\"holding_type\"] == h]\n",
    "            quarters_for_comparison = [quarters[i], quarters[i+1]]\n",
    "            comparison = compare_fossil_holdings_over_quarters(holdings_filtered_by_type, quarters_for_comparison, company)\n",
    "            comparison[\"prev_price\"] = comparison[\"fossil_sum_prev_q\"] / comparison[\"quantity_sum_prev_q\"]\n",
    "            comparison[\"curr_price\"] = comparison[\"fossil_sum_curr_q\"] / comparison[\"quantity_sum_curr_q\"]\n",
    "            comparison[\"price_diff\"] = comparison[\"curr_price\"] - comparison[\"prev_price\"]\n",
    "            comparison[\"price_diff_pct\"] = comparison[\"price_diff\"] / comparison[\"prev_price\"]\n",
    "            comparison[\"value_diff\"] = comparison[\"price_diff\"] * comparison[\"quantity_sum_prev_q\"]\n",
    "            # look into rows with abnormal price diff (might mean something changed in number of shares?)\n",
    "            print(comparison[\n",
    "                (comparison[\"price_diff_pct\"] > 0.5) |\n",
    "                (comparison[\"price_diff_pct\"] < -0.5)\n",
    "            ])\n",
    "            profit_end_q = comparison[\"value_diff\"].sum()\n",
    "            total_end_q = comparison[\"fossil_sum_curr_q\"].sum()\n",
    "            results.append({\n",
    "                'quarter': quarters[i+1],\n",
    "                'holding_type': h,\n",
    "                'profit': profit_end_q,\n",
    "                'total': total_end_q\n",
    "            })\n",
    "    return pd.DataFrame(results)\n",
    "            "
   ]
  },
  {
   "cell_type": "code",
   "execution_count": null,
   "metadata": {},
   "outputs": [],
   "source": [
    "quarters = [\n",
    "    '2020 רבעון 4',\n",
    "    '2021 רבעון 1',\n",
    "    '2021 רבעון 2',\n",
    "    '2021 רבעון 3',\n",
    "    '2021 רבעון 4',\n",
    "    '2022 רבעון 1'\n",
    "]\n",
    "\n",
    "holding_types = ['מניות', 'אג\"ח קונצרני']\n",
    "\n",
    "fossil_profits_by_type_and_q = fossil_profit_per_q_by_holding_type(all_holdings_after_mergers, quarters, ['מגדל'], holding_types)\n",
    "fossil_profits_by_type_and_q.to_clipboard(index=False)\n",
    "fossil_profits_by_type_and_q"
   ]
  },
  {
   "cell_type": "code",
   "execution_count": null,
   "metadata": {},
   "outputs": [],
   "source": [
    "fossil_profits_by_type_and_q.groupby(\"quarter\").sum()"
   ]
  },
  {
   "cell_type": "markdown",
   "metadata": {},
   "source": [
    "## 2. for all (major) companies"
   ]
  },
  {
   "cell_type": "code",
   "execution_count": null,
   "metadata": {},
   "outputs": [],
   "source": [
    "all_holdings_cls_filtered_grouped = all_holdings_cls_filtered.copy()\n",
    "all_holdings_cls_filtered_grouped[\"ParentCorpGroup\"] = \"כל החברות\"\n",
    "all_major_companies = [\"כל החברות\"]\n",
    "quarters_for_comparison = [\n",
    "    '2021 רבעון 2',\n",
    "    '2021 רבעון 3'\n",
    "]\n",
    "\n",
    "compare_all = compare_fossil_holdings_over_quarters(\n",
    "    all_holdings_cls_filtered_grouped,\n",
    "    quarters_for_comparison,\n",
    "    all_major_companies\n",
    ")"
   ]
  },
  {
   "cell_type": "code",
   "execution_count": null,
   "metadata": {},
   "outputs": [],
   "source": [
    "quarters = ' '.join(quarters_for_comparison)\n",
    "compare_all.to_csv(\"analysis/all companies - fossil holdings comparison - \" + quarters + \".csv\", index=False)"
   ]
  },
  {
   "cell_type": "markdown",
   "metadata": {},
   "source": [
    "## Look into non fossil holding types"
   ]
  },
  {
   "cell_type": "code",
   "execution_count": null,
   "metadata": {},
   "outputs": [],
   "source": [
    "all_holdings_cls_non_fossil_types = all_holdings_cls_filtered[\n",
    "    all_holdings_cls_filtered[\"holding_type\"].isin(get_non_fossil_holding_types())\n",
    "]\n",
    "\n",
    "all_holdings_cls_non_fossil_types['holding_type'].unique()"
   ]
  },
  {
   "cell_type": "code",
   "execution_count": null,
   "metadata": {},
   "outputs": [],
   "source": [
    "all_holdings_cls_non_fossil_types.groupby(\"holding_type\").agg({\n",
    "      \"שווי\": \"sum\",\n",
    "    \"שווי פוסילי\": \"sum\"\n",
    "})"
   ]
  },
  {
   "cell_type": "code",
   "execution_count": null,
   "metadata": {},
   "outputs": [],
   "source": [
    "# holdings that should be non fossil by holding type but are fossil\n",
    "all_holdings_cls_non_fossil_types[\n",
    "    all_holdings_cls_non_fossil_types[\"is_fossil\"] == 1\n",
    "]"
   ]
  },
  {
   "cell_type": "markdown",
   "metadata": {},
   "source": [
    "## Export holdings with missing classification that should be classified"
   ]
  },
  {
   "cell_type": "code",
   "execution_count": null,
   "metadata": {},
   "outputs": [],
   "source": [
    "missing_cls = all_holdings_cls[\n",
    "    (all_holdings_cls[\"holding_type\"].isin(['מניות', 'אג\"ח קונצרני'])) &\n",
    "    (all_holdings_cls[\"is_fossil\"].isnull())\n",
    "]\n",
    "\n",
    "cols = ['שם המנפיק/שם נייר ערך' ,'מספר ני\"ע' ,'מספר מנפיק', 'ISIN', 'מספר תאגיד', 'LEI']\n",
    "missing_cls_deduped = missing_cls[cols].drop_duplicates()\n",
    "print(missing_cls_deduped.shape[0])\n",
    "missing_cls_deduped"
   ]
  },
  {
   "cell_type": "code",
   "execution_count": null,
   "metadata": {},
   "outputs": [],
   "source": [
    "missing_cls_deduped.to_csv(response_path+\"missing_cls.csv\", index=False)"
   ]
  },
  {
   "cell_type": "markdown",
   "metadata": {},
   "source": [
    "# Simulation - change fossil classification for selected holdings, analyze results"
   ]
  },
  {
   "cell_type": "code",
   "execution_count": null,
   "metadata": {},
   "outputs": [],
   "source": [
    "# fix data in all_holdings_cls - wrong data for סופרגז\n",
    "# all_holdings_cls[all_holdings_cls[\"שם המנפיק/שם נייר ערך\"] == 'סופרגז']"
   ]
  },
  {
   "cell_type": "code",
   "execution_count": null,
   "metadata": {},
   "outputs": [],
   "source": [
    "all_holdings_cls.loc[all_holdings_cls[\"שם המנפיק/שם נייר ערך\"] == 'סופרגז',\n",
    "                    'מספר ני\"ע'] = '1166917'\n",
    "\n",
    "all_holdings_cls.loc[all_holdings_cls[\"שם המנפיק/שם נייר ערך\"] == 'סופרגז',\n",
    "                     'ISIN'] = 'IL0011669178'"
   ]
  },
  {
   "cell_type": "code",
   "execution_count": null,
   "metadata": {},
   "outputs": [],
   "source": [
    "all_holdings_cls[\"clean_name\"] = all_holdings_cls[\"שם המנפיק/שם נייר ערך\"].apply(clean_company)"
   ]
  },
  {
   "cell_type": "code",
   "execution_count": null,
   "metadata": {
    "scrolled": true
   },
   "outputs": [],
   "source": [
    "selected_holdings_names = [\"כיל\", \"ICL \", 'איי סי אל', 'איי.סי.אל', 'אייסיאל', 'ISRAEL CHEMICAL', 'כימיקלים לישראל', 'כי\"ל',\n",
    "                           \"ICLIT\"\n",
    "#                            \"רימון\",\n",
    "#                            \"סופרגז\", \"סופר גז\",\n",
    "#                            \"OPC\", 'אופיסי', 'או. פי. סי', 'או פי סי',\n",
    "#                            'חברה לישראל', 'החברה לישראל', 'חברהלישראל','חברה ישראל'\n",
    "                          ]\n",
    "name_mask = all_holdings_cls[\"clean_name\"].str.upper().str.startswith(tuple(selected_holdings_names))\n",
    "all_holdings_cls.loc[name_mask].groupby(['מספר מנפיק'], dropna=False).agg(\n",
    "    name=pd.NamedAgg(column=\"clean_name\", aggfunc=\"first\")\n",
    ")"
   ]
  },
  {
   "cell_type": "code",
   "execution_count": null,
   "metadata": {},
   "outputs": [],
   "source": [
    "all_holdings_cls.loc[all_holdings_cls[\"מספר מנפיק\"] != '281'].loc[name_mask].sort_values(\"שם המנפיק/שם נייר ערך\")"
   ]
  },
  {
   "cell_type": "code",
   "execution_count": null,
   "metadata": {},
   "outputs": [],
   "source": [
    "def holdings_col_mask_by_another_mask(holdings, col_name, mask):\n",
    "    selected_col_values = holdings.loc[mask, col_name].dropna().unique()\n",
    "    col_mask = holdings[col_name].isin(selected_col_values)\n",
    "    print(\"matching holdings by {}: {}\".format(col_name, col_mask.sum()))\n",
    "    return col_mask"
   ]
  },
  {
   "cell_type": "code",
   "execution_count": null,
   "metadata": {},
   "outputs": [],
   "source": [
    "# by issuer num\n",
    "issuer_mask = holdings_col_mask_by_another_mask(all_holdings_cls, \"מספר מנפיק\", name_mask)\n",
    "ISIN_mask = holdings_col_mask_by_another_mask(all_holdings_cls, \"ISIN\", name_mask)\n",
    "LEI_mask = holdings_col_mask_by_another_mask(all_holdings_cls, \"LEI\", name_mask)\n",
    "il_corp_mask = holdings_col_mask_by_another_mask(all_holdings_cls, \"מספר תאגיד\", name_mask)\n",
    "# il_sec_num_mask = holdings_col_mask_by_another_mask(all_holdings_cls, 'מספר ני\"ע', name_mask)"
   ]
  },
  {
   "cell_type": "code",
   "execution_count": null,
   "metadata": {},
   "outputs": [],
   "source": [
    "all_ids_mask = name_mask | issuer_mask | ISIN_mask | LEI_mask | il_corp_mask # | il_sec_num_mask\n",
    "no_name_match = all_holdings_cls[all_ids_mask & (~name_mask)]\n",
    "print(\"selected holdings with no name match: {}\".format(no_name_match.shape[0]))"
   ]
  },
  {
   "cell_type": "code",
   "execution_count": null,
   "metadata": {},
   "outputs": [],
   "source": [
    "no_name_match.sort_values(\"is_fossil\", ascending=False)"
   ]
  },
  {
   "cell_type": "code",
   "execution_count": null,
   "metadata": {},
   "outputs": [],
   "source": [
    "all_holdings_cls.loc[all_ids_mask, \"is_fossil\"].value_counts(dropna=False)"
   ]
  },
  {
   "cell_type": "code",
   "execution_count": null,
   "metadata": {},
   "outputs": [],
   "source": [
    "# change classification\n",
    "all_holdings_cls.loc[all_ids_mask, \"is_fossil\"] = 0\n",
    "all_holdings_cls[\"שווי פוסילי\"] = all_holdings_cls[\"שווי\"] * all_holdings_cls[\"is_fossil\"]"
   ]
  },
  {
   "cell_type": "markdown",
   "metadata": {},
   "source": [
    "## Misc queries"
   ]
  },
  {
   "cell_type": "code",
   "execution_count": null,
   "metadata": {
    "scrolled": true
   },
   "outputs": [],
   "source": [
    "response_path = \"data/downloaded reports/company reports 2022Q1/\"\n",
    "all_holdings_cls = pd.read_csv(response_path+\"all_holdings_cls_all_ids.csv\", dtype=holdings_dtypes())\n",
    "# all_holdings_cls = load_mappings_and_add_ids_to_holdings(all_holdings_cls)\n",
    "current_q = '2022 רבעון 1'"
   ]
  },
  {
   "cell_type": "markdown",
   "metadata": {},
   "source": [
    "## holding type distribution (asset allocation)"
   ]
  },
  {
   "cell_type": "code",
   "execution_count": null,
   "metadata": {},
   "outputs": [],
   "source": [
    "latest_q_sums_by_htype = all_holdings_cls[\n",
    "    (all_holdings_cls[\"ReportPeriodDesc\"] == current_q)\n",
    "].groupby(\"holding_type\")[['שווי']].agg('sum').reset_index()\n",
    "\n",
    "latest_q_sums_by_htype[\"pct\"] = 100.00 * latest_q_sums_by_htype[\"שווי\"] / latest_q_sums_by_htype[\"שווי\"].sum()\n",
    "\n",
    "print(latest_q_sums_by_htype[\"שווי\"].sum())\n",
    "latest_q_sums_by_htype.sort_values('שווי', ascending=False).to_clipboard(index=False)\n",
    "latest_q_sums_by_htype.sort_values('שווי', ascending=False)"
   ]
  },
  {
   "cell_type": "markdown",
   "metadata": {},
   "source": [
    "## Non-major companies"
   ]
  },
  {
   "cell_type": "code",
   "execution_count": null,
   "metadata": {},
   "outputs": [],
   "source": [
    "haifa = all_holdings_cls.loc[\n",
    "    (all_holdings_cls[\"ParentCorpName\"].str.contains(\"חיפה\"))\n",
    "]"
   ]
  },
  {
   "cell_type": "code",
   "execution_count": null,
   "metadata": {},
   "outputs": [],
   "source": [
    "get_summary(haifa, 'ReportPeriodDesc', 'ParentCorpName')"
   ]
  },
  {
   "cell_type": "code",
   "execution_count": null,
   "metadata": {},
   "outputs": [],
   "source": [
    "haifa[haifa[\"is_fossil\"] == 1].sort_values(\"שם המנפיק/שם נייר ערך\")"
   ]
  },
  {
   "cell_type": "code",
   "execution_count": null,
   "metadata": {
    "scrolled": true
   },
   "outputs": [],
   "source": [
    "hachshara = all_holdings_cls.loc[\n",
    "    (all_holdings_cls[\"ParentCorpName\"].str.contains(\"הכשר\"))\n",
    "]\n",
    "get_summary(hachshara, 'ReportPeriodDesc', 'ParentCorpName')"
   ]
  },
  {
   "cell_type": "markdown",
   "metadata": {},
   "source": [
    "## looking into specific holdings\n",
    "קרנות סל - מגדל 125"
   ]
  },
  {
   "cell_type": "code",
   "execution_count": null,
   "metadata": {
    "scrolled": true
   },
   "outputs": [],
   "source": [
    "all_holdings_2021q2[\n",
    "    (all_holdings_2021q2[\"holding_type\"] == 'קרנות סל') &\n",
    "    (all_holdings_2021q2[\"שם המנפיק/שם נייר ערך\"].str.contains(\"125\")) &\n",
    "    (all_holdings_2021q2[\"שם המנפיק/שם נייר ערך\"].str.contains(\"מגדל\"))\n",
    "].groupby('מספר ני\"ע')[\"שווי\"].sum()"
   ]
  },
  {
   "cell_type": "code",
   "execution_count": null,
   "metadata": {
    "scrolled": true
   },
   "outputs": [],
   "source": [
    "# החזקות של חברות בקרן עוקבת תא 125 של מגדל\n",
    "cols = [\"SystemName\", \"ParentCorpName\",\"שווי\", 'שעור מנכסי אפיק ההשקעה', \"שעור מערך נקוב מונפק\"]\n",
    "all_holdings_2021q2[\n",
    "    (all_holdings_2021q2['מספר ני\"ע'] == 1150283)\n",
    "][cols]"
   ]
  },
  {
   "cell_type": "code",
   "execution_count": null,
   "metadata": {
    "scrolled": false
   },
   "outputs": [],
   "source": [
    "cols = [\"שם המנפיק/שם נייר ערך\", 'מספר ני\"ע', \"שווי\", \"שעור מנכסי אפיק ההשקעה\", \"שעור מערך נקוב מונפק\", \"SystemName\"]\n",
    "\n",
    "all_holdings_2021q2[\n",
    "    (all_holdings_2021q2['holding_type'] == 'קרנות סל') &\n",
    "    (all_holdings_2021q2[\"ParentCorpName\"].str.contains('מגדל')) &\n",
    "    (~all_holdings_2021q2[\"שם המנפיק/שם נייר ערך\"].str.contains('כש')) &\n",
    "    (all_holdings_2021q2[\"שם המנפיק/שם נייר ערך\"].str.contains('125'))\n",
    "][cols]"
   ]
  },
  {
   "cell_type": "markdown",
   "metadata": {},
   "source": [
    "## Looking into ETFs"
   ]
  },
  {
   "cell_type": "code",
   "execution_count": null,
   "metadata": {
    "scrolled": true
   },
   "outputs": [],
   "source": [
    "etf_holdings = all_holdings_2021q2[\n",
    "    (all_holdings_2021q2[\"holding_type\"] == 'קרנות סל')\n",
    "]\n",
    "\n",
    "etf_holdings.groupby(\"זירת מסחר\")[\"שווי\"].sum()"
   ]
  },
  {
   "cell_type": "code",
   "execution_count": null,
   "metadata": {
    "scrolled": true
   },
   "outputs": [],
   "source": [
    "etf_holdings_tase = etf_holdings[etf_holdings[\"זירת מסחר\"] == \"TASE\"]\n",
    "etf_holdings_tase.head()"
   ]
  },
  {
   "cell_type": "markdown",
   "metadata": {},
   "source": [
    "### Latest quarter holdings per company"
   ]
  },
  {
   "cell_type": "code",
   "execution_count": null,
   "metadata": {},
   "outputs": [],
   "source": [
    "all_holdings_cls_latest_q = all_holdings_cls[\n",
    "    all_holdings_cls[\"ReportPeriodDesc\"] == '2021 רבעון 3'\n",
    "]\n",
    "\n",
    "pd.DataFrame(all_holdings_cls_latest_q.groupby(\n",
    "    ['ParentCorpName'])['שווי'].agg('sum')\n",
    "            ).sort_values('שווי', ascending=False)"
   ]
  },
  {
   "cell_type": "code",
   "execution_count": null,
   "metadata": {},
   "outputs": [],
   "source": [
    "all_holdings_cls_filtered.groupby(\"holding_type\")[\"שווי\"].sum().sort_values()"
   ]
  },
  {
   "cell_type": "code",
   "execution_count": null,
   "metadata": {},
   "outputs": [],
   "source": [
    "all_holdings_cls_filtered[\n",
    "    all_holdings_cls_filtered[\"holding_type\"].str.contains(\"קרנות השקעה\")\n",
    "    ].head()"
   ]
  }
 ],
 "metadata": {
  "kernelspec": {
   "display_name": "Python 3 (ipykernel)",
   "language": "python",
   "name": "python3"
  },
  "language_info": {
   "codemirror_mode": {
    "name": "ipython",
    "version": 3
   },
   "file_extension": ".py",
   "mimetype": "text/x-python",
   "name": "python",
   "nbconvert_exporter": "python",
   "pygments_lexer": "ipython3",
   "version": "3.9.12"
  }
 },
 "nbformat": 4,
 "nbformat_minor": 2
}
