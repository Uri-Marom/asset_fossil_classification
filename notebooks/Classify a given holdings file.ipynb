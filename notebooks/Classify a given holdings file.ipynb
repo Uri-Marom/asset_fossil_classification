{
 "cells": [
  {
   "cell_type": "markdown",
   "metadata": {},
   "source": [
    "# Add Fossil Classification for a given Holding File"
   ]
  },
  {
   "cell_type": "code",
   "execution_count": 1,
   "metadata": {},
   "outputs": [],
   "source": [
    "import os\n",
    "os.chdir('..')"
   ]
  },
  {
   "cell_type": "code",
   "execution_count": 2,
   "metadata": {},
   "outputs": [],
   "source": [
    "%load_ext autoreload\n",
    "%autoreload 2"
   ]
  },
  {
   "cell_type": "code",
   "execution_count": 3,
   "metadata": {},
   "outputs": [],
   "source": [
    "from fossil_classification import *\n",
    "from enrich_holdings import *\n",
    "\n",
    "pd.set_option('display.max_columns', None)\n",
    "pd.set_option('display.max_rows', None)\n",
    "pd.options.display.float_format = \"{:,.2f}\".format"
   ]
  },
  {
   "cell_type": "markdown",
   "metadata": {},
   "source": [
    "# Classify holdings file"
   ]
  },
  {
   "cell_type": "code",
   "execution_count": 4,
   "metadata": {},
   "outputs": [
    {
     "name": "stdout",
     "output_type": "stream",
     "text": [
      "\n",
      "1.Preparing holding file\n",
      "\n",
      "** Holdings file for classification **\n",
      "/Users/urimarom/PycharmProjects/fossil_classification/data/downloaded reports/company reports 2021Q3/holdings_for_cls.csv\n",
      "columns: Index(['שם המנפיק/שם נייר ערך', 'מספר ני\"ע', 'מספר מנפיק', 'שווי',\n",
      "       'שעור מנכסי אפיק ההשקעה', 'שעור מסך נכסי השקעה', 'holding_type',\n",
      "       'זירת מסחר', 'תאריך רכישה', 'ערך נקוב', 'שער', 'שעור מערך נקוב מונפק',\n",
      "       'ענף מסחר', 'SystemName', 'ParentCorpName', 'ReportPeriodDesc'],\n",
      "      dtype='object')\n",
      "\n",
      "Holding file ISIN col is: מספר ני\"ע\n",
      "number of ISINs: 1013 out of 2233 rows\n",
      "\n",
      "Holding file Israel Corp col is: מספר מנפיק\n",
      "number of Israel Corp Numbers: 1303 out of 2233 rows\n",
      "\n",
      "2.Preparing mapping files\n"
     ]
    },
    {
     "name": "stderr",
     "output_type": "stream",
     "text": [
      "/Users/urimarom/anaconda3/lib/python3.6/site-packages/pandas/core/strings.py:2001: UserWarning: This pattern has match groups. To actually get the groups, use str.extract.\n",
      "  return func(self, *args, **kwargs)\n"
     ]
    },
    {
     "name": "stdout",
     "output_type": "stream",
     "text": [
      "מספר ני\"עs with matching ISIN: 2033 out of total relevant rows: 1210\n",
      "מספר תאגידs with matching מספר מנפיק: 1742 out of total relevant rows: 1303\n",
      "מספר ני\"עs with matching מספר מנפיק: 1743 out of total relevant rows: 1210\n",
      "ISINs with matching מספר מנפיק: 1743 out of total relevant rows: 2033\n",
      "ISINs with matching LEI: 668 out of total relevant rows: 2033\n"
     ]
    },
    {
     "name": "stderr",
     "output_type": "stream",
     "text": [
      "/Users/urimarom/anaconda3/lib/python3.6/site-packages/pandas/core/strings.py:2001: UserWarning: This pattern has match groups. To actually get the groups, use str.extract.\n",
      "  return func(self, *args, **kwargs)\n"
     ]
    },
    {
     "name": "stdout",
     "output_type": "stream",
     "text": [
      "מספר ני\"עs with matching ISIN: 6727 out of total relevant rows: 1857\n",
      "מספר תאגידs with matching מספר מנפיק: 1950 out of total relevant rows: 343\n",
      "מספר ני\"עs with matching מספר מנפיק: 1950 out of total relevant rows: 1857\n",
      "ISINs with matching מספר מנפיק: 1950 out of total relevant rows: 6727\n",
      "ISINs with matching LEI: 3848 out of total relevant rows: 6727\n",
      "\n",
      "Writing results to prev with added issuer and LEI.csv\n",
      "\n",
      "1. matching to previously classified by Israeli security number\n",
      "\n",
      "previous is_fossil coverage\n",
      "ISINs previously classified: 1153 out of total holdings: 2233\n",
      "\n",
      "2. matching to previously classified by ISIN\n",
      "\n",
      "previous is_fossil coverage\n",
      "ISINs previously classified: 1867 out of total holdings: 2233\n",
      "\n",
      "3. matching to previously classified by issuer number\n",
      "issuers previously classified: 1298 out of total holdings: 2233\n",
      "\n",
      "4. matching to previously classified by LEI\n",
      "LEIs previously classified: 627 out of total holdings: 2233\n",
      "\n",
      "5. matching to previously classified by מספר תאגיד\n",
      "Israeli Corp Nums previously classified: 0 out of total holdings: 2233\n",
      "\n",
      "** Fetching tlv companies fossil classification **\n",
      "\n",
      "is_fossil in TLV companies classification\n",
      "0    544\n",
      "1     47\n",
      "Name: רשימה שחורה, dtype: int64\n",
      "\n",
      "*** TLV companies with missing fossil classification ***\n",
      "Empty DataFrame\n",
      "Columns: [מספר מנפיק, מספר תאגיד, שם, שם מלא, ענף בבורסה, מדד תל אביב 125, רשימה שחורה, קריטריון פסילה, מדוע נפסל + מקור, כתובת, טלפון, אתר הבית, דואר אלקטרוני]\n",
      "Index: []\n",
      "\n",
      "TLV list is_fossil coverage: by issuer\n",
      "classified: 1171 out of total holdings: 2233\n",
      "Number of rows: 531 , Number of unique IL corps: 531\n",
      "\n",
      "TLV list is_fossil coverage: by IL corp num\n",
      "classified: 1183 out of total holdings: 2233\n",
      "Using data_sources/Invest+Your+Values+company+screens.xlsx\n",
      "\n",
      "is_fossil in Fossil Free Funds list\n",
      "0    3851\n",
      "1    2526\n",
      "Name: fff_fossil_any, dtype: int64\n",
      "\n",
      "Fossil tags breakdown\n",
      "Oil / Gas     0          1   \n",
      "Utilities     0    1     0  1\n",
      "Coal                         \n",
      "0          3851  369  1687  2\n",
      "1           276  182     7  3\n",
      "\n",
      "** fuzzy matching company names ** (this could take a few minutes)\n",
      "Matching by Company Name coverage:\n",
      "classified: 226 out of total holdings: 2233\n",
      "\n",
      "***** Final Results before propagation *****\n",
      "is_fossil coverage:\n",
      "0.00    1921\n",
      "1.00     195\n",
      "nan      117\n",
      "Name: is_fossil, dtype: int64\n",
      "\n",
      "Propagating by מספר ני\"ע\n"
     ]
    },
    {
     "name": "stderr",
     "output_type": "stream",
     "text": [
      "/Users/urimarom/PycharmProjects/fossil_classification/fossil_classification.py:720: SettingWithCopyWarning: \n",
      "A value is trying to be set on a copy of a slice from a DataFrame.\n",
      "Try using .loc[row_indexer,col_indexer] = value instead\n",
      "\n",
      "See the caveats in the documentation: https://pandas.pydata.org/pandas-docs/stable/user_guide/indexing.html#returning-a-view-versus-a-copy\n",
      "  prop_col_not_null['is_fossil'] = grouped_by_prop_col['is_fossil'].transform(lambda x: x.fillna(x.mean()))\n"
     ]
    },
    {
     "name": "stdout",
     "output_type": "stream",
     "text": [
      "\n",
      "is_fossil coverage before propagation by מספר ני\"ע:\n",
      "0.00    1921\n",
      "1.00     195\n",
      "nan      117\n",
      "Name: is_fossil, dtype: int64\n",
      "\n",
      "is_fossil coverage after propagation by מספר ני\"ע:\n",
      "0.00    1921\n",
      "1.00     195\n",
      "nan      117\n",
      "Name: is_fossil, dtype: int64\n",
      "\n",
      "Propagating by LEI\n",
      "\n",
      "is_fossil coverage before propagation by LEI:\n",
      "0.00    1921\n",
      "1.00     195\n",
      "nan      117\n",
      "Name: is_fossil, dtype: int64\n",
      "\n",
      "is_fossil coverage after propagation by LEI:\n",
      "0.00    1921\n",
      "1.00     195\n",
      "nan      117\n",
      "Name: is_fossil, dtype: int64\n",
      "\n",
      "Writing results to /Users/urimarom/PycharmProjects/fossil_classification/data/downloaded reports/company reports 2021Q3/holdings_for_cls with fossil classification.csv\n"
     ]
    }
   ],
   "source": [
    "holdings_path = \"/Users/urimarom/PycharmProjects/fossil_classification/data/downloaded reports/company reports 2021Q3/holdings_for_cls.csv\"\n",
    "classify_holdings(holdings_path)"
   ]
  },
  {
   "cell_type": "markdown",
   "metadata": {},
   "source": [
    "# Manual Review\n",
    "In a google spreadsheet or excel.\n",
    "Download the fully classifed file into a csv, then use it in holding_cls_path to update prev_class (see below)."
   ]
  },
  {
   "cell_type": "markdown",
   "metadata": {},
   "source": [
    "# Add classification results to prev_class"
   ]
  },
  {
   "cell_type": "code",
   "execution_count": 18,
   "metadata": {},
   "outputs": [
    {
     "name": "stdout",
     "output_type": "stream",
     "text": [
      "Adding classifications to prev_class, saving the previous version as /Users/urimarom/PycharmProjects/fossil_classification/data_sources/prev_class backup/prev_class 2021-12-02 18-53-05.csv\n"
     ]
    }
   ],
   "source": [
    "holdings_cls_path = \"/Users/urimarom/PycharmProjects/fossil_classification/data/downloaded reports/company reports 2021Q3/migdal 2021Q3 with fossil classification.csv\"\n",
    "prev_class_path = \"/Users/urimarom/PycharmProjects/fossil_classification/data_sources/prev_class.csv\"\n",
    "update_prev_class(holdings_cls_path, prev_class_path)"
   ]
  }
 ],
 "metadata": {
  "kernelspec": {
   "display_name": "Python 3",
   "language": "python",
   "name": "python3"
  },
  "language_info": {
   "codemirror_mode": {
    "name": "ipython",
    "version": 3
   },
   "file_extension": ".py",
   "mimetype": "text/x-python",
   "name": "python",
   "nbconvert_exporter": "python",
   "pygments_lexer": "ipython3",
   "version": "3.6.4"
  }
 },
 "nbformat": 4,
 "nbformat_minor": 2
}
