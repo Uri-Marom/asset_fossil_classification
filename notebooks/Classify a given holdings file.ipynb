{
 "cells": [
  {
   "cell_type": "markdown",
   "metadata": {},
   "source": [
    "# Add Fossil Classification for a given Holding File"
   ]
  },
  {
   "cell_type": "code",
   "execution_count": 1,
   "metadata": {},
   "outputs": [],
   "source": [
    "import os\n",
    "os.chdir('..')"
   ]
  },
  {
   "cell_type": "code",
   "execution_count": 2,
   "metadata": {},
   "outputs": [],
   "source": [
    "%load_ext autoreload\n",
    "%autoreload 2"
   ]
  },
  {
   "cell_type": "code",
   "execution_count": 3,
   "metadata": {},
   "outputs": [],
   "source": [
    "from fossil_classification import *\n",
    "from enrich_holdings import *\n",
    "\n",
    "pd.set_option('display.max_columns', None)\n",
    "pd.set_option('display.max_rows', None)\n",
    "pd.options.display.float_format = \"{:,.2f}\".format"
   ]
  },
  {
   "cell_type": "markdown",
   "metadata": {},
   "source": [
    "# Next steps:\n",
    "1. enrich fixed holdings:\n",
    "   * add LEI by ISIN\n",
    "   * add מספר מנפיק by מספר תאגיד\n",
    "   * add מספר מנפיק by מספר ני\"ע   \n",
    "   * add issuer number by ISIN for ILXXX ISINs (or try for all and see?)\n",
    "2. check after enriching - how many missing issuer_num for Israeli holdings?\n",
    "3. update fossil_classification, use new enriching and merge by the new clean columns"
   ]
  },
  {
   "cell_type": "code",
   "execution_count": 23,
   "metadata": {},
   "outputs": [
    {
     "name": "stdout",
     "output_type": "stream",
     "text": [
      "\n",
      "1.Preparing holding file\n",
      "\n",
      "** Holdings file for classification **\n",
      "data/holdings_for_classification/missing_cls.csv\n",
      "columns: Index(['שם המנפיק/שם נייר ערך', 'מספר ני\"ע', 'מספר מנפיק'], dtype='object')\n",
      "\n",
      "Holding file ISIN col is: מספר ני\"ע\n",
      "number of ISINs: 98 out of 334 rows\n",
      "\n",
      "Holding file Israel Corp col is: מספר מנפיק\n",
      "number of Israel Corp Numbers: 157 out of 334 rows\n",
      "\n",
      "2.Preparing mapping files\n"
     ]
    },
    {
     "name": "stderr",
     "output_type": "stream",
     "text": [
      "/Users/urimarom/anaconda3/lib/python3.6/site-packages/pandas/core/strings.py:2001: UserWarning: This pattern has match groups. To actually get the groups, use str.extract.\n",
      "  return func(self, *args, **kwargs)\n"
     ]
    },
    {
     "name": "stdout",
     "output_type": "stream",
     "text": [
      "מספר ני\"עs with matching ISIN: 122 out of total relevant rows: 212\n",
      "מספר תאגידs with matching מספר מנפיק: 191 out of total relevant rows: 157\n",
      "מספר ני\"עs with matching מספר מנפיק: 191 out of total relevant rows: 212\n",
      "ISINs with matching מספר מנפיק: 191 out of total relevant rows: 122\n",
      "ISINs with matching LEI: 87 out of total relevant rows: 122\n",
      "\n",
      "** Previously classified ISINs and corps **\n",
      "is_fossil in previously classified\n",
      "0.00    6930\n",
      "1.00     564\n",
      "Name: is_fossil, dtype: int64\n",
      "\n",
      "*** Issuers with both is_fossil=1 and is_fossil=0 ***\n",
      "      שם המנפיק/שם נייר ערך     מספר ני\"ע מספר מנפיק  is_fossil  \\\n",
      "512           486 HK EQUITY  RU000A1025V3        NaN       1.00   \n",
      "42921         486 HK EQUITY  JE00B5BCW814        NaN       0.00   \n",
      "\n",
      "      classification_date  \n",
      "512            2021-10-01  \n",
      "42921                 NaN  \n"
     ]
    },
    {
     "name": "stderr",
     "output_type": "stream",
     "text": [
      "/Users/urimarom/anaconda3/lib/python3.6/site-packages/pandas/core/strings.py:2001: UserWarning: This pattern has match groups. To actually get the groups, use str.extract.\n",
      "  return func(self, *args, **kwargs)\n"
     ]
    },
    {
     "name": "stdout",
     "output_type": "stream",
     "text": [
      "מספר ני\"עs with matching ISIN: 6602 out of total relevant rows: 1647\n",
      "מספר תאגידs with matching מספר מנפיק: 1721 out of total relevant rows: 186\n",
      "מספר ני\"עs with matching מספר מנפיק: 1748 out of total relevant rows: 1647\n",
      "ISINs with matching מספר מנפיק: 1754 out of total relevant rows: 6602\n",
      "ISINs with matching LEI: 3759 out of total relevant rows: 6602\n",
      "\n",
      "Writing results to prev with added issuer and LEI.csv\n",
      "\n",
      "1. matching to previously classified by Israeli security number\n",
      "\n",
      "previous is_fossil coverage\n",
      "ISINs previously classified: 0 out of total holdings: 334\n",
      "\n",
      "2. matching to previously classified by ISIN\n",
      "\n",
      "previous is_fossil coverage\n",
      "ISINs previously classified: 23 out of total holdings: 334\n",
      "\n",
      "3. matching to previously classified by issuer number\n",
      "issuers previously classified: 131 out of total holdings: 334\n",
      "\n",
      "4. matching to previously classified by LEI\n",
      "LEIs previously classified: 71 out of total holdings: 334\n",
      "\n",
      "5. matching to previously classified by מספר תאגיד\n",
      "Israeli Corp Nums previously classified: 71 out of total holdings: 334\n",
      "\n",
      "** Fetching tlv companies fossil classification **\n",
      "\n",
      "is_fossil in TLV companies classification\n",
      "0    544\n",
      "1     47\n",
      "Name: רשימה שחורה, dtype: int64\n",
      "\n",
      "*** TLV companies with missing fossil classification ***\n",
      "Empty DataFrame\n",
      "Columns: [מספר מנפיק, מספר תאגיד, שם, שם מלא, ענף בבורסה, מדד תל אביב 125, רשימה שחורה, קריטריון פסילה, מדוע נפסל + מקור, כתובת, טלפון, אתר הבית, דואר אלקטרוני]\n",
      "Index: []\n",
      "\n",
      "TLV list is_fossil coverage: by issuer\n",
      "classified: 124 out of total holdings: 334\n",
      "Number of rows: 531 , Number of unique IL corps: 531\n",
      "\n",
      "TLV list is_fossil coverage: by IL corp num\n",
      "classified: 118 out of total holdings: 334\n",
      "Using data_sources/Invest+Your+Values+company+screens.xlsx\n",
      "\n",
      "is_fossil in Fossil Free Funds list\n",
      "0    3851\n",
      "1    2526\n",
      "Name: fff_fossil_any, dtype: int64\n",
      "\n",
      "Fossil tags breakdown\n",
      "Oil / Gas     0          1   \n",
      "Utilities     0    1     0  1\n",
      "Coal                         \n",
      "0          3851  369  1687  2\n",
      "1           276  182     7  3\n",
      "\n",
      "** fuzzy matching company names ** (this could take a few minutes)\n",
      "Matching by Company Name coverage:\n",
      "classified: 17 out of total holdings: 334\n",
      "\n",
      "***** Final Results before propagation *****\n",
      "is_fossil coverage:\n",
      "0.00    209\n",
      "nan      97\n",
      "1.00     28\n",
      "Name: is_fossil, dtype: int64\n",
      "\n",
      "Propagating by מספר ני\"ע\n",
      "\n",
      "is_fossil coverage before propagation by מספר ני\"ע:\n",
      "0.00    209\n",
      "nan      97\n",
      "1.00     28\n",
      "Name: is_fossil, dtype: int64\n",
      "\n",
      "is_fossil coverage after propagation by מספר ני\"ע:\n",
      "0.00    222\n",
      "nan      82\n",
      "1.00     30\n",
      "Name: is_fossil, dtype: int64\n",
      "\n",
      "Propagating by LEI\n",
      "\n",
      "is_fossil coverage before propagation by LEI:\n",
      "0.00    222\n",
      "nan      82\n",
      "1.00     30\n",
      "Name: is_fossil, dtype: int64\n",
      "\n",
      "is_fossil coverage after propagation by LEI:\n",
      "0.00    223\n",
      "nan      81\n",
      "1.00     30\n",
      "Name: is_fossil, dtype: int64\n",
      "\n",
      "Writing results to data/holdings_for_classification/missing_cls with fossil classification.csv\n"
     ]
    },
    {
     "name": "stderr",
     "output_type": "stream",
     "text": [
      "/Users/urimarom/PycharmProjects/fossil_classification/fossil_classification.py:720: SettingWithCopyWarning: \n",
      "A value is trying to be set on a copy of a slice from a DataFrame.\n",
      "Try using .loc[row_indexer,col_indexer] = value instead\n",
      "\n",
      "See the caveats in the documentation: https://pandas.pydata.org/pandas-docs/stable/user_guide/indexing.html#returning-a-view-versus-a-copy\n",
      "  print(\"\\nis_fossil coverage after propagation by {}:\".format(propagate_by_col))\n"
     ]
    }
   ],
   "source": [
    "holdings_path = \"data/holdings_for_classification/missing_cls.csv\"\n",
    "# tlv_path = \"../../data_sources/TASE companies - fossil classification.xlsx\"\n",
    "# prev_class_path = \"../../data_sources/prev_class.csv\"\n",
    "# isin2lei_path = \"../../data_sources/ISIN_LEI.csv\"\n",
    "# holdings_corp_or_issuer_col = \"מספר מנפיק\"\n",
    "# holdings_ticker_col = None\n",
    "# holdings_company_col = \"שם המנפיק/שם נייר ערך\"\n",
    "\n",
    "classify_holdings(holdings_path=holdings_path)"
   ]
  },
  {
   "cell_type": "code",
   "execution_count": null,
   "metadata": {},
   "outputs": [],
   "source": []
  }
 ],
 "metadata": {
  "kernelspec": {
   "display_name": "Python 3",
   "language": "python",
   "name": "python3"
  },
  "language_info": {
   "codemirror_mode": {
    "name": "ipython",
    "version": 3
   },
   "file_extension": ".py",
   "mimetype": "text/x-python",
   "name": "python",
   "nbconvert_exporter": "python",
   "pygments_lexer": "ipython3",
   "version": "3.6.4"
  }
 },
 "nbformat": 4,
 "nbformat_minor": 2
}
