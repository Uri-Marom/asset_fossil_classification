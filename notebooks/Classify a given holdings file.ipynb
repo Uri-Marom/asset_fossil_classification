{
 "cells": [
  {
   "cell_type": "markdown",
   "metadata": {},
   "source": [
    "# Add Fossil Classification for a given Holding File"
   ]
  },
  {
   "cell_type": "code",
   "execution_count": 1,
   "metadata": {},
   "outputs": [],
   "source": [
    "import os\n",
    "os.chdir('..')"
   ]
  },
  {
   "cell_type": "code",
   "execution_count": 2,
   "metadata": {},
   "outputs": [],
   "source": [
    "%load_ext autoreload\n",
    "%autoreload 2"
   ]
  },
  {
   "cell_type": "code",
   "execution_count": 3,
   "metadata": {},
   "outputs": [],
   "source": [
    "from fossil_classification import *\n",
    "from enrich_holdings import *\n",
    "\n",
    "pd.set_option('display.max_columns', None)\n",
    "pd.set_option('display.max_rows', None)\n",
    "pd.options.display.float_format = \"{:,.2f}\".format"
   ]
  },
  {
   "cell_type": "markdown",
   "metadata": {},
   "source": [
    "# Classify quarterly holdings file"
   ]
  },
  {
   "cell_type": "code",
   "execution_count": 4,
   "metadata": {
    "scrolled": false
   },
   "outputs": [],
   "source": [
    "holdings_path = \"data/downloaded reports/company reports 2022Q1/holdings_for_cls.csv\"\n",
    "classify_holdings(holdings_path)"
   ]
  },
  {
   "cell_type": "markdown",
   "metadata": {},
   "source": [
    "# Manual Review\n",
    "In a google spreadsheet or excel.\n",
    "Download the fully classifed file into a csv, then use it in holding_cls_path to update prev_class (see below).\n",
    "\n",
    "## Tips\n",
    "1. Look at the output of the script, review conflicting classification (by ISIN, LEI, Israeli security number)\n",
    "2. Look at holdings that get is_fossil_conflict=True\n",
    "3. Sort by security name, Israeli security number or ISIN for faster manual classification\n",
    "4. Carefully review holdings that have only is_fossil by FFF name match, as there are false matches.\n",
    "5. Review holdings from suspicious industries: energy, oil and gas, utilities, materials."
   ]
  },
  {
   "cell_type": "markdown",
   "metadata": {},
   "source": [
    "# Add classification results to prev_class"
   ]
  },
  {
   "cell_type": "code",
   "execution_count": 5,
   "metadata": {
    "scrolled": false
   },
   "outputs": [
    {
     "name": "stdout",
     "output_type": "stream",
     "text": [
      "Adding classifications to prev_class, saving the previous version as data_sources/prev_class backup/prev_class 2022-07-07 03-35-08.csv\n"
     ]
    }
   ],
   "source": [
    "holdings_cls_path = \"data/downloaded reports/company reports 2022Q1/2022q1 - holdings_for_cls with fossil classification - holdings_for_cls with fossil classification.csv\"\n",
    "prev_class_path = \"data_sources/prev_class.csv\"\n",
    "update_prev_class(holdings_cls_path, prev_class_path)\n",
    "# prev_class_fixed = add_all_id_types_to_holdings(prev_class, tlv_s2i, isin2lei)"
   ]
  },
  {
   "cell_type": "markdown",
   "metadata": {},
   "source": [
    "# Classify fund holdings\n",
    "Data is scraped from https://mayaapi.tase.co.il/api/fund/details?fundId=\n",
    "<br>Page address: https://maya.tase.co.il/fund/5132287?view=assets"
   ]
  },
  {
   "cell_type": "code",
   "execution_count": 126,
   "metadata": {},
   "outputs": [],
   "source": [
    "import json"
   ]
  },
  {
   "cell_type": "code",
   "execution_count": 127,
   "metadata": {},
   "outputs": [],
   "source": [
    "response_directory = \"data/holdings_for_classification/5132287/\"\n",
    "response_path = response_directory + \"response.json\"\n",
    "fund = pd.read_json(response_path, orient=\"index\")\n",
    "assets = pd.DataFrame(fund.loc[\"AssetCompostion\"][0]['Assets'])\n",
    "# holdings[\"AssetCompostion\"].head()\n",
    "cols_rename = {\n",
    "    'AssetName': 'שם המנפיק/שם נייר ערך',\n",
    "    'IdentityCd': 'מספר ני\"ע',\n",
    "    'Id': 'fund_id'\n",
    "}\n",
    "assets = assets.rename(cols_rename, axis=1)\n",
    "assets[\"מספר מנפיק\"] = '00'\n",
    "assets[\"מספר תאגיד\"] = '00'\n",
    "assets.to_csv(response_directory+\"assets.csv\", index=False)"
   ]
  },
  {
   "cell_type": "code",
   "execution_count": 128,
   "metadata": {},
   "outputs": [
    {
     "name": "stdout",
     "output_type": "stream",
     "text": [
      "\n",
      "1.Preparing holding file\n",
      "\n",
      "** Holdings file for classification **\n",
      "data/holdings_for_classification/5132287/assets.csv\n",
      "columns: Index(['מספר ני\"ע', 'שם המנפיק/שם נייר ערך', 'AssetTypeName', 'FundPercentage',\n",
      "       'NisValue', 'Price', 'Quantity', 'BondRank', 'Graph', 'fund_id',\n",
      "       'ManagerId', 'מספר מנפיק', 'מספר תאגיד'],\n",
      "      dtype='object')\n",
      "\n",
      "Holding file ISIN col is: מספר ני\"ע\n",
      "number of ISINs: 35 out of 38 rows\n",
      "\n",
      "ERROR: no Israel Corp Numbers in holdings file, reverting to default: מספר מנפיק\n",
      "\n",
      "2.Preparing mapping files\n"
     ]
    },
    {
     "name": "stderr",
     "output_type": "stream",
     "text": [
      "/Users/urimarom/anaconda3/lib/python3.6/site-packages/pandas/core/strings.py:2001: UserWarning: This pattern has match groups. To actually get the groups, use str.extract.\n",
      "  return func(self, *args, **kwargs)\n"
     ]
    },
    {
     "name": "stdout",
     "output_type": "stream",
     "text": [
      "\n",
      "Holding file ISIN col is: מספר ני\"ע\n",
      "number of ISINs: 35 out of 38 rows\n",
      "\n",
      "no מספר תאגידs in holdings file\n",
      "\n",
      "no LEIs in holdings file\n",
      "מספר ני\"עs with matching ISIN: 35 out of total relevant rows: 3\n",
      "מספר תאגידs with matching מספר מנפיק: 3 out of total relevant rows: 38\n",
      "מספר ני\"עs with matching מספר מנפיק: 3 out of total relevant rows: 3\n",
      "ISINs with matching מספר מנפיק: 3 out of total relevant rows: 35\n",
      "ISINs with matching LEI: 30 out of total relevant rows: 35\n"
     ]
    },
    {
     "name": "stderr",
     "output_type": "stream",
     "text": [
      "/Users/urimarom/anaconda3/lib/python3.6/site-packages/pandas/core/strings.py:2001: UserWarning: This pattern has match groups. To actually get the groups, use str.extract.\n",
      "  return func(self, *args, **kwargs)\n"
     ]
    },
    {
     "name": "stdout",
     "output_type": "stream",
     "text": [
      "\n",
      "Holding file ISIN col is: ISIN\n",
      "number of ISINs: 26862 out of 31214 rows\n",
      "\n",
      "Holding file מספר תאגיד col is: מספר תאגיד\n",
      "number of מספר תאגידs: 15550 out of 31214 rows\n",
      "\n",
      "Holding file LEI col is: LEI\n",
      "number of LEIs: 8250 out of 31214 rows\n",
      "מספר ני\"עs with matching ISIN: 26868 out of total relevant rows: 18368\n",
      "מספר תאגידs with matching מספר מנפיק: 18126 out of total relevant rows: 15550\n",
      "מספר ני\"עs with matching מספר מנפיק: 18126 out of total relevant rows: 18368\n",
      "ISINs with matching מספר מנפיק: 18127 out of total relevant rows: 26868\n",
      "ISINs with matching LEI: 8250 out of total relevant rows: 26868\n",
      "\n",
      "1. matching to previously classified by Israeli security number\n",
      "\n",
      "previous is_fossil coverage\n",
      "Israeli security numbers previously classified: 0 out of total holdings: 38\n",
      "\n",
      "2. matching to previously classified by ISIN\n",
      "\n",
      "previous is_fossil coverage\n",
      "ISINs previously classified: 33 out of total holdings: 38\n",
      "\n",
      "3. matching to previously classified by issuer number\n",
      "issuers previously classified: 0 out of total holdings: 38\n",
      "\n",
      "4. matching to previously classified by LEI\n",
      "LEIs previously classified: 30 out of total holdings: 38\n",
      "\n",
      "5. matching to previously classified by מספר תאגיד\n",
      "Israeli Corp Nums previously classified: 0 out of total holdings: 38\n",
      "\n",
      "** Fetching tlv companies fossil classification **\n",
      "\n",
      "is_fossil in TLV companies classification\n",
      "0    544\n",
      "1     47\n",
      "Name: רשימה שחורה, dtype: int64\n",
      "\n",
      "*** TLV companies with missing fossil classification ***\n",
      "Empty DataFrame\n",
      "Columns: [מספר מנפיק, מספר תאגיד, שם, שם מלא, ענף בבורסה, מדד תל אביב 125, רשימה שחורה, קריטריון פסילה, מדוע נפסל + מקור, כתובת, טלפון, אתר הבית, דואר אלקטרוני]\n",
      "Index: []\n",
      "\n",
      "TLV list is_fossil coverage: by issuer\n",
      "classified: 0 out of total holdings: 38\n",
      "Number of rows: 531 , Number of unique IL corps: 531\n",
      "\n",
      "TLV list is_fossil coverage: by IL corp num\n",
      "classified: 0 out of total holdings: 38\n",
      "Using data_sources/Invest+Your+Values+company+screens.xlsx\n",
      "\n",
      "is_fossil in Fossil Free Funds list\n",
      "0    3851\n",
      "1    2526\n",
      "Name: fff_fossil_any, dtype: int64\n",
      "\n",
      "Fossil tags breakdown\n",
      "Oil / Gas     0          1   \n",
      "Utilities     0    1     0  1\n",
      "Coal                         \n",
      "0          3851  369  1687  2\n",
      "1           276  182     7  3\n",
      "\n",
      "** fuzzy matching company names ** (this could take a few minutes)\n",
      "Matching by Company Name coverage:\n",
      "classified: 28 out of total holdings: 38\n",
      "\n",
      "***** Final Results before propagation *****\n",
      "is_fossil coverage:\n",
      "0.00    33\n",
      "nan      5\n",
      "Name: is_fossil, dtype: int64\n",
      "\n",
      "Propagating by מספר ני\"ע\n",
      "\n",
      "is_fossil coverage before propagation by מספר ני\"ע:\n",
      "0.00    33\n",
      "nan      5\n",
      "Name: is_fossil, dtype: int64\n",
      "\n",
      "is_fossil coverage after propagation by מספר ני\"ע:\n",
      "0.00    33\n",
      "nan      5\n",
      "Name: is_fossil, dtype: int64\n",
      "\n",
      "Propagating by ISIN\n",
      "\n",
      "is_fossil coverage before propagation by ISIN:\n",
      "0.00    33\n",
      "nan      5\n",
      "Name: is_fossil, dtype: int64\n",
      "\n",
      "is_fossil coverage after propagation by ISIN:\n",
      "0.00    33\n",
      "nan      5\n",
      "Name: is_fossil, dtype: int64\n",
      "\n",
      "Propagating by LEI\n",
      "\n",
      "is_fossil coverage before propagation by LEI:\n",
      "0.00    33\n",
      "nan      5\n",
      "Name: is_fossil, dtype: int64\n",
      "\n",
      "is_fossil coverage after propagation by LEI:\n",
      "0.00    33\n",
      "nan      5\n",
      "Name: is_fossil, dtype: int64\n",
      "\n",
      "Writing results to data/holdings_for_classification/5132287/assets with fossil classification.csv\n"
     ]
    },
    {
     "name": "stderr",
     "output_type": "stream",
     "text": [
      "/Users/urimarom/PycharmProjects/fossil_classification/fossil_classification.py:745: SettingWithCopyWarning: \n",
      "A value is trying to be set on a copy of a slice from a DataFrame.\n",
      "Try using .loc[row_indexer,col_indexer] = value instead\n",
      "\n",
      "See the caveats in the documentation: https://pandas.pydata.org/pandas-docs/stable/user_guide/indexing.html#returning-a-view-versus-a-copy\n",
      "  prop_col_not_null['is_fossil'] = grouped_by_prop_col['is_fossil'].transform(lambda x: x.fillna(x.mean()))\n"
     ]
    }
   ],
   "source": [
    "classify_holdings(response_directory+\"assets.csv\")"
   ]
  }
 ],
 "metadata": {
  "kernelspec": {
   "display_name": "Python 3",
   "language": "python",
   "name": "python3"
  },
  "language_info": {
   "codemirror_mode": {
    "name": "ipython",
    "version": 3
   },
   "file_extension": ".py",
   "mimetype": "text/x-python",
   "name": "python",
   "nbconvert_exporter": "python",
   "pygments_lexer": "ipython3",
   "version": "3.6.4"
  }
 },
 "nbformat": 4,
 "nbformat_minor": 2
}
