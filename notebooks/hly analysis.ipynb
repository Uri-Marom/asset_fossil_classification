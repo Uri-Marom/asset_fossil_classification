{
 "cells": [
  {
   "cell_type": "markdown",
   "id": "fbde2469",
   "metadata": {},
   "source": [
    "# Load env and files"
   ]
  },
  {
   "cell_type": "code",
   "execution_count": 1,
   "id": "8b2ccf84",
   "metadata": {},
   "outputs": [],
   "source": [
    "import os\n",
    "os.chdir('..')"
   ]
  },
  {
   "cell_type": "code",
   "execution_count": 2,
   "id": "73bc007f",
   "metadata": {},
   "outputs": [],
   "source": [
    "%load_ext autoreload\n",
    "%autoreload 2"
   ]
  },
  {
   "cell_type": "code",
   "execution_count": 3,
   "id": "1b0280a1",
   "metadata": {},
   "outputs": [],
   "source": [
    "from fossil_classification import *\n",
    "from enrich_holdings import *\n",
    "from reports_etl import *\n",
    "from holdings_analysis import *\n",
    "\n",
    "pd.set_option('display.max_columns', None)\n",
    "pd.set_option('display.max_rows', None)\n",
    "pd.options.display.float_format = \"{:,.3f}\".format"
   ]
  },
  {
   "cell_type": "code",
   "execution_count": 4,
   "id": "611a11c6",
   "metadata": {},
   "outputs": [
    {
     "name": "stdout",
     "output_type": "stream",
     "text": [
      ".py file last modified: 2022-09-28 17:22:01.137817\n"
     ]
    }
   ],
   "source": [
    "last_updated()"
   ]
  },
  {
   "cell_type": "code",
   "execution_count": 5,
   "id": "ba0fbeb5",
   "metadata": {},
   "outputs": [
    {
     "name": "stdout",
     "output_type": "stream",
     "text": [
      "Number of reports included in response.json: 619\n"
     ]
    }
   ],
   "source": [
    "response_path = \"data/downloaded reports/hly/2022Q3/\"\n",
    "reports = get_reports_from_response(response_path)"
   ]
  },
  {
   "cell_type": "markdown",
   "id": "e8314073",
   "metadata": {},
   "source": [
    "# Filter specific reports for download and processing"
   ]
  },
  {
   "cell_type": "code",
   "execution_count": 10,
   "id": "de2666f9",
   "metadata": {
    "scrolled": true
   },
   "outputs": [
    {
     "data": {
      "text/plain": [
       "אינפיניטי השתלמות, גמל ופנסיה בע\"מ       3\n",
       "סלייס גמל בע\"מ                           3\n",
       "הראל פנסיה וגמל בע\"מ                     3\n",
       "מגדל מקפת קרנות פנסיה וקופות גמל בע\"מ    3\n",
       "מור גמל ופנסיה בע\"מ                      3\n",
       "אנליסט קופות גמל בע\"מ                    3\n",
       "מנורה מבטחים פנסיה וגמל בע\"מ             3\n",
       "מיטב גמל ופנסיה בע\"מ                     3\n",
       "אלטשולר שחם גמל ופנסיה בע\"מ              3\n",
       "הפניקס פנסיה וגמל בע\"מ                   3\n",
       "Name: ParentCorpName, dtype: int64"
      ]
     },
     "execution_count": 10,
     "metadata": {},
     "output_type": "execute_result"
    }
   ],
   "source": [
    "hly_reports = reports[\n",
    "    (reports[\"Name\"].str.contains(\"ילד\"))\n",
    "    &\n",
    "    (~(reports[\"Name\"].str.contains(\"הלכה|שריעה\")))\n",
    "]\n",
    "\n",
    "hly_reports[\"ParentCorpName\"].value_counts()"
   ]
  },
  {
   "cell_type": "markdown",
   "id": "621e8c57",
   "metadata": {},
   "source": [
    "## download selected reports"
   ]
  },
  {
   "cell_type": "code",
   "execution_count": 12,
   "id": "225e8273",
   "metadata": {},
   "outputs": [
    {
     "name": "stdout",
     "output_type": "stream",
     "text": [
      "Downloading file 30 out of 30\r"
     ]
    }
   ],
   "source": [
    "download_reports(hly_reports, response_path, sleep=3)"
   ]
  },
  {
   "cell_type": "code",
   "execution_count": 12,
   "id": "79bb0aef",
   "metadata": {},
   "outputs": [
    {
     "name": "stdout",
     "output_type": "stream",
     "text": [
      "(25075, 42)\n"
     ]
    }
   ],
   "source": [
    "hly_holdings = all_holdings_cls[\n",
    "    all_holdings_cls[\"Name\"].str.contains(\"ילד\")\n",
    "]\n",
    "print(hly_holdings.shape)\n",
    "hly_holdings.head()\n",
    "\n",
    "hly_holdings.to_csv(\"hly_holdings.csv\")"
   ]
  },
  {
   "cell_type": "code",
   "execution_count": null,
   "id": "8584acae",
   "metadata": {},
   "outputs": [],
   "source": []
  }
 ],
 "metadata": {
  "kernelspec": {
   "display_name": "Python 3 (ipykernel)",
   "language": "python",
   "name": "python3"
  },
  "language_info": {
   "codemirror_mode": {
    "name": "ipython",
    "version": 3
   },
   "file_extension": ".py",
   "mimetype": "text/x-python",
   "name": "python",
   "nbconvert_exporter": "python",
   "pygments_lexer": "ipython3",
   "version": "3.9.12"
  }
 },
 "nbformat": 4,
 "nbformat_minor": 5
}
