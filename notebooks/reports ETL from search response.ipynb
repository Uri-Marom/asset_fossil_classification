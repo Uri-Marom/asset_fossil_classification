{
 "cells": [
  {
   "cell_type": "markdown",
   "metadata": {},
   "source": [
    "# Load env"
   ]
  },
  {
   "cell_type": "code",
   "execution_count": 1,
   "metadata": {},
   "outputs": [],
   "source": [
    "import os\n",
    "os.chdir('..')"
   ]
  },
  {
   "cell_type": "code",
   "execution_count": 2,
   "metadata": {},
   "outputs": [],
   "source": [
    "%load_ext autoreload\n",
    "%autoreload 2"
   ]
  },
  {
   "cell_type": "code",
   "execution_count": 3,
   "metadata": {},
   "outputs": [],
   "source": [
    "import sys\n",
    "import importlib\n",
    "import gspread # stopped working\n",
    "from reports_etl import *\n",
    "from enrich_holdings import *\n",
    "from fossil_classification import *\n",
    "from holdings_analysis import *\n",
    "pd.set_option('display.max_columns', None)\n",
    "pd.set_option('display.max_rows', None)\n",
    "pd.options.display.float_format = \"{:,.2f}\".format"
   ]
  },
  {
   "cell_type": "code",
   "execution_count": 4,
   "metadata": {},
   "outputs": [
    {
     "name": "stdout",
     "output_type": "stream",
     "text": [
      ".py file last modified: 2023-09-27 19:42:35.934350\n"
     ]
    }
   ],
   "source": [
    "last_updated()"
   ]
  },
  {
   "cell_type": "code",
   "execution_count": 5,
   "metadata": {},
   "outputs": [],
   "source": [
    "# from platform import python_version\n",
    "\n",
    "# print(python_version())"
   ]
  },
  {
   "cell_type": "markdown",
   "metadata": {},
   "source": [
    "# Bulk download reports\n",
    "Using the http response recorded while searching for reports here:\n",
    "https://employersinfocmp.cma.gov.il/#/publicreports"
   ]
  },
  {
   "cell_type": "code",
   "execution_count": 6,
   "metadata": {},
   "outputs": [],
   "source": [
    "# deprecated - moved to using response directly\n",
    "\n",
    "# get reports from response.json search results\n",
    "# reports_path = \"data/downloaded reports/company reports/2022Q4/\"\n",
    "# reports_path = \"data/downloaded reports/fund reports/2020Q1/\"\n",
    "# reports = get_reports_from_response(reports_path)"
   ]
  },
  {
   "cell_type": "markdown",
   "metadata": {},
   "source": [
    "## getting response directly from the reports website"
   ]
  },
  {
   "cell_type": "code",
   "execution_count": 7,
   "metadata": {},
   "outputs": [],
   "source": [
    "from_year = '2023'\n",
    "from_q = '3'"
   ]
  },
  {
   "cell_type": "markdown",
   "metadata": {},
   "source": [
    "# Fund Reports"
   ]
  },
  {
   "cell_type": "code",
   "execution_count": null,
   "metadata": {},
   "outputs": [],
   "source": [
    "reports_path = \"data/downloaded reports/fund reports/\" + from_year + \"Q\" + from_q + \"/\"\n",
    "# bituach, gemel, pension\n",
    "report_types = ['71100072', '71100076', '71100075']"
   ]
  },
  {
   "cell_type": "markdown",
   "metadata": {},
   "source": [
    "# Company Reports"
   ]
  },
  {
   "cell_type": "code",
   "execution_count": 8,
   "metadata": {},
   "outputs": [],
   "source": [
    "reports_path = \"data/downloaded reports/company reports/\" + from_year + \"Q\" + from_q + \"/\"\n",
    "# bituach, gemel, pension\n",
    "report_types = ['71100071', '71100073', '71100074']"
   ]
  },
  {
   "cell_type": "code",
   "execution_count": 9,
   "metadata": {},
   "outputs": [
    {
     "name": "stdout",
     "output_type": "stream",
     "text": [
      "number of reports for 2023 q3 until 2023 q3: 7\n",
      "number of reports for 2023 q3 until 2023 q3: 47\n",
      "number of reports for 2023 q3 until 2023 q3: 11\n"
     ]
    }
   ],
   "source": [
    "reports = pd.DataFrame()\n",
    "for rt in report_types:\n",
    "    add_reports = get_report_data_into_data_frame(\n",
    "        from_year = from_year,\n",
    "        from_q = from_q,\n",
    "        to_year = from_year,\n",
    "        to_q = from_q,\n",
    "        report_type = rt,\n",
    "        system = \"\",\n",
    "        )\n",
    "    reports = pd.concat([reports, add_reports], axis=0, ignore_index=True)"
   ]
  },
  {
   "cell_type": "code",
   "execution_count": 10,
   "metadata": {},
   "outputs": [],
   "source": [
    "reports.loc[reports[\"SystemName\"] == 'חיים ואובדן כושר עבודה', \"SystemName\"] = 'ביטוח'"
   ]
  },
  {
   "cell_type": "code",
   "execution_count": null,
   "metadata": {},
   "outputs": [],
   "source": [
    "reports.to_csv(reports_path + \"reports.csv\", index=False)"
   ]
  },
  {
   "cell_type": "code",
   "execution_count": null,
   "metadata": {
    "scrolled": false
   },
   "outputs": [],
   "source": [
    "reports.groupby(\"SystemName\").size()\n",
    "reports.head()"
   ]
  },
  {
   "cell_type": "markdown",
   "metadata": {},
   "source": [
    "## Check for missing fund reports"
   ]
  },
  {
   "cell_type": "code",
   "execution_count": null,
   "metadata": {},
   "outputs": [],
   "source": [
    "json_keyfile_name = '../keys/israeli-fossil-holdings-db-03b783f17e5f.json'\n",
    "\n",
    "gc = gspread.service_account(json_keyfile_name)"
   ]
  },
  {
   "cell_type": "code",
   "execution_count": null,
   "metadata": {},
   "outputs": [],
   "source": [
    "gss_url = \"https://docs.google.com/spreadsheets/d/1XyJtEGtlFNsbIzCOHnfakiFOjtXXrn4jobHeu79IbRc\"\n",
    "add_document_ids_to_all_sheets(gc, gss_url, reports)"
   ]
  },
  {
   "cell_type": "code",
   "execution_count": null,
   "metadata": {},
   "outputs": [],
   "source": [
    "# reports[\n",
    "#     reports[\"DocumentId\"] == 2308537\n",
    "# ]\n",
    "# reports.head()"
   ]
  },
  {
   "cell_type": "code",
   "execution_count": null,
   "metadata": {},
   "outputs": [],
   "source": [
    "# filter specific reports for quick analysis\n",
    "# reports = reports[reports[\"ParentCorpName\"].str.startswith(\"מגדל\")]"
   ]
  },
  {
   "cell_type": "code",
   "execution_count": null,
   "metadata": {
    "scrolled": true
   },
   "outputs": [],
   "source": [
    "reports[\n",
    "    reports[\"ProductNum\"].isin(reports.groupby(\"ProductNum\").size().loc[lambda x: x>1].index)\n",
    "]"
   ]
  },
  {
   "cell_type": "markdown",
   "metadata": {},
   "source": [
    "## download reports"
   ]
  },
  {
   "cell_type": "code",
   "execution_count": null,
   "metadata": {},
   "outputs": [],
   "source": [
    "# wrap with try, loop until no more files left\n",
    "import glob\n",
    "from pathlib import Path\n",
    "\n",
    "# download missing files\n",
    "downloaded = [Path(path).stem for path in glob.glob(reports_path + \"*.xls*\")]\n",
    "print(\"already downloaded {} out of {}\".format(len(downloaded), len(reports)))\n",
    "\n",
    "reports_to_download = reports[\n",
    "    ~reports[\"DocumentId\"].astype('str').isin(downloaded)\n",
    "]\n",
    "\n",
    "len(reports_to_download)"
   ]
  },
  {
   "cell_type": "code",
   "execution_count": null,
   "metadata": {},
   "outputs": [],
   "source": [
    "# download reports - run only once per response\n",
    "download_reports(reports_to_download, reports_path, sleep=3)"
   ]
  },
  {
   "cell_type": "markdown",
   "metadata": {},
   "source": [
    "# Process multiple reports -> unified file"
   ]
  },
  {
   "cell_type": "code",
   "execution_count": null,
   "metadata": {},
   "outputs": [],
   "source": [
    "reports_fn_list = get_filename_list(reports_path)"
   ]
  },
  {
   "cell_type": "markdown",
   "metadata": {},
   "source": [
    "## Pre-process - check sheet names and column names, add to standardization if needed"
   ]
  },
  {
   "cell_type": "code",
   "execution_count": null,
   "metadata": {},
   "outputs": [],
   "source": [
    "pre_process_reports(reports_fn_list)"
   ]
  },
  {
   "cell_type": "markdown",
   "metadata": {},
   "source": [
    "## Debugging problematic reports"
   ]
  },
  {
   "cell_type": "code",
   "execution_count": null,
   "metadata": {},
   "outputs": [],
   "source": [
    "# fn = reports_path + \"2391836.xlsx\"\n",
    "# fn = \"/Users/urimarom/Downloads/513621110_psum_p422_1.xlsx\"\n",
    "# report = pd.read_excel(fn, sheet_name=2)\n",
    "\n",
    "# from xlrd import open_workbook, XLRDError\n",
    "# book = open_workbook(fn)"
   ]
  },
  {
   "cell_type": "code",
   "execution_count": null,
   "metadata": {},
   "outputs": [],
   "source": [
    "# TODO: look into reports with errors. some excel files get 'TypeError'\n",
    "# fn = reports_path + \"2287555.xlsx\"\n",
    "# report = pd.read_excel(fn)"
   ]
  },
  {
   "cell_type": "markdown",
   "metadata": {},
   "source": [
    "# process holding reports\n",
    "1. summary sheets (for verification)\n",
    "2. holding sheets - raw data"
   ]
  },
  {
   "cell_type": "markdown",
   "metadata": {},
   "source": [
    "## 1. summary sheets"
   ]
  },
  {
   "cell_type": "code",
   "execution_count": null,
   "metadata": {},
   "outputs": [],
   "source": [
    "all_summary_sheets = process_summary_sheets(reports_fn_list)"
   ]
  },
  {
   "cell_type": "code",
   "execution_count": null,
   "metadata": {},
   "outputs": [],
   "source": [
    "totals = get_totals(all_summary_sheets)"
   ]
  },
  {
   "cell_type": "code",
   "execution_count": null,
   "metadata": {},
   "outputs": [],
   "source": [
    "totals[\"sum_num\"].sum()"
   ]
  },
  {
   "cell_type": "markdown",
   "metadata": {},
   "source": [
    "## 2. Holdings"
   ]
  },
  {
   "cell_type": "code",
   "execution_count": null,
   "metadata": {},
   "outputs": [],
   "source": [
    "# extract all holdings from reports\n",
    "all_holdings_clean = clean_holdings(extract_holdings(reports_fn_list))"
   ]
  },
  {
   "cell_type": "markdown",
   "metadata": {},
   "source": [
    "# add fund and company data to holdings"
   ]
  },
  {
   "cell_type": "code",
   "execution_count": null,
   "metadata": {},
   "outputs": [],
   "source": [
    "## Manually add missing corps to reports - only if needed, for funds processing\n",
    "missing_corps = pd.DataFrame(columns=reports.columns)\n",
    "missing_corps = missing_corps.append({'SystemName': 'חיים ואובדן כושר עבודה',\n",
    "                                      'ParentCorpName': 'מנורה מבטחים ביטוח בע\"מ',\n",
    "                                      'ParentCorpLegalId': '520042540',\n",
    "                                      'ReportPeriodDesc': ''\n",
    "                                     }, ignore_index=True)\n",
    "# missing_corps = missing_corps.append({'SystemName': 'חיים ואובדן כושר עבודה',\n",
    "#                                       'ParentCorpName': 'כלל חברה לביטוח בע\"מ',\n",
    "#                                       'ParentCorpLegalId': '520024647',\n",
    "#                                       'ReportPeriodDesc': ''\n",
    "#                                      }, ignore_index=True)\n",
    "\n",
    "# add infinity\n",
    "# missing_corps = missing_corps.append({'SystemName': 'גמל',\n",
    "#                                       'ParentCorpName': 'אינפיניטי השתלמות, גמל ופנסיה בע\"מ',\n",
    "#                                       'ParentCorpLegalId': '513621110',\n",
    "#                                       'ReportPeriodDesc': ''\n",
    "#                                      }, ignore_index=True)\n",
    "\n",
    "missing_corps = missing_corps.append({'SystemName': 'חיים ואובדן כושר עבודה',\n",
    "                                      'ParentCorpName': 'הפניקס חברה לביטוח בע\"מ',\n",
    "                                      'ParentCorpLegalId': '520023185',\n",
    "                                      'ReportPeriodDesc': ''\n",
    "                                     }, ignore_index=True)\n",
    "\n",
    "reports = reports.append(missing_corps)"
   ]
  },
  {
   "cell_type": "code",
   "execution_count": null,
   "metadata": {},
   "outputs": [],
   "source": [
    "all_holdings_final = add_report_data(all_holdings_clean, reports)"
   ]
  },
  {
   "cell_type": "markdown",
   "metadata": {},
   "source": [
    "# Compare totals from summary sheets with totals from holdings"
   ]
  },
  {
   "cell_type": "code",
   "execution_count": null,
   "metadata": {},
   "outputs": [],
   "source": [
    "print(\"total from summary sheets: {:,.2f}\".format(totals[\"sum_num\"].sum()))\n",
    "print(\"total from holdings sheets: {:,.2f}\".format(all_holdings_final[\"שווי\"].sum()))\n",
    "print(\"diff: {:,.2f}\".format(totals[\"sum_num\"].sum() - all_holdings_final[\"שווי\"].sum()))"
   ]
  },
  {
   "cell_type": "code",
   "execution_count": null,
   "metadata": {},
   "outputs": [],
   "source": [
    "totals_from_holdings = all_holdings_final.groupby([\"report_id\", \"ParentCorpName\"])[[\"שווי\"]].sum().reset_index()\n",
    "totals_from_holdings.index = totals_from_holdings.index.astype('str')"
   ]
  },
  {
   "cell_type": "code",
   "execution_count": null,
   "metadata": {
    "scrolled": true
   },
   "outputs": [],
   "source": [
    "totals_comparison = totals_from_holdings.merge(totals,\n",
    "                                               on='report_id',\n",
    "                                               how='outer'\n",
    "                                              )\n",
    "\n",
    "totals_comparison[\"diff\"] = totals_comparison[\"sum_num\"] - totals_comparison[\"שווי\"]\n",
    "totals_comparison[\"diff_pct\"] = abs(totals_comparison[\"diff\"] * 100.00 /  totals_comparison[\"שווי\"])\n",
    "totals_comparison[abs(totals_comparison[\"diff\"]) > 1].sort_values(\"diff_pct\", ascending=False)"
   ]
  },
  {
   "cell_type": "code",
   "execution_count": null,
   "metadata": {},
   "outputs": [],
   "source": [
    "# TODO: add comparison by holding type (summary vs. sheets)\n",
    "# report drill down\n",
    "report_id = '2566737'\n",
    "def report_sums_by_type(report_id):\n",
    "    rep = all_holdings_final[all_holdings_final[\"report_id\"] == report_id]\n",
    "    print(\"total sum by holdings: {:,.2f}\".format(rep[\"שווי\"].sum()))\n",
    "    return pd.DataFrame(rep.groupby(\"holding_type\")[\"שווי\"].agg('sum').map('{:,.2f}'.format))\n",
    "    \n",
    "report_sums_by_type(report_id)"
   ]
  },
  {
   "cell_type": "code",
   "execution_count": null,
   "metadata": {},
   "outputs": [],
   "source": [
    "# trying to clean asset type so summary sheets can be joined with holding totals (clean to holding type)\n",
    "\n",
    "# def clean_asset_type(summary_sheets, report_id):\n",
    "#     summary_sheets = summary_sheets[summary_sheets[\"report_id\"] == report_id]\n",
    "#     nan_locs = (summary_sheets[\"sum\"].isnull())\n",
    "#     non_tradeable_heading_loc = summary_sheets[\"asset\"].str.contains(\"לא סחיר\").idxmax()\n",
    "#     tradable = (~summary_sheets[\"asset\"].str.contains(\"לא סחיר\")) & (summary_sheets[\"asset\"].str.contains(\"סחיר\"))\n",
    "#     tradable_heading_loc = tradable.idxmax()\n",
    "#     tradable_min_loc = tradable_heading_loc + 1\n",
    "#     tradable_max_loc = nan_locs.iloc[tradable_min_loc:].idxmax() - 1\n",
    "#     print(\"tradable_min_loc: {}, tradable_max_loc: {}\").format(non_tradeable_heading_loc, non_tradeable_heading_loc)\n",
    "#     return non_tradeable_heading_loc\n",
    "# # summary_sheets.iloc[tradable_min_loc:tradable_max_loc], summary_sheets.iloc[tradable_heading_loc]\n",
    "    \n",
    "\n",
    "\n",
    "# clean_asset_type(all_summary_sheets, report_id)"
   ]
  },
  {
   "cell_type": "code",
   "execution_count": null,
   "metadata": {},
   "outputs": [],
   "source": [
    "all_summary_sheets[\n",
    "    all_summary_sheets[\"report_id\"] == report_id\n",
    "]"
   ]
  },
  {
   "cell_type": "markdown",
   "metadata": {},
   "source": [
    "### totals discrepancies\n",
    "<u>2021Q2</u><br>\n",
    "* In report 2128339 - there's a redundant line in נדלן, consider removing manually when all files for Q3 are here - removing\n",
    "* In report 2153994 - the holdings in מזומנים are mostly missing. adding an artificial row. (הפניקס)\n",
    "* In report 2146293 - the value of holdings in לא סחיר - אג\"ח קונצרני are way off. leaving as is for now.\n",
    "\n",
    "<u>2021Q3</u>\n",
    "* 2148642 - missing exactly 10000 in מזומנים. leaving as is.\n",
    "* 2148994 - dropped a line in הלוואות withno security number. not fixing for now.\n",
    "\n",
    "<u>2021Q3</u>\n",
    "* 2222108 - the holdings in מזומנים are mostly missing. adding an artificial row. (הפניקס)\n",
    "\n",
    "<u>2022Q1</u>\n",
    "* 2235319 - נדלן. לא תוקן (לא משתתף במדרג)\n",
    "* 2260140 - הפניקס פנסיה. הבדלים במזומנים. משאיר ככה כרגע.\n",
    "* 2256493 - missing one holding in mutual funds, 50M\n",
    "\n",
    "<u>2022Q2</u>\n",
    "* 2308537 - הפניקס פנסיה. הבדלים במזומנים. משאיר ככה כרגע.\n",
    "\n",
    "<u>2022Q4</u>\n",
    "* 2409834 - הפניקס פנסיה - הבדלים במזומנים. הוספתי שורה לתיקון.\n",
    "\n",
    "<u>2023Q1</u>\n",
    "* 2468588, 2469774 - הפניקס - הבדלים במזומנים. **לא** הוספתי שורה לתיקון.\n",
    "\n",
    "<u>2023Q2</u>\n",
    "* 2522484 - הפניקס - הבדלים במזומנים. הוספתי שורה לתיקון.\n",
    "\n",
    "<u>2023Q3</u>\n",
    "* 2566737 - הפניקס - הבדלים במזומנים. הוספתי שורה לתיקון.\n",
    "\n"
   ]
  },
  {
   "cell_type": "markdown",
   "metadata": {},
   "source": [
    "## Removing redundant rows"
   ]
  },
  {
   "cell_type": "code",
   "execution_count": null,
   "metadata": {},
   "outputs": [],
   "source": [
    "# remove_rows = (\n",
    "#     (all_holdings_final[\"report_id\"] == '2128339') &\n",
    "#     (all_holdings_final[\"holding_type\"] == 'זכויות מקרקעין') &\n",
    "#     (all_holdings_final[\"שעור מנכסי אפיק ההשקעה\"] == 1)\n",
    "# )\n",
    "\n",
    "all_holdings_final = all_holdings_final.drop(all_holdings_final[remove_rows].index, axis=0)\n",
    "\n",
    "# all_holdings_final.groupby(\"report_id\").filter(\n",
    "#     lambda x: x[\"שעור מנכסי אפיק ההשקעה\"].sum() > 1\n",
    "# ).head()"
   ]
  },
  {
   "cell_type": "markdown",
   "metadata": {},
   "source": [
    "## Adding missing rows"
   ]
  },
  {
   "cell_type": "markdown",
   "metadata": {},
   "source": [
    "## add rows for missing cash by total sheet"
   ]
  },
  {
   "cell_type": "code",
   "execution_count": null,
   "metadata": {},
   "outputs": [],
   "source": [
    "# adding a row for report 2153994, to compensate for missing holding values\n",
    "report_ids_cash_fix = ['2566737']\n",
    "\n",
    "def cash_sum_fix_row(report_id):\n",
    "    total_from_summary = all_summary_sheets[\n",
    "        (all_summary_sheets[\"report_id\"] == report_id) &\n",
    "        (all_summary_sheets[\"asset\"]).str.contains('מזומנים')\n",
    "    ][\"sum_num\"]\n",
    "\n",
    "    holdings_to_fix = all_holdings_final[\n",
    "        (all_holdings_final[\"report_id\"] == report_id) &\n",
    "        (all_holdings_final[\"holding_type\"] == 'מזומנים')\n",
    "    ]\n",
    "\n",
    "    total_from_holdings = holdings_to_fix[\"שווי\"].sum()\n",
    "\n",
    "    # calculate sum and pct to be added\n",
    "    to_be_added_sum = float(total_from_summary) - float(total_from_holdings)\n",
    "    to_be_added_pct = 1 - holdings_to_fix[\"שעור מנכסי אפיק ההשקעה\"].sum()\n",
    "    to_be_added_pct_of_report = float(to_be_added_sum) / float(totals[totals[\"report_id\"] == report_id][\"sum_num\"])\n",
    "\n",
    "    # prepare new row - take the highest amount row as base and edit it\n",
    "    new_row = holdings_to_fix.sort_values(\"שווי\", ascending=False).head(1)\n",
    "    new_row[\"שם המנפיק/שם נייר ערך\"] = \"unknown - added to match sum\"\n",
    "    new_row['שווי'] = to_be_added_sum\n",
    "    new_row['שעור מנכסי אפיק ההשקעה'] = to_be_added_pct\n",
    "    new_row['שעור מסך נכסי השקעה'] = to_be_added_pct_of_report\n",
    "\n",
    "    for col in ['מספר ני\"ע', 'מספר מנפיק', 'דירוג', 'שם מדרג', 'סוג מטבע']:\n",
    "        new_row[col] = None\n",
    "\n",
    "    print(\"adding row: \")\n",
    "    print(new_row)\n",
    "    # adding the artificial row\n",
    "    return new_row\n",
    "\n",
    "for report_id in report_ids_cash_fix:\n",
    "    all_holdings_final = all_holdings_final.append(cash_sum_fix_row(report_id))"
   ]
  },
  {
   "cell_type": "code",
   "execution_count": null,
   "metadata": {},
   "outputs": [],
   "source": [
    "# all_holdings_final[\n",
    "#     (all_holdings_final[\"ParentCorpName\"].str.startswith(\"אינפיניטי\")) &\n",
    "#     (all_holdings_final[\"SystemName\"] == 'גמל')\n",
    "# ].head()\n",
    "\n",
    "all_holdings_final.groupby(\"report_id\")[[\"שווי\"]].sum().reset_index()"
   ]
  },
  {
   "cell_type": "code",
   "execution_count": null,
   "metadata": {},
   "outputs": [],
   "source": [
    "all_holdings_final.to_csv(reports_path+\"all_holdings.csv\", index=False)"
   ]
  },
  {
   "cell_type": "code",
   "execution_count": null,
   "metadata": {},
   "outputs": [],
   "source": [
    "### uncomment when running on fund reports ###\n",
    "# all_holdings_ever = all_holdings_final"
   ]
  },
  {
   "cell_type": "markdown",
   "metadata": {},
   "source": [
    "## Export file for classification"
   ]
  },
  {
   "cell_type": "code",
   "execution_count": null,
   "metadata": {},
   "outputs": [],
   "source": [
    "cols_for_cls = [\n",
    "    'שם המנפיק/שם נייר ערך', 'מספר ני\"ע', 'מספר מנפיק',\n",
    "    'שווי' ,'שעור מנכסי אפיק ההשקעה', 'שעור מסך נכסי השקעה', \n",
    "       'holding_type', 'זירת מסחר', 'תאריך רכישה', 'ערך נקוב', 'שער','שעור מערך נקוב מונפק',\n",
    "       'ענף מסחר',\n",
    "       'SystemName', 'ParentCorpName', 'ReportPeriodDesc'\n",
    "]\n",
    "\n",
    "holdings_for_cls = all_holdings_final[\n",
    "    all_holdings_final[\"holding_type\"].isin(['מניות', 'אג\"ח קונצרני'])\n",
    "]\n",
    "\n",
    "holdings_for_cls[cols_for_cls].to_csv(reports_path+\"holdings_for_cls.csv\", index=False)"
   ]
  },
  {
   "cell_type": "code",
   "execution_count": null,
   "metadata": {
    "scrolled": true
   },
   "outputs": [],
   "source": [
    "# holdings_for_cls[\n",
    "#     (holdings_for_cls['מספר ני\"ע'].astype(str) == '11616780')\n",
    "# ]"
   ]
  },
  {
   "cell_type": "markdown",
   "metadata": {},
   "source": [
    "## add new processed holdings to all_holdings file"
   ]
  },
  {
   "cell_type": "code",
   "execution_count": null,
   "metadata": {},
   "outputs": [],
   "source": [
    "fetch_all_holdings_path()"
   ]
  },
  {
   "cell_type": "code",
   "execution_count": null,
   "metadata": {},
   "outputs": [],
   "source": [
    "# reload results from file\n",
    "all_holdings_path = fetch_all_holdings_path()\n",
    "new_holdings_path = reports_path+\"all_holdings.csv\"\n",
    "all_holdings_ever = concat_from_csv_by_path(all_holdings_path, new_holdings_path)\n",
    "\n",
    "pd.DataFrame(all_holdings_ever.groupby(['ReportPeriodDesc'])['שווי'].agg('sum').map('{:,.2f}'.format))"
   ]
  },
  {
   "cell_type": "code",
   "execution_count": null,
   "metadata": {},
   "outputs": [],
   "source": [
    "# update all holdings file - only for companies! - handle with care\n",
    "# TODO: add backup process\n",
    "all_holdings_ever.to_csv(fetch_all_holdings_path(), index=False)"
   ]
  },
  {
   "cell_type": "markdown",
   "metadata": {},
   "source": [
    "<h1><center>*** END OF PART 1 ***</center></h1>"
   ]
  },
  {
   "cell_type": "markdown",
   "metadata": {},
   "source": [
    "# Validate holdings file"
   ]
  },
  {
   "cell_type": "code",
   "execution_count": null,
   "metadata": {},
   "outputs": [],
   "source": [
    "q_year = from_year + ' רבעון ' + from_q\n",
    "print(q_year)\n",
    "all_holdings_curr_q = all_holdings_ever[all_holdings_ever[\"ReportPeriodDesc\"] == q_year]\n",
    "# pd.DataFrame(all_holdings_curr_q.groupby(['SystemName', 'ParentCorpName', 'report_id'])['שווי'].agg('sum').map('{:,.2f}'.format))\n",
    "pd.DataFrame(all_holdings_curr_q.groupby(['ParentCorpName'])['שווי'].agg('sum').map('{:,.2f}'.format))"
   ]
  },
  {
   "cell_type": "markdown",
   "metadata": {},
   "source": [
    "## Look for missing company reports"
   ]
  },
  {
   "cell_type": "code",
   "execution_count": null,
   "metadata": {},
   "outputs": [],
   "source": [
    "reports_cnt = pd.DataFrame(all_holdings_ever.groupby(['SystemName', 'ParentCorpName', 'ParentCorpLegalId'])['ReportPeriodDesc'].nunique().reset_index())\n",
    "period_cnt = all_holdings_ever[\"ReportPeriodDesc\"].nunique()\n",
    "\n",
    "companies_with_missing_reports = reports_cnt[reports_cnt[\"ReportPeriodDesc\"] < period_cnt]"
   ]
  },
  {
   "cell_type": "code",
   "execution_count": null,
   "metadata": {},
   "outputs": [],
   "source": [
    "available_reports_periods = pd.DataFrame(all_holdings_ever.groupby(['SystemName', 'ParentCorpName', 'ParentCorpLegalId', 'ReportPeriodDesc'])['שווי'].sum()).reset_index()\n",
    "companies_w_missing_reports_available_reports = pd.merge(\n",
    "    companies_with_missing_reports[['ParentCorpLegalId', 'SystemName']],\n",
    "    available_reports_periods,\n",
    "    on = ['ParentCorpLegalId', 'SystemName'],\n",
    "    how=\"inner\"\n",
    ")\n",
    "companies_w_missing_reports_available_reports.sort_values(['ParentCorpName', 'SystemName', 'ReportPeriodDesc'])"
   ]
  },
  {
   "cell_type": "markdown",
   "metadata": {},
   "source": [
    "Located missing reports for major companies, manually downloaded"
   ]
  },
  {
   "cell_type": "markdown",
   "metadata": {},
   "source": [
    "## Look for missing fund reports"
   ]
  },
  {
   "cell_type": "markdown",
   "metadata": {},
   "source": [
    "### 1. Using company reports"
   ]
  },
  {
   "cell_type": "code",
   "execution_count": null,
   "metadata": {},
   "outputs": [],
   "source": [
    "quarter = '2022Q1'\n",
    "funds_path = \"data/downloaded reports/fund reports \" + quarter + \"/all_holdings.csv\"\n",
    "company_path = \"data/downloaded reports/company reports \" + quarter + \"/all_holdings.csv\"\n",
    "\n",
    "id_dtypes={\"report_id\":str, \"ParentCorpLegalId\":str, \"ProductNum\":str}\n",
    "\n",
    "funds_holdings = pd.read_csv(funds_path, dtype=id_dtypes)\n",
    "# change חיים ואובדן כושר עבודה to ביטוח\n",
    "funds_holdings[\"SystemName\"] = funds_holdings[\"SystemName\"].str.replace(\"חיים ואובדן כושר עבודה\", \"ביטוח\")\n",
    "company_holdings = pd.read_csv(company_path, dtype=id_dtypes)"
   ]
  },
  {
   "cell_type": "code",
   "execution_count": null,
   "metadata": {},
   "outputs": [],
   "source": [
    "funds_agg = funds_holdings.groupby([\"ParentCorpName\", \"ParentCorpLegalId\", \"SystemName\"])[[\"שווי\"]].sum().reset_index()\n",
    "company_agg = company_holdings.groupby([\"ParentCorpName\", \"ParentCorpLegalId\", \"SystemName\"])[[\"שווי\"]].sum().reset_index()\n",
    "\n",
    "comparison = pd.merge(left=company_agg,\n",
    "                      right=funds_agg,\n",
    "                      how='outer',\n",
    "                      on=[\"ParentCorpLegalId\", \"SystemName\"],\n",
    "                      suffixes=['', '_funds']\n",
    "                     )\n",
    "comparison[\"ParentCorpName\"] = comparison[\"ParentCorpName\"].fillna(comparison[\"ParentCorpName_funds\"])\n",
    "comparison.drop(\"ParentCorpName_funds\", axis=1, inplace=True)\n",
    "comparison[\"sum_diff\"] = comparison[\"שווי\"] - comparison[\"שווי_funds\"]\n",
    "\n",
    "companies_missing_funds = comparison[(abs(comparison[\"sum_diff\"]) > 1) |\n",
    "                                     (comparison[\"sum_diff\"].isna())\n",
    "                                    ].sort_values(\"sum_diff\", ascending=False)\n",
    "companies_missing_funds"
   ]
  },
  {
   "cell_type": "code",
   "execution_count": null,
   "metadata": {
    "scrolled": true
   },
   "outputs": [],
   "source": [
    "funds_agg_by_product = funds_holdings.groupby([\n",
    "    \"ParentCorpName\",\n",
    "    \"SystemName\",\n",
    "    \"ProductNum\",\n",
    "    \"ShortName\",\n",
    "    \"report_id\",\n",
    "    \"ParentCorpLegalId\"\n",
    "], dropna=False)[[\"שווי\"]].sum().reset_index()\n",
    "\n",
    "pd.merge(left=companies_missing_funds,\n",
    "         right=funds_agg_by_product,\n",
    "         how='left',\n",
    "         on=['ParentCorpLegalId', \"SystemName\"]\n",
    "        )\n",
    "# .sort_values([\"sum_diff\", \"ProductNum\"], ascending=False)"
   ]
  },
  {
   "cell_type": "markdown",
   "metadata": {},
   "source": [
    "### 2. using pensia-net, bituach-net, gemel-net\n",
    "API calls to x-net gov site:\n",
    "https://data.gov.il/dataset/pensia-net\n"
   ]
  },
  {
   "cell_type": "code",
   "execution_count": null,
   "metadata": {
    "scrolled": true
   },
   "outputs": [],
   "source": [
    "import urllib.request as urlreq\n",
    "\n",
    "def x_net_types():\n",
    "    return {\n",
    "    \"DEPOSITS\": float,\n",
    "    \"WITHDRAWLS\": float,\n",
    "    \"INTERNAL_TRANSFERS\": float,\n",
    "    \"NET_MONTHLY_DEPOSITS\": float,\n",
    "    \"TOTAL_ASSETS\": float,\n",
    "    \"AVG_ANNUAL_MANAGEMENT_FEE\": float,\n",
    "    \"AVG_DEPOSIT_FEE\": float,\n",
    "    \"MONTHLY_YIELD\": float,\n",
    "    \"YEAR_TO_DATE_YIELD\": float,\n",
    "    \"ACTUARIAL_ADJUSTMENT\": float,\n",
    "    \"YIELD_TRAILING_3_YRS\": float, \n",
    "    \"YIELD_TRAILING_5_YRS\": float,\n",
    "    \"AVG_ANNUAL_YIELD_TRAILING_3YRS\": float,\n",
    "    \"AVG_ANNUAL_YIELD_TRAILING_5YRS\": float,\n",
    "    \"STANDARD_DEVIATION\": float,\n",
    "    \"ALPHA\": float,\n",
    "    \"SHARPE_RATIO\": float,\n",
    "    \"LIQUID_ASSETS_PERCENT\": float,\n",
    "    \"STOCK_MARKET_EXPOSURE\": float,\n",
    "    \"FOREIGN_EXPOSURE\": float,\n",
    "    \"FOREIGN_CURRENCY_EXPOSURE\": float\n",
    "}\n",
    "\n",
    "def read_from_x_net(resource_id):\n",
    "    url = 'https://data.gov.il/api/3/action/datastore_search?resource_id=' + resource_id + '&limit=32000'\n",
    "    fileobj = urlreq.urlopen(url)\n",
    "    df = pd.DataFrame(pd.read_json(fileobj)[\"result\"][\"records\"])\n",
    "    # handle dtypes\n",
    "    for c in x_net_types():\n",
    "        if c in df:\n",
    "            df[c] = df[c].astype(x_net_types()[c], errors='ignore')\n",
    "    return df\n",
    "\n",
    "pensia_net = read_from_x_net(pension_api_key)\n",
    "pensia_net['SystemName'] = 'פנסיה'\n",
    "bituach_net = read_from_x_net(bituach_api_key)\n",
    "bituach_net['SystemName'] = 'ביטוח'\n",
    "gemel_net = read_from_x_net(gemel_api_key)\n",
    "gemel_net['SystemName'] = 'גמל'\n",
    "\n",
    "x_net = pd.concat([pensia_net, bituach_net, gemel_net])"
   ]
  },
  {
   "cell_type": "code",
   "execution_count": null,
   "metadata": {},
   "outputs": [],
   "source": [
    "# leave only relevant data\n",
    "first_month_of_q = (int(quarter[-1:])) * 3 - 2\n",
    "last_month_of_q = first_month_of_q + 2\n",
    "year = quarter[0:4]\n",
    "# yearmonth = year + '0' + str(first_month_of_q)\n",
    "yearmonth = year + '0' + str(last_month_of_q)\n",
    "\n",
    "# x_net_net_first_month_of_q = x_net[x_net['REPORT_PERIOD'] == yearmonth]\n",
    "x_net_net_last_month_of_q = x_net[x_net['REPORT_PERIOD'] == yearmonth]\n",
    "\n",
    "funds = pd.merge(left=x_net_net_last_month_of_q,\n",
    "                 right=funds_agg_by_product,\n",
    "                 how='outer',\n",
    "                 left_on=['MANAGING_CORPORATION_LEGAL_ID', 'FUND_ID'],\n",
    "                 right_on=['ParentCorpLegalId', \"ProductNum\"],\n",
    "                 suffixes=['_x_net', '']\n",
    "                )\n",
    "funds[\"SystemName\"] = funds[\"SystemName\"].fillna(funds[\"SystemName_x_net\"])\n",
    "funds.drop(\"SystemName_x_net\", axis=1, inplace=True)\n",
    "pd.crosstab(funds[\"SystemName\"], funds[\"report_id\"].notnull())"
   ]
  },
  {
   "cell_type": "code",
   "execution_count": null,
   "metadata": {},
   "outputs": [],
   "source": [
    "# resources keys, updated once a year\n",
    "pension_api_key = '6d47d6b5-cb08-488b-b333-f1e717b1e1bd'\n",
    "bituach_api_key = 'c6c62cc7-fe02-4b18-8f3e-813abfbb4647'\n",
    "gemel_api_key = 'a30dcbea-a1d2-482c-ae29-8f781f5025fb'"
   ]
  },
  {
   "cell_type": "code",
   "execution_count": null,
   "metadata": {
    "scrolled": true
   },
   "outputs": [],
   "source": [
    "missing_funds = funds[(funds[\"report_id\"].isnull()) | (funds[\"FUND_ID\"].isnull())]\n",
    "missing_funds.head()"
   ]
  },
  {
   "cell_type": "code",
   "execution_count": null,
   "metadata": {},
   "outputs": [],
   "source": [
    "# aggregate x_net data per company\n",
    "funds.groupby([\"MANAGING_CORPORATION_LEGAL_ID\", \"ParentCorpName\", \"SystemName\"])[[\"TOTAL_ASSETS\", \"שווי\"]].sum()"
   ]
  },
  {
   "cell_type": "markdown",
   "metadata": {},
   "source": [
    "<h1><center>*** Add fossil classification ***</center></h1>\n",
    "Based on quarterly company level reports classification"
   ]
  },
  {
   "cell_type": "markdown",
   "metadata": {},
   "source": [
    "## get previous fossil classifications"
   ]
  },
  {
   "cell_type": "code",
   "execution_count": 11,
   "metadata": {},
   "outputs": [
    {
     "name": "stderr",
     "output_type": "stream",
     "text": [
      "/Users/urimarom/PycharmProjects/fossil_classification/reports_etl.py:617: DtypeWarning: Columns (2) have mixed types. Specify dtype option on import or set low_memory=False.\n",
      "  prev_csv = pd.read_csv(prev_cls_fn, parse_dates=['classification_date'])\n"
     ]
    },
    {
     "name": "stdout",
     "output_type": "stream",
     "text": [
      "previously classified Israeli security nums by is_fossil:\n",
      "0.00    3459\n",
      "1.00     364\n",
      "NaN      141\n",
      "Name: is_fossil, dtype: int64\n",
      "previously classified ISINs by is_fossil:\n",
      "0.00    8138\n",
      "1.00     726\n",
      "NaN        3\n",
      "Name: is_fossil, dtype: int64\n"
     ]
    }
   ],
   "source": [
    "prev_cls_fn = \"data_sources/prev_class.csv\"\n",
    "prev_by_sec_num, prev_by_ISIN = get_latest_fossil_classifications(prev_cls_fn)"
   ]
  },
  {
   "cell_type": "markdown",
   "metadata": {},
   "source": [
    "## Add is_fossil using previous classification"
   ]
  },
  {
   "cell_type": "code",
   "execution_count": null,
   "metadata": {},
   "outputs": [],
   "source": [
    "# don't run when processing fund reports\n",
    "all_holdings_ever = pd.read_csv(fetch_all_holdings_path(), dtype=str)"
   ]
  },
  {
   "cell_type": "code",
   "execution_count": null,
   "metadata": {},
   "outputs": [],
   "source": [
    "all_holdings_cls = add_fossil_classifications(all_holdings_ever, prev_by_sec_num, prev_by_ISIN)"
   ]
  },
  {
   "cell_type": "markdown",
   "metadata": {},
   "source": [
    "## directly using previous company reports\n",
    "Could be useful for fund level reports, commented out for now"
   ]
  },
  {
   "cell_type": "code",
   "execution_count": null,
   "metadata": {},
   "outputs": [],
   "source": [
    "# # TODO: using different file per holding_type for now, should change\n",
    "# q_company_report1 = pd.read_csv('/Users/urimarom/Downloads/חשיפה לפוסיליים - Q2 2021 - החזקות ישירות באגח קונצרני.csv')\n",
    "# q_company_report2 = pd.read_csv('/Users/urimarom/Downloads/חשיפה לפוסיליים - Q2 2021 - החזקות ישירות במניות.csv')\n",
    "\n",
    "# q_company_report = pd.concat([\n",
    "#     q_company_report1[['מספר ני\"ע', 'is_fossil']],\n",
    "#     q_company_report2[['מספר ני\"ע', 'is_fossil']]\n",
    "# ])\n",
    "\n",
    "# q_company_report = q_company_report.drop_duplicates(subset=['מספר ני\"ע']).set_index('מספר ני\"ע')\n",
    "# q_company_report.index = q_company_report.index.astype('str')"
   ]
  },
  {
   "cell_type": "markdown",
   "metadata": {},
   "source": [
    "# For external files"
   ]
  },
  {
   "cell_type": "code",
   "execution_count": 17,
   "metadata": {},
   "outputs": [
    {
     "data": {
      "text/html": [
       "<div>\n",
       "<style scoped>\n",
       "    .dataframe tbody tr th:only-of-type {\n",
       "        vertical-align: middle;\n",
       "    }\n",
       "\n",
       "    .dataframe tbody tr th {\n",
       "        vertical-align: top;\n",
       "    }\n",
       "\n",
       "    .dataframe thead th {\n",
       "        text-align: right;\n",
       "    }\n",
       "</style>\n",
       "<table border=\"1\" class=\"dataframe\">\n",
       "  <thead>\n",
       "    <tr style=\"text-align: right;\">\n",
       "      <th></th>\n",
       "      <th>holding_type</th>\n",
       "      <th>security_name</th>\n",
       "      <th>security_number</th>\n",
       "      <th>marketplace</th>\n",
       "      <th>issuer_number</th>\n",
       "      <th>industry</th>\n",
       "      <th>currency</th>\n",
       "      <th>face_value</th>\n",
       "      <th>market_value</th>\n",
       "      <th>fair_value</th>\n",
       "      <th>report_period_desc</th>\n",
       "      <th>product_num</th>\n",
       "      <th>product_name</th>\n",
       "      <th>system_name</th>\n",
       "      <th>parent_corp_name</th>\n",
       "      <th>parent_corp_legal_id</th>\n",
       "      <th>value</th>\n",
       "    </tr>\n",
       "  </thead>\n",
       "  <tbody>\n",
       "    <tr>\n",
       "      <th>0</th>\n",
       "      <td>non_tradable_mutual_fund</td>\n",
       "      <td>ברוש</td>\n",
       "      <td>456791</td>\n",
       "      <td>NaN</td>\n",
       "      <td>NaN</td>\n",
       "      <td>NaN</td>\n",
       "      <td>שקל חדש</td>\n",
       "      <td>1,841.64</td>\n",
       "      <td>NaN</td>\n",
       "      <td>3,190.88</td>\n",
       "      <td>2023 רבעון 2</td>\n",
       "      <td>50</td>\n",
       "      <td>הפניקס מסלול השקעה כללי</td>\n",
       "      <td>ביטוח</td>\n",
       "      <td>הפניקס חברה לביטוח בע\"מ</td>\n",
       "      <td>520023185</td>\n",
       "      <td>3,190.88</td>\n",
       "    </tr>\n",
       "    <tr>\n",
       "      <th>1</th>\n",
       "      <td>non_tradable_mutual_fund</td>\n",
       "      <td>PGEIF Finland Co-Invest</td>\n",
       "      <td>33954</td>\n",
       "      <td>NaN</td>\n",
       "      <td>NaN</td>\n",
       "      <td>NaN</td>\n",
       "      <td>אירו</td>\n",
       "      <td>2,216,120.67</td>\n",
       "      <td>NaN</td>\n",
       "      <td>12,530.76</td>\n",
       "      <td>2023 רבעון 2</td>\n",
       "      <td>50</td>\n",
       "      <td>הפניקס מסלול השקעה כללי</td>\n",
       "      <td>ביטוח</td>\n",
       "      <td>הפניקס חברה לביטוח בע\"מ</td>\n",
       "      <td>520023185</td>\n",
       "      <td>12,530.76</td>\n",
       "    </tr>\n",
       "    <tr>\n",
       "      <th>2</th>\n",
       "      <td>non_tradable_mutual_fund</td>\n",
       "      <td>Prime Green Energy Infrastructuer S.A</td>\n",
       "      <td>33938</td>\n",
       "      <td>NaN</td>\n",
       "      <td>NaN</td>\n",
       "      <td>NaN</td>\n",
       "      <td>אירו</td>\n",
       "      <td>4,885,019.09</td>\n",
       "      <td>NaN</td>\n",
       "      <td>22,736.79</td>\n",
       "      <td>2023 רבעון 2</td>\n",
       "      <td>50</td>\n",
       "      <td>הפניקס מסלול השקעה כללי</td>\n",
       "      <td>ביטוח</td>\n",
       "      <td>הפניקס חברה לביטוח בע\"מ</td>\n",
       "      <td>520023185</td>\n",
       "      <td>22,736.79</td>\n",
       "    </tr>\n",
       "    <tr>\n",
       "      <th>3</th>\n",
       "      <td>non_tradable_mutual_fund</td>\n",
       "      <td>IRIS DYNAMIC SPC - POST-FUND</td>\n",
       "      <td>33340</td>\n",
       "      <td>NaN</td>\n",
       "      <td>NaN</td>\n",
       "      <td>NaN</td>\n",
       "      <td>דולר אמריקאי</td>\n",
       "      <td>2,989,410.02</td>\n",
       "      <td>NaN</td>\n",
       "      <td>8,053.48</td>\n",
       "      <td>2023 רבעון 2</td>\n",
       "      <td>50</td>\n",
       "      <td>הפניקס מסלול השקעה כללי</td>\n",
       "      <td>ביטוח</td>\n",
       "      <td>הפניקס חברה לביטוח בע\"מ</td>\n",
       "      <td>520023185</td>\n",
       "      <td>8,053.48</td>\n",
       "    </tr>\n",
       "    <tr>\n",
       "      <th>4</th>\n",
       "      <td>non_tradable_mutual_fund</td>\n",
       "      <td>קרן נדלן   OCEANS   5</td>\n",
       "      <td>33113</td>\n",
       "      <td>NaN</td>\n",
       "      <td>NaN</td>\n",
       "      <td>NaN</td>\n",
       "      <td>דולר אמריקאי</td>\n",
       "      <td>8,876.54</td>\n",
       "      <td>NaN</td>\n",
       "      <td>251.04</td>\n",
       "      <td>2023 רבעון 2</td>\n",
       "      <td>50</td>\n",
       "      <td>הפניקס מסלול השקעה כללי</td>\n",
       "      <td>ביטוח</td>\n",
       "      <td>הפניקס חברה לביטוח בע\"מ</td>\n",
       "      <td>520023185</td>\n",
       "      <td>251.04</td>\n",
       "    </tr>\n",
       "  </tbody>\n",
       "</table>\n",
       "</div>"
      ],
      "text/plain": [
       "               holding_type                          security_name  \\\n",
       "0  non_tradable_mutual_fund                                   ברוש   \n",
       "1  non_tradable_mutual_fund                PGEIF Finland Co-Invest   \n",
       "2  non_tradable_mutual_fund  Prime Green Energy Infrastructuer S.A   \n",
       "3  non_tradable_mutual_fund           IRIS DYNAMIC SPC - POST-FUND   \n",
       "4  non_tradable_mutual_fund                  קרן נדלן   OCEANS   5   \n",
       "\n",
       "  security_number marketplace issuer_number industry      currency  \\\n",
       "0          456791         NaN           NaN      NaN       שקל חדש   \n",
       "1           33954         NaN           NaN      NaN          אירו   \n",
       "2           33938         NaN           NaN      NaN          אירו   \n",
       "3           33340         NaN           NaN      NaN  דולר אמריקאי   \n",
       "4           33113         NaN           NaN      NaN  דולר אמריקאי   \n",
       "\n",
       "    face_value  market_value  fair_value report_period_desc product_num  \\\n",
       "0     1,841.64           NaN    3,190.88       2023 רבעון 2          50   \n",
       "1 2,216,120.67           NaN   12,530.76       2023 רבעון 2          50   \n",
       "2 4,885,019.09           NaN   22,736.79       2023 רבעון 2          50   \n",
       "3 2,989,410.02           NaN    8,053.48       2023 רבעון 2          50   \n",
       "4     8,876.54           NaN      251.04       2023 רבעון 2          50   \n",
       "\n",
       "              product_name system_name         parent_corp_name  \\\n",
       "0  הפניקס מסלול השקעה כללי       ביטוח  הפניקס חברה לביטוח בע\"מ   \n",
       "1  הפניקס מסלול השקעה כללי       ביטוח  הפניקס חברה לביטוח בע\"מ   \n",
       "2  הפניקס מסלול השקעה כללי       ביטוח  הפניקס חברה לביטוח בע\"מ   \n",
       "3  הפניקס מסלול השקעה כללי       ביטוח  הפניקס חברה לביטוח בע\"מ   \n",
       "4  הפניקס מסלול השקעה כללי       ביטוח  הפניקס חברה לביטוח בע\"מ   \n",
       "\n",
       "  parent_corp_legal_id     value  \n",
       "0            520023185  3,190.88  \n",
       "1            520023185 12,530.76  \n",
       "2            520023185 22,736.79  \n",
       "3            520023185  8,053.48  \n",
       "4            520023185    251.04  "
      ]
     },
     "execution_count": 17,
     "metadata": {},
     "output_type": "execute_result"
    }
   ],
   "source": [
    "holdings_csv_path = \"/Users/urimarom/Downloads/funds_holdings_until_2023Q3.csv\"\n",
    "id_cols = [\"security_number\", \"issuer_number\", \"product_num\", \"parent_corp_legal_id\"]\n",
    "id_cols_dtype = {c:str for c in id_cols}\n",
    "holdings = pd.read_csv(holdings_csv_path, dtype=id_cols_dtype)"
   ]
  },
  {
   "cell_type": "code",
   "execution_count": 20,
   "metadata": {},
   "outputs": [
    {
     "name": "stdout",
     "output_type": "stream",
     "text": [
      "all_holdings: 2857905\n",
      "having holding number: 2857905\n",
      "without holding number: 0\n",
      "Holdings after fossil classification by Israeli security num:\n",
      "NaN     2060900\n",
      "0.00     692723\n",
      "1.00     104282\n",
      "Name: is_fossil, dtype: int64\n",
      "Holdings after fossil classification by ISIN:\n",
      "NaN     1703806\n",
      "0.00    1018757\n",
      "1.00     135342\n",
      "Name: is_fossil, dtype: int64\n",
      "total fossil sum: 232808069.96341622\n",
      "holdings count before classification: 2857905\n",
      "holdings count after classification: 2857905\n"
     ]
    }
   ],
   "source": [
    "holdings_fossil_cls = add_fossil_classifications(holdings, prev_by_sec_num, prev_by_ISIN,\n",
    "                                                 sec_num_col=\"security_number\",\n",
    "                                                 value_col=\"value\")"
   ]
  },
  {
   "cell_type": "code",
   "execution_count": 27,
   "metadata": {},
   "outputs": [],
   "source": [
    "# export for Rupin students\n",
    "holdings_fossil_cls.to_csv(\"/Users/urimarom/Downloads/funds_holdings_until_2023Q3 for Rupin.csv\", index=False)"
   ]
  },
  {
   "cell_type": "code",
   "execution_count": 26,
   "metadata": {},
   "outputs": [
    {
     "data": {
      "text/html": [
       "<div>\n",
       "<style scoped>\n",
       "    .dataframe tbody tr th:only-of-type {\n",
       "        vertical-align: middle;\n",
       "    }\n",
       "\n",
       "    .dataframe tbody tr th {\n",
       "        vertical-align: top;\n",
       "    }\n",
       "\n",
       "    .dataframe thead th {\n",
       "        text-align: right;\n",
       "    }\n",
       "</style>\n",
       "<table border=\"1\" class=\"dataframe\">\n",
       "  <thead>\n",
       "    <tr style=\"text-align: right;\">\n",
       "      <th></th>\n",
       "      <th>שווי פוסילי</th>\n",
       "      <th>value</th>\n",
       "      <th>fossil_pct</th>\n",
       "    </tr>\n",
       "    <tr>\n",
       "      <th>holding_type</th>\n",
       "      <th></th>\n",
       "      <th></th>\n",
       "      <th></th>\n",
       "    </tr>\n",
       "  </thead>\n",
       "  <tbody>\n",
       "    <tr>\n",
       "      <th>adjusted_cost_lenders_credit_line</th>\n",
       "      <td>0.00</td>\n",
       "      <td>0.00</td>\n",
       "      <td>NaN</td>\n",
       "    </tr>\n",
       "    <tr>\n",
       "      <th>adjusted_cost_non_tradable_corporate_bond</th>\n",
       "      <td>0.00</td>\n",
       "      <td>0.00</td>\n",
       "      <td>NaN</td>\n",
       "    </tr>\n",
       "    <tr>\n",
       "      <th>adjusted_cost_tradable_corporate_bond</th>\n",
       "      <td>0.00</td>\n",
       "      <td>0.00</td>\n",
       "      <td>NaN</td>\n",
       "    </tr>\n",
       "    <tr>\n",
       "      <th>cash</th>\n",
       "      <td>0.00</td>\n",
       "      <td>678,995,465.48</td>\n",
       "      <td>0.00</td>\n",
       "    </tr>\n",
       "    <tr>\n",
       "      <th>commercial_bond</th>\n",
       "      <td>43,034.28</td>\n",
       "      <td>859,426.23</td>\n",
       "      <td>0.05</td>\n",
       "    </tr>\n",
       "    <tr>\n",
       "      <th>corporate_bond</th>\n",
       "      <td>86,998,374.81</td>\n",
       "      <td>634,761,599.24</td>\n",
       "      <td>0.14</td>\n",
       "    </tr>\n",
       "    <tr>\n",
       "      <th>deposit_over_3_months</th>\n",
       "      <td>0.00</td>\n",
       "      <td>49,763,508.49</td>\n",
       "      <td>0.00</td>\n",
       "    </tr>\n",
       "    <tr>\n",
       "      <th>etf</th>\n",
       "      <td>1,379,532.28</td>\n",
       "      <td>616,948,564.77</td>\n",
       "      <td>0.00</td>\n",
       "    </tr>\n",
       "    <tr>\n",
       "      <th>future_contract</th>\n",
       "      <td>0.00</td>\n",
       "      <td>-9,245,460.71</td>\n",
       "      <td>-0.00</td>\n",
       "    </tr>\n",
       "    <tr>\n",
       "      <th>government_bond</th>\n",
       "      <td>0.00</td>\n",
       "      <td>865,163,816.52</td>\n",
       "      <td>0.00</td>\n",
       "    </tr>\n",
       "    <tr>\n",
       "      <th>loan</th>\n",
       "      <td>47,914.09</td>\n",
       "      <td>432,056,043.60</td>\n",
       "      <td>0.00</td>\n",
       "    </tr>\n",
       "    <tr>\n",
       "      <th>mutual_fund</th>\n",
       "      <td>0.00</td>\n",
       "      <td>149,905,457.54</td>\n",
       "      <td>0.00</td>\n",
       "    </tr>\n",
       "    <tr>\n",
       "      <th>non_tradable_commercial_bond</th>\n",
       "      <td>0.00</td>\n",
       "      <td>2,977,685.82</td>\n",
       "      <td>0.00</td>\n",
       "    </tr>\n",
       "    <tr>\n",
       "      <th>non_tradable_corporate_bond</th>\n",
       "      <td>7,546,399.50</td>\n",
       "      <td>52,460,043.60</td>\n",
       "      <td>0.14</td>\n",
       "    </tr>\n",
       "    <tr>\n",
       "      <th>non_tradable_future_contract</th>\n",
       "      <td>0.00</td>\n",
       "      <td>-36,243,655.12</td>\n",
       "      <td>-0.00</td>\n",
       "    </tr>\n",
       "    <tr>\n",
       "      <th>non_tradable_government_bond</th>\n",
       "      <td>0.00</td>\n",
       "      <td>792,499,067.58</td>\n",
       "      <td>0.00</td>\n",
       "    </tr>\n",
       "    <tr>\n",
       "      <th>non_tradable_mutual_fund</th>\n",
       "      <td>0.00</td>\n",
       "      <td>666,598,344.86</td>\n",
       "      <td>0.00</td>\n",
       "    </tr>\n",
       "    <tr>\n",
       "      <th>non_tradable_option</th>\n",
       "      <td>0.00</td>\n",
       "      <td>376,389.29</td>\n",
       "      <td>0.00</td>\n",
       "    </tr>\n",
       "    <tr>\n",
       "      <th>non_tradable_stock</th>\n",
       "      <td>2,303,065.79</td>\n",
       "      <td>109,909,273.37</td>\n",
       "      <td>0.02</td>\n",
       "    </tr>\n",
       "    <tr>\n",
       "      <th>non_tradable_structured_product</th>\n",
       "      <td>0.00</td>\n",
       "      <td>16,109,053.24</td>\n",
       "      <td>0.00</td>\n",
       "    </tr>\n",
       "    <tr>\n",
       "      <th>non_tradable_warrant</th>\n",
       "      <td>7,315.05</td>\n",
       "      <td>803,364.96</td>\n",
       "      <td>0.01</td>\n",
       "    </tr>\n",
       "    <tr>\n",
       "      <th>option</th>\n",
       "      <td>-167.99</td>\n",
       "      <td>3,772,384.52</td>\n",
       "      <td>-0.00</td>\n",
       "    </tr>\n",
       "    <tr>\n",
       "      <th>other_investment</th>\n",
       "      <td>25,280.78</td>\n",
       "      <td>15,313,187.46</td>\n",
       "      <td>0.00</td>\n",
       "    </tr>\n",
       "    <tr>\n",
       "      <th>stock</th>\n",
       "      <td>134,442,209.27</td>\n",
       "      <td>1,051,451,596.07</td>\n",
       "      <td>0.13</td>\n",
       "    </tr>\n",
       "    <tr>\n",
       "      <th>structured_product</th>\n",
       "      <td>0.00</td>\n",
       "      <td>8,763,748.96</td>\n",
       "      <td>0.00</td>\n",
       "    </tr>\n",
       "    <tr>\n",
       "      <th>warrant</th>\n",
       "      <td>15,112.11</td>\n",
       "      <td>382,336.61</td>\n",
       "      <td>0.04</td>\n",
       "    </tr>\n",
       "  </tbody>\n",
       "</table>\n",
       "</div>"
      ],
      "text/plain": [
       "                                             שווי פוסילי            value  \\\n",
       "holding_type                                                                \n",
       "adjusted_cost_lenders_credit_line                   0.00             0.00   \n",
       "adjusted_cost_non_tradable_corporate_bond           0.00             0.00   \n",
       "adjusted_cost_tradable_corporate_bond               0.00             0.00   \n",
       "cash                                                0.00   678,995,465.48   \n",
       "commercial_bond                                43,034.28       859,426.23   \n",
       "corporate_bond                             86,998,374.81   634,761,599.24   \n",
       "deposit_over_3_months                               0.00    49,763,508.49   \n",
       "etf                                         1,379,532.28   616,948,564.77   \n",
       "future_contract                                     0.00    -9,245,460.71   \n",
       "government_bond                                     0.00   865,163,816.52   \n",
       "loan                                           47,914.09   432,056,043.60   \n",
       "mutual_fund                                         0.00   149,905,457.54   \n",
       "non_tradable_commercial_bond                        0.00     2,977,685.82   \n",
       "non_tradable_corporate_bond                 7,546,399.50    52,460,043.60   \n",
       "non_tradable_future_contract                        0.00   -36,243,655.12   \n",
       "non_tradable_government_bond                        0.00   792,499,067.58   \n",
       "non_tradable_mutual_fund                            0.00   666,598,344.86   \n",
       "non_tradable_option                                 0.00       376,389.29   \n",
       "non_tradable_stock                          2,303,065.79   109,909,273.37   \n",
       "non_tradable_structured_product                     0.00    16,109,053.24   \n",
       "non_tradable_warrant                            7,315.05       803,364.96   \n",
       "option                                           -167.99     3,772,384.52   \n",
       "other_investment                               25,280.78    15,313,187.46   \n",
       "stock                                     134,442,209.27 1,051,451,596.07   \n",
       "structured_product                                  0.00     8,763,748.96   \n",
       "warrant                                        15,112.11       382,336.61   \n",
       "\n",
       "                                           fossil_pct  \n",
       "holding_type                                           \n",
       "adjusted_cost_lenders_credit_line                 NaN  \n",
       "adjusted_cost_non_tradable_corporate_bond         NaN  \n",
       "adjusted_cost_tradable_corporate_bond             NaN  \n",
       "cash                                             0.00  \n",
       "commercial_bond                                  0.05  \n",
       "corporate_bond                                   0.14  \n",
       "deposit_over_3_months                            0.00  \n",
       "etf                                              0.00  \n",
       "future_contract                                 -0.00  \n",
       "government_bond                                  0.00  \n",
       "loan                                             0.00  \n",
       "mutual_fund                                      0.00  \n",
       "non_tradable_commercial_bond                     0.00  \n",
       "non_tradable_corporate_bond                      0.14  \n",
       "non_tradable_future_contract                    -0.00  \n",
       "non_tradable_government_bond                     0.00  \n",
       "non_tradable_mutual_fund                         0.00  \n",
       "non_tradable_option                              0.00  \n",
       "non_tradable_stock                               0.02  \n",
       "non_tradable_structured_product                  0.00  \n",
       "non_tradable_warrant                             0.01  \n",
       "option                                          -0.00  \n",
       "other_investment                                 0.00  \n",
       "stock                                            0.13  \n",
       "structured_product                               0.00  \n",
       "warrant                                          0.04  "
      ]
     },
     "execution_count": 26,
     "metadata": {},
     "output_type": "execute_result"
    }
   ],
   "source": [
    "agg = holdings_fossil_cls[[\"שווי פוסילי\", \"value\"]].groupby(holdings_fossil_cls[\"holding_type\"]).sum()\n",
    "agg[\"fossil_pct\"] = agg[\"שווי פוסילי\"] / agg[\"value\"]\n",
    "\n",
    "# agg"
   ]
  },
  {
   "cell_type": "markdown",
   "metadata": {},
   "source": [
    "## Validate Fossil Classification results"
   ]
  },
  {
   "cell_type": "code",
   "execution_count": null,
   "metadata": {
    "scrolled": true
   },
   "outputs": [],
   "source": [
    "# look for fossil holdings that aren't מניות or אג\"ח קונצרני\n",
    "# all_holdings_cls[\n",
    "#     (all_holdings_cls[\"is_fossil\"] > 0) &\n",
    "#     (~all_holdings_cls[\"holding_type\"].isin([\"מניות\", 'אג\"ח קונצרני']))\n",
    "# ]\n",
    "\n",
    "# looking good!\n",
    "# TODO: might want to try and catch additional fossil holdings of other types - join by all id types"
   ]
  },
  {
   "cell_type": "code",
   "execution_count": null,
   "metadata": {},
   "outputs": [],
   "source": [
    "should_be_cls = all_holdings_cls[all_holdings_cls[\"holding_type\"].isin([\"מניות\", 'אג\"ח קונצרני'])]\n",
    "missing_fossil_cls = pd.DataFrame(\n",
    "    should_be_cls[\"is_fossil\"].isnull().groupby([should_be_cls[\"ParentCorpName\"], should_be_cls[\"ReportPeriodDesc\"]]).sum()\n",
    ")\n",
    "missing_fossil_cls"
   ]
  },
  {
   "cell_type": "markdown",
   "metadata": {},
   "source": [
    "## Write classified results to CSV & create another file with added id types"
   ]
  },
  {
   "cell_type": "code",
   "execution_count": null,
   "metadata": {
    "scrolled": true
   },
   "outputs": [],
   "source": [
    "all_holdings_cls.to_csv(reports_path+\"all_holdings_cls.csv\", index=False)\n",
    "# update all_holdings_cls_all_ids if needed\n",
    "all_holdings_cls_all_ids = load_mappings_and_add_ids_to_holdings(all_holdings_cls)\n",
    "all_holdings_cls_all_ids.to_csv(reports_path+\"all_holdings_cls_all_ids.csv\", index=False)"
   ]
  },
  {
   "cell_type": "code",
   "execution_count": null,
   "metadata": {},
   "outputs": [],
   "source": [
    "# additional output formats\n",
    "all_holdings_cls_all_ids.to_pickle(reports_path+\"all_holdings_cls_all_ids.pkl\", compression='gzip')\n",
    "all_holdings_cls_all_ids.to_json(reports_path+\"all_holdings_cls_all_ids.json\", compression='gzip')"
   ]
  },
  {
   "cell_type": "markdown",
   "metadata": {},
   "source": [
    "# -- End of part II - go to Analysis notebook --"
   ]
  },
  {
   "cell_type": "markdown",
   "metadata": {},
   "source": [
    "## Get Fund stats"
   ]
  },
  {
   "cell_type": "code",
   "execution_count": null,
   "metadata": {},
   "outputs": [],
   "source": [
    "all_holdings_cls_all_ids[\"שווי\"] = all_holdings_cls_all_ids[\"שווי\"].astype(float)"
   ]
  },
  {
   "cell_type": "code",
   "execution_count": null,
   "metadata": {},
   "outputs": [],
   "source": [
    "fund_stats = get_summary(all_holdings_cls_all_ids, 'ParentCorpName', 'SystemName', 'ProductNum','ShortName')\n",
    "fund_stats.sort_values('שווי פוסילי', ascending=False).head()"
   ]
  },
  {
   "cell_type": "code",
   "execution_count": null,
   "metadata": {},
   "outputs": [],
   "source": [
    "fund_stats.to_csv(reports_path+\"fund_stats.csv\", index=False)"
   ]
  },
  {
   "cell_type": "code",
   "execution_count": null,
   "metadata": {},
   "outputs": [],
   "source": [
    "# get fossil holdings per fund\n",
    "\n",
    "fund_stats[fund_stats[\"ProductNum\"].duplicated()]\n",
    "# TODO: there is 1 duplicate, fund number 103 - check it later\n",
    "def get_fossil_holdings(fund_id):\n",
    "    fossil_holdings = all_holdings_cls[\n",
    "        (all_holdings_cls[\"ProductNum\"] == fund_id) &\n",
    "        (all_holdings_cls[\"is_fossil\"] > 0)\n",
    "    ]\n",
    "    return fossil_holdings.sort_values(\"שווי פוסילי\", ascending=False)\n",
    "\n",
    "get_fossil_holdings(11366)"
   ]
  },
  {
   "cell_type": "markdown",
   "metadata": {},
   "source": [
    "## חיסכון לכל ילד"
   ]
  },
  {
   "cell_type": "code",
   "execution_count": null,
   "metadata": {},
   "outputs": [],
   "source": [
    "fund_stats = pd.read_csv(reports_path+\"fund_stats.csv\")"
   ]
  },
  {
   "cell_type": "code",
   "execution_count": null,
   "metadata": {
    "scrolled": false
   },
   "outputs": [],
   "source": [
    "hly = fund_stats[\n",
    "    fund_stats[\"ShortName\"].str.contains(\"ילד\", na=False)\n",
    "].sort_values(\"שיעור פוסילי במניות ואגח קונצרני סחירים\", ascending=False).reset_index()\n",
    "hly.to_csv(reports_path+\"hly_fund_stats.csv\", index=False)\n",
    "hly"
   ]
  },
  {
   "cell_type": "code",
   "execution_count": null,
   "metadata": {},
   "outputs": [],
   "source": [
    "fund_stats.groupby([\"ParentCorpName\"]).count()"
   ]
  },
  {
   "cell_type": "code",
   "execution_count": null,
   "metadata": {},
   "outputs": [],
   "source": [
    "all_holdings_cls.groupby([\"SystemName\",\"ParentCorpName\",\"ProductNum\"])[\"שעור מסך נכסי השקעה\"].sum()"
   ]
  },
  {
   "cell_type": "markdown",
   "metadata": {},
   "source": [
    "## Fund level data - Discrepancies\n",
    "* הלמן - seems like we looked at the wrong company level report - it was חברת חשמל...\n",
    "<br>The numbers ~fit the ones in the company level PDF report. The gov site is missing a company level report.\n",
    "\n",
    "the company name is: הלמן-אלדובי קופות גמל ופנסיה בע\"מ\n"
   ]
  },
  {
   "cell_type": "code",
   "execution_count": null,
   "metadata": {},
   "outputs": [],
   "source": [
    "# missing reports\n",
    "[r for r in funds_df.index.unique() if r not in all_holdings_final[\"report_id\"].unique()]\n",
    "\n",
    "# checked 2 missing, both have 0 holdings, all good"
   ]
  },
  {
   "cell_type": "code",
   "execution_count": null,
   "metadata": {
    "scrolled": true
   },
   "outputs": [],
   "source": [
    "pd.DataFrame(all_holdings_final.groupby(['ParentCorpName', 'SystemName'])[\"report_id\"].nunique())"
   ]
  },
  {
   "cell_type": "markdown",
   "metadata": {},
   "source": [
    "### discrepancies"
   ]
  },
  {
   "cell_type": "markdown",
   "metadata": {},
   "source": [
    "* report 2101262: empty sheet \"זכויות מקרקעין\" - explains all the diff\n",
    "* report 2101276: all holding_types sums are ok, the sum @summary sheet is slightly different for some reason"
   ]
  },
  {
   "cell_type": "code",
   "execution_count": null,
   "metadata": {},
   "outputs": [],
   "source": [
    "print(funds_df[funds_df[\"ProductNum\"] == 2207])\n",
    "totals[totals[\"report_id\"] == '2101262']"
   ]
  },
  {
   "cell_type": "markdown",
   "metadata": {},
   "source": [
    "# looking for lost insurance funds"
   ]
  },
  {
   "cell_type": "markdown",
   "metadata": {},
   "source": [
    "### Migdal"
   ]
  },
  {
   "cell_type": "code",
   "execution_count": null,
   "metadata": {},
   "outputs": [],
   "source": [
    "migdal_ins = all_holdings_final[(all_holdings_final[\"ParentCorpLegalId\"] == '520004896')]\n",
    "migdal_by_fund = pd.DataFrame(migdal_ins.groupby([\"ShortName\", \"ProductNum\", \"report_id\"], dropna=False)[\"שווי\"].agg('sum'))\n",
    "migdal_by_fund.reset_index()"
   ]
  },
  {
   "cell_type": "markdown",
   "metadata": {},
   "source": [
    "https://www.migdal.co.il/about/investments/assets - there are 4 more funds not included in the reports site:\n",
    "* מגדל משתתף ברווחים - קרן ח - b010_p221_520004896\n",
    "* מגדל משתתף ברווחים - קרן ט - 520004896_b011_p221\n",
    "* מגדל משתתף ברווחים - קרן י - b012_p221_520004896\n",
    "* מגדל משתתף קרן י החדשה - b013_p221_520004896\n",
    "\n",
    "Manually downloaded, added to the directory."
   ]
  },
  {
   "cell_type": "code",
   "execution_count": null,
   "metadata": {},
   "outputs": [],
   "source": [
    "pd.DataFrame(all_holdings_final[\n",
    "    (all_holdings_final[\"ParentCorpLegalId\"].isnull()) |\n",
    "    (all_holdings_final[\"ParentCorpLegalId\"] == 520004896)\n",
    "].groupby(\"report_id\")['שווי'].agg('sum').map('{:,.2f}'.format))"
   ]
  },
  {
   "cell_type": "markdown",
   "metadata": {},
   "source": [
    "### Menora missing reports"
   ]
  },
  {
   "cell_type": "code",
   "execution_count": null,
   "metadata": {},
   "outputs": [],
   "source": [
    "pd.DataFrame(all_holdings_final[all_holdings_final[\"ParentCorpName\"] == 'מנורה מבטחים ביטוח בע\"מ'\n",
    "].groupby([\"ShortName\", \"ProductNum\"])['שווי'].agg('sum').map('{:,.2f}'.format)).sort_values(\"ProductNum\").reset_index()"
   ]
  },
  {
   "cell_type": "markdown",
   "metadata": {},
   "source": [
    "* total 17 funds in website, 2 of which mergerd into others --> 15.\n",
    "<br><br>\n",
    "<u>missing reports:</u>\n",
    "1. 18011\n",
    "1. 18012\n",
    "\n",
    "download from here: https://www.menoramivt.co.il/rep-list/about-insurance/participating-portfolio-info/insurer-assets"
   ]
  },
  {
   "cell_type": "code",
   "execution_count": null,
   "metadata": {},
   "outputs": [],
   "source": [
    "# adding sums of 2 migrated funds (data for these 2 is 1 quarter behind)\n",
    "99576.34 + 531016.24 + all_holdings_final[all_holdings_final[\"ParentCorpName\"] == 'מנורה מבטחים ביטוח בע\"מ'][\"שווי\"].sum()"
   ]
  },
  {
   "cell_type": "markdown",
   "metadata": {},
   "source": [
    "Conclusion: there seems to be missing reports for Menora. Check again next quarter."
   ]
  },
  {
   "cell_type": "markdown",
   "metadata": {},
   "source": [
    "### הפניקס ביטוח - דוחות חסרים"
   ]
  },
  {
   "cell_type": "code",
   "execution_count": null,
   "metadata": {},
   "outputs": [],
   "source": [
    "pd.DataFrame(\n",
    "    all_holdings_final[all_holdings_final[\"ParentCorpLegalId\"] == '520023185'].groupby([\"report_id\", \"ShortName\", \"ProductNum\"])['שווי'].agg('sum').map('{:,.2f}'.format)\n",
    ").sort_values(\"ProductNum\", ascending=False).reset_index()"
   ]
  },
  {
   "cell_type": "markdown",
   "metadata": {},
   "source": [
    "* website: 30 funds\n",
    "* added 2 missing reports: 7012, 7011 (קרן ט, קרן י)\n",
    "<br>\n",
    "https://www.fnx.co.il/investors-relations-hebrew/investment-information-reports/reshimat-nichsey-hamevateah"
   ]
  },
  {
   "cell_type": "code",
   "execution_count": null,
   "metadata": {},
   "outputs": [],
   "source": [
    "url = \"https://cdn.menoramivt.co.il/public/docs/20211205/520042540_b18012_p321.xlsx\"\n",
    "filename = \"520042540_b18012_p321.xlsx\"\n",
    "ur.urlretrieve(url, filename)"
   ]
  },
  {
   "cell_type": "markdown",
   "metadata": {},
   "source": [
    "### הראל ביטוח - דוחות חסרים"
   ]
  },
  {
   "cell_type": "code",
   "execution_count": null,
   "metadata": {},
   "outputs": [],
   "source": [
    "pd.DataFrame(\n",
    "    all_holdings_final[all_holdings_final[\"ParentCorpLegalId\"] == '520004078'].groupby([\"report_id\", \"ShortName\", \"ProductNum\"])['שווי'].agg('sum').map('{:,.2f}'.format)\n",
    ").sort_values(\"ProductNum\", ascending=False).reset_index()"
   ]
  },
  {
   "cell_type": "markdown",
   "metadata": {},
   "source": [
    "* website: 34 funds.<br><br>\n",
    "<B> Manually added missing reports: 259010 259011 259012 259013 </B>\n",
    "from website: https://www.harel-group.co.il/about/harel-group/harel/mesthtefet/Pages/list-of-assets.aspx"
   ]
  },
  {
   "cell_type": "markdown",
   "metadata": {},
   "source": [
    "### כלל ביטוח - דוחות חסרים"
   ]
  },
  {
   "cell_type": "code",
   "execution_count": null,
   "metadata": {},
   "outputs": [],
   "source": [
    "pd.DataFrame(\n",
    "    all_holdings_final[all_holdings_final[\"ParentCorpLegalId\"] == '520024647'].groupby([\"report_id\", \"ShortName\", \"ProductNum\"])['שווי'].agg('sum').map('{:,.2f}'.format)\n",
    ").sort_values(\"ProductNum\", ascending=False).reset_index()"
   ]
  },
  {
   "cell_type": "markdown",
   "metadata": {},
   "source": [
    "* website: 21 funds\n",
    "* missing reports: 14011, 14012\n",
    "<br><br>\n",
    "downloaded from their site: https://www.clalbit.co.il/aboutclalinsurance/generalreports/"
   ]
  },
  {
   "cell_type": "markdown",
   "metadata": {},
   "source": [
    "## הלמן - פנסיה וגמל\n",
    "?גמל - הבדל בסכום, האם כתוצאה מדוחות חסרים\n",
    "<br>\n",
    "₪16,136,063 בדוח מסכם\n",
    "16,132,489.84 לפי סכום דוחות מסלול\n",
    "\n",
    "הבדלים קטנים, לא מצאתי הסבר.\n",
    "אולי הוציאו דוחות בשעות שונות של היום?"
   ]
  },
  {
   "cell_type": "code",
   "execution_count": null,
   "metadata": {},
   "outputs": [],
   "source": [
    "16136063 - 16132489.84"
   ]
  },
  {
   "cell_type": "code",
   "execution_count": null,
   "metadata": {},
   "outputs": [],
   "source": [
    "helman = all_holdings_final[(all_holdings_final[\"ParentCorpName\"].str.startswith(\"הלמן\")) &\n",
    "                             (all_holdings_final[\"SystemName\"] == \"פנסיה\")\n",
    "                            ]\n",
    "helman_by_report = pd.DataFrame(helman.groupby([\"ProductNum\", \"ShortName\"])[\"שווי\"].agg('sum').map('{:,.2f}'.format)).reset_index()\n",
    "helman_by_report"
   ]
  },
  {
   "cell_type": "markdown",
   "metadata": {},
   "source": [
    "## מגדל פנסיה"
   ]
  },
  {
   "cell_type": "code",
   "execution_count": null,
   "metadata": {},
   "outputs": [],
   "source": [
    "migdal_p = all_holdings_final[(all_holdings_final[\"ParentCorpName\"].str.startswith(\"מגדל\")) &\n",
    "                             (all_holdings_final[\"SystemName\"] == \"פנסיה\")\n",
    "                            ]\n",
    "migdal_p_report = pd.DataFrame(migdal_p.groupby([\"report_id\", \"ProductNum\", \"ShortName\"])[\"שווי\"].agg('sum')).reset_index()\n",
    "migdal_p_report.merge(totals,\n",
    "                     on=\"report_id\",\n",
    "                     how=\"left\")\n",
    "\n",
    "# migdal_p_report[\"שווי\"].sum()"
   ]
  },
  {
   "cell_type": "markdown",
   "metadata": {},
   "source": [
    "* All pension funds from website are on file.<br>\n",
    "<B> last Q there was also a discrepancy (2.1B, now 2.15B) </B>"
   ]
  }
 ],
 "metadata": {
  "kernelspec": {
   "display_name": "Python 3 (ipykernel)",
   "language": "python",
   "name": "python3"
  },
  "language_info": {
   "codemirror_mode": {
    "name": "ipython",
    "version": 3
   },
   "file_extension": ".py",
   "mimetype": "text/x-python",
   "name": "python",
   "nbconvert_exporter": "python",
   "pygments_lexer": "ipython3",
   "version": "3.9.12"
  }
 },
 "nbformat": 4,
 "nbformat_minor": 2
}
